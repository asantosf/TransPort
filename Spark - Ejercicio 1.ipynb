{
  "cells": [
    {
      "cell_type": "code",
      "source": [
        "!pip install pyspark"
      ],
      "metadata": {
        "colab": {
          "base_uri": "https://localhost:8080/"
        },
        "id": "rqzGafdhHxA0",
        "outputId": "9c6e1e3e-d787-4e3f-fa3c-28c27b2df7d7"
      },
      "execution_count": null,
      "outputs": [
        {
          "output_type": "stream",
          "name": "stdout",
          "text": [
            "Collecting pyspark\n",
            "  Downloading pyspark-3.4.1.tar.gz (310.8 MB)\n",
            "\u001b[2K     \u001b[90m━━━━━━━━━━━━━━━━━━━━━━━━━━━━━━━━━━━━━━━\u001b[0m \u001b[32m310.8/310.8 MB\u001b[0m \u001b[31m4.5 MB/s\u001b[0m eta \u001b[36m0:00:00\u001b[0m\n",
            "\u001b[?25h  Preparing metadata (setup.py) ... \u001b[?25l\u001b[?25hdone\n",
            "Requirement already satisfied: py4j==0.10.9.7 in /usr/local/lib/python3.10/dist-packages (from pyspark) (0.10.9.7)\n",
            "Building wheels for collected packages: pyspark\n",
            "  Building wheel for pyspark (setup.py) ... \u001b[?25l\u001b[?25hdone\n",
            "  Created wheel for pyspark: filename=pyspark-3.4.1-py2.py3-none-any.whl size=311285388 sha256=6f2ed4d03e30f1a36d300800a029146bbcaa12fe22566ce04067f471c7fb1cee\n",
            "  Stored in directory: /root/.cache/pip/wheels/0d/77/a3/ff2f74cc9ab41f8f594dabf0579c2a7c6de920d584206e0834\n",
            "Successfully built pyspark\n",
            "Installing collected packages: pyspark\n",
            "Successfully installed pyspark-3.4.1\n"
          ]
        }
      ]
    },
    {
      "cell_type": "code",
      "source": [
        "!pip install findspark"
      ],
      "metadata": {
        "id": "BP9IMtaRJWk2",
        "outputId": "529efa5b-4811-406b-e931-e397c6b5b2b6",
        "colab": {
          "base_uri": "https://localhost:8080/"
        }
      },
      "execution_count": null,
      "outputs": [
        {
          "output_type": "stream",
          "name": "stdout",
          "text": [
            "Collecting findspark\n",
            "  Downloading findspark-2.0.1-py2.py3-none-any.whl (4.4 kB)\n",
            "Installing collected packages: findspark\n",
            "Successfully installed findspark-2.0.1\n"
          ]
        }
      ]
    },
    {
      "cell_type": "code",
      "source": [
        "!pip install pandas_profiling"
      ],
      "metadata": {
        "id": "VI5shMd3JZTk",
        "outputId": "0b223857-93f5-47a8-c315-5b654d0d95a0",
        "colab": {
          "base_uri": "https://localhost:8080/"
        }
      },
      "execution_count": null,
      "outputs": [
        {
          "output_type": "stream",
          "name": "stdout",
          "text": [
            "Collecting pandas_profiling\n",
            "  Downloading pandas_profiling-3.6.6-py2.py3-none-any.whl (324 kB)\n",
            "\u001b[2K     \u001b[90m━━━━━━━━━━━━━━━━━━━━━━━━━━━━━━━━━━━━━━━\u001b[0m \u001b[32m324.4/324.4 kB\u001b[0m \u001b[31m3.6 MB/s\u001b[0m eta \u001b[36m0:00:00\u001b[0m\n",
            "\u001b[?25hCollecting ydata-profiling (from pandas_profiling)\n",
            "  Downloading ydata_profiling-4.5.1-py2.py3-none-any.whl (357 kB)\n",
            "\u001b[2K     \u001b[90m━━━━━━━━━━━━━━━━━━━━━━━━━━━━━━━━━━━━━━━\u001b[0m \u001b[32m357.3/357.3 kB\u001b[0m \u001b[31m6.1 MB/s\u001b[0m eta \u001b[36m0:00:00\u001b[0m\n",
            "\u001b[?25hRequirement already satisfied: scipy<1.12,>=1.4.1 in /usr/local/lib/python3.10/dist-packages (from ydata-profiling->pandas_profiling) (1.10.1)\n",
            "Requirement already satisfied: pandas!=1.4.0,<2.1,>1.1 in /usr/local/lib/python3.10/dist-packages (from ydata-profiling->pandas_profiling) (1.5.3)\n",
            "Requirement already satisfied: matplotlib<4,>=3.2 in /usr/local/lib/python3.10/dist-packages (from ydata-profiling->pandas_profiling) (3.7.1)\n",
            "Collecting pydantic<2,>=1.8.1 (from ydata-profiling->pandas_profiling)\n",
            "  Downloading pydantic-1.10.12-cp310-cp310-manylinux_2_17_x86_64.manylinux2014_x86_64.whl (3.1 MB)\n",
            "\u001b[2K     \u001b[90m━━━━━━━━━━━━━━━━━━━━━━━━━━━━━━━━━━━━━━━━\u001b[0m \u001b[32m3.1/3.1 MB\u001b[0m \u001b[31m12.9 MB/s\u001b[0m eta \u001b[36m0:00:00\u001b[0m\n",
            "\u001b[?25hRequirement already satisfied: PyYAML<6.1,>=5.0.0 in /usr/local/lib/python3.10/dist-packages (from ydata-profiling->pandas_profiling) (6.0.1)\n",
            "Requirement already satisfied: jinja2<3.2,>=2.11.1 in /usr/local/lib/python3.10/dist-packages (from ydata-profiling->pandas_profiling) (3.1.2)\n",
            "Collecting visions[type_image_path]==0.7.5 (from ydata-profiling->pandas_profiling)\n",
            "  Downloading visions-0.7.5-py3-none-any.whl (102 kB)\n",
            "\u001b[2K     \u001b[90m━━━━━━━━━━━━━━━━━━━━━━━━━━━━━━━━━━━━━━\u001b[0m \u001b[32m102.7/102.7 kB\u001b[0m \u001b[31m10.7 MB/s\u001b[0m eta \u001b[36m0:00:00\u001b[0m\n",
            "\u001b[?25hRequirement already satisfied: numpy<1.24,>=1.16.0 in /usr/local/lib/python3.10/dist-packages (from ydata-profiling->pandas_profiling) (1.23.5)\n",
            "Collecting htmlmin==0.1.12 (from ydata-profiling->pandas_profiling)\n",
            "  Downloading htmlmin-0.1.12.tar.gz (19 kB)\n",
            "  Preparing metadata (setup.py) ... \u001b[?25l\u001b[?25hdone\n",
            "Collecting phik<0.13,>=0.11.1 (from ydata-profiling->pandas_profiling)\n",
            "  Downloading phik-0.12.3-cp310-cp310-manylinux_2_17_x86_64.manylinux2014_x86_64.whl (679 kB)\n",
            "\u001b[2K     \u001b[90m━━━━━━━━━━━━━━━━━━━━━━━━━━━━━━━━━━━━━━\u001b[0m \u001b[32m679.5/679.5 kB\u001b[0m \u001b[31m18.4 MB/s\u001b[0m eta \u001b[36m0:00:00\u001b[0m\n",
            "\u001b[?25hRequirement already satisfied: requests<3,>=2.24.0 in /usr/local/lib/python3.10/dist-packages (from ydata-profiling->pandas_profiling) (2.31.0)\n",
            "Requirement already satisfied: tqdm<5,>=4.48.2 in /usr/local/lib/python3.10/dist-packages (from ydata-profiling->pandas_profiling) (4.66.0)\n",
            "Requirement already satisfied: seaborn<0.13,>=0.10.1 in /usr/local/lib/python3.10/dist-packages (from ydata-profiling->pandas_profiling) (0.12.2)\n",
            "Collecting multimethod<2,>=1.4 (from ydata-profiling->pandas_profiling)\n",
            "  Downloading multimethod-1.9.1-py3-none-any.whl (10 kB)\n",
            "Requirement already satisfied: statsmodels<1,>=0.13.2 in /usr/local/lib/python3.10/dist-packages (from ydata-profiling->pandas_profiling) (0.14.0)\n",
            "Collecting typeguard<3,>=2.13.2 (from ydata-profiling->pandas_profiling)\n",
            "  Downloading typeguard-2.13.3-py3-none-any.whl (17 kB)\n",
            "Collecting imagehash==4.3.1 (from ydata-profiling->pandas_profiling)\n",
            "  Downloading ImageHash-4.3.1-py2.py3-none-any.whl (296 kB)\n",
            "\u001b[2K     \u001b[90m━━━━━━━━━━━━━━━━━━━━━━━━━━━━━━━━━━━━━━\u001b[0m \u001b[32m296.5/296.5 kB\u001b[0m \u001b[31m14.4 MB/s\u001b[0m eta \u001b[36m0:00:00\u001b[0m\n",
            "\u001b[?25hRequirement already satisfied: wordcloud>=1.9.1 in /usr/local/lib/python3.10/dist-packages (from ydata-profiling->pandas_profiling) (1.9.2)\n",
            "Collecting dacite>=1.8 (from ydata-profiling->pandas_profiling)\n",
            "  Downloading dacite-1.8.1-py3-none-any.whl (14 kB)\n",
            "Requirement already satisfied: PyWavelets in /usr/local/lib/python3.10/dist-packages (from imagehash==4.3.1->ydata-profiling->pandas_profiling) (1.4.1)\n",
            "Requirement already satisfied: pillow in /usr/local/lib/python3.10/dist-packages (from imagehash==4.3.1->ydata-profiling->pandas_profiling) (9.4.0)\n",
            "Requirement already satisfied: attrs>=19.3.0 in /usr/local/lib/python3.10/dist-packages (from visions[type_image_path]==0.7.5->ydata-profiling->pandas_profiling) (23.1.0)\n",
            "Requirement already satisfied: networkx>=2.4 in /usr/local/lib/python3.10/dist-packages (from visions[type_image_path]==0.7.5->ydata-profiling->pandas_profiling) (3.1)\n",
            "Collecting tangled-up-in-unicode>=0.0.4 (from visions[type_image_path]==0.7.5->ydata-profiling->pandas_profiling)\n",
            "  Downloading tangled_up_in_unicode-0.2.0-py3-none-any.whl (4.7 MB)\n",
            "\u001b[2K     \u001b[90m━━━━━━━━━━━━━━━━━━━━━━━━━━━━━━━━━━━━━━━━\u001b[0m \u001b[32m4.7/4.7 MB\u001b[0m \u001b[31m29.6 MB/s\u001b[0m eta \u001b[36m0:00:00\u001b[0m\n",
            "\u001b[?25hRequirement already satisfied: MarkupSafe>=2.0 in /usr/local/lib/python3.10/dist-packages (from jinja2<3.2,>=2.11.1->ydata-profiling->pandas_profiling) (2.1.3)\n",
            "Requirement already satisfied: contourpy>=1.0.1 in /usr/local/lib/python3.10/dist-packages (from matplotlib<4,>=3.2->ydata-profiling->pandas_profiling) (1.1.0)\n",
            "Requirement already satisfied: cycler>=0.10 in /usr/local/lib/python3.10/dist-packages (from matplotlib<4,>=3.2->ydata-profiling->pandas_profiling) (0.11.0)\n",
            "Requirement already satisfied: fonttools>=4.22.0 in /usr/local/lib/python3.10/dist-packages (from matplotlib<4,>=3.2->ydata-profiling->pandas_profiling) (4.42.0)\n",
            "Requirement already satisfied: kiwisolver>=1.0.1 in /usr/local/lib/python3.10/dist-packages (from matplotlib<4,>=3.2->ydata-profiling->pandas_profiling) (1.4.4)\n",
            "Requirement already satisfied: packaging>=20.0 in /usr/local/lib/python3.10/dist-packages (from matplotlib<4,>=3.2->ydata-profiling->pandas_profiling) (23.1)\n",
            "Requirement already satisfied: pyparsing>=2.3.1 in /usr/local/lib/python3.10/dist-packages (from matplotlib<4,>=3.2->ydata-profiling->pandas_profiling) (3.1.1)\n",
            "Requirement already satisfied: python-dateutil>=2.7 in /usr/local/lib/python3.10/dist-packages (from matplotlib<4,>=3.2->ydata-profiling->pandas_profiling) (2.8.2)\n",
            "Requirement already satisfied: pytz>=2020.1 in /usr/local/lib/python3.10/dist-packages (from pandas!=1.4.0,<2.1,>1.1->ydata-profiling->pandas_profiling) (2023.3)\n",
            "Requirement already satisfied: joblib>=0.14.1 in /usr/local/lib/python3.10/dist-packages (from phik<0.13,>=0.11.1->ydata-profiling->pandas_profiling) (1.3.2)\n",
            "Requirement already satisfied: typing-extensions>=4.2.0 in /usr/local/lib/python3.10/dist-packages (from pydantic<2,>=1.8.1->ydata-profiling->pandas_profiling) (4.7.1)\n",
            "Requirement already satisfied: charset-normalizer<4,>=2 in /usr/local/lib/python3.10/dist-packages (from requests<3,>=2.24.0->ydata-profiling->pandas_profiling) (3.2.0)\n",
            "Requirement already satisfied: idna<4,>=2.5 in /usr/local/lib/python3.10/dist-packages (from requests<3,>=2.24.0->ydata-profiling->pandas_profiling) (3.4)\n",
            "Requirement already satisfied: urllib3<3,>=1.21.1 in /usr/local/lib/python3.10/dist-packages (from requests<3,>=2.24.0->ydata-profiling->pandas_profiling) (2.0.4)\n",
            "Requirement already satisfied: certifi>=2017.4.17 in /usr/local/lib/python3.10/dist-packages (from requests<3,>=2.24.0->ydata-profiling->pandas_profiling) (2023.7.22)\n",
            "Requirement already satisfied: patsy>=0.5.2 in /usr/local/lib/python3.10/dist-packages (from statsmodels<1,>=0.13.2->ydata-profiling->pandas_profiling) (0.5.3)\n",
            "Requirement already satisfied: six in /usr/local/lib/python3.10/dist-packages (from patsy>=0.5.2->statsmodels<1,>=0.13.2->ydata-profiling->pandas_profiling) (1.16.0)\n",
            "Building wheels for collected packages: htmlmin\n",
            "  Building wheel for htmlmin (setup.py) ... \u001b[?25l\u001b[?25hdone\n",
            "  Created wheel for htmlmin: filename=htmlmin-0.1.12-py3-none-any.whl size=27082 sha256=b0c9618d5027f63e3661230e2f7d16d295031cbd8f79ca0a51ae0d3f3a480854\n",
            "  Stored in directory: /root/.cache/pip/wheels/dd/91/29/a79cecb328d01739e64017b6fb9a1ab9d8cb1853098ec5966d\n",
            "Successfully built htmlmin\n",
            "Installing collected packages: htmlmin, typeguard, tangled-up-in-unicode, pydantic, multimethod, dacite, imagehash, visions, phik, ydata-profiling, pandas_profiling\n",
            "  Attempting uninstall: pydantic\n",
            "    Found existing installation: pydantic 2.1.1\n",
            "    Uninstalling pydantic-2.1.1:\n",
            "      Successfully uninstalled pydantic-2.1.1\n",
            "Successfully installed dacite-1.8.1 htmlmin-0.1.12 imagehash-4.3.1 multimethod-1.9.1 pandas_profiling-3.6.6 phik-0.12.3 pydantic-1.10.12 tangled-up-in-unicode-0.2.0 typeguard-2.13.3 visions-0.7.5 ydata-profiling-4.5.1\n"
          ]
        }
      ]
    },
    {
      "cell_type": "code",
      "source": [
        "import findspark\n",
        "findspark.init()\n",
        "\n",
        "import pandas as pd\n",
        "import pyspark"
      ],
      "metadata": {
        "id": "Q2NyVToTJa2M"
      },
      "execution_count": null,
      "outputs": []
    },
    {
      "cell_type": "code",
      "source": [
        "from pyspark.sql import SparkSession\n",
        "from pyspark.sql.functions import *\n",
        "from pyspark.ml.feature import *\n",
        "from pyspark.ml.classification import *\n",
        "\n",
        "spark = SparkSession \\\n",
        "    .builder \\\n",
        "    .appName('Titanic Data') \\\n",
        "    .getOrCreate()"
      ],
      "metadata": {
        "id": "XLz00ezBKHk0"
      },
      "execution_count": null,
      "outputs": []
    },
    {
      "cell_type": "markdown",
      "source": [
        "# Ejercicio 1"
      ],
      "metadata": {
        "id": "rESGZ2iXVblD"
      }
    },
    {
      "cell_type": "code",
      "source": [
        "df = (spark.read\n",
        "          .format(\"csv\")\n",
        "          .option('header', 'true')\n",
        "          .load(\"heart.csv\"))"
      ],
      "metadata": {
        "id": "NcaLNytrKOwj"
      },
      "execution_count": null,
      "outputs": []
    },
    {
      "cell_type": "code",
      "source": [
        "newDF = df.select(\n",
        "    col('age').cast('float'),\n",
        "    col('sex').cast('float'),\n",
        "    col('cp').cast('float'),\n",
        "    col('trestbps').cast('float'),\n",
        "    col('chol').cast('float'),\n",
        "    col('fbs').cast('float'),\n",
        "    col('restecg').cast('float'),\n",
        "    col('thalach').cast('float'),\n",
        "    col('exang').cast('float'),\n",
        "    col('oldpeak').cast('float'),\n",
        "    col('slope').cast('float'),\n",
        "    col('ca').cast('float'),\n",
        "    col('thal').cast('float'),\n",
        "    col('target').cast('float')\n",
        ")\n",
        "\n",
        "newDF.show()"
      ],
      "metadata": {
        "id": "_-B4n3U5KTZL",
        "outputId": "db0d8ab6-9f44-426f-cc20-9e434e08936b",
        "colab": {
          "base_uri": "https://localhost:8080/"
        }
      },
      "execution_count": null,
      "outputs": [
        {
          "output_type": "stream",
          "name": "stdout",
          "text": [
            "+----+---+---+--------+-----+---+-------+-------+-----+-------+-----+---+----+------+\n",
            "| age|sex| cp|trestbps| chol|fbs|restecg|thalach|exang|oldpeak|slope| ca|thal|target|\n",
            "+----+---+---+--------+-----+---+-------+-------+-----+-------+-----+---+----+------+\n",
            "|63.0|1.0|3.0|   145.0|233.0|1.0|    0.0|  150.0|  0.0|    2.3|  0.0|0.0| 1.0|   1.0|\n",
            "|37.0|1.0|2.0|   130.0|250.0|0.0|    1.0|  187.0|  0.0|    3.5|  0.0|0.0| 2.0|   1.0|\n",
            "|41.0|0.0|1.0|   130.0|204.0|0.0|    0.0|  172.0|  0.0|    1.4|  2.0|0.0| 2.0|   1.0|\n",
            "|56.0|1.0|1.0|   120.0|236.0|0.0|    1.0|  178.0|  0.0|    0.8|  2.0|0.0| 2.0|   1.0|\n",
            "|57.0|0.0|0.0|   120.0|354.0|0.0|    1.0|  163.0|  1.0|    0.6|  2.0|0.0| 2.0|   1.0|\n",
            "|57.0|1.0|0.0|   140.0|192.0|0.0|    1.0|  148.0|  0.0|    0.4|  1.0|0.0| 1.0|   1.0|\n",
            "|56.0|0.0|1.0|   140.0|294.0|0.0|    0.0|  153.0|  0.0|    1.3|  1.0|0.0| 2.0|   1.0|\n",
            "|44.0|1.0|1.0|   120.0|263.0|0.0|    1.0|  173.0|  0.0|    0.0|  2.0|0.0| 3.0|   1.0|\n",
            "|52.0|1.0|2.0|   172.0|199.0|1.0|    1.0|  162.0|  0.0|    0.5|  2.0|0.0| 3.0|   1.0|\n",
            "|57.0|1.0|2.0|   150.0|168.0|0.0|    1.0|  174.0|  0.0|    1.6|  2.0|0.0| 2.0|   1.0|\n",
            "|54.0|1.0|0.0|   140.0|239.0|0.0|    1.0|  160.0|  0.0|    1.2|  2.0|0.0| 2.0|   1.0|\n",
            "|48.0|0.0|2.0|   130.0|275.0|0.0|    1.0|  139.0|  0.0|    0.2|  2.0|0.0| 2.0|   1.0|\n",
            "|49.0|1.0|1.0|   130.0|266.0|0.0|    1.0|  171.0|  0.0|    0.6|  2.0|0.0| 2.0|   1.0|\n",
            "|64.0|1.0|3.0|   110.0|211.0|0.0|    0.0|  144.0|  1.0|    1.8|  1.0|0.0| 2.0|   1.0|\n",
            "|58.0|0.0|3.0|   150.0|283.0|1.0|    0.0|  162.0|  0.0|    1.0|  2.0|0.0| 2.0|   1.0|\n",
            "|50.0|0.0|2.0|   120.0|219.0|0.0|    1.0|  158.0|  0.0|    1.6|  1.0|0.0| 2.0|   1.0|\n",
            "|58.0|0.0|2.0|   120.0|340.0|0.0|    1.0|  172.0|  0.0|    0.0|  2.0|0.0| 2.0|   1.0|\n",
            "|66.0|0.0|3.0|   150.0|226.0|0.0|    1.0|  114.0|  0.0|    2.6|  0.0|0.0| 2.0|   1.0|\n",
            "|43.0|1.0|0.0|   150.0|247.0|0.0|    1.0|  171.0|  0.0|    1.5|  2.0|0.0| 2.0|   1.0|\n",
            "|69.0|0.0|3.0|   140.0|239.0|0.0|    1.0|  151.0|  0.0|    1.8|  2.0|2.0| 2.0|   1.0|\n",
            "+----+---+---+--------+-----+---+-------+-------+-----+-------+-----+---+----+------+\n",
            "only showing top 20 rows\n",
            "\n"
          ]
        }
      ]
    },
    {
      "cell_type": "code",
      "source": [
        "newDF.dtypes"
      ],
      "metadata": {
        "id": "YkoH3Fo_KT_c",
        "outputId": "982b5126-b756-4130-bc6f-24466eae2576",
        "colab": {
          "base_uri": "https://localhost:8080/"
        }
      },
      "execution_count": null,
      "outputs": [
        {
          "output_type": "execute_result",
          "data": {
            "text/plain": [
              "[('age', 'float'),\n",
              " ('sex', 'float'),\n",
              " ('cp', 'float'),\n",
              " ('trestbps', 'float'),\n",
              " ('chol', 'float'),\n",
              " ('fbs', 'float'),\n",
              " ('restecg', 'float'),\n",
              " ('thalach', 'float'),\n",
              " ('exang', 'float'),\n",
              " ('oldpeak', 'float'),\n",
              " ('slope', 'float'),\n",
              " ('ca', 'float'),\n",
              " ('thal', 'float'),\n",
              " ('target', 'float')]"
            ]
          },
          "metadata": {},
          "execution_count": 9
        }
      ]
    },
    {
      "cell_type": "code",
      "source": [
        "# Se valida si hay nulos en el dataframe, por columna.\n",
        "\n",
        "newDF.select([count(when(isnull(c), c)).alias(c) for c in newDF.columns]).show()"
      ],
      "metadata": {
        "id": "taI7RYLhMqZ2",
        "outputId": "c90bdbc0-38fe-4f6f-8662-e5635fa34076",
        "colab": {
          "base_uri": "https://localhost:8080/"
        }
      },
      "execution_count": null,
      "outputs": [
        {
          "output_type": "stream",
          "name": "stdout",
          "text": [
            "+---+---+---+--------+----+---+-------+-------+-----+-------+-----+---+----+------+\n",
            "|age|sex| cp|trestbps|chol|fbs|restecg|thalach|exang|oldpeak|slope| ca|thal|target|\n",
            "+---+---+---+--------+----+---+-------+-------+-----+-------+-----+---+----+------+\n",
            "|  0|  0|  0|       0|   0|  0|      0|      0|    0|      0|    0|  0|   0|     0|\n",
            "+---+---+---+--------+----+---+-------+-------+-----+-------+-----+---+----+------+\n",
            "\n"
          ]
        }
      ]
    },
    {
      "cell_type": "code",
      "source": [
        "newDF.select(col('fbs')).distinct().show()"
      ],
      "metadata": {
        "id": "MDgVurVVQ-KI",
        "outputId": "391ad3b8-decb-46fc-8209-1f6fc0e806c3",
        "colab": {
          "base_uri": "https://localhost:8080/"
        }
      },
      "execution_count": null,
      "outputs": [
        {
          "output_type": "stream",
          "name": "stdout",
          "text": [
            "+---+\n",
            "|fbs|\n",
            "+---+\n",
            "|1.0|\n",
            "|0.0|\n",
            "+---+\n",
            "\n"
          ]
        }
      ]
    },
    {
      "cell_type": "code",
      "source": [
        "# Crea la columna features con todas las columnas que se va a utilizar para el machine learning para el analisis\n",
        "\n",
        "required_features = ['age', 'sex', 'cp', 'trestbps', 'chol',\n",
        "                    'fbs', 'restecg', 'thalach', 'exang',\n",
        "                     'oldpeak', 'slope', 'ca', 'thal'\n",
        "                   ]\n",
        "\n",
        "\n",
        "assembler = VectorAssembler(inputCols=required_features, outputCol='features')\n",
        "transformed_data = assembler.transform(newDF)"
      ],
      "metadata": {
        "id": "OPyuqFv-S1ix"
      },
      "execution_count": null,
      "outputs": []
    },
    {
      "cell_type": "code",
      "source": [
        "transformed_data.show()"
      ],
      "metadata": {
        "id": "xRI0za2HYmn4",
        "outputId": "3e6176bc-e07c-4f86-b92b-655ebcb62fb4",
        "colab": {
          "base_uri": "https://localhost:8080/"
        }
      },
      "execution_count": null,
      "outputs": [
        {
          "output_type": "stream",
          "name": "stdout",
          "text": [
            "+----+---+---+--------+-----+---+-------+-------+-----+-------+-----+---+----+------+--------------------+\n",
            "| age|sex| cp|trestbps| chol|fbs|restecg|thalach|exang|oldpeak|slope| ca|thal|target|            features|\n",
            "+----+---+---+--------+-----+---+-------+-------+-----+-------+-----+---+----+------+--------------------+\n",
            "|63.0|1.0|3.0|   145.0|233.0|1.0|    0.0|  150.0|  0.0|    2.3|  0.0|0.0| 1.0|   1.0|[63.0,1.0,3.0,145...|\n",
            "|37.0|1.0|2.0|   130.0|250.0|0.0|    1.0|  187.0|  0.0|    3.5|  0.0|0.0| 2.0|   1.0|[37.0,1.0,2.0,130...|\n",
            "|41.0|0.0|1.0|   130.0|204.0|0.0|    0.0|  172.0|  0.0|    1.4|  2.0|0.0| 2.0|   1.0|[41.0,0.0,1.0,130...|\n",
            "|56.0|1.0|1.0|   120.0|236.0|0.0|    1.0|  178.0|  0.0|    0.8|  2.0|0.0| 2.0|   1.0|[56.0,1.0,1.0,120...|\n",
            "|57.0|0.0|0.0|   120.0|354.0|0.0|    1.0|  163.0|  1.0|    0.6|  2.0|0.0| 2.0|   1.0|[57.0,0.0,0.0,120...|\n",
            "|57.0|1.0|0.0|   140.0|192.0|0.0|    1.0|  148.0|  0.0|    0.4|  1.0|0.0| 1.0|   1.0|[57.0,1.0,0.0,140...|\n",
            "|56.0|0.0|1.0|   140.0|294.0|0.0|    0.0|  153.0|  0.0|    1.3|  1.0|0.0| 2.0|   1.0|[56.0,0.0,1.0,140...|\n",
            "|44.0|1.0|1.0|   120.0|263.0|0.0|    1.0|  173.0|  0.0|    0.0|  2.0|0.0| 3.0|   1.0|[44.0,1.0,1.0,120...|\n",
            "|52.0|1.0|2.0|   172.0|199.0|1.0|    1.0|  162.0|  0.0|    0.5|  2.0|0.0| 3.0|   1.0|[52.0,1.0,2.0,172...|\n",
            "|57.0|1.0|2.0|   150.0|168.0|0.0|    1.0|  174.0|  0.0|    1.6|  2.0|0.0| 2.0|   1.0|[57.0,1.0,2.0,150...|\n",
            "|54.0|1.0|0.0|   140.0|239.0|0.0|    1.0|  160.0|  0.0|    1.2|  2.0|0.0| 2.0|   1.0|[54.0,1.0,0.0,140...|\n",
            "|48.0|0.0|2.0|   130.0|275.0|0.0|    1.0|  139.0|  0.0|    0.2|  2.0|0.0| 2.0|   1.0|[48.0,0.0,2.0,130...|\n",
            "|49.0|1.0|1.0|   130.0|266.0|0.0|    1.0|  171.0|  0.0|    0.6|  2.0|0.0| 2.0|   1.0|[49.0,1.0,1.0,130...|\n",
            "|64.0|1.0|3.0|   110.0|211.0|0.0|    0.0|  144.0|  1.0|    1.8|  1.0|0.0| 2.0|   1.0|[64.0,1.0,3.0,110...|\n",
            "|58.0|0.0|3.0|   150.0|283.0|1.0|    0.0|  162.0|  0.0|    1.0|  2.0|0.0| 2.0|   1.0|[58.0,0.0,3.0,150...|\n",
            "|50.0|0.0|2.0|   120.0|219.0|0.0|    1.0|  158.0|  0.0|    1.6|  1.0|0.0| 2.0|   1.0|[50.0,0.0,2.0,120...|\n",
            "|58.0|0.0|2.0|   120.0|340.0|0.0|    1.0|  172.0|  0.0|    0.0|  2.0|0.0| 2.0|   1.0|[58.0,0.0,2.0,120...|\n",
            "|66.0|0.0|3.0|   150.0|226.0|0.0|    1.0|  114.0|  0.0|    2.6|  0.0|0.0| 2.0|   1.0|[66.0,0.0,3.0,150...|\n",
            "|43.0|1.0|0.0|   150.0|247.0|0.0|    1.0|  171.0|  0.0|    1.5|  2.0|0.0| 2.0|   1.0|[43.0,1.0,0.0,150...|\n",
            "|69.0|0.0|3.0|   140.0|239.0|0.0|    1.0|  151.0|  0.0|    1.8|  2.0|2.0| 2.0|   1.0|[69.0,0.0,3.0,140...|\n",
            "+----+---+---+--------+-----+---+-------+-------+-----+-------+-----+---+----+------+--------------------+\n",
            "only showing top 20 rows\n",
            "\n"
          ]
        }
      ]
    },
    {
      "cell_type": "markdown",
      "source": [
        "# Ejercicio 2"
      ],
      "metadata": {
        "id": "IApQzekKZAsg"
      }
    },
    {
      "cell_type": "code",
      "source": [
        "(training_data, test_data) = transformed_data.randomSplit([0.8,0.2])"
      ],
      "metadata": {
        "id": "rU4aTtqxYu12"
      },
      "execution_count": null,
      "outputs": []
    },
    {
      "cell_type": "code",
      "source": [
        "rf = RandomForestClassifier(\n",
        "                            # variable a predecir\n",
        "                            labelCol='target',\n",
        "                            # Conjunto de variables para entrenarse\n",
        "                            featuresCol='features')"
      ],
      "metadata": {
        "id": "4U9RSRodZD1A"
      },
      "execution_count": null,
      "outputs": []
    },
    {
      "cell_type": "code",
      "source": [
        "# fit para entrenar el conjunto de datos de \"training_data\"\n",
        "\n",
        "model = rf.fit(training_data)"
      ],
      "metadata": {
        "id": "iHDeyILBfDe1"
      },
      "execution_count": null,
      "outputs": []
    },
    {
      "cell_type": "code",
      "source": [
        "model"
      ],
      "metadata": {
        "id": "Dzo29JM-gk7G",
        "outputId": "cda0ee42-4d77-4aa6-f525-55a179c1d8d1",
        "colab": {
          "base_uri": "https://localhost:8080/"
        }
      },
      "execution_count": null,
      "outputs": [
        {
          "output_type": "execute_result",
          "data": {
            "text/plain": [
              "RandomForestClassificationModel: uid=RandomForestClassifier_4b9713eaa2c1, numTrees=20, numClasses=2, numFeatures=13"
            ]
          },
          "metadata": {},
          "execution_count": 93
        }
      ]
    },
    {
      "cell_type": "code",
      "source": [
        "# Para realizar las predicciones, se utiliza \"transform\"\n",
        "\n",
        "predictions = model.transform(test_data)\n",
        "\n",
        "predictions.select('target', 'prediction').show()"
      ],
      "metadata": {
        "id": "WquOjk5QgnN2",
        "outputId": "8254bcdf-494e-48c9-e169-6ad4c53c005f",
        "colab": {
          "base_uri": "https://localhost:8080/"
        }
      },
      "execution_count": null,
      "outputs": [
        {
          "output_type": "stream",
          "name": "stdout",
          "text": [
            "+------+----------+\n",
            "|target|prediction|\n",
            "+------+----------+\n",
            "|   1.0|       1.0|\n",
            "|   1.0|       1.0|\n",
            "|   1.0|       1.0|\n",
            "|   1.0|       1.0|\n",
            "|   1.0|       1.0|\n",
            "|   1.0|       1.0|\n",
            "|   0.0|       0.0|\n",
            "|   1.0|       1.0|\n",
            "|   1.0|       1.0|\n",
            "|   0.0|       0.0|\n",
            "|   1.0|       1.0|\n",
            "|   0.0|       1.0|\n",
            "|   1.0|       1.0|\n",
            "|   1.0|       1.0|\n",
            "|   0.0|       0.0|\n",
            "|   1.0|       1.0|\n",
            "|   1.0|       1.0|\n",
            "|   1.0|       1.0|\n",
            "|   1.0|       1.0|\n",
            "|   1.0|       1.0|\n",
            "+------+----------+\n",
            "only showing top 20 rows\n",
            "\n"
          ]
        }
      ]
    },
    {
      "cell_type": "markdown",
      "source": [
        "# Ejercicio 3"
      ],
      "metadata": {
        "id": "AHZR7RTMg_Br"
      }
    },
    {
      "cell_type": "code",
      "source": [
        "# Evaluate our model\n",
        "from pyspark.ml.evaluation import BinaryClassificationEvaluator\n",
        "\n",
        "\n",
        "evaluator = BinaryClassificationEvaluator(\n",
        "    labelCol='target',\n",
        "    rawPredictionCol='prediction')"
      ],
      "metadata": {
        "id": "WpVbAAYMg1yK"
      },
      "execution_count": null,
      "outputs": []
    },
    {
      "cell_type": "code",
      "source": [
        "# Accuracy\n",
        "accuracy = evaluator.evaluate(predictions)\n",
        "print('Test Accuracy = ', accuracy)"
      ],
      "metadata": {
        "id": "e_S1psKJiDna",
        "outputId": "a3d55b66-2f08-46a1-bd86-fb65585c0fa5",
        "colab": {
          "base_uri": "https://localhost:8080/"
        }
      },
      "execution_count": null,
      "outputs": [
        {
          "output_type": "stream",
          "name": "stdout",
          "text": [
            "Test Accuracy =  0.9030172413793103\n"
          ]
        }
      ]
    }
  ],
  "metadata": {
    "kernelspec": {
      "display_name": "Python 3 (ipykernel)",
      "language": "python",
      "name": "python3"
    },
    "language_info": {
      "codemirror_mode": {
        "name": "ipython",
        "version": 3
      },
      "file_extension": ".py",
      "mimetype": "text/x-python",
      "name": "python",
      "nbconvert_exporter": "python",
      "pygments_lexer": "ipython3",
      "version": "3.8.12"
    },
    "colab": {
      "provenance": []
    }
  },
  "nbformat": 4,
  "nbformat_minor": 0
}