{
  "cells": [
    {
      "cell_type": "code",
      "source": [
        "!pip install selenium"
      ],
      "metadata": {
        "id": "Q5RsPVicaSTV"
      },
      "execution_count": null,
      "outputs": []
    },
    {
      "cell_type": "code",
      "source": [
        "from selenium import webdriver\n",
        "from selenium.webdriver.common.by import By\n",
        "\n",
        "from selenium.webdriver.support.ui import WebDriverWait\n",
        "from selenium.webdriver.support import expected_conditions as EC\n",
        "from selenium.webdriver.common.keys import Keys"
      ],
      "metadata": {
        "id": "qOUKuPOgM9gy"
      },
      "execution_count": 6,
      "outputs": []
    },
    {
      "cell_type": "code",
      "source": [
        "chrome_options = webdriver.ChromeOptions()\n",
        "chrome_options.add_argument('--headless')\n",
        "chrome_options.add_argument('--no-sandbox')\n",
        "chrome_options.add_experimental_option('detach', True)\n",
        "\n",
        "driver = webdriver.Chrome(options=chrome_options)\n",
        "#driver.get('https://www.amazon.com/Instant-Pot-Plus-60-Programmable/dp/B01NBKTPTS/?th=1')\n",
        "driver.get('https://www.python.org')\n",
        "\n",
        "#price_dollar = driver.find_element(By.CLASS_NAME, value='a-price-whole')\n",
        "#price_cents = driver.find_element(By.CLASS_NAME, value='a-price-fraction')\n",
        "#print(f'The price is {price_dollar.text}.{price_cents.text}')\n",
        "\n",
        "search_bar = driver.find_element(By.NAME, value='q')\n",
        "# print(search_bar.get_attribute('placeholder'))\n",
        "\n",
        "button = driver.find_element(By.ID, value='submit')\n",
        "#print(button.size)\n",
        "\n",
        "documentation_link = driver.find_element(By.CSS_SELECTOR, value='.documentation-widget a')\n",
        "#print(documentation_link.text)\n",
        "\n",
        "#bug_link = driver.find_element(By.XPATH, value='//*[@id=\"site-map\"]/div[2]/div/ul/li/[3]/a')\n",
        "#print(bug_link)\n",
        "\n",
        "#driver.quit()\n",
        "\n",
        "'''año = fechas.find_element(By.CLASS_NAME, value='say-no-more')\n",
        "print(año.text)'''"
      ],
      "metadata": {
        "id": "JlGMMVQJUZkD",
        "outputId": "f9e7d28a-71de-40e2-b1a8-b0e25482dd43",
        "colab": {
          "base_uri": "https://localhost:8080/",
          "height": 35
        }
      },
      "execution_count": 7,
      "outputs": [
        {
          "output_type": "execute_result",
          "data": {
            "text/plain": [
              "\"año = fechas.find_element(By.CLASS_NAME, value='say-no-more')\\nprint(año.text)\""
            ],
            "application/vnd.google.colaboratory.intrinsic+json": {
              "type": "string"
            }
          },
          "metadata": {},
          "execution_count": 7
        }
      ]
    },
    {
      "cell_type": "code",
      "source": [
        "events = driver.find_elements(By.XPATH, value='//*[@id=\"content\"]/div/section/div[2]/div[2]/div/ul')\n",
        "topics = [texto.text for fecha in events for texto in fecha.find_elements(By.CSS_SELECTOR, value='a')]\n",
        "dates = ['2023-'+date.text for date in driver.find_elements(By.CSS_SELECTOR, value='.event-widget time')]\n",
        "\n",
        "for n in range(len(topics)):\n",
        "  events_dict[n] = {\n",
        "      'date': dates[n],\n",
        "      'topic': topics[n]\n",
        "  }\n",
        "\n",
        "print(events_dict[0])"
      ],
      "metadata": {
        "id": "oUM8H8L0qvD9",
        "outputId": "baf808ad-d053-4384-ac0d-634a6b363357",
        "colab": {
          "base_uri": "https://localhost:8080/"
        }
      },
      "execution_count": 41,
      "outputs": [
        {
          "output_type": "stream",
          "name": "stdout",
          "text": [
            "{'date': '2023-10-18', 'topic': 'The When of Python, and Dependency Injection Principle'}\n"
          ]
        }
      ]
    },
    {
      "cell_type": "markdown",
      "source": [
        "#WIKIPEDIA"
      ],
      "metadata": {
        "id": "yFYdHdPQdwH3"
      }
    },
    {
      "cell_type": "code",
      "source": [
        "driver_wiki = webdriver.Chrome(options=chrome_options)\n",
        "driver_wiki.get('https://en.wikipedia.org/wiki/Main_Page')\n",
        "\n",
        "# articlecount\n",
        "#counter_wiki = driver_wiki.find_element(By.XPATH, value='//*[@id=\"articlecount\"]/a[1]')\n",
        "counter_wiki = driver_wiki.find_element(By.CSS_SELECTOR, value='#articlecount a')\n",
        "print(counter_wiki.text)"
      ],
      "metadata": {
        "id": "aMX3mwKGimOp",
        "outputId": "dec91091-e63b-492d-8ae6-3a702255514b",
        "colab": {
          "base_uri": "https://localhost:8080/"
        }
      },
      "execution_count": 47,
      "outputs": [
        {
          "output_type": "stream",
          "name": "stdout",
          "text": [
            "6,730,190\n"
          ]
        }
      ]
    },
    {
      "cell_type": "code",
      "source": [],
      "metadata": {
        "id": "kyyTBfLAfOub"
      },
      "execution_count": null,
      "outputs": []
    }
  ],
  "metadata": {
    "kernelspec": {
      "display_name": "Python 3 (ipykernel)",
      "language": "python",
      "name": "python3"
    },
    "language_info": {
      "codemirror_mode": {
        "name": "ipython",
        "version": 3
      },
      "file_extension": ".py",
      "mimetype": "text/x-python",
      "name": "python",
      "nbconvert_exporter": "python",
      "pygments_lexer": "ipython3",
      "version": "3.8.12"
    },
    "colab": {
      "provenance": []
    }
  },
  "nbformat": 4,
  "nbformat_minor": 0
}