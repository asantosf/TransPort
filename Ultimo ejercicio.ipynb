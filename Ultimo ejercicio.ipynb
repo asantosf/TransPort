{
  "cells": [
    {
      "cell_type": "markdown",
      "source": [
        "# Inicio"
      ],
      "metadata": {
        "id": "SepfUcyBsNVM"
      }
    },
    {
      "cell_type": "code",
      "source": [
        "!pip install findspark\n",
        "!pip install pyspark\n",
        "!pip install spark"
      ],
      "metadata": {
        "id": "PLluq_jTsLLm",
        "outputId": "84ab5516-3b2a-486e-a8d7-498565aa7663",
        "colab": {
          "base_uri": "https://localhost:8080/"
        }
      },
      "execution_count": 2,
      "outputs": [
        {
          "output_type": "stream",
          "name": "stdout",
          "text": [
            "Collecting findspark\n",
            "  Downloading findspark-2.0.1-py2.py3-none-any.whl (4.4 kB)\n",
            "Installing collected packages: findspark\n",
            "Successfully installed findspark-2.0.1\n",
            "Collecting pyspark\n",
            "  Downloading pyspark-3.4.1.tar.gz (310.8 MB)\n",
            "\u001b[2K     \u001b[90m━━━━━━━━━━━━━━━━━━━━━━━━━━━━━━━━━━━━━━━\u001b[0m \u001b[32m310.8/310.8 MB\u001b[0m \u001b[31m2.9 MB/s\u001b[0m eta \u001b[36m0:00:00\u001b[0m\n",
            "\u001b[?25h  Preparing metadata (setup.py) ... \u001b[?25l\u001b[?25hdone\n",
            "Requirement already satisfied: py4j==0.10.9.7 in /usr/local/lib/python3.10/dist-packages (from pyspark) (0.10.9.7)\n",
            "Building wheels for collected packages: pyspark\n",
            "  Building wheel for pyspark (setup.py) ... \u001b[?25l\u001b[?25hdone\n",
            "  Created wheel for pyspark: filename=pyspark-3.4.1-py2.py3-none-any.whl size=311285387 sha256=801a4f430ad75d5ced9a36acbfd6873ddd80c558b9d94d136cd0d27618df7542\n",
            "  Stored in directory: /root/.cache/pip/wheels/0d/77/a3/ff2f74cc9ab41f8f594dabf0579c2a7c6de920d584206e0834\n",
            "Successfully built pyspark\n",
            "Installing collected packages: pyspark\n",
            "Successfully installed pyspark-3.4.1\n",
            "Collecting spark\n",
            "  Downloading spark-0.2.1.tar.gz (41 kB)\n",
            "\u001b[2K     \u001b[90m━━━━━━━━━━━━━━━━━━━━━━━━━━━━━━━━━━━━━━━━\u001b[0m \u001b[32m41.0/41.0 kB\u001b[0m \u001b[31m1.2 MB/s\u001b[0m eta \u001b[36m0:00:00\u001b[0m\n",
            "\u001b[?25h  Preparing metadata (setup.py) ... \u001b[?25l\u001b[?25hdone\n",
            "Building wheels for collected packages: spark\n",
            "  Building wheel for spark (setup.py) ... \u001b[?25l\u001b[?25hdone\n",
            "  Created wheel for spark: filename=spark-0.2.1-py3-none-any.whl size=58748 sha256=008155d4564c099c8d1844e4c163999f66b4abffe2b92f144823141ee70758df\n",
            "  Stored in directory: /root/.cache/pip/wheels/63/88/77/b4131110ea4094540f7b47c6d62a649807d7e94800da5eab0b\n",
            "Successfully built spark\n",
            "Installing collected packages: spark\n",
            "Successfully installed spark-0.2.1\n"
          ]
        }
      ]
    },
    {
      "cell_type": "code",
      "source": [
        "import pyspark\n",
        "import findspark\n",
        "import spark\n",
        "\n",
        "findspark.init()\n",
        "\n",
        "from pyspark.sql import *\n",
        "from pyspark.sql.types import *\n",
        "from pyspark.sql.functions import *\n",
        "\n",
        "spark = SparkSession.builder.getOrCreate()\n",
        "\n",
        "sc = spark.sparkContext"
      ],
      "metadata": {
        "id": "Cc8bMLK2uT4k"
      },
      "execution_count": 93,
      "outputs": []
    },
    {
      "cell_type": "code",
      "source": [
        "movies = spark.read.option('delimiter', '|').option('header','true').option('inferSchema', 'true').csv('movies.csv')\n",
        "rating = spark.read.option('delimiter', '|').option('header','true').option('inferSchema', 'true').csv('movie_ratings.csv')"
      ],
      "metadata": {
        "id": "8Mh6b2vlRnrY"
      },
      "execution_count": 97,
      "outputs": []
    },
    {
      "cell_type": "code",
      "source": [
        "# Calcule la cantidad de películas en las que participó cada actor.\n",
        "# La salida debe tener dos columnas: actor y conteo. La salida debe ordenarse por el conteo en orden descendente.\n",
        "\n",
        "movies.groupBy('actor').agg(count('pelicula').alias('conteo')).orderBy(desc('conteo')).show()"
      ],
      "metadata": {
        "id": "8VeA3svsR-Vf",
        "outputId": "eb05f4eb-b812-4500-945c-a9b8a974f7ba",
        "colab": {
          "base_uri": "https://localhost:8080/"
        }
      },
      "execution_count": 104,
      "outputs": [
        {
          "output_type": "stream",
          "name": "stdout",
          "text": [
            "+-------------------+------+\n",
            "|              actor|conteo|\n",
            "+-------------------+------+\n",
            "|   Tatasciore, Fred|    38|\n",
            "|      Welker, Frank|    38|\n",
            "| Jackson, Samuel L.|    32|\n",
            "|      Harnell, Jess|    31|\n",
            "|        Damon, Matt|    27|\n",
            "|      Willis, Bruce|    27|\n",
            "|  Cummings, Jim (I)|    26|\n",
            "|         Hanks, Tom|    25|\n",
            "|   Lynn, Sherry (I)|    25|\n",
            "|    McGowan, Mickie|    25|\n",
            "|    Bergen, Bob (I)|    25|\n",
            "|      Proctor, Phil|    24|\n",
            "|   Wilson, Owen (I)|    23|\n",
            "|        Cruise, Tom|    23|\n",
            "|         Pitt, Brad|    23|\n",
            "|Freeman, Morgan (I)|    22|\n",
            "|Williams, Robin (I)|    22|\n",
            "|       Depp, Johnny|    22|\n",
            "|     Morrison, Rana|    22|\n",
            "|      Diaz, Cameron|    21|\n",
            "+-------------------+------+\n",
            "only showing top 20 rows\n",
            "\n"
          ]
        }
      ]
    },
    {
      "cell_type": "code",
      "source": [
        "# Calcule la cantidad de películas producidas cada año.\n",
        "# La salida debe tener tres columnas: año, siglo al que pertenece el año y conteo.\n",
        "# La salida debe ordenarse por el conteo en orden descendente.\n",
        "\n",
        "año_movies = movies.groupBy('año').agg(count_distinct('pelicula').alias('conteo'))"
      ],
      "metadata": {
        "id": "oEO2uuszS-Kd"
      },
      "execution_count": 138,
      "outputs": []
    },
    {
      "cell_type": "code",
      "source": [
        "año_movies.select(\n",
        "    'año',\n",
        "    when((col('año') > 1900) & (col('año') <= 2000), 'Siglo XX').\\\n",
        "    when((col('año') > 2000) & (col('año') <= 2100), 'Siglo XXI').alias('siglo'),\n",
        "    'conteo'\n",
        ").orderBy(desc('conteo')).show()"
      ],
      "metadata": {
        "id": "J8LU9NK9V4ae",
        "outputId": "03599b97-f3aa-430f-c851-af01658576fd",
        "colab": {
          "base_uri": "https://localhost:8080/"
        }
      },
      "execution_count": 141,
      "outputs": [
        {
          "output_type": "stream",
          "name": "stdout",
          "text": [
            "+----+---------+------+\n",
            "| año|    siglo|conteo|\n",
            "+----+---------+------+\n",
            "|2006|Siglo XXI|    86|\n",
            "|2004|Siglo XXI|    86|\n",
            "|2011|Siglo XXI|    86|\n",
            "|2005|Siglo XXI|    85|\n",
            "|2008|Siglo XXI|    82|\n",
            "|2002|Siglo XXI|    81|\n",
            "|2010|Siglo XXI|    78|\n",
            "|2000| Siglo XX|    77|\n",
            "|2003|Siglo XXI|    76|\n",
            "|2007|Siglo XXI|    75|\n",
            "|2001|Siglo XXI|    71|\n",
            "|2009|Siglo XXI|    68|\n",
            "|1999| Siglo XX|    67|\n",
            "|1997| Siglo XX|    66|\n",
            "|1998| Siglo XX|    59|\n",
            "|1996| Siglo XX|    42|\n",
            "|2012|Siglo XXI|    32|\n",
            "|1995| Siglo XX|    25|\n",
            "|1994| Siglo XX|    16|\n",
            "|1986| Siglo XX|    16|\n",
            "+----+---------+------+\n",
            "only showing top 20 rows\n",
            "\n"
          ]
        }
      ]
    },
    {
      "cell_type": "code",
      "source": [
        "# Obtenga la película con la calificación más alta por año.\n",
        "# La salida debe tener solo una película por año y debe contener tres columnas: año, título de la película y valoración.\n",
        "\n",
        "calif_window = Window.partitionBy('año').orderBy(desc('valoracion'))\n",
        "\n",
        "rating.withColumn('row', row_number().over(calif_window)).\\\n",
        "select(\n",
        "    'año',\n",
        "    'pelicula',\n",
        "    'valoracion'\n",
        ").\\\n",
        "filter(\n",
        "    col('row') == 1\n",
        ").show()"
      ],
      "metadata": {
        "id": "tJ4op4KdZtJP",
        "outputId": "92beeaa7-9282-4852-b42d-6d349e7be2e6",
        "colab": {
          "base_uri": "https://localhost:8080/"
        }
      },
      "execution_count": 143,
      "outputs": [
        {
          "output_type": "stream",
          "name": "stdout",
          "text": [
            "+----+--------------------+----------+\n",
            "| año|            pelicula|valoracion|\n",
            "+----+--------------------+----------+\n",
            "|1937|Snow White and th...|    2.2207|\n",
            "|1939|    The Wizard of Oz|    7.9215|\n",
            "|1940|           Pinocchio|    7.8557|\n",
            "|1942|               Bambi|    1.5053|\n",
            "|1946|   Song of the South|     7.602|\n",
            "|1950|          Cinderella|    9.4226|\n",
            "|1953|           Peter Pan|    5.4756|\n",
            "|1954|         Rear Window|   10.7625|\n",
            "|1955|  Lady and the Tramp|    5.1258|\n",
            "|1956|Around the World ...|   14.0607|\n",
            "|1959|     Sleeping Beauty|    6.3919|\n",
            "|1960|              Psycho|   10.6375|\n",
            "|1961|One Hundred and O...|    0.6726|\n",
            "|1962|     The Longest Day|   12.8866|\n",
            "|1963|It's a Mad Mad Ma...|     6.626|\n",
            "|1964|        My Fair Lady|     7.587|\n",
            "|1965|      Doctor Zhivago|    4.9304|\n",
            "|1966|Who's Afraid of V...|   11.1111|\n",
            "|1967|     The Dirty Dozen|    13.388|\n",
            "|1968|        The Love Bug|   13.4383|\n",
            "+----+--------------------+----------+\n",
            "only showing top 20 rows\n",
            "\n"
          ]
        }
      ]
    },
    {
      "cell_type": "code",
      "source": [],
      "metadata": {
        "id": "2SljAIzLGbvk"
      },
      "execution_count": null,
      "outputs": []
    }
  ],
  "metadata": {
    "kernelspec": {
      "display_name": "Python 3 (ipykernel)",
      "language": "python",
      "name": "python3"
    },
    "language_info": {
      "codemirror_mode": {
        "name": "ipython",
        "version": 3
      },
      "file_extension": ".py",
      "mimetype": "text/x-python",
      "name": "python",
      "nbconvert_exporter": "python",
      "pygments_lexer": "ipython3",
      "version": "3.8.12"
    },
    "colab": {
      "provenance": []
    }
  },
  "nbformat": 4,
  "nbformat_minor": 0
}