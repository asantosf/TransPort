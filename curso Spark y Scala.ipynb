{
  "cells": [
    {
      "cell_type": "markdown",
      "source": [
        "# Inicio"
      ],
      "metadata": {
        "id": "SepfUcyBsNVM"
      }
    },
    {
      "cell_type": "code",
      "source": [
        "!pip install findspark\n",
        "!pip install pyspark\n",
        "!pip install spark"
      ],
      "metadata": {
        "id": "PLluq_jTsLLm",
        "outputId": "b8bbf600-132c-4cc5-b05d-b9b4bb71b747",
        "colab": {
          "base_uri": "https://localhost:8080/"
        }
      },
      "execution_count": 1,
      "outputs": [
        {
          "output_type": "stream",
          "name": "stdout",
          "text": [
            "Collecting findspark\n",
            "  Downloading findspark-2.0.1-py2.py3-none-any.whl (4.4 kB)\n",
            "Installing collected packages: findspark\n",
            "Successfully installed findspark-2.0.1\n",
            "Collecting pyspark\n",
            "  Downloading pyspark-3.4.1.tar.gz (310.8 MB)\n",
            "\u001b[2K     \u001b[90m━━━━━━━━━━━━━━━━━━━━━━━━━━━━━━━━━━━━━━━\u001b[0m \u001b[32m310.8/310.8 MB\u001b[0m \u001b[31m4.2 MB/s\u001b[0m eta \u001b[36m0:00:00\u001b[0m\n",
            "\u001b[?25h  Preparing metadata (setup.py) ... \u001b[?25l\u001b[?25hdone\n",
            "Requirement already satisfied: py4j==0.10.9.7 in /usr/local/lib/python3.10/dist-packages (from pyspark) (0.10.9.7)\n",
            "Building wheels for collected packages: pyspark\n",
            "  Building wheel for pyspark (setup.py) ... \u001b[?25l\u001b[?25hdone\n",
            "  Created wheel for pyspark: filename=pyspark-3.4.1-py2.py3-none-any.whl size=311285388 sha256=38d0ea6566a71a41e668ea55b411ad0a1378329d1bb2f5fc197c8629c20589ab\n",
            "  Stored in directory: /root/.cache/pip/wheels/0d/77/a3/ff2f74cc9ab41f8f594dabf0579c2a7c6de920d584206e0834\n",
            "Successfully built pyspark\n",
            "Installing collected packages: pyspark\n",
            "Successfully installed pyspark-3.4.1\n",
            "Collecting spark\n",
            "  Downloading spark-0.2.1.tar.gz (41 kB)\n",
            "\u001b[2K     \u001b[90m━━━━━━━━━━━━━━━━━━━━━━━━━━━━━━━━━━━━━━━━\u001b[0m \u001b[32m41.0/41.0 kB\u001b[0m \u001b[31m1.3 MB/s\u001b[0m eta \u001b[36m0:00:00\u001b[0m\n",
            "\u001b[?25h  Preparing metadata (setup.py) ... \u001b[?25l\u001b[?25hdone\n",
            "Building wheels for collected packages: spark\n",
            "  Building wheel for spark (setup.py) ... \u001b[?25l\u001b[?25hdone\n",
            "  Created wheel for spark: filename=spark-0.2.1-py3-none-any.whl size=58748 sha256=478dffbe4e18c8ba545ecd87c3297b88df4db4a09f397605556f5bf4c90aa6b6\n",
            "  Stored in directory: /root/.cache/pip/wheels/63/88/77/b4131110ea4094540f7b47c6d62a649807d7e94800da5eab0b\n",
            "Successfully built spark\n",
            "Installing collected packages: spark\n",
            "Successfully installed spark-0.2.1\n"
          ]
        }
      ]
    },
    {
      "cell_type": "code",
      "source": [
        "!apt-get install openjdk-8-jdk-headless -qq > /dev/null"
      ],
      "metadata": {
        "id": "CGZ5kMSQ5oq5"
      },
      "execution_count": 2,
      "outputs": []
    },
    {
      "cell_type": "code",
      "source": [
        "import pyspark\n",
        "import findspark\n",
        "import spark\n",
        "\n",
        "findspark.init()\n",
        "\n",
        "from pyspark.sql import SparkSession\n",
        "from pyspark.sql.functions import *\n",
        "\n",
        "spark = SparkSession.builder.getOrCreate()"
      ],
      "metadata": {
        "id": "Cc8bMLK2uT4k"
      },
      "execution_count": 3,
      "outputs": []
    },
    {
      "cell_type": "code",
      "source": [
        "spark"
      ],
      "metadata": {
        "id": "qTSXYqHSnwAK",
        "outputId": "564211f3-3b03-40d1-e412-c004fb41653e",
        "colab": {
          "base_uri": "https://localhost:8080/",
          "height": 219
        }
      },
      "execution_count": 108,
      "outputs": [
        {
          "output_type": "execute_result",
          "data": {
            "text/plain": [
              "<pyspark.sql.session.SparkSession at 0x7f28b67757e0>"
            ],
            "text/html": [
              "\n",
              "            <div>\n",
              "                <p><b>SparkSession - in-memory</b></p>\n",
              "                \n",
              "        <div>\n",
              "            <p><b>SparkContext</b></p>\n",
              "\n",
              "            <p><a href=\"http://121f25adc947:4040\">Spark UI</a></p>\n",
              "\n",
              "            <dl>\n",
              "              <dt>Version</dt>\n",
              "                <dd><code>v3.4.1</code></dd>\n",
              "              <dt>Master</dt>\n",
              "                <dd><code>local[*]</code></dd>\n",
              "              <dt>AppName</dt>\n",
              "                <dd><code>Trying</code></dd>\n",
              "            </dl>\n",
              "        </div>\n",
              "        \n",
              "            </div>\n",
              "        "
            ]
          },
          "metadata": {},
          "execution_count": 108
        }
      ]
    },
    {
      "cell_type": "code",
      "source": [
        "sc = spark.sparkContext"
      ],
      "metadata": {
        "id": "nBRA6_KXNcbd"
      },
      "execution_count": 4,
      "outputs": []
    },
    {
      "cell_type": "code",
      "source": [
        "rdd = sc.parallelize([1,2,3,4,5], 10)"
      ],
      "metadata": {
        "id": "YCUuxAUNOD9T"
      },
      "execution_count": 7,
      "outputs": []
    },
    {
      "cell_type": "code",
      "source": [
        "rdd"
      ],
      "metadata": {
        "id": "za_LU2boOLjc",
        "outputId": "306452fd-4c55-4ec7-b260-d4740160239a",
        "colab": {
          "base_uri": "https://localhost:8080/",
          "height": 0
        }
      },
      "execution_count": 48,
      "outputs": [
        {
          "output_type": "execute_result",
          "data": {
            "text/plain": [
              "ParallelCollectionRDD[135] at readRDDFromFile at PythonRDD.scala:287"
            ]
          },
          "metadata": {},
          "execution_count": 48
        }
      ]
    },
    {
      "cell_type": "code",
      "source": [
        "rdd.collect()"
      ],
      "metadata": {
        "id": "TlMgVk7_OMN0",
        "outputId": "cabaac0c-7997-431d-a78c-8a5d2054e2d3",
        "colab": {
          "base_uri": "https://localhost:8080/",
          "height": 0
        }
      },
      "execution_count": 50,
      "outputs": [
        {
          "output_type": "execute_result",
          "data": {
            "text/plain": [
              "[1, 2, 3, 4, 5]"
            ]
          },
          "metadata": {},
          "execution_count": 50
        }
      ]
    },
    {
      "cell_type": "code",
      "source": [
        "# Crear un RDD desde un txt\n",
        "\n",
        "rdd_texto = sc.textFile('rdd_source.txt')\n",
        "rdd_texto.collect()"
      ],
      "metadata": {
        "id": "246XnRAqOPMM",
        "outputId": "bb20c0c7-162a-413d-c0d6-7408a566f09c",
        "colab": {
          "base_uri": "https://localhost:8080/",
          "height": 0
        }
      },
      "execution_count": 54,
      "outputs": [
        {
          "output_type": "execute_result",
          "data": {
            "text/plain": [
              "['Así podemos crear', 'un RDD desde un', 'archivo de texto!!!']"
            ]
          },
          "metadata": {},
          "execution_count": 54
        }
      ]
    },
    {
      "cell_type": "code",
      "source": [
        "rdd_texto_completo = sc.wholeTextFiles('rdd_source.txt')\n",
        "rdd_texto_completo.collect()"
      ],
      "metadata": {
        "id": "4wZRtKq6PIyP",
        "outputId": "7130ca1c-3f30-43fc-a749-39bfde0800fe",
        "colab": {
          "base_uri": "https://localhost:8080/",
          "height": 0
        }
      },
      "execution_count": 55,
      "outputs": [
        {
          "output_type": "execute_result",
          "data": {
            "text/plain": [
              "[('file:/content/rdd_source.txt',\n",
              "  'Así podemos crear\\nun RDD desde un\\narchivo de texto!!!')]"
            ]
          },
          "metadata": {},
          "execution_count": 55
        }
      ]
    },
    {
      "cell_type": "code",
      "source": [
        "rdd_suma = rdd.map(lambda x: x+1)\n",
        "rdd_suma.collect()"
      ],
      "metadata": {
        "id": "LCblaVRwPYpb",
        "outputId": "2909f744-6afe-4848-df41-9b279db49dc9",
        "colab": {
          "base_uri": "https://localhost:8080/",
          "height": 0
        }
      },
      "execution_count": 76,
      "outputs": [
        {
          "output_type": "execute_result",
          "data": {
            "text/plain": [
              "[2, 3, 4, 5, 6]"
            ]
          },
          "metadata": {},
          "execution_count": 76
        }
      ]
    },
    {
      "cell_type": "code",
      "source": [
        "df = spark.createDataFrame([(1, 'Paola'),(2, 'José'),(3, 'Allan')], ['id', 'name'])\n",
        "df.show()"
      ],
      "metadata": {
        "id": "-AYzoQkvPsdk",
        "outputId": "c6f93540-421b-4b6a-b046-6329b7210e0b",
        "colab": {
          "base_uri": "https://localhost:8080/",
          "height": 0
        }
      },
      "execution_count": 58,
      "outputs": [
        {
          "output_type": "stream",
          "name": "stdout",
          "text": [
            "+---+-----+\n",
            "| id| name|\n",
            "+---+-----+\n",
            "|  1|Paola|\n",
            "|  2| José|\n",
            "|  3|Allan|\n",
            "+---+-----+\n",
            "\n"
          ]
        }
      ]
    },
    {
      "cell_type": "code",
      "source": [
        "rdd_df = df.rdd\n",
        "rdd_df.collect()"
      ],
      "metadata": {
        "id": "cA1UW-nlQNKk",
        "outputId": "a7348574-357e-4630-c37c-5ae1bb547dae",
        "colab": {
          "base_uri": "https://localhost:8080/",
          "height": 0
        }
      },
      "execution_count": 60,
      "outputs": [
        {
          "output_type": "execute_result",
          "data": {
            "text/plain": [
              "[Row(id=1, name='Paola'), Row(id=2, name='José'), Row(id=3, name='Allan')]"
            ]
          },
          "metadata": {},
          "execution_count": 60
        }
      ]
    },
    {
      "cell_type": "markdown",
      "source": [
        "# EJERCICIO 1"
      ],
      "metadata": {
        "id": "YVMhm4YynMor"
      }
    },
    {
      "cell_type": "code",
      "source": [
        "rdd_empty1 = sc.emptyRDD()\n",
        "print(rdd_empty1.collect())\n",
        "\n",
        "rdd_empty2 = sc.parallelize([], 5)\n",
        "print(rdd_empty2.collect())"
      ],
      "metadata": {
        "id": "iC0o5BOrY1k_",
        "outputId": "4dfcb91f-6755-47e7-c193-13d255876f71",
        "colab": {
          "base_uri": "https://localhost:8080/",
          "height": 0
        }
      },
      "execution_count": 74,
      "outputs": [
        {
          "output_type": "stream",
          "name": "stdout",
          "text": [
            "[]\n",
            "[]\n"
          ]
        }
      ]
    },
    {
      "cell_type": "code",
      "source": [
        "print(rdd_empty1.getNumPartitions())\n",
        "print(rdd_empty2.getNumPartitions())"
      ],
      "metadata": {
        "id": "LuVg3HOOoMCj",
        "outputId": "20e33837-5695-458d-e167-852db07d0877",
        "colab": {
          "base_uri": "https://localhost:8080/",
          "height": 0
        }
      },
      "execution_count": 109,
      "outputs": [
        {
          "output_type": "stream",
          "name": "stdout",
          "text": [
            "0\n",
            "5\n"
          ]
        }
      ]
    },
    {
      "cell_type": "code",
      "source": [
        "rdd_primos = sc.parallelize([i for i in range(20) if i%2 != 0])\n",
        "rdd_primos.collect()"
      ],
      "metadata": {
        "id": "wTwjZFiBdDAQ",
        "outputId": "8137c4ac-ae50-41e5-8475-d9d1b2a46e2c",
        "colab": {
          "base_uri": "https://localhost:8080/",
          "height": 0
        }
      },
      "execution_count": 102,
      "outputs": [
        {
          "output_type": "execute_result",
          "data": {
            "text/plain": [
              "[1, 3, 5, 7, 9, 11, 13, 15, 17, 19]"
            ]
          },
          "metadata": {},
          "execution_count": 102
        }
      ]
    },
    {
      "cell_type": "code",
      "source": [
        "'''rdd_mayor10 = sc.parallelize([x for x in rdd_primos.collect() if x>10])\n",
        "rdd_mayor10.collect()'''\n",
        "\n",
        "rdd_primos.filter(lambda x: x > 10).collect()"
      ],
      "metadata": {
        "id": "TglyOkXif6A7",
        "outputId": "08d7f08d-9964-43cb-cae6-8c6a9df66ed8",
        "colab": {
          "base_uri": "https://localhost:8080/",
          "height": 0
        }
      },
      "execution_count": 110,
      "outputs": [
        {
          "output_type": "execute_result",
          "data": {
            "text/plain": [
              "[11, 13, 15, 17, 19]"
            ]
          },
          "metadata": {},
          "execution_count": 110
        }
      ]
    },
    {
      "cell_type": "code",
      "source": [
        "rdd_text = sc.wholeTextFiles('./data/el_valor_del_big_data.txt')\n",
        "rdd_text.collect()"
      ],
      "metadata": {
        "id": "rQSSPGpigj-Z",
        "outputId": "9c5c3fdf-dd4a-4716-a9f2-f901a999ec8a",
        "colab": {
          "base_uri": "https://localhost:8080/",
          "height": 0
        }
      },
      "execution_count": 111,
      "outputs": [
        {
          "output_type": "execute_result",
          "data": {
            "text/plain": [
              "[('file:/content/data/el_valor_del_big_data.txt',\n",
              "  'El valor y la realidad de big data\\r\\nEn los últimos años, han surgido otras \"dos V\": valor y veracidad. Los datos poseen un valor intrínseco. Sin embargo, no tienen ninguna utilidad hasta que dicho valor se descubre. Resulta igualmente importante: ¿cuál es la veracidad de sus datos y cuánto puede confiar en ellos?\\r\\n\\r\\nHoy en día, el big data se ha convertido en un activo crucial. Piense en algunas de las mayores empresas tecnológicas del mundo. Gran parte del valor que ofrecen procede de sus datos, que analizan constantemente para generar una mayor eficiencia y desarrollar nuevos productos.\\r\\n\\r\\nAvances tecnológicos recientes han reducido exponencialmente el coste del almacenamiento y la computación de datos, haciendo que almacenar datos resulte más fácil y barato que nunca. Actualmente, con un mayor volumen de big data más barato y accesible, puede tomar decisiones empresariales más acertadas y precisas.\\r\\n\\r\\nIdentificar el valor del big data no pasa solo por analizarlo (que es ya una ventaja en sí misma). Se trata de todo un proceso de descubrimiento que requiere que los analistas, usuarios empresariales y ejecutivos se planteen las preguntas correctas, identifiquen patrones, formulen hipótesis informadas y predigan comportamientos.')]"
            ]
          },
          "metadata": {},
          "execution_count": 111
        }
      ]
    },
    {
      "cell_type": "code",
      "source": [
        "rdd_line = sc.textFile('./data/el_valor_del_big_data.txt')\n",
        "rdd_line.collect()"
      ],
      "metadata": {
        "id": "-aqElPYxm2yS",
        "outputId": "f859abcb-00cc-4450-bfb2-5a10df60fc69",
        "colab": {
          "base_uri": "https://localhost:8080/",
          "height": 0
        }
      },
      "execution_count": 113,
      "outputs": [
        {
          "output_type": "execute_result",
          "data": {
            "text/plain": [
              "['El valor y la realidad de big data',\n",
              " 'En los últimos años, han surgido otras \"dos V\": valor y veracidad. Los datos poseen un valor intrínseco. Sin embargo, no tienen ninguna utilidad hasta que dicho valor se descubre. Resulta igualmente importante: ¿cuál es la veracidad de sus datos y cuánto puede confiar en ellos?',\n",
              " '',\n",
              " 'Hoy en día, el big data se ha convertido en un activo crucial. Piense en algunas de las mayores empresas tecnológicas del mundo. Gran parte del valor que ofrecen procede de sus datos, que analizan constantemente para generar una mayor eficiencia y desarrollar nuevos productos.',\n",
              " '',\n",
              " 'Avances tecnológicos recientes han reducido exponencialmente el coste del almacenamiento y la computación de datos, haciendo que almacenar datos resulte más fácil y barato que nunca. Actualmente, con un mayor volumen de big data más barato y accesible, puede tomar decisiones empresariales más acertadas y precisas.',\n",
              " '',\n",
              " 'Identificar el valor del big data no pasa solo por analizarlo (que es ya una ventaja en sí misma). Se trata de todo un proceso de descubrimiento que requiere que los analistas, usuarios empresariales y ejecutivos se planteen las preguntas correctas, identifiquen patrones, formulen hipótesis informadas y predigan comportamientos.']"
            ]
          },
          "metadata": {},
          "execution_count": 113
        }
      ]
    },
    {
      "cell_type": "code",
      "source": [],
      "metadata": {
        "id": "q6l6wxCpnDOr"
      },
      "execution_count": null,
      "outputs": []
    },
    {
      "cell_type": "markdown",
      "source": [
        "# TRANSFORMACIONES EN UN RDD"
      ],
      "metadata": {
        "id": "y1R1nOznsD8s"
      }
    },
    {
      "cell_type": "code",
      "source": [
        "rdd = sc.parallelize([1,2,3,4,5])"
      ],
      "metadata": {
        "id": "Gv1ceLLysHc1"
      },
      "execution_count": 116,
      "outputs": []
    },
    {
      "cell_type": "code",
      "source": [
        "rdd_resta = rdd.map(lambda x: x - 1)\n",
        "rdd_resta.collect()"
      ],
      "metadata": {
        "id": "aanB_SCA5IQX",
        "outputId": "af87ab11-6409-49d9-d106-40fad0c4d1d3",
        "colab": {
          "base_uri": "https://localhost:8080/",
          "height": 0
        }
      },
      "execution_count": 118,
      "outputs": [
        {
          "output_type": "execute_result",
          "data": {
            "text/plain": [
              "[0, 1, 2, 3, 4]"
            ]
          },
          "metadata": {},
          "execution_count": 118
        }
      ]
    },
    {
      "cell_type": "code",
      "source": [
        "rdd_par = rdd.map(lambda x: x%2 == 0)\n",
        "rdd_par.collect()"
      ],
      "metadata": {
        "id": "5map4Vgj5NfZ",
        "outputId": "d4e87726-2599-4a08-f917-392c52c12c75",
        "colab": {
          "base_uri": "https://localhost:8080/",
          "height": 0
        }
      },
      "execution_count": 120,
      "outputs": [
        {
          "output_type": "execute_result",
          "data": {
            "text/plain": [
              "[False, True, False, True, False]"
            ]
          },
          "metadata": {},
          "execution_count": 120
        }
      ]
    },
    {
      "cell_type": "code",
      "source": [
        "rdd_texto = sc.parallelize(['juan', 'jose', 'pedro', 'maria'])\n",
        "rdd_texto.map(lambda x: x.title()).collect()"
      ],
      "metadata": {
        "id": "q1apT-j35Yfo",
        "outputId": "3bd438dc-c912-46f2-8f0a-325ca73b1f65",
        "colab": {
          "base_uri": "https://localhost:8080/"
        }
      },
      "execution_count": 122,
      "outputs": [
        {
          "output_type": "execute_result",
          "data": {
            "text/plain": [
              "['Juan', 'Jose', 'Pedro', 'Maria']"
            ]
          },
          "metadata": {},
          "execution_count": 122
        }
      ]
    },
    {
      "cell_type": "code",
      "source": [
        "rdd_hola = rdd_texto.map(lambda x: f'Hola, {x}!')\n",
        "rdd_hola.collect()"
      ],
      "metadata": {
        "id": "gEMnren46ES6",
        "outputId": "2c989512-c3ad-49b8-975a-4d64e2699cf1",
        "colab": {
          "base_uri": "https://localhost:8080/"
        }
      },
      "execution_count": 127,
      "outputs": [
        {
          "output_type": "execute_result",
          "data": {
            "text/plain": [
              "['Hola, juan!', 'Hola, jose!', 'Hola, pedro!', 'Hola, maria!']"
            ]
          },
          "metadata": {},
          "execution_count": 127
        }
      ]
    },
    {
      "cell_type": "markdown",
      "source": [
        "# TRANSFORMACIÓN: FUNCIÓN flatMap"
      ],
      "metadata": {
        "id": "WqN3BuKG8o4g"
      }
    },
    {
      "cell_type": "code",
      "source": [
        "rdd = sc.parallelize([1,2,3,4,5,6,7,8,9,10])"
      ],
      "metadata": {
        "id": "f94JpATu6bYy"
      },
      "execution_count": 133,
      "outputs": []
    },
    {
      "cell_type": "code",
      "source": [
        "rdd_cuadrado = rdd.map(lambda x: (x, x**2))\n",
        "rdd_cuadrado.collect()"
      ],
      "metadata": {
        "id": "VjNZ_jVn8zNH",
        "outputId": "7d550993-57f3-4bec-dffb-d620426dc96e",
        "colab": {
          "base_uri": "https://localhost:8080/"
        }
      },
      "execution_count": 129,
      "outputs": [
        {
          "output_type": "execute_result",
          "data": {
            "text/plain": [
              "[(1, 1), (2, 4), (3, 9), (4, 16), (5, 25)]"
            ]
          },
          "metadata": {},
          "execution_count": 129
        }
      ]
    },
    {
      "cell_type": "code",
      "source": [
        "rdd_cuadrado_flat = rdd.flatMap(lambda x: (x, x**2))\n",
        "rdd_cuadrado_flat.collect()"
      ],
      "metadata": {
        "id": "wGpliDX886m2",
        "outputId": "3b4e2933-8ab1-495d-9c1b-9e2dec61a42f",
        "colab": {
          "base_uri": "https://localhost:8080/"
        }
      },
      "execution_count": 130,
      "outputs": [
        {
          "output_type": "execute_result",
          "data": {
            "text/plain": [
              "[1, 1, 2, 4, 3, 9, 4, 16, 5, 25]"
            ]
          },
          "metadata": {},
          "execution_count": 130
        }
      ]
    },
    {
      "cell_type": "code",
      "source": [
        "rdd_text = sc.parallelize(['jose', 'juan', 'lucia'])\n",
        "rdd_mayuscula = rdd_text.flatMap(lambda x: (x, x.upper()))\n",
        "rdd_mayuscula.collect()"
      ],
      "metadata": {
        "id": "z6ztyhzB9MO-",
        "outputId": "4eb6ee6f-d53f-4ad8-8055-fde7f2c4c2b7",
        "colab": {
          "base_uri": "https://localhost:8080/"
        }
      },
      "execution_count": 131,
      "outputs": [
        {
          "output_type": "execute_result",
          "data": {
            "text/plain": [
              "['jose', 'JOSE', 'juan', 'JUAN', 'lucia', 'LUCIA']"
            ]
          },
          "metadata": {},
          "execution_count": 131
        }
      ]
    },
    {
      "cell_type": "markdown",
      "source": [
        "# FILTER"
      ],
      "metadata": {
        "id": "1lomIrhq9yuw"
      }
    },
    {
      "cell_type": "code",
      "source": [
        " rdd_par_1 = rdd.filter(lambda x: x%2 == 0)\n",
        " rdd_par_1.collect()"
      ],
      "metadata": {
        "id": "4rV_eUyS9hpg",
        "outputId": "83c02701-c9f2-49cc-c92c-e96f5c710967",
        "colab": {
          "base_uri": "https://localhost:8080/"
        }
      },
      "execution_count": 135,
      "outputs": [
        {
          "output_type": "execute_result",
          "data": {
            "text/plain": [
              "[2, 4, 6, 8, 10]"
            ]
          },
          "metadata": {},
          "execution_count": 135
        }
      ]
    },
    {
      "cell_type": "code",
      "source": [
        "rdd_imppar_1 = rdd.filter(lambda x: x%2!=0)\n",
        "rdd_imppar_1.collect()"
      ],
      "metadata": {
        "id": "lfRG8pa1-J5e",
        "outputId": "24ba90ab-7022-4d6a-a206-ac9ab19c407a",
        "colab": {
          "base_uri": "https://localhost:8080/"
        }
      },
      "execution_count": 138,
      "outputs": [
        {
          "output_type": "execute_result",
          "data": {
            "text/plain": [
              "[1, 3, 5, 7, 9]"
            ]
          },
          "metadata": {},
          "execution_count": 138
        }
      ]
    },
    {
      "cell_type": "code",
      "source": [
        "rdd_text_2 = rdd_text.filter(lambda x: x.startswith('l'))\n",
        "rdd_text_2.collect()"
      ],
      "metadata": {
        "id": "uIZg9SYG-ZUh",
        "outputId": "94a35ee7-a8b7-4da9-d22a-f81985b6e0ac",
        "colab": {
          "base_uri": "https://localhost:8080/"
        }
      },
      "execution_count": 140,
      "outputs": [
        {
          "output_type": "execute_result",
          "data": {
            "text/plain": [
              "['lucia']"
            ]
          },
          "metadata": {},
          "execution_count": 140
        }
      ]
    },
    {
      "cell_type": "markdown",
      "source": [
        "# COALESCE"
      ],
      "metadata": {
        "id": "xmk8rZs3inbo"
      }
    },
    {
      "cell_type": "code",
      "source": [
        "rdd.getNumPartitions()"
      ],
      "metadata": {
        "id": "EbWfVJSVjPxP",
        "outputId": "9ecc2ebf-808d-4598-9f22-006349e6622b",
        "colab": {
          "base_uri": "https://localhost:8080/"
        }
      },
      "execution_count": 22,
      "outputs": [
        {
          "output_type": "execute_result",
          "data": {
            "text/plain": [
              "10"
            ]
          },
          "metadata": {},
          "execution_count": 22
        }
      ]
    },
    {
      "cell_type": "code",
      "source": [
        "rdd.coalesce(5).getNumPartitions()"
      ],
      "metadata": {
        "id": "FzixfOMWkQdz",
        "outputId": "49ac6472-31dd-4acf-8868-3226270dd640",
        "colab": {
          "base_uri": "https://localhost:8080/"
        }
      },
      "execution_count": 21,
      "outputs": [
        {
          "output_type": "execute_result",
          "data": {
            "text/plain": [
              "5"
            ]
          },
          "metadata": {},
          "execution_count": 21
        }
      ]
    },
    {
      "cell_type": "markdown",
      "source": [
        "# REPARTITION"
      ],
      "metadata": {
        "id": "qUg3VEvPqWfx"
      }
    },
    {
      "cell_type": "code",
      "source": [
        "rdd.repartition(10).getNumPartitions()"
      ],
      "metadata": {
        "id": "1CxTJLqzm_W9",
        "outputId": "91df6dca-87a1-40a4-cdc9-d945353a1085",
        "colab": {
          "base_uri": "https://localhost:8080/"
        }
      },
      "execution_count": 70,
      "outputs": [
        {
          "output_type": "execute_result",
          "data": {
            "text/plain": [
              "10"
            ]
          },
          "metadata": {},
          "execution_count": 70
        }
      ]
    },
    {
      "cell_type": "markdown",
      "source": [
        "# REDUCE BY KEY"
      ],
      "metadata": {
        "id": "R6T4KOv4qzrZ"
      }
    },
    {
      "cell_type": "code",
      "source": [
        "rdd2 = sc.parallelize(\n",
        "    [('casa', 2),\n",
        "     ('parque', 1),\n",
        "     ('que', 5),\n",
        "     ('casa', 1),\n",
        "     ('escuela', 2),\n",
        "     ('casa', 1),\n",
        "     ('que', 1)]\n",
        ")"
      ],
      "metadata": {
        "id": "BwJUiDLNqhrk"
      },
      "execution_count": 24,
      "outputs": []
    },
    {
      "cell_type": "code",
      "source": [
        "rdd2.reduceByKey(lambda x,y: x+y).collect()"
      ],
      "metadata": {
        "id": "86JnS5AprwuL",
        "outputId": "e12fdaab-8dcc-430a-e006-5f197c655989",
        "colab": {
          "base_uri": "https://localhost:8080/"
        }
      },
      "execution_count": 26,
      "outputs": [
        {
          "output_type": "execute_result",
          "data": {
            "text/plain": [
              "[('parque', 1), ('que', 6), ('casa', 4), ('escuela', 2)]"
            ]
          },
          "metadata": {},
          "execution_count": 26
        }
      ]
    },
    {
      "cell_type": "markdown",
      "source": [
        "# EJERCICIO 2"
      ],
      "metadata": {
        "id": "4mCcuGIUspGc"
      }
    },
    {
      "cell_type": "code",
      "source": [
        "rdd_lenguajes = sc.parallelize(['Python', 'R', 'C', 'Scala', 'Rugby', 'SQL'],10)\n",
        "rdd_lenguajes.collect()"
      ],
      "metadata": {
        "id": "EVdsdVK2sW-m",
        "outputId": "92fb4e32-2d07-4986-bd78-5e6191bbb8db",
        "colab": {
          "base_uri": "https://localhost:8080/"
        }
      },
      "execution_count": 74,
      "outputs": [
        {
          "output_type": "execute_result",
          "data": {
            "text/plain": [
              "['Python', 'R', 'C', 'Scala', 'Rugby', 'SQL']"
            ]
          },
          "metadata": {},
          "execution_count": 74
        }
      ]
    },
    {
      "cell_type": "code",
      "source": [
        "rdd_lenguajes.map(lambda x: x.upper()).collect()"
      ],
      "metadata": {
        "id": "VCTf8hcts1OU",
        "outputId": "661a1406-3782-46b9-941d-e9b5a5b662a9",
        "colab": {
          "base_uri": "https://localhost:8080/"
        }
      },
      "execution_count": 75,
      "outputs": [
        {
          "output_type": "execute_result",
          "data": {
            "text/plain": [
              "['PYTHON', 'R', 'C', 'SCALA', 'RUGBY', 'SQL']"
            ]
          },
          "metadata": {},
          "execution_count": 75
        }
      ]
    },
    {
      "cell_type": "code",
      "source": [
        "rdd_lenguajes.map(lambda x: x.lower()).collect()"
      ],
      "metadata": {
        "id": "orKHuqsMtDIT",
        "outputId": "9aa21fd9-35e3-4d02-9bad-6598152f974b",
        "colab": {
          "base_uri": "https://localhost:8080/"
        }
      },
      "execution_count": 76,
      "outputs": [
        {
          "output_type": "execute_result",
          "data": {
            "text/plain": [
              "['python', 'r', 'c', 'scala', 'rugby', 'sql']"
            ]
          },
          "metadata": {},
          "execution_count": 76
        }
      ]
    },
    {
      "cell_type": "code",
      "source": [
        "rdd_lenguajes.filter(lambda x: x.startswith('R')).collect()"
      ],
      "metadata": {
        "id": "ll8OSSxBtrnE",
        "outputId": "f1e3b072-f32b-42ac-af16-cd2d1de06824",
        "colab": {
          "base_uri": "https://localhost:8080/"
        }
      },
      "execution_count": 77,
      "outputs": [
        {
          "output_type": "execute_result",
          "data": {
            "text/plain": [
              "['R', 'Rugby']"
            ]
          },
          "metadata": {},
          "execution_count": 77
        }
      ]
    },
    {
      "cell_type": "code",
      "source": [
        "rdd_pares2030 = sc.parallelize([x for x in range(19,31) if x%2 == 0])\n",
        "rdd_pares2030.collect()"
      ],
      "metadata": {
        "id": "EST4Ou8xt4cn",
        "outputId": "f397c4ec-c1bc-4dc8-d75e-66e3150ae866",
        "colab": {
          "base_uri": "https://localhost:8080/"
        }
      },
      "execution_count": 78,
      "outputs": [
        {
          "output_type": "execute_result",
          "data": {
            "text/plain": [
              "[20, 22, 24, 26, 28, 30]"
            ]
          },
          "metadata": {},
          "execution_count": 78
        }
      ]
    },
    {
      "cell_type": "code",
      "source": [
        "sqrt = rdd_pares2030.map(lambda x: x**0.5)\n",
        "sqrt.collect()"
      ],
      "metadata": {
        "id": "n4gnDyp0uRg9",
        "outputId": "d460328f-4cb7-45b1-baad-00c47524be8c",
        "colab": {
          "base_uri": "https://localhost:8080/"
        }
      },
      "execution_count": 110,
      "outputs": [
        {
          "output_type": "execute_result",
          "data": {
            "text/plain": [
              "[4.47213595499958,\n",
              " 4.69041575982343,\n",
              " 4.898979485566356,\n",
              " 5.0990195135927845,\n",
              " 5.291502622129181,\n",
              " 5.477225575051661]"
            ]
          },
          "metadata": {},
          "execution_count": 110
        }
      ]
    },
    {
      "cell_type": "code",
      "source": [
        "rdd_otro = sc.parallelize([x for x in range(49,61) if x%2==0]).flatMap(lambda x: (x, x**0.5))\n",
        "rdd_otro.collect()"
      ],
      "metadata": {
        "id": "f-HiN-mNu1Q-",
        "outputId": "5fbafa53-4e09-413e-d2f9-d357bf9ee7f8",
        "colab": {
          "base_uri": "https://localhost:8080/"
        }
      },
      "execution_count": 80,
      "outputs": [
        {
          "output_type": "execute_result",
          "data": {
            "text/plain": [
              "[50,\n",
              " 7.0710678118654755,\n",
              " 52,\n",
              " 7.211102550927978,\n",
              " 54,\n",
              " 7.3484692283495345,\n",
              " 56,\n",
              " 7.483314773547883,\n",
              " 58,\n",
              " 7.615773105863909,\n",
              " 60,\n",
              " 7.745966692414834]"
            ]
          },
          "metadata": {},
          "execution_count": 80
        }
      ]
    },
    {
      "cell_type": "code",
      "source": [
        "sqrt.getNumPartitions()"
      ],
      "metadata": {
        "id": "l0gbbwttv543",
        "outputId": "9c128f22-b051-407c-8622-02552bd2d97a",
        "colab": {
          "base_uri": "https://localhost:8080/"
        }
      },
      "execution_count": 81,
      "outputs": [
        {
          "output_type": "execute_result",
          "data": {
            "text/plain": [
              "2"
            ]
          },
          "metadata": {},
          "execution_count": 81
        }
      ]
    },
    {
      "cell_type": "code",
      "source": [
        "sqrt.coalesce(21).getNumPartitions()"
      ],
      "metadata": {
        "id": "7_A14PlUwrnb",
        "outputId": "3b8c5ce1-8d7a-492d-e543-d68755d4e36f",
        "colab": {
          "base_uri": "https://localhost:8080/"
        }
      },
      "execution_count": 88,
      "outputs": [
        {
          "output_type": "execute_result",
          "data": {
            "text/plain": [
              "2"
            ]
          },
          "metadata": {},
          "execution_count": 88
        }
      ]
    },
    {
      "cell_type": "code",
      "source": [
        "sqrt.getNumPartitions()"
      ],
      "metadata": {
        "id": "F7nL89dR3ZTd",
        "outputId": "1a14f503-97bc-4de4-d699-6e2077378ce0",
        "colab": {
          "base_uri": "https://localhost:8080/"
        }
      },
      "execution_count": 101,
      "outputs": [
        {
          "output_type": "execute_result",
          "data": {
            "text/plain": [
              "2"
            ]
          },
          "metadata": {},
          "execution_count": 101
        }
      ]
    },
    {
      "cell_type": "code",
      "source": [
        "sqr_part20 = sqrt.repartition(20)\n",
        "sqr_part20.getNumPartitions()"
      ],
      "metadata": {
        "id": "NtbFnkTv3jom",
        "outputId": "63129ec4-7cfc-454c-980f-411673f07f6e",
        "colab": {
          "base_uri": "https://localhost:8080/"
        }
      },
      "execution_count": 105,
      "outputs": [
        {
          "output_type": "execute_result",
          "data": {
            "text/plain": [
              "20"
            ]
          },
          "metadata": {},
          "execution_count": 105
        }
      ]
    },
    {
      "cell_type": "code",
      "source": [
        "sqrt_coalesce = sqr_part20.coalesce(15)\n",
        "sqrt_coalesce.getNumPartitions()"
      ],
      "metadata": {
        "id": "rDarAw143664",
        "outputId": "fd6a79b3-566b-4d39-e4f5-60db7f8f9720",
        "colab": {
          "base_uri": "https://localhost:8080/"
        }
      },
      "execution_count": 106,
      "outputs": [
        {
          "output_type": "execute_result",
          "data": {
            "text/plain": [
              "15"
            ]
          },
          "metadata": {},
          "execution_count": 106
        }
      ]
    },
    {
      "cell_type": "code",
      "source": [
        "rdd_datos = sc.parallelize([\n",
        "    (1001, 52.3),\n",
        "    (1005, 20.8),\n",
        "    (1001, 10.1),\n",
        "    (1004, 52.7),\n",
        "    (1005, 20.7),\n",
        "    (1002, 85.3),\n",
        "    (1004, 20.9)\n",
        "])\n",
        "\n",
        "rdd_datos.collect()"
      ],
      "metadata": {
        "id": "hsMXIb0Z4Uvo",
        "outputId": "14e8e5ae-c41f-4a63-b8d2-4171a6e2e14d",
        "colab": {
          "base_uri": "https://localhost:8080/"
        }
      },
      "execution_count": 108,
      "outputs": [
        {
          "output_type": "execute_result",
          "data": {
            "text/plain": [
              "[(1001, 52.3),\n",
              " (1005, 20.8),\n",
              " (1001, 10.1),\n",
              " (1004, 52.7),\n",
              " (1005, 20.7),\n",
              " (1002, 85.3),\n",
              " (1004, 20.9)]"
            ]
          },
          "metadata": {},
          "execution_count": 108
        }
      ]
    },
    {
      "cell_type": "code",
      "source": [
        "rdd_datos.reduceByKey(lambda x,y: x+y).collect()"
      ],
      "metadata": {
        "id": "2R59pu_R6BTi",
        "outputId": "70080402-ae6f-448d-f078-0510a5047530",
        "colab": {
          "base_uri": "https://localhost:8080/"
        }
      },
      "execution_count": 109,
      "outputs": [
        {
          "output_type": "execute_result",
          "data": {
            "text/plain": [
              "[(1004, 73.6), (1002, 85.3), (1001, 62.4), (1005, 41.5)]"
            ]
          },
          "metadata": {},
          "execution_count": 109
        }
      ]
    },
    {
      "cell_type": "markdown",
      "source": [
        "# FUNCION REDUCE"
      ],
      "metadata": {
        "id": "c32v-JczHPf5"
      }
    },
    {
      "cell_type": "code",
      "source": [
        "rdd3 = sc.parallelize([2,4,6,8])\n",
        "rdd3.collect()"
      ],
      "metadata": {
        "id": "DDh9JK6w6du6",
        "outputId": "01d9e4ee-78cc-4e84-f9ee-9832a84cd13a",
        "colab": {
          "base_uri": "https://localhost:8080/"
        }
      },
      "execution_count": 112,
      "outputs": [
        {
          "output_type": "execute_result",
          "data": {
            "text/plain": [
              "[2, 4, 6, 8]"
            ]
          },
          "metadata": {},
          "execution_count": 112
        }
      ]
    },
    {
      "cell_type": "code",
      "source": [
        "rdd3.reduce(lambda x,y: x + y)"
      ],
      "metadata": {
        "id": "S6gVz5boIzAr",
        "outputId": "3e175558-ccc7-4c84-b517-d4b3f5bc70c1",
        "colab": {
          "base_uri": "https://localhost:8080/"
        }
      },
      "execution_count": 113,
      "outputs": [
        {
          "output_type": "execute_result",
          "data": {
            "text/plain": [
              "20"
            ]
          },
          "metadata": {},
          "execution_count": 113
        }
      ]
    },
    {
      "cell_type": "code",
      "source": [
        "rdd3_1 = sc.parallelize([1,2,3,4])"
      ],
      "metadata": {
        "id": "uerwovyVK58F"
      },
      "execution_count": 114,
      "outputs": []
    },
    {
      "cell_type": "code",
      "source": [
        "rdd3_1.reduce(lambda x,y: x * y)"
      ],
      "metadata": {
        "id": "t41iqVn9LCUM",
        "outputId": "3586a282-cfe0-481f-fd5e-37971a4dcdc0",
        "colab": {
          "base_uri": "https://localhost:8080/"
        }
      },
      "execution_count": 115,
      "outputs": [
        {
          "output_type": "execute_result",
          "data": {
            "text/plain": [
              "24"
            ]
          },
          "metadata": {},
          "execution_count": 115
        }
      ]
    },
    {
      "cell_type": "markdown",
      "source": [
        "# COUNT"
      ],
      "metadata": {
        "id": "L19Dsj9uLtoV"
      }
    },
    {
      "cell_type": "code",
      "source": [
        "rdd.collect()"
      ],
      "metadata": {
        "id": "TmK9ZHGeLJG2",
        "outputId": "d2922dc5-1777-4caa-ff27-638b908fe0cc",
        "colab": {
          "base_uri": "https://localhost:8080/"
        }
      },
      "execution_count": 118,
      "outputs": [
        {
          "output_type": "execute_result",
          "data": {
            "text/plain": [
              "[1, 2, 3, 4, 5]"
            ]
          },
          "metadata": {},
          "execution_count": 118
        }
      ]
    },
    {
      "cell_type": "code",
      "source": [
        "rdd.count()"
      ],
      "metadata": {
        "id": "2DXTPAu-L0Es",
        "outputId": "7405006a-2d48-4f91-d445-9ec371ad730f",
        "colab": {
          "base_uri": "https://localhost:8080/"
        }
      },
      "execution_count": 119,
      "outputs": [
        {
          "output_type": "execute_result",
          "data": {
            "text/plain": [
              "5"
            ]
          },
          "metadata": {},
          "execution_count": 119
        }
      ]
    },
    {
      "cell_type": "code",
      "source": [
        "rdd_list = sc.parallelize([x for x in range(1,11)])\n",
        "rdd_list.collect()"
      ],
      "metadata": {
        "id": "ka_ubo1QL653",
        "outputId": "137e4b85-442b-4fad-ed37-50c1398ed0a8",
        "colab": {
          "base_uri": "https://localhost:8080/"
        }
      },
      "execution_count": 125,
      "outputs": [
        {
          "output_type": "execute_result",
          "data": {
            "text/plain": [
              "[1, 2, 3, 4, 5, 6, 7, 8, 9, 10]"
            ]
          },
          "metadata": {},
          "execution_count": 125
        }
      ]
    },
    {
      "cell_type": "code",
      "source": [
        "rdd_list.count()"
      ],
      "metadata": {
        "id": "_xYn04HTMLZ1",
        "outputId": "89df56e6-2be9-4298-c49a-eb4894a954d6",
        "colab": {
          "base_uri": "https://localhost:8080/"
        }
      },
      "execution_count": 123,
      "outputs": [
        {
          "output_type": "execute_result",
          "data": {
            "text/plain": [
              "10"
            ]
          },
          "metadata": {},
          "execution_count": 123
        }
      ]
    },
    {
      "cell_type": "markdown",
      "source": [
        "# FUNCIONES take, max Y saveAsTextFile"
      ],
      "metadata": {
        "id": "k6dB6U0yMV--"
      }
    },
    {
      "cell_type": "code",
      "source": [
        "rdd_lenguajes.collect()"
      ],
      "metadata": {
        "id": "I-2lHWEiMRbl",
        "outputId": "be1a6d01-5dac-4786-ee47-08d9abdcd153",
        "colab": {
          "base_uri": "https://localhost:8080/"
        }
      },
      "execution_count": 128,
      "outputs": [
        {
          "output_type": "execute_result",
          "data": {
            "text/plain": [
              "['Python', 'R', 'C', 'Scala', 'Rugby', 'SQL']"
            ]
          },
          "metadata": {},
          "execution_count": 128
        }
      ]
    },
    {
      "cell_type": "code",
      "source": [
        "rdd_lenguajes.take(3)"
      ],
      "metadata": {
        "id": "00w8njIeMa_l",
        "outputId": "e9e9d663-d864-4bb0-b9e0-2c82bb6422c2",
        "colab": {
          "base_uri": "https://localhost:8080/"
        }
      },
      "execution_count": 129,
      "outputs": [
        {
          "output_type": "execute_result",
          "data": {
            "text/plain": [
              "['Python', 'R', 'C']"
            ]
          },
          "metadata": {},
          "execution_count": 129
        }
      ]
    },
    {
      "cell_type": "code",
      "source": [
        "rdd.max()"
      ],
      "metadata": {
        "id": "U9JAU8UGNUSt",
        "outputId": "c2ffd9fa-f016-4b9e-c3ea-4654646a5bf4",
        "colab": {
          "base_uri": "https://localhost:8080/"
        }
      },
      "execution_count": 131,
      "outputs": [
        {
          "output_type": "execute_result",
          "data": {
            "text/plain": [
              "5"
            ]
          },
          "metadata": {},
          "execution_count": 131
        }
      ]
    },
    {
      "cell_type": "code",
      "source": [
        "rdd.min()"
      ],
      "metadata": {
        "id": "MoLpjKzONf3g",
        "outputId": "c2091dbf-bcbe-4a6f-e644-b6d6263dcf15",
        "colab": {
          "base_uri": "https://localhost:8080/"
        }
      },
      "execution_count": 132,
      "outputs": [
        {
          "output_type": "execute_result",
          "data": {
            "text/plain": [
              "1"
            ]
          },
          "metadata": {},
          "execution_count": 132
        }
      ]
    },
    {
      "cell_type": "code",
      "source": [
        "rdd.collect()"
      ],
      "metadata": {
        "id": "iKNGjOCKNzbF",
        "outputId": "46e2aca9-414a-49ed-8701-c10acfabe5ff",
        "colab": {
          "base_uri": "https://localhost:8080/"
        }
      },
      "execution_count": 133,
      "outputs": [
        {
          "output_type": "execute_result",
          "data": {
            "text/plain": [
              "[1, 2, 3, 4, 5]"
            ]
          },
          "metadata": {},
          "execution_count": 133
        }
      ]
    },
    {
      "cell_type": "code",
      "source": [
        "rdd_lenguajes.saveAsTextFile('./rdd')"
      ],
      "metadata": {
        "id": "Uh8UidBuN7xH"
      },
      "execution_count": 134,
      "outputs": []
    },
    {
      "cell_type": "code",
      "source": [
        "rdd.coalesce(1).saveAsTextFile('./rdd1')"
      ],
      "metadata": {
        "id": "_3zJ4UylOFBX"
      },
      "execution_count": 136,
      "outputs": []
    },
    {
      "cell_type": "markdown",
      "source": [
        "# EJERCICIO 3"
      ],
      "metadata": {
        "id": "JVi8EPj0OuGv"
      }
    },
    {
      "cell_type": "code",
      "source": [
        "rdd_ej3 = sc.textFile('/content/num.txt')\n",
        "rdd_ej3.collect()"
      ],
      "metadata": {
        "id": "M9jQD32pOVV1",
        "outputId": "d9670304-24e7-486f-ad46-38134a570d29",
        "colab": {
          "base_uri": "https://localhost:8080/"
        }
      },
      "execution_count": 196,
      "outputs": [
        {
          "output_type": "execute_result",
          "data": {
            "text/plain": [
              "['70',\n",
              " '69',\n",
              " '16',\n",
              " '80',\n",
              " '85',\n",
              " '81',\n",
              " '93',\n",
              " '5',\n",
              " '78',\n",
              " '21',\n",
              " '13',\n",
              " '77',\n",
              " '93',\n",
              " '31',\n",
              " '16',\n",
              " '84',\n",
              " '64',\n",
              " '29',\n",
              " '45',\n",
              " '24',\n",
              " '64',\n",
              " '31',\n",
              " '2',\n",
              " '55',\n",
              " '51',\n",
              " '92',\n",
              " '72',\n",
              " '84',\n",
              " '22',\n",
              " '50',\n",
              " '17',\n",
              " '5',\n",
              " '96',\n",
              " '63',\n",
              " '67',\n",
              " '82',\n",
              " '52',\n",
              " '38',\n",
              " '86',\n",
              " '23',\n",
              " '90',\n",
              " '96',\n",
              " '53',\n",
              " '95',\n",
              " '10',\n",
              " '28',\n",
              " '75',\n",
              " '72',\n",
              " '67',\n",
              " '82',\n",
              " '40',\n",
              " '60',\n",
              " '34',\n",
              " '26',\n",
              " '47',\n",
              " '55',\n",
              " '10',\n",
              " '46',\n",
              " '86',\n",
              " '46',\n",
              " '64',\n",
              " '37',\n",
              " '31',\n",
              " '43',\n",
              " '74',\n",
              " '44',\n",
              " '87',\n",
              " '7',\n",
              " '54',\n",
              " '95',\n",
              " '43',\n",
              " '79',\n",
              " '79',\n",
              " '53',\n",
              " '62',\n",
              " '13',\n",
              " '37',\n",
              " '45',\n",
              " '40',\n",
              " '81',\n",
              " '50',\n",
              " '41',\n",
              " '30',\n",
              " '81',\n",
              " '27',\n",
              " '27',\n",
              " '49',\n",
              " '97',\n",
              " '73',\n",
              " '99',\n",
              " '77',\n",
              " '64',\n",
              " '47',\n",
              " '68',\n",
              " '8',\n",
              " '79',\n",
              " '13',\n",
              " '49',\n",
              " '75',\n",
              " '2',\n",
              " '23',\n",
              " '94',\n",
              " '21',\n",
              " '2',\n",
              " '10',\n",
              " '9',\n",
              " '19',\n",
              " '75',\n",
              " '7',\n",
              " '27',\n",
              " '55',\n",
              " '38',\n",
              " '10',\n",
              " '39',\n",
              " '73',\n",
              " '21',\n",
              " '81',\n",
              " '1',\n",
              " '61',\n",
              " '62',\n",
              " '5',\n",
              " '91',\n",
              " '68',\n",
              " '35',\n",
              " '81',\n",
              " '91',\n",
              " '34',\n",
              " '24',\n",
              " '63',\n",
              " '61',\n",
              " '32',\n",
              " '11',\n",
              " '74',\n",
              " '43',\n",
              " '98',\n",
              " '18',\n",
              " '25',\n",
              " '33',\n",
              " '31',\n",
              " '32',\n",
              " '42',\n",
              " '97',\n",
              " '11',\n",
              " '28',\n",
              " '14',\n",
              " '49',\n",
              " '34',\n",
              " '78',\n",
              " '50',\n",
              " '76',\n",
              " '25',\n",
              " '79',\n",
              " '61',\n",
              " '15',\n",
              " '57',\n",
              " '60',\n",
              " '61',\n",
              " '52',\n",
              " '94',\n",
              " '32',\n",
              " '30',\n",
              " '71',\n",
              " '16',\n",
              " '32',\n",
              " '26',\n",
              " '30',\n",
              " '42',\n",
              " '36',\n",
              " '45',\n",
              " '1',\n",
              " '91',\n",
              " '47',\n",
              " '19',\n",
              " '43',\n",
              " '71',\n",
              " '41',\n",
              " '95',\n",
              " '12',\n",
              " '64',\n",
              " '95',\n",
              " '51',\n",
              " '39',\n",
              " '55',\n",
              " '99',\n",
              " '12',\n",
              " '98',\n",
              " '97',\n",
              " '37',\n",
              " '25',\n",
              " '45',\n",
              " '36',\n",
              " '13',\n",
              " '63',\n",
              " '81',\n",
              " '16',\n",
              " '56',\n",
              " '33',\n",
              " '61',\n",
              " '31',\n",
              " '39',\n",
              " '84',\n",
              " '30',\n",
              " '97',\n",
              " '37',\n",
              " '29',\n",
              " '94',\n",
              " '76',\n",
              " '39',\n",
              " '62',\n",
              " '12',\n",
              " '97',\n",
              " '90',\n",
              " '50',\n",
              " '85',\n",
              " '25',\n",
              " '28',\n",
              " '35',\n",
              " '63',\n",
              " '25',\n",
              " '56',\n",
              " '43',\n",
              " '18',\n",
              " '57',\n",
              " '20',\n",
              " '62',\n",
              " '51',\n",
              " '63',\n",
              " '27',\n",
              " '82',\n",
              " '71',\n",
              " '24',\n",
              " '7',\n",
              " '70']"
            ]
          },
          "metadata": {},
          "execution_count": 196
        }
      ]
    },
    {
      "cell_type": "code",
      "source": [
        "## ¿Cuántos registros tiene el RDD importes?\n",
        "\n",
        "rdd_ej3.count()"
      ],
      "metadata": {
        "id": "Oue_hZz9RJR4",
        "outputId": "760b8e2e-4de9-444d-9887-410f6567e600",
        "colab": {
          "base_uri": "https://localhost:8080/"
        }
      },
      "execution_count": 198,
      "outputs": [
        {
          "output_type": "execute_result",
          "data": {
            "text/plain": [
              "233"
            ]
          },
          "metadata": {},
          "execution_count": 198
        }
      ]
    },
    {
      "cell_type": "code",
      "source": [
        "## ¿Cuál es el valor mínimo y máximo del RDD importes?\n",
        "\n",
        "rdd_ej3.min()"
      ],
      "metadata": {
        "id": "XnuCgtw_SWgx",
        "outputId": "f94cacdd-f296-49ae-c041-f3c121aba5e5",
        "colab": {
          "base_uri": "https://localhost:8080/",
          "height": 36
        }
      },
      "execution_count": 199,
      "outputs": [
        {
          "output_type": "execute_result",
          "data": {
            "text/plain": [
              "'1'"
            ],
            "application/vnd.google.colaboratory.intrinsic+json": {
              "type": "string"
            }
          },
          "metadata": {},
          "execution_count": 199
        }
      ]
    },
    {
      "cell_type": "code",
      "source": [
        "rdd_ej3.max()"
      ],
      "metadata": {
        "id": "mwHSCUwZTV_Z",
        "outputId": "02b94ea0-9bb3-45d1-efc6-cad01615edac",
        "colab": {
          "base_uri": "https://localhost:8080/",
          "height": 36
        }
      },
      "execution_count": 200,
      "outputs": [
        {
          "output_type": "execute_result",
          "data": {
            "text/plain": [
              "'99'"
            ],
            "application/vnd.google.colaboratory.intrinsic+json": {
              "type": "string"
            }
          },
          "metadata": {},
          "execution_count": 200
        }
      ]
    },
    {
      "cell_type": "code",
      "source": [
        "## Cree un RDD top15 que contenga los 15 mayores valores del RDD importes. Tenga en cuenta que pueden repetirse los valores.\n",
        "## Por último, escriba el RDD top15 como archivo de texto en la carpeta data/salida.\n",
        "\n",
        "r = rdd_ej3.top(15)\n",
        "rsave = sc.parallelize(r,1)\n",
        "rsave.saveAsTextFile('./data2/salida')"
      ],
      "metadata": {
        "id": "B8iRnDJtTX0x"
      },
      "execution_count": 205,
      "outputs": []
    },
    {
      "cell_type": "code",
      "source": [
        "cd\n",
        "pwd\n",
        "/root/content\n",
        "ls\n",
        "\n",
        "#$ rm fruit1\n",
        "#rm: remove regular file 'fruit1'?  y"
      ],
      "metadata": {
        "id": "6SXw7gYnqnci",
        "outputId": "1dba08a4-f966-42d6-c667-d053c792a08c",
        "colab": {
          "base_uri": "https://localhost:8080/"
        }
      },
      "execution_count": 203,
      "outputs": [
        {
          "output_type": "execute_result",
          "data": {
            "text/plain": [
              "['99',\n",
              " '99',\n",
              " '98',\n",
              " '98',\n",
              " '97',\n",
              " '97',\n",
              " '97',\n",
              " '97',\n",
              " '97',\n",
              " '96',\n",
              " '96',\n",
              " '95',\n",
              " '95',\n",
              " '95',\n",
              " '95']"
            ]
          },
          "metadata": {},
          "execution_count": 203
        }
      ]
    },
    {
      "cell_type": "code",
      "source": [
        "def factorial(deira):\n",
        "  res = 1\n",
        "  for i in range(1,deira+1):\n",
        "    res *= i\n",
        "  return res"
      ],
      "metadata": {
        "id": "0sRp8SgmTwPI"
      },
      "execution_count": 185,
      "outputs": []
    },
    {
      "cell_type": "code",
      "source": [
        "rdd_factorial = rdd.map(lambda x: (x, factorial(x)))\n",
        "rdd_factorial.collect()"
      ],
      "metadata": {
        "id": "jPB0nQyQVawx",
        "outputId": "f89e366a-0d62-4f50-995e-41f18e855e6d",
        "colab": {
          "base_uri": "https://localhost:8080/"
        }
      },
      "execution_count": 190,
      "outputs": [
        {
          "output_type": "execute_result",
          "data": {
            "text/plain": [
              "[(1, 1), (2, 2), (3, 6), (4, 24), (5, 120)]"
            ]
          },
          "metadata": {},
          "execution_count": 190
        }
      ]
    },
    {
      "cell_type": "code",
      "source": [],
      "metadata": {
        "id": "H2X5wHkqVc_q"
      },
      "execution_count": null,
      "outputs": []
    }
  ],
  "metadata": {
    "kernelspec": {
      "display_name": "Python 3 (ipykernel)",
      "language": "python",
      "name": "python3"
    },
    "language_info": {
      "codemirror_mode": {
        "name": "ipython",
        "version": 3
      },
      "file_extension": ".py",
      "mimetype": "text/x-python",
      "name": "python",
      "nbconvert_exporter": "python",
      "pygments_lexer": "ipython3",
      "version": "3.8.12"
    },
    "colab": {
      "provenance": []
    }
  },
  "nbformat": 4,
  "nbformat_minor": 0
}