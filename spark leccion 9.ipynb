{
  "cells": [
    {
      "cell_type": "markdown",
      "source": [
        "# Inicio"
      ],
      "metadata": {
        "id": "SepfUcyBsNVM"
      }
    },
    {
      "cell_type": "code",
      "source": [
        "!pip install findspark\n",
        "!pip install pyspark\n",
        "!pip install spark"
      ],
      "metadata": {
        "id": "PLluq_jTsLLm",
        "outputId": "84ab5516-3b2a-486e-a8d7-498565aa7663",
        "colab": {
          "base_uri": "https://localhost:8080/"
        }
      },
      "execution_count": 2,
      "outputs": [
        {
          "output_type": "stream",
          "name": "stdout",
          "text": [
            "Collecting findspark\n",
            "  Downloading findspark-2.0.1-py2.py3-none-any.whl (4.4 kB)\n",
            "Installing collected packages: findspark\n",
            "Successfully installed findspark-2.0.1\n",
            "Collecting pyspark\n",
            "  Downloading pyspark-3.4.1.tar.gz (310.8 MB)\n",
            "\u001b[2K     \u001b[90m━━━━━━━━━━━━━━━━━━━━━━━━━━━━━━━━━━━━━━━\u001b[0m \u001b[32m310.8/310.8 MB\u001b[0m \u001b[31m2.9 MB/s\u001b[0m eta \u001b[36m0:00:00\u001b[0m\n",
            "\u001b[?25h  Preparing metadata (setup.py) ... \u001b[?25l\u001b[?25hdone\n",
            "Requirement already satisfied: py4j==0.10.9.7 in /usr/local/lib/python3.10/dist-packages (from pyspark) (0.10.9.7)\n",
            "Building wheels for collected packages: pyspark\n",
            "  Building wheel for pyspark (setup.py) ... \u001b[?25l\u001b[?25hdone\n",
            "  Created wheel for pyspark: filename=pyspark-3.4.1-py2.py3-none-any.whl size=311285387 sha256=801a4f430ad75d5ced9a36acbfd6873ddd80c558b9d94d136cd0d27618df7542\n",
            "  Stored in directory: /root/.cache/pip/wheels/0d/77/a3/ff2f74cc9ab41f8f594dabf0579c2a7c6de920d584206e0834\n",
            "Successfully built pyspark\n",
            "Installing collected packages: pyspark\n",
            "Successfully installed pyspark-3.4.1\n",
            "Collecting spark\n",
            "  Downloading spark-0.2.1.tar.gz (41 kB)\n",
            "\u001b[2K     \u001b[90m━━━━━━━━━━━━━━━━━━━━━━━━━━━━━━━━━━━━━━━━\u001b[0m \u001b[32m41.0/41.0 kB\u001b[0m \u001b[31m1.2 MB/s\u001b[0m eta \u001b[36m0:00:00\u001b[0m\n",
            "\u001b[?25h  Preparing metadata (setup.py) ... \u001b[?25l\u001b[?25hdone\n",
            "Building wheels for collected packages: spark\n",
            "  Building wheel for spark (setup.py) ... \u001b[?25l\u001b[?25hdone\n",
            "  Created wheel for spark: filename=spark-0.2.1-py3-none-any.whl size=58748 sha256=008155d4564c099c8d1844e4c163999f66b4abffe2b92f144823141ee70758df\n",
            "  Stored in directory: /root/.cache/pip/wheels/63/88/77/b4131110ea4094540f7b47c6d62a649807d7e94800da5eab0b\n",
            "Successfully built spark\n",
            "Installing collected packages: spark\n",
            "Successfully installed spark-0.2.1\n"
          ]
        }
      ]
    },
    {
      "cell_type": "code",
      "source": [
        "import pyspark\n",
        "import findspark\n",
        "import spark\n",
        "\n",
        "findspark.init()\n",
        "\n",
        "from pyspark.sql import *\n",
        "from pyspark.sql.types import *\n",
        "from pyspark.sql.functions import *\n",
        "\n",
        "spark = SparkSession.builder.getOrCreate()\n",
        "\n",
        "sc = spark.sparkContext"
      ],
      "metadata": {
        "id": "Cc8bMLK2uT4k"
      },
      "execution_count": 64,
      "outputs": []
    },
    {
      "cell_type": "markdown",
      "source": [
        "# Manejo de Fechas"
      ],
      "metadata": {
        "id": "Sgbl8C2bkgJP"
      }
    },
    {
      "cell_type": "code",
      "source": [
        "data = spark.read.option('inferSchema','true').parquet('/content/convertir/part-00001-6b84f509-ffb8-43d4-820e-866fb80c0d08-c000.snappy.parquet')"
      ],
      "metadata": {
        "id": "nBRA6_KXNcbd"
      },
      "execution_count": 16,
      "outputs": []
    },
    {
      "cell_type": "code",
      "source": [
        "data.show()"
      ],
      "metadata": {
        "id": "YOpYmnbaTpVb",
        "outputId": "cd44e960-a959-41dc-9d34-35f01d2a6ca9",
        "colab": {
          "base_uri": "https://localhost:8080/"
        }
      },
      "execution_count": 14,
      "outputs": [
        {
          "output_type": "stream",
          "name": "stdout",
          "text": [
            "+----------+--------------------+----------+----------------+\n",
            "|      date|           timestamp|  date_str|          ts_str|\n",
            "+----------+--------------------+----------+----------------+\n",
            "|2021-01-01|2021-01-01 20:10:...|01-01-2021|18-08-2021 46:58|\n",
            "+----------+--------------------+----------+----------------+\n",
            "\n"
          ]
        }
      ]
    },
    {
      "cell_type": "code",
      "source": [
        "data.printSchema()"
      ],
      "metadata": {
        "id": "eHkO5uuUXBgk",
        "outputId": "bd3460d9-7b00-49bb-fa43-5a246c401c33",
        "colab": {
          "base_uri": "https://localhost:8080/"
        }
      },
      "execution_count": 17,
      "outputs": [
        {
          "output_type": "stream",
          "name": "stdout",
          "text": [
            "root\n",
            " |-- date: string (nullable = true)\n",
            " |-- timestamp: string (nullable = true)\n",
            " |-- date_str: string (nullable = true)\n",
            " |-- ts_str: string (nullable = true)\n",
            "\n"
          ]
        }
      ]
    },
    {
      "cell_type": "code",
      "source": [
        "data1 = data.select(\n",
        "    to_date(col('date')).alias('date1'),\n",
        "    to_timestamp(col('timestamp')).alias('ts1'),\n",
        "    to_date(col('date_str'), 'dd-MM-yyyy').alias('date2'),\n",
        "    to_timestamp(col('ts_str'), 'dd-MM-yyyy mm:ss').alias('ts2')\n",
        ")"
      ],
      "metadata": {
        "id": "d8jyYaXjXU10"
      },
      "execution_count": 21,
      "outputs": []
    },
    {
      "cell_type": "code",
      "source": [
        "data1.printSchema()"
      ],
      "metadata": {
        "id": "EgRreyDRZC1v",
        "outputId": "5fe2af91-c639-487f-e95e-e411959e9182",
        "colab": {
          "base_uri": "https://localhost:8080/"
        }
      },
      "execution_count": 22,
      "outputs": [
        {
          "output_type": "stream",
          "name": "stdout",
          "text": [
            "root\n",
            " |-- date1: date (nullable = true)\n",
            " |-- ts1: timestamp (nullable = true)\n",
            " |-- date2: date (nullable = true)\n",
            " |-- ts2: timestamp (nullable = true)\n",
            "\n"
          ]
        }
      ]
    },
    {
      "cell_type": "code",
      "source": [
        "data1.select(\n",
        "    date_format(col('date1'), 'dd-MM-yyyy')\n",
        ").show()"
      ],
      "metadata": {
        "id": "RgNIpvofZEh4",
        "outputId": "c28f65bb-b72c-45f6-d968-5be0a15ca3f5",
        "colab": {
          "base_uri": "https://localhost:8080/"
        }
      },
      "execution_count": 23,
      "outputs": [
        {
          "output_type": "stream",
          "name": "stdout",
          "text": [
            "+------------------------------+\n",
            "|date_format(date1, dd-MM-yyyy)|\n",
            "+------------------------------+\n",
            "|                    01-01-2021|\n",
            "+------------------------------+\n",
            "\n"
          ]
        }
      ]
    },
    {
      "cell_type": "code",
      "source": [
        "df = spark.read.parquet('/content/calculo/calculo.parquet')"
      ],
      "metadata": {
        "id": "NNu0hmovZ5U2"
      },
      "execution_count": 24,
      "outputs": []
    },
    {
      "cell_type": "code",
      "source": [
        "df.show()"
      ],
      "metadata": {
        "id": "BNGgpOyVaDI_",
        "outputId": "d4513d8e-12fb-4c16-94b2-77261886ea48",
        "colab": {
          "base_uri": "https://localhost:8080/"
        }
      },
      "execution_count": 25,
      "outputs": [
        {
          "output_type": "stream",
          "name": "stdout",
          "text": [
            "+------+-------------+------------+-------------------+\n",
            "|nombre|fecha_ingreso|fecha_salida|       baja_sistema|\n",
            "+------+-------------+------------+-------------------+\n",
            "|  Jose|   2021-01-01|  2021-11-14|2021-10-14 15:35:59|\n",
            "|Mayara|   2021-02-06|  2021-11-25|2021-11-25 10:35:55|\n",
            "+------+-------------+------------+-------------------+\n",
            "\n"
          ]
        }
      ]
    },
    {
      "cell_type": "code",
      "source": [
        "df.select(\n",
        "    'nombre',\n",
        "    datediff('fecha_salida', 'fecha_ingreso').alias('dias'),\n",
        "    months_between('fecha_salida', 'fecha_ingreso').alias('meses'),\n",
        "    last_day('fecha_salida').alias('ultimo_dia_mes')\n",
        ").show()"
      ],
      "metadata": {
        "id": "BBhGolziaEUn",
        "outputId": "4b09eafa-86cb-4894-8a2d-bd611265a111",
        "colab": {
          "base_uri": "https://localhost:8080/"
        }
      },
      "execution_count": 27,
      "outputs": [
        {
          "output_type": "stream",
          "name": "stdout",
          "text": [
            "+------+----+-----------+--------------+\n",
            "|nombre|dias|      meses|ultimo_dia_mes|\n",
            "+------+----+-----------+--------------+\n",
            "|  Jose| 317|10.41935484|    2021-11-30|\n",
            "|Mayara| 292| 9.61290323|    2021-11-30|\n",
            "+------+----+-----------+--------------+\n",
            "\n"
          ]
        }
      ]
    },
    {
      "cell_type": "code",
      "source": [
        "df.select(\n",
        "    'nombre',\n",
        "    'fecha_ingreso',\n",
        "    date_add('fecha_ingreso', 14).alias('mas_14_dias'),\n",
        "    date_sub('fecha_ingreso', 1).alias('menos_1_dia')\n",
        ").show()"
      ],
      "metadata": {
        "id": "XeN8LY9biAnW",
        "outputId": "b9361146-1b9b-4619-b9d2-16e821f57314",
        "colab": {
          "base_uri": "https://localhost:8080/"
        }
      },
      "execution_count": 28,
      "outputs": [
        {
          "output_type": "stream",
          "name": "stdout",
          "text": [
            "+------+-------------+-----------+-----------+\n",
            "|nombre|fecha_ingreso|mas_14_dias|menos_1_dia|\n",
            "+------+-------------+-----------+-----------+\n",
            "|  Jose|   2021-01-01| 2021-01-15| 2020-12-31|\n",
            "|Mayara|   2021-02-06| 2021-02-20| 2021-02-05|\n",
            "+------+-------------+-----------+-----------+\n",
            "\n"
          ]
        }
      ]
    },
    {
      "cell_type": "code",
      "source": [
        "df.select(\n",
        "    'baja_sistema',\n",
        "    year('baja_sistema'),\n",
        "    month('baja_sistema'),\n",
        "    dayofmonth('baja_sistema'),\n",
        "    dayofyear('baja_sistema'),\n",
        "    hour('baja_sistema'),\n",
        "    minute('baja_sistema'),\n",
        "    second('baja_sistema')\n",
        ").show()"
      ],
      "metadata": {
        "id": "tDFJB5cJinRH",
        "outputId": "ea0887d7-e94c-48b1-e75e-02d090495a97",
        "colab": {
          "base_uri": "https://localhost:8080/"
        }
      },
      "execution_count": 29,
      "outputs": [
        {
          "output_type": "stream",
          "name": "stdout",
          "text": [
            "+-------------------+------------------+-------------------+------------------------+-----------------------+------------------+--------------------+--------------------+\n",
            "|       baja_sistema|year(baja_sistema)|month(baja_sistema)|dayofmonth(baja_sistema)|dayofyear(baja_sistema)|hour(baja_sistema)|minute(baja_sistema)|second(baja_sistema)|\n",
            "+-------------------+------------------+-------------------+------------------------+-----------------------+------------------+--------------------+--------------------+\n",
            "|2021-10-14 15:35:59|              2021|                 10|                      14|                    287|                15|                  35|                  59|\n",
            "|2021-11-25 10:35:55|              2021|                 11|                      25|                    329|                10|                  35|                  55|\n",
            "+-------------------+------------------+-------------------+------------------------+-----------------------+------------------+--------------------+--------------------+\n",
            "\n"
          ]
        }
      ]
    },
    {
      "cell_type": "markdown",
      "source": [
        "# Manejo de Strings"
      ],
      "metadata": {
        "id": "NlJhRFk3kk5I"
      }
    },
    {
      "cell_type": "code",
      "source": [
        "data = spark.read.parquet('data.parquet')"
      ],
      "metadata": {
        "id": "vlW-U_czkRbO"
      },
      "execution_count": 4,
      "outputs": []
    },
    {
      "cell_type": "code",
      "source": [
        "data.show()"
      ],
      "metadata": {
        "id": "x7vWJWK4lTZq",
        "outputId": "4bb06aee-4937-4f5c-9463-4d3d72f7c1d9",
        "colab": {
          "base_uri": "https://localhost:8080/"
        }
      },
      "execution_count": 6,
      "outputs": [
        {
          "output_type": "stream",
          "name": "stdout",
          "text": [
            "+-------+\n",
            "| nombre|\n",
            "+-------+\n",
            "| Spark |\n",
            "+-------+\n",
            "\n"
          ]
        }
      ]
    },
    {
      "cell_type": "code",
      "source": [
        "data.select(\n",
        "    ltrim('nombre'),\n",
        "    rtrim('nombre'),\n",
        "    trim('nombre')\n",
        ").show()"
      ],
      "metadata": {
        "id": "-SGttyK9lgB_",
        "outputId": "6ea92870-da89-40d5-8961-c54ff6c91277",
        "colab": {
          "base_uri": "https://localhost:8080/"
        }
      },
      "execution_count": 7,
      "outputs": [
        {
          "output_type": "stream",
          "name": "stdout",
          "text": [
            "+-------------+-------------+------------+\n",
            "|ltrim(nombre)|rtrim(nombre)|trim(nombre)|\n",
            "+-------------+-------------+------------+\n",
            "|       Spark |        Spark|       Spark|\n",
            "+-------------+-------------+------------+\n",
            "\n"
          ]
        }
      ]
    },
    {
      "cell_type": "code",
      "source": [
        "data.select(\n",
        "    trim(col('nombre')).alias('trim')\n",
        ").select(\n",
        "    lpad(col('trim'), 8, '-'),\n",
        "    rpad(col('trim'), 8, '=')\n",
        ").show()"
      ],
      "metadata": {
        "id": "OAlm7qRdzE0H",
        "outputId": "2f4ccf0d-907c-4bec-cacc-c9869274c048",
        "colab": {
          "base_uri": "https://localhost:8080/"
        }
      },
      "execution_count": 11,
      "outputs": [
        {
          "output_type": "stream",
          "name": "stdout",
          "text": [
            "+----------------+----------------+\n",
            "|lpad(trim, 8, -)|rpad(trim, 8, =)|\n",
            "+----------------+----------------+\n",
            "|        ---Spark|        Spark===|\n",
            "+----------------+----------------+\n",
            "\n"
          ]
        }
      ]
    },
    {
      "cell_type": "code",
      "source": [
        "df1 = spark.createDataFrame([('Spark', 'es', 'maravilloso')], ['sujeto','verbo','adjetivo'])"
      ],
      "metadata": {
        "id": "LgH0MhVz1qLo"
      },
      "execution_count": 12,
      "outputs": []
    },
    {
      "cell_type": "code",
      "source": [
        "df1.show()"
      ],
      "metadata": {
        "id": "GhLoBj743Lu5",
        "outputId": "34414328-ff5e-4950-e499-04a41346d2a7",
        "colab": {
          "base_uri": "https://localhost:8080/"
        }
      },
      "execution_count": 13,
      "outputs": [
        {
          "output_type": "stream",
          "name": "stdout",
          "text": [
            "+------+-----+-----------+\n",
            "|sujeto|verbo|   adjetivo|\n",
            "+------+-----+-----------+\n",
            "| Spark|   es|maravilloso|\n",
            "+------+-----+-----------+\n",
            "\n"
          ]
        }
      ]
    },
    {
      "cell_type": "code",
      "source": [
        "df1.select(\n",
        "    concat_ws(' ','sujeto','verbo','adjetivo').alias('frase')\n",
        ").select(\n",
        "    lower('frase').alias('minuscula'),\n",
        "    upper('frase').alias('mayuscula'),\n",
        "    initcap('frase').alias('initcap'),\n",
        "    reverse('frase').alias('reverse')\n",
        ").show()"
      ],
      "metadata": {
        "id": "jrznVu4D3OcG",
        "outputId": "3e6e4bab-d63e-4167-f77c-ca7b1959ece8",
        "colab": {
          "base_uri": "https://localhost:8080/"
        }
      },
      "execution_count": 15,
      "outputs": [
        {
          "output_type": "stream",
          "name": "stdout",
          "text": [
            "+--------------------+--------------------+--------------------+--------------------+\n",
            "|           minuscula|           mayuscula|             initcap|             reverse|\n",
            "+--------------------+--------------------+--------------------+--------------------+\n",
            "|spark es maravilloso|SPARK ES MARAVILLOSO|Spark Es Maravilloso|osollivaram se krapS|\n",
            "+--------------------+--------------------+--------------------+--------------------+\n",
            "\n"
          ]
        }
      ]
    },
    {
      "cell_type": "code",
      "source": [
        "df2 = spark.createDataFrame([(' voy a casa por mis llaves',)], ['frase'])"
      ],
      "metadata": {
        "id": "v2SAfjdw5rN_"
      },
      "execution_count": 4,
      "outputs": []
    },
    {
      "cell_type": "code",
      "source": [
        "df2.show(truncate=False)"
      ],
      "metadata": {
        "id": "NELkX53xEzPs",
        "outputId": "4b89a1cc-304a-488b-8912-25ea9fcac543",
        "colab": {
          "base_uri": "https://localhost:8080/"
        }
      },
      "execution_count": 20,
      "outputs": [
        {
          "output_type": "stream",
          "name": "stdout",
          "text": [
            "+--------------------------+\n",
            "|frase                     |\n",
            "+--------------------------+\n",
            "| voy a casa por mis llaves|\n",
            "+--------------------------+\n",
            "\n"
          ]
        }
      ]
    },
    {
      "cell_type": "code",
      "source": [
        "df2.select(\n",
        "    regexp_replace(col('frase'), 'voy|por', 'ir').alias('nueva_frase')\n",
        ").show(truncate=False)"
      ],
      "metadata": {
        "id": "gKhh8SoOE1XD",
        "outputId": "59b54cbe-054c-4714-c75a-a0832fc3c54d",
        "colab": {
          "base_uri": "https://localhost:8080/"
        }
      },
      "execution_count": 6,
      "outputs": [
        {
          "output_type": "stream",
          "name": "stdout",
          "text": [
            "+------------------------+\n",
            "|nueva_frase             |\n",
            "+------------------------+\n",
            "| ir a casa ir mis llaves|\n",
            "+------------------------+\n",
            "\n"
          ]
        }
      ]
    },
    {
      "cell_type": "markdown",
      "source": [
        "# Trabajo con colecciones\n",
        "\n"
      ],
      "metadata": {
        "id": "0tkRi4SUm9Mx"
      }
    },
    {
      "cell_type": "code",
      "source": [
        "data = spark.read.parquet('/content/part-00000-96f39196-ef97-4a14-926e-b24a86c2e32d-c000.snappy.parquet')"
      ],
      "metadata": {
        "id": "8ybzAa-GmKsH"
      },
      "execution_count": 7,
      "outputs": []
    },
    {
      "cell_type": "code",
      "source": [
        "data.show(truncate=False)"
      ],
      "metadata": {
        "id": "NadBrvf9nIHh",
        "outputId": "07c8ae83-0d4e-4d7f-acd8-68ea5dd50858",
        "colab": {
          "base_uri": "https://localhost:8080/"
        }
      },
      "execution_count": 10,
      "outputs": [
        {
          "output_type": "stream",
          "name": "stdout",
          "text": [
            "+-----+--------------------------------------------+\n",
            "|dia  |tareas                                      |\n",
            "+-----+--------------------------------------------+\n",
            "|lunes|[hacer la tarea, buscar agua, lavar el auto]|\n",
            "+-----+--------------------------------------------+\n",
            "\n"
          ]
        }
      ]
    },
    {
      "cell_type": "code",
      "source": [
        "data.printSchema()"
      ],
      "metadata": {
        "id": "7SDDUZchnfcR",
        "outputId": "0ada738a-fc66-4d30-b4e7-875b65484ae7",
        "colab": {
          "base_uri": "https://localhost:8080/"
        }
      },
      "execution_count": 11,
      "outputs": [
        {
          "output_type": "stream",
          "name": "stdout",
          "text": [
            "root\n",
            " |-- dia: string (nullable = true)\n",
            " |-- tareas: array (nullable = true)\n",
            " |    |-- element: string (containsNull = true)\n",
            "\n"
          ]
        }
      ]
    },
    {
      "cell_type": "code",
      "source": [
        "data.select(\n",
        "    size('tareas').alias('tamaño'),\n",
        "    sort_array('tareas').alias('array_ordenado'),\n",
        "    array_contains('tareas', 'buscar agua').alias('busacr_agua')\n",
        ").show(truncate=False)"
      ],
      "metadata": {
        "id": "Qaw7al7ZoCwc",
        "outputId": "be998f5c-7cfe-460d-f3d4-b75d337da9f7",
        "colab": {
          "base_uri": "https://localhost:8080/"
        }
      },
      "execution_count": 15,
      "outputs": [
        {
          "output_type": "stream",
          "name": "stdout",
          "text": [
            "+------+--------------------------------------------+-----------+\n",
            "|tamaño|array_ordenado                              |busacr_agua|\n",
            "+------+--------------------------------------------+-----------+\n",
            "|3     |[buscar agua, hacer la tarea, lavar el auto]|true       |\n",
            "+------+--------------------------------------------+-----------+\n",
            "\n"
          ]
        }
      ]
    },
    {
      "cell_type": "code",
      "source": [
        "data.select(\n",
        "    'dia',\n",
        "    explode('tareas').alias('tareas')\n",
        ").show()"
      ],
      "metadata": {
        "id": "X2y9iA4XoRWO",
        "outputId": "9669efbc-ce25-4061-dce1-fa457a0c5996",
        "colab": {
          "base_uri": "https://localhost:8080/"
        }
      },
      "execution_count": 16,
      "outputs": [
        {
          "output_type": "stream",
          "name": "stdout",
          "text": [
            "+-----+--------------+\n",
            "|  dia|        tareas|\n",
            "+-----+--------------+\n",
            "|lunes|hacer la tarea|\n",
            "|lunes|   buscar agua|\n",
            "|lunes| lavar el auto|\n",
            "+-----+--------------+\n",
            "\n"
          ]
        }
      ]
    },
    {
      "cell_type": "markdown",
      "source": [
        "# Formato JSON"
      ],
      "metadata": {
        "id": "RKwrFInMpwfQ"
      }
    },
    {
      "cell_type": "code",
      "source": [
        "jsondf = spark.read.parquet('/content/part-00000-9f0e2b16-0b50-4212-9b83-654e1b8dd137-c000.snappy.parquet')"
      ],
      "metadata": {
        "id": "0DPScaebpoCn"
      },
      "execution_count": 19,
      "outputs": []
    },
    {
      "cell_type": "code",
      "source": [
        "jsondf.show(truncate=False)"
      ],
      "metadata": {
        "id": "5Go6te6-p7qI",
        "outputId": "adcb7218-5440-472e-cbb5-fb1adfc55a0d",
        "colab": {
          "base_uri": "https://localhost:8080/"
        }
      },
      "execution_count": 21,
      "outputs": [
        {
          "output_type": "stream",
          "name": "stdout",
          "text": [
            "+---------------------------------------------------------------------------+\n",
            "|tareas_str                                                                 |\n",
            "+---------------------------------------------------------------------------+\n",
            "|{\"dia\": \"lunes\",\"tareas\": [\"hacer la tarea\",\"buscar agua\",\"lavar el auto\"]}|\n",
            "+---------------------------------------------------------------------------+\n",
            "\n"
          ]
        }
      ]
    },
    {
      "cell_type": "code",
      "source": [
        "jsondf.printSchema()"
      ],
      "metadata": {
        "id": "VlAZzE11p-P2",
        "outputId": "23013e44-8c61-4bfa-a1a6-620546304326",
        "colab": {
          "base_uri": "https://localhost:8080/"
        }
      },
      "execution_count": 22,
      "outputs": [
        {
          "output_type": "stream",
          "name": "stdout",
          "text": [
            "root\n",
            " |-- tareas_str: string (nullable = true)\n",
            "\n"
          ]
        }
      ]
    },
    {
      "cell_type": "code",
      "source": [
        "schema_json = StructType(\n",
        "    [\n",
        "        StructField('dia', StringType(), True),\n",
        "        StructField('tareas', ArrayType(StringType()), True)\n",
        "    ]\n",
        ")"
      ],
      "metadata": {
        "id": "0mrdDPkPqVZP"
      },
      "execution_count": 28,
      "outputs": []
    },
    {
      "cell_type": "code",
      "source": [
        "json_df = jsondf.select(\n",
        "    from_json('tareas_str', schema_json).alias('por_hacer')\n",
        ")"
      ],
      "metadata": {
        "id": "0Ebq637kqySb"
      },
      "execution_count": 31,
      "outputs": []
    },
    {
      "cell_type": "code",
      "source": [
        "json_df.printSchema()"
      ],
      "metadata": {
        "id": "-LXgS6cCuVJy",
        "outputId": "c83415d7-8ab5-4684-f874-b3f6b62429e2",
        "colab": {
          "base_uri": "https://localhost:8080/"
        }
      },
      "execution_count": 32,
      "outputs": [
        {
          "output_type": "stream",
          "name": "stdout",
          "text": [
            "root\n",
            " |-- por_hacer: struct (nullable = true)\n",
            " |    |-- dia: string (nullable = true)\n",
            " |    |-- tareas: array (nullable = true)\n",
            " |    |    |-- element: string (containsNull = true)\n",
            "\n"
          ]
        }
      ]
    },
    {
      "cell_type": "code",
      "source": [
        "json_df.select(\n",
        "    col('por_hacer').getItem('dia'),\n",
        "    col('por_hacer').getItem('tareas'),\n",
        "    col('por_hacer').getItem('tareas').getItem(0).alias('primer_tarea')\n",
        ").show(truncate=False)"
      ],
      "metadata": {
        "id": "536xtvu6uWfb",
        "outputId": "4e2cb610-f904-4c6e-d399-092514343f88",
        "colab": {
          "base_uri": "https://localhost:8080/"
        }
      },
      "execution_count": 35,
      "outputs": [
        {
          "output_type": "stream",
          "name": "stdout",
          "text": [
            "+-------------+--------------------------------------------+--------------+\n",
            "|por_hacer.dia|por_hacer.tareas                            |primer_tarea  |\n",
            "+-------------+--------------------------------------------+--------------+\n",
            "|lunes        |[hacer la tarea, buscar agua, lavar el auto]|hacer la tarea|\n",
            "+-------------+--------------------------------------------+--------------+\n",
            "\n"
          ]
        }
      ]
    },
    {
      "cell_type": "code",
      "source": [
        "json_df.select(\n",
        "    to_json('por_hacer')\n",
        ").show(truncate=False)"
      ],
      "metadata": {
        "id": "EqpAgmyNuwuF",
        "outputId": "b40d7f84-9914-46d0-dd66-8c087fdc289b",
        "colab": {
          "base_uri": "https://localhost:8080/"
        }
      },
      "execution_count": 37,
      "outputs": [
        {
          "output_type": "stream",
          "name": "stdout",
          "text": [
            "+-------------------------------------------------------------------------+\n",
            "|to_json(por_hacer)                                                       |\n",
            "+-------------------------------------------------------------------------+\n",
            "|{\"dia\":\"lunes\",\"tareas\":[\"hacer la tarea\",\"buscar agua\",\"lavar el auto\"]}|\n",
            "+-------------------------------------------------------------------------+\n",
            "\n"
          ]
        }
      ]
    },
    {
      "cell_type": "markdown",
      "source": [
        "# When, coalesce, lit"
      ],
      "metadata": {
        "id": "ngSHawfhveZf"
      }
    },
    {
      "cell_type": "code",
      "source": [
        "data = spark.read.parquet('/content/part-00000-a9b42845-6edf-4329-996e-2528aa78bb4a-c000.snappy.parquet')"
      ],
      "metadata": {
        "id": "C2HiYDEvvFxi"
      },
      "execution_count": 38,
      "outputs": []
    },
    {
      "cell_type": "code",
      "source": [
        "data.printSchema()"
      ],
      "metadata": {
        "id": "ltCZwF5zvk58",
        "outputId": "778dd8fa-d104-494d-95a8-48350b63fe30",
        "colab": {
          "base_uri": "https://localhost:8080/"
        }
      },
      "execution_count": 39,
      "outputs": [
        {
          "output_type": "stream",
          "name": "stdout",
          "text": [
            "root\n",
            " |-- nombre: string (nullable = true)\n",
            " |-- pago: long (nullable = true)\n",
            "\n"
          ]
        }
      ]
    },
    {
      "cell_type": "code",
      "source": [
        "data.show()"
      ],
      "metadata": {
        "id": "eyeULQvlvmMD",
        "outputId": "e82fcb83-4260-4859-b4bf-c2758d2b7aac",
        "colab": {
          "base_uri": "https://localhost:8080/"
        }
      },
      "execution_count": 40,
      "outputs": [
        {
          "output_type": "stream",
          "name": "stdout",
          "text": [
            "+------+----+\n",
            "|nombre|pago|\n",
            "+------+----+\n",
            "|  Jose|   1|\n",
            "| Julia|   2|\n",
            "| Katia|   1|\n",
            "|  null|   3|\n",
            "|  Raul|   3|\n",
            "+------+----+\n",
            "\n"
          ]
        }
      ]
    },
    {
      "cell_type": "code",
      "source": [
        "data.select(\n",
        "    'nombre',\n",
        "    when(col('pago') == 1, 'Pagado').\\\n",
        "    when(col('pago') == 2, 'Sin Pagar').\\\n",
        "    otherwise('Sin Iniciar').alias('Pago')\n",
        ").show()"
      ],
      "metadata": {
        "id": "ucapeJtUvuMq",
        "outputId": "14055201-0fb1-4d63-9a90-2bb2cccdbc82",
        "colab": {
          "base_uri": "https://localhost:8080/"
        }
      },
      "execution_count": 42,
      "outputs": [
        {
          "output_type": "stream",
          "name": "stdout",
          "text": [
            "+------+-----------+\n",
            "|nombre|       Pago|\n",
            "+------+-----------+\n",
            "|  Jose|     Pagado|\n",
            "| Julia|  Sin Pagar|\n",
            "| Katia|     Pagado|\n",
            "|  null|Sin Iniciar|\n",
            "|  Raul|Sin Iniciar|\n",
            "+------+-----------+\n",
            "\n"
          ]
        }
      ]
    },
    {
      "cell_type": "code",
      "source": [
        "data.select(\n",
        "    coalesce('nombre', lit('sin nombre')).alias('nombre')\n",
        ").show()"
      ],
      "metadata": {
        "id": "5q8nybTVwlZb",
        "outputId": "5865fa45-eeb3-4449-c50b-44663e629ae7",
        "colab": {
          "base_uri": "https://localhost:8080/"
        }
      },
      "execution_count": 45,
      "outputs": [
        {
          "output_type": "stream",
          "name": "stdout",
          "text": [
            "+----------+\n",
            "|    nombre|\n",
            "+----------+\n",
            "|      Jose|\n",
            "|     Julia|\n",
            "|     Katia|\n",
            "|sin nombre|\n",
            "|      Raul|\n",
            "+----------+\n",
            "\n"
          ]
        }
      ]
    },
    {
      "cell_type": "markdown",
      "source": [
        "# Funciones definidas por el usuario"
      ],
      "metadata": {
        "id": "9hT_8JZBx_EL"
      }
    },
    {
      "cell_type": "code",
      "source": [
        "def f_cubo(n):\n",
        "  return n * n * n"
      ],
      "metadata": {
        "id": "v2r3MdxwxZOq"
      },
      "execution_count": 46,
      "outputs": []
    },
    {
      "cell_type": "code",
      "source": [
        "spark.udf.register('cubo', f_cubo, LongType())"
      ],
      "metadata": {
        "id": "l-iYwBEiyX1Q",
        "outputId": "326ca1aa-8149-4f71-a83e-d7640c866237",
        "colab": {
          "base_uri": "https://localhost:8080/"
        }
      },
      "execution_count": 47,
      "outputs": [
        {
          "output_type": "execute_result",
          "data": {
            "text/plain": [
              "<function __main__.f_cubo(n)>"
            ]
          },
          "metadata": {},
          "execution_count": 47
        }
      ]
    },
    {
      "cell_type": "code",
      "source": [
        "spark.range(1,10).createOrReplaceTempView('df_temp')"
      ],
      "metadata": {
        "id": "CIVPLWyAysvP"
      },
      "execution_count": 49,
      "outputs": []
    },
    {
      "cell_type": "code",
      "source": [
        "spark.sql('select id, cubo(id) as cubo from df_temp').show()"
      ],
      "metadata": {
        "id": "IxFK1Nmuy3bf",
        "outputId": "020c7125-1b00-45b9-ca71-8e64d3a7253c",
        "colab": {
          "base_uri": "https://localhost:8080/"
        }
      },
      "execution_count": 50,
      "outputs": [
        {
          "output_type": "stream",
          "name": "stdout",
          "text": [
            "+---+----+\n",
            "| id|cubo|\n",
            "+---+----+\n",
            "|  1|   1|\n",
            "|  2|   8|\n",
            "|  3|  27|\n",
            "|  4|  64|\n",
            "|  5| 125|\n",
            "|  6| 216|\n",
            "|  7| 343|\n",
            "|  8| 512|\n",
            "|  9| 729|\n",
            "+---+----+\n",
            "\n"
          ]
        }
      ]
    },
    {
      "cell_type": "code",
      "source": [
        "def bienvenida(nombre):\n",
        "  return (f'Hola {nombre}')"
      ],
      "metadata": {
        "id": "Otdc9kRAzJO-"
      },
      "execution_count": 55,
      "outputs": []
    },
    {
      "cell_type": "code",
      "source": [
        "bienvenida_udf = udf(lambda x: bienvenida(x), StringType())"
      ],
      "metadata": {
        "id": "qBEZIylpzdR4"
      },
      "execution_count": 57,
      "outputs": []
    },
    {
      "cell_type": "code",
      "source": [
        "df_nombre = spark.createDataFrame([('Jose',), ('Julia',)], ['nombre'])"
      ],
      "metadata": {
        "id": "kbrOHvIc0By7"
      },
      "execution_count": 58,
      "outputs": []
    },
    {
      "cell_type": "code",
      "source": [
        "df_nombre.show()"
      ],
      "metadata": {
        "id": "_XWgmNX20XJm",
        "outputId": "8834c042-df2e-4aca-d250-b270448e029d",
        "colab": {
          "base_uri": "https://localhost:8080/"
        }
      },
      "execution_count": 59,
      "outputs": [
        {
          "output_type": "stream",
          "name": "stdout",
          "text": [
            "+------+\n",
            "|nombre|\n",
            "+------+\n",
            "|  Jose|\n",
            "| Julia|\n",
            "+------+\n",
            "\n"
          ]
        }
      ]
    },
    {
      "cell_type": "code",
      "source": [
        "df_nombre.select(\n",
        "    'nombre',\n",
        "    bienvenida_udf('nombre').alias('bienvenida')\n",
        ").show()"
      ],
      "metadata": {
        "id": "PuHT5TOl0ZxR",
        "outputId": "f4092bca-2429-47ef-aee3-4087a8362f8d",
        "colab": {
          "base_uri": "https://localhost:8080/"
        }
      },
      "execution_count": 60,
      "outputs": [
        {
          "output_type": "stream",
          "name": "stdout",
          "text": [
            "+------+----------+\n",
            "|nombre|bienvenida|\n",
            "+------+----------+\n",
            "|  Jose| Hola Jose|\n",
            "| Julia|Hola Julia|\n",
            "+------+----------+\n",
            "\n"
          ]
        }
      ]
    },
    {
      "cell_type": "code",
      "source": [
        "@udf(returnType=StringType())\n",
        "def mayuscula(s):\n",
        "  return s.upper()"
      ],
      "metadata": {
        "id": "2JOcnBwN0sVV"
      },
      "execution_count": 61,
      "outputs": []
    },
    {
      "cell_type": "code",
      "source": [
        "df_nombre.select(\n",
        "    'nombre',\n",
        "    mayuscula('nombre').alias('mayuscula_nombre')\n",
        ").show()"
      ],
      "metadata": {
        "id": "nzjF6fV41Rhv",
        "outputId": "18e4248a-53c4-431a-817c-e80065a74318",
        "colab": {
          "base_uri": "https://localhost:8080/"
        }
      },
      "execution_count": 62,
      "outputs": [
        {
          "output_type": "stream",
          "name": "stdout",
          "text": [
            "+------+----------------+\n",
            "|nombre|mayuscula_nombre|\n",
            "+------+----------------+\n",
            "|  Jose|            JOSE|\n",
            "| Julia|           JULIA|\n",
            "+------+----------------+\n",
            "\n"
          ]
        }
      ]
    },
    {
      "cell_type": "code",
      "source": [
        "import pandas as pd"
      ],
      "metadata": {
        "id": "n-PKLS_A1dzd"
      },
      "execution_count": 63,
      "outputs": []
    },
    {
      "cell_type": "code",
      "source": [
        "def cubo_pandas(a:pd.Series)->pd.Series:\n",
        "  return a * a * a"
      ],
      "metadata": {
        "id": "zH7l9N1T1uqa"
      },
      "execution_count": 65,
      "outputs": []
    },
    {
      "cell_type": "code",
      "source": [
        "cubo_udf = pandas_udf(cubo_pandas, returnType=LongType())"
      ],
      "metadata": {
        "id": "s0HiBFJO2sqH"
      },
      "execution_count": 66,
      "outputs": []
    },
    {
      "cell_type": "code",
      "source": [
        "x = pd.Series([1,2,3])"
      ],
      "metadata": {
        "id": "G_j4cldg3UOp"
      },
      "execution_count": 67,
      "outputs": []
    },
    {
      "cell_type": "code",
      "source": [
        "print(cubo_pandas(x))"
      ],
      "metadata": {
        "id": "zcshR37o3b0Y",
        "outputId": "08911e69-cc02-4b61-fc98-174949e6ce96",
        "colab": {
          "base_uri": "https://localhost:8080/"
        }
      },
      "execution_count": 68,
      "outputs": [
        {
          "output_type": "stream",
          "name": "stdout",
          "text": [
            "0     1\n",
            "1     8\n",
            "2    27\n",
            "dtype: int64\n"
          ]
        }
      ]
    },
    {
      "cell_type": "code",
      "source": [
        "df = spark.range(5)"
      ],
      "metadata": {
        "id": "Tlfa6rYW3ed7"
      },
      "execution_count": 69,
      "outputs": []
    },
    {
      "cell_type": "code",
      "source": [
        "df.select(\n",
        "    'id',\n",
        "    cubo_udf('id').alias('cubo_pandas')\n",
        ").show()"
      ],
      "metadata": {
        "id": "tQs3f3Xb3rUH",
        "outputId": "6f36193e-06ad-49f4-ddbc-162abfeb65df",
        "colab": {
          "base_uri": "https://localhost:8080/"
        }
      },
      "execution_count": 70,
      "outputs": [
        {
          "output_type": "stream",
          "name": "stdout",
          "text": [
            "+---+-----------+\n",
            "| id|cubo_pandas|\n",
            "+---+-----------+\n",
            "|  0|          0|\n",
            "|  1|          1|\n",
            "|  2|          8|\n",
            "|  3|         27|\n",
            "|  4|         64|\n",
            "+---+-----------+\n",
            "\n"
          ]
        }
      ]
    },
    {
      "cell_type": "markdown",
      "source": [
        "# Funciones de Ventana (window)"
      ],
      "metadata": {
        "id": "uVCrm14e7ceP"
      }
    },
    {
      "cell_type": "code",
      "source": [
        "df = spark.read.parquet('/content/funciones_ventana.parquet')"
      ],
      "metadata": {
        "id": "BhnqyAM63y6f"
      },
      "execution_count": 71,
      "outputs": []
    },
    {
      "cell_type": "code",
      "source": [
        "df.show()"
      ],
      "metadata": {
        "id": "OK9pb6BS7uSr",
        "outputId": "af703309-1322-41b0-a33a-610ccf239d13",
        "colab": {
          "base_uri": "https://localhost:8080/"
        }
      },
      "execution_count": 72,
      "outputs": [
        {
          "output_type": "stream",
          "name": "stdout",
          "text": [
            "+-------+----+------------+----------+\n",
            "| nombre|edad|departamento|evaluacion|\n",
            "+-------+----+------------+----------+\n",
            "| Lazaro|  45|      letras|        98|\n",
            "|   Raul|  24|  matemática|        76|\n",
            "|  Maria|  34|  matemática|        27|\n",
            "|   Jose|  30|     química|        78|\n",
            "| Susana|  51|     química|        98|\n",
            "|   Juan|  44|      letras|        89|\n",
            "|  Julia|  55|      letras|        92|\n",
            "|  Kadir|  38|arquitectura|        39|\n",
            "| Lilian|  23|arquitectura|        94|\n",
            "|   Rosa|  26|      letras|        91|\n",
            "|   Aian|  50|  matemática|        73|\n",
            "|Yaneisy|  29|      letras|        89|\n",
            "|Enrique|  40|     química|        92|\n",
            "|    Jon|  25|arquitectura|        78|\n",
            "|  Luisa|  39|arquitectura|        94|\n",
            "+-------+----+------------+----------+\n",
            "\n"
          ]
        }
      ]
    },
    {
      "cell_type": "code",
      "source": [
        "from pyspark.sql.window import Window"
      ],
      "metadata": {
        "id": "jQkxVHbK7vHD"
      },
      "execution_count": 73,
      "outputs": []
    },
    {
      "cell_type": "code",
      "source": [
        "windowSpec = Window.partitionBy('departamento').orderBy(desc('evaluacion'))"
      ],
      "metadata": {
        "id": "AdqyRNrt976b"
      },
      "execution_count": 74,
      "outputs": []
    },
    {
      "cell_type": "code",
      "source": [
        "# row_number\n",
        "\n",
        "df.withColumn('row_number', row_number().over(windowSpec)).filter(col('row_number') <= 2).show()"
      ],
      "metadata": {
        "id": "hl8MM1lv-QvK",
        "outputId": "a47bd338-c7d4-46eb-ca12-b9b03e31164d",
        "colab": {
          "base_uri": "https://localhost:8080/"
        }
      },
      "execution_count": 77,
      "outputs": [
        {
          "output_type": "stream",
          "name": "stdout",
          "text": [
            "+-------+----+------------+----------+----------+\n",
            "| nombre|edad|departamento|evaluacion|row_number|\n",
            "+-------+----+------------+----------+----------+\n",
            "| Lilian|  23|arquitectura|        94|         1|\n",
            "|  Luisa|  39|arquitectura|        94|         2|\n",
            "| Lazaro|  45|      letras|        98|         1|\n",
            "|  Julia|  55|      letras|        92|         2|\n",
            "|   Raul|  24|  matemática|        76|         1|\n",
            "|   Aian|  50|  matemática|        73|         2|\n",
            "| Susana|  51|     química|        98|         1|\n",
            "|Enrique|  40|     química|        92|         2|\n",
            "+-------+----+------------+----------+----------+\n",
            "\n"
          ]
        }
      ]
    },
    {
      "cell_type": "code",
      "source": [
        "# rank\n",
        "\n",
        "df.withColumn('rank', rank().over(windowSpec)).show()"
      ],
      "metadata": {
        "id": "o0scVQCz-lfD",
        "outputId": "4f686f7b-1903-4fad-e592-4f0f6f2bd159",
        "colab": {
          "base_uri": "https://localhost:8080/"
        }
      },
      "execution_count": 78,
      "outputs": [
        {
          "output_type": "stream",
          "name": "stdout",
          "text": [
            "+-------+----+------------+----------+----+\n",
            "| nombre|edad|departamento|evaluacion|rank|\n",
            "+-------+----+------------+----------+----+\n",
            "| Lilian|  23|arquitectura|        94|   1|\n",
            "|  Luisa|  39|arquitectura|        94|   1|\n",
            "|    Jon|  25|arquitectura|        78|   3|\n",
            "|  Kadir|  38|arquitectura|        39|   4|\n",
            "| Lazaro|  45|      letras|        98|   1|\n",
            "|  Julia|  55|      letras|        92|   2|\n",
            "|   Rosa|  26|      letras|        91|   3|\n",
            "|   Juan|  44|      letras|        89|   4|\n",
            "|Yaneisy|  29|      letras|        89|   4|\n",
            "|   Raul|  24|  matemática|        76|   1|\n",
            "|   Aian|  50|  matemática|        73|   2|\n",
            "|  Maria|  34|  matemática|        27|   3|\n",
            "| Susana|  51|     química|        98|   1|\n",
            "|Enrique|  40|     química|        92|   2|\n",
            "|   Jose|  30|     química|        78|   3|\n",
            "+-------+----+------------+----------+----+\n",
            "\n"
          ]
        }
      ]
    },
    {
      "cell_type": "code",
      "source": [
        "# dense_rank\n",
        "\n",
        "df.withColumn('dense_rank', dense_rank().over(windowSpec)).show()"
      ],
      "metadata": {
        "id": "StRLHjHT_j5L",
        "outputId": "e0ce3385-1143-4614-89ba-60581bf258cb",
        "colab": {
          "base_uri": "https://localhost:8080/"
        }
      },
      "execution_count": 80,
      "outputs": [
        {
          "output_type": "stream",
          "name": "stdout",
          "text": [
            "+-------+----+------------+----------+----------+\n",
            "| nombre|edad|departamento|evaluacion|dense_rank|\n",
            "+-------+----+------------+----------+----------+\n",
            "| Lilian|  23|arquitectura|        94|         1|\n",
            "|  Luisa|  39|arquitectura|        94|         1|\n",
            "|    Jon|  25|arquitectura|        78|         2|\n",
            "|  Kadir|  38|arquitectura|        39|         3|\n",
            "| Lazaro|  45|      letras|        98|         1|\n",
            "|  Julia|  55|      letras|        92|         2|\n",
            "|   Rosa|  26|      letras|        91|         3|\n",
            "|   Juan|  44|      letras|        89|         4|\n",
            "|Yaneisy|  29|      letras|        89|         4|\n",
            "|   Raul|  24|  matemática|        76|         1|\n",
            "|   Aian|  50|  matemática|        73|         2|\n",
            "|  Maria|  34|  matemática|        27|         3|\n",
            "| Susana|  51|     química|        98|         1|\n",
            "|Enrique|  40|     química|        92|         2|\n",
            "|   Jose|  30|     química|        78|         3|\n",
            "+-------+----+------------+----------+----------+\n",
            "\n"
          ]
        }
      ]
    },
    {
      "cell_type": "code",
      "source": [
        "windowSpecAgg = Window.partitionBy('departamento')"
      ],
      "metadata": {
        "id": "pW7Ue0GJKYvy"
      },
      "execution_count": 81,
      "outputs": []
    },
    {
      "cell_type": "code",
      "source": [
        "df.withColumn('min', min('evaluacion').over(windowSpecAgg)).\\\n",
        "withColumn('max', max('evaluacion').over(windowSpecAgg)).\\\n",
        "withColumn('avg', avg('evaluacion').over(windowSpecAgg)).\\\n",
        "withColumn('row_number', row_number().over(windowSpec)).show()"
      ],
      "metadata": {
        "id": "GfSQpQjUKuYW",
        "outputId": "418fdf96-ae44-45d0-8fec-4aef5f5809bb",
        "colab": {
          "base_uri": "https://localhost:8080/"
        }
      },
      "execution_count": 82,
      "outputs": [
        {
          "output_type": "stream",
          "name": "stdout",
          "text": [
            "+-------+----+------------+----------+---+---+------------------+----------+\n",
            "| nombre|edad|departamento|evaluacion|min|max|               avg|row_number|\n",
            "+-------+----+------------+----------+---+---+------------------+----------+\n",
            "| Lilian|  23|arquitectura|        94| 39| 94|             76.25|         1|\n",
            "|  Luisa|  39|arquitectura|        94| 39| 94|             76.25|         2|\n",
            "|    Jon|  25|arquitectura|        78| 39| 94|             76.25|         3|\n",
            "|  Kadir|  38|arquitectura|        39| 39| 94|             76.25|         4|\n",
            "| Lazaro|  45|      letras|        98| 89| 98|              91.8|         1|\n",
            "|  Julia|  55|      letras|        92| 89| 98|              91.8|         2|\n",
            "|   Rosa|  26|      letras|        91| 89| 98|              91.8|         3|\n",
            "|   Juan|  44|      letras|        89| 89| 98|              91.8|         4|\n",
            "|Yaneisy|  29|      letras|        89| 89| 98|              91.8|         5|\n",
            "|   Raul|  24|  matemática|        76| 27| 76|58.666666666666664|         1|\n",
            "|   Aian|  50|  matemática|        73| 27| 76|58.666666666666664|         2|\n",
            "|  Maria|  34|  matemática|        27| 27| 76|58.666666666666664|         3|\n",
            "| Susana|  51|     química|        98| 78| 98| 89.33333333333333|         1|\n",
            "|Enrique|  40|     química|        92| 78| 98| 89.33333333333333|         2|\n",
            "|   Jose|  30|     química|        78| 78| 98| 89.33333333333333|         3|\n",
            "+-------+----+------------+----------+---+---+------------------+----------+\n",
            "\n"
          ]
        }
      ]
    },
    {
      "cell_type": "markdown",
      "source": [
        "# Catalyst optimizer"
      ],
      "metadata": {
        "id": "She_YyOcL1Qm"
      }
    },
    {
      "cell_type": "code",
      "source": [
        "data = spark.read.option('inferSchema', 'true').option('header','true').parquet('vuelos.parquet')"
      ],
      "metadata": {
        "id": "GPFW9sT8LoiE"
      },
      "execution_count": 86,
      "outputs": []
    },
    {
      "cell_type": "code",
      "source": [
        "data.show()"
      ],
      "metadata": {
        "id": "5a5ZKCyOMqts",
        "outputId": "bfcaed63-ae44-4c20-acdd-263633431c4f",
        "colab": {
          "base_uri": "https://localhost:8080/"
        }
      },
      "execution_count": 87,
      "outputs": [
        {
          "output_type": "stream",
          "name": "stdout",
          "text": [
            "+----+-----+---+-----------+-------+-------------+-----------+--------------+-------------------+-------------------+--------------+---------------+--------+----------+--------------+------------+--------+--------+---------+-------+-----------------+------------+-------------+--------+---------+-------------------+----------------+--------------+-------------+-------------------+-------------+\n",
            "|YEAR|MONTH|DAY|DAY_OF_WEEK|AIRLINE|FLIGHT_NUMBER|TAIL_NUMBER|ORIGIN_AIRPORT|DESTINATION_AIRPORT|SCHEDULED_DEPARTURE|DEPARTURE_TIME|DEPARTURE_DELAY|TAXI_OUT|WHEELS_OFF|SCHEDULED_TIME|ELAPSED_TIME|AIR_TIME|DISTANCE|WHEELS_ON|TAXI_IN|SCHEDULED_ARRIVAL|ARRIVAL_TIME|ARRIVAL_DELAY|DIVERTED|CANCELLED|CANCELLATION_REASON|AIR_SYSTEM_DELAY|SECURITY_DELAY|AIRLINE_DELAY|LATE_AIRCRAFT_DELAY|WEATHER_DELAY|\n",
            "+----+-----+---+-----------+-------+-------------+-----------+--------------+-------------------+-------------------+--------------+---------------+--------+----------+--------------+------------+--------+--------+---------+-------+-----------------+------------+-------------+--------+---------+-------------------+----------------+--------------+-------------+-------------------+-------------+\n",
            "|2015|    1|  1|          4|     AS|           98|     N407AS|           ANC|                SEA|                  5|          2354|            -11|      21|        15|           205|         194|     169|    1448|      404|      4|              430|         408|          -22|       0|        0|               null|            null|          null|         null|               null|         null|\n",
            "|2015|    1|  1|          4|     AA|         2336|     N3KUAA|           LAX|                PBI|                 10|             2|             -8|      12|        14|           280|         279|     263|    2330|      737|      4|              750|         741|           -9|       0|        0|               null|            null|          null|         null|               null|         null|\n",
            "|2015|    1|  1|          4|     US|          840|     N171US|           SFO|                CLT|                 20|            18|             -2|      16|        34|           286|         293|     266|    2296|      800|     11|              806|         811|            5|       0|        0|               null|            null|          null|         null|               null|         null|\n",
            "|2015|    1|  1|          4|     AA|          258|     N3HYAA|           LAX|                MIA|                 20|            15|             -5|      15|        30|           285|         281|     258|    2342|      748|      8|              805|         756|           -9|       0|        0|               null|            null|          null|         null|               null|         null|\n",
            "|2015|    1|  1|          4|     AS|          135|     N527AS|           SEA|                ANC|                 25|            24|             -1|      11|        35|           235|         215|     199|    1448|      254|      5|              320|         259|          -21|       0|        0|               null|            null|          null|         null|               null|         null|\n",
            "|2015|    1|  1|          4|     DL|          806|     N3730B|           SFO|                MSP|                 25|            20|             -5|      18|        38|           217|         230|     206|    1589|      604|      6|              602|         610|            8|       0|        0|               null|            null|          null|         null|               null|         null|\n",
            "|2015|    1|  1|          4|     NK|          612|     N635NK|           LAS|                MSP|                 25|            19|             -6|      11|        30|           181|         170|     154|    1299|      504|      5|              526|         509|          -17|       0|        0|               null|            null|          null|         null|               null|         null|\n",
            "|2015|    1|  1|          4|     US|         2013|     N584UW|           LAX|                CLT|                 30|            44|             14|      13|        57|           273|         249|     228|    2125|      745|      8|              803|         753|          -10|       0|        0|               null|            null|          null|         null|               null|         null|\n",
            "|2015|    1|  1|          4|     AA|         1112|     N3LAAA|           SFO|                DFW|                 30|            19|            -11|      17|        36|           195|         193|     173|    1464|      529|      3|              545|         532|          -13|       0|        0|               null|            null|          null|         null|               null|         null|\n",
            "|2015|    1|  1|          4|     DL|         1173|     N826DN|           LAS|                ATL|                 30|            33|              3|      12|        45|           221|         203|     186|    1747|      651|      5|              711|         656|          -15|       0|        0|               null|            null|          null|         null|               null|         null|\n",
            "|2015|    1|  1|          4|     DL|         2336|     N958DN|           DEN|                ATL|                 30|            24|             -6|      12|        36|           173|         149|     133|    1199|      449|      4|              523|         453|          -30|       0|        0|               null|            null|          null|         null|               null|         null|\n",
            "|2015|    1|  1|          4|     AA|         1674|     N853AA|           LAS|                MIA|                 35|            27|             -8|      21|        48|           268|         266|     238|    2174|      746|      7|              803|         753|          -10|       0|        0|               null|            null|          null|         null|               null|         null|\n",
            "|2015|    1|  1|          4|     DL|         1434|     N547US|           LAX|                MSP|                 35|            35|              0|      18|        53|           214|         210|     188|    1535|      601|      4|              609|         605|           -4|       0|        0|               null|            null|          null|         null|               null|         null|\n",
            "|2015|    1|  1|          4|     DL|         2324|     N3751B|           SLC|                ATL|                 40|            34|             -6|      18|        52|           215|         199|     176|    1590|      548|      5|              615|         553|          -22|       0|        0|               null|            null|          null|         null|               null|         null|\n",
            "|2015|    1|  1|          4|     DL|         2440|     N651DL|           SEA|                MSP|                 40|            39|             -1|      28|       107|           189|         198|     166|    1399|      553|      4|              549|         557|            8|       0|        0|               null|            null|          null|         null|               null|         null|\n",
            "|2015|    1|  1|          4|     AS|          108|     N309AS|           ANC|                SEA|                 45|            41|             -4|      17|        58|           204|         194|     173|    1448|      451|      4|              509|         455|          -14|       0|        0|               null|            null|          null|         null|               null|         null|\n",
            "|2015|    1|  1|          4|     DL|         1560|     N3743H|           ANC|                SEA|                 45|            31|            -14|      25|        56|           210|         200|     171|    1448|      447|      4|              515|         451|          -24|       0|        0|               null|            null|          null|         null|               null|         null|\n",
            "|2015|    1|  1|          4|     UA|         1197|     N78448|           SFO|                IAH|                 48|            42|             -6|      11|        53|           218|         217|     199|    1635|      612|      7|              626|         619|           -7|       0|        0|               null|            null|          null|         null|               null|         null|\n",
            "|2015|    1|  1|          4|     AS|          122|     N413AS|           ANC|                PDX|                 50|            46|             -4|      11|        57|           215|         201|     187|    1542|      504|      3|              525|         507|          -18|       0|        0|               null|            null|          null|         null|               null|         null|\n",
            "|2015|    1|  1|          4|     DL|         1670|     N806DN|           PDX|                MSP|                 50|            45|             -5|       9|        54|           193|         186|     171|    1426|      545|      6|              603|         551|          -12|       0|        0|               null|            null|          null|         null|               null|         null|\n",
            "+----+-----+---+-----------+-------+-------------+-----------+--------------+-------------------+-------------------+--------------+---------------+--------+----------+--------------+------------+--------+--------+---------+-------+-----------------+------------+-------------+--------+---------+-------------------+----------------+--------------+-------------+-------------------+-------------+\n",
            "only showing top 20 rows\n",
            "\n"
          ]
        }
      ]
    },
    {
      "cell_type": "code",
      "source": [
        "data.printSchema()"
      ],
      "metadata": {
        "id": "aLx61htPOYiv",
        "outputId": "3ff0da85-21a6-41aa-dbf2-3e690f6efdee",
        "colab": {
          "base_uri": "https://localhost:8080/"
        }
      },
      "execution_count": 89,
      "outputs": [
        {
          "output_type": "stream",
          "name": "stdout",
          "text": [
            "root\n",
            " |-- YEAR: integer (nullable = true)\n",
            " |-- MONTH: integer (nullable = true)\n",
            " |-- DAY: integer (nullable = true)\n",
            " |-- DAY_OF_WEEK: integer (nullable = true)\n",
            " |-- AIRLINE: string (nullable = true)\n",
            " |-- FLIGHT_NUMBER: integer (nullable = true)\n",
            " |-- TAIL_NUMBER: string (nullable = true)\n",
            " |-- ORIGIN_AIRPORT: string (nullable = true)\n",
            " |-- DESTINATION_AIRPORT: string (nullable = true)\n",
            " |-- SCHEDULED_DEPARTURE: integer (nullable = true)\n",
            " |-- DEPARTURE_TIME: integer (nullable = true)\n",
            " |-- DEPARTURE_DELAY: integer (nullable = true)\n",
            " |-- TAXI_OUT: integer (nullable = true)\n",
            " |-- WHEELS_OFF: integer (nullable = true)\n",
            " |-- SCHEDULED_TIME: integer (nullable = true)\n",
            " |-- ELAPSED_TIME: integer (nullable = true)\n",
            " |-- AIR_TIME: integer (nullable = true)\n",
            " |-- DISTANCE: integer (nullable = true)\n",
            " |-- WHEELS_ON: integer (nullable = true)\n",
            " |-- TAXI_IN: integer (nullable = true)\n",
            " |-- SCHEDULED_ARRIVAL: integer (nullable = true)\n",
            " |-- ARRIVAL_TIME: integer (nullable = true)\n",
            " |-- ARRIVAL_DELAY: integer (nullable = true)\n",
            " |-- DIVERTED: integer (nullable = true)\n",
            " |-- CANCELLED: integer (nullable = true)\n",
            " |-- CANCELLATION_REASON: string (nullable = true)\n",
            " |-- AIR_SYSTEM_DELAY: integer (nullable = true)\n",
            " |-- SECURITY_DELAY: integer (nullable = true)\n",
            " |-- AIRLINE_DELAY: integer (nullable = true)\n",
            " |-- LATE_AIRCRAFT_DELAY: integer (nullable = true)\n",
            " |-- WEATHER_DELAY: integer (nullable = true)\n",
            "\n"
          ]
        }
      ]
    },
    {
      "cell_type": "code",
      "source": [
        "nuevodf = data.filter(col('month').isin(6,7,8)).\\\n",
        "            withColumn('dis_tiempo_aire', col('DISTANCE')/col('AIR_TIME')).\\\n",
        "            select(\n",
        "                'AIRLINE',\n",
        "                'dis_tiempo_aire'\n",
        "                ).\\\n",
        "            where(col('AIRLINE').isin('AA','DL', 'AS'))"
      ],
      "metadata": {
        "id": "Nv4eIW-0PAMl"
      },
      "execution_count": 90,
      "outputs": []
    },
    {
      "cell_type": "code",
      "source": [
        "nuevodf.explain(True)"
      ],
      "metadata": {
        "id": "B74RcfPTPv8Z",
        "outputId": "f1fc419b-34a9-4551-cda7-18ede8b789ca",
        "colab": {
          "base_uri": "https://localhost:8080/"
        }
      },
      "execution_count": 92,
      "outputs": [
        {
          "output_type": "stream",
          "name": "stdout",
          "text": [
            "== Parsed Logical Plan ==\n",
            "'Filter 'AIRLINE IN (AA,DL,AS)\n",
            "+- Project [AIRLINE#521, dis_tiempo_aire#705]\n",
            "   +- Project [YEAR#517, MONTH#518, DAY#519, DAY_OF_WEEK#520, AIRLINE#521, FLIGHT_NUMBER#522, TAIL_NUMBER#523, ORIGIN_AIRPORT#524, DESTINATION_AIRPORT#525, SCHEDULED_DEPARTURE#526, DEPARTURE_TIME#527, DEPARTURE_DELAY#528, TAXI_OUT#529, WHEELS_OFF#530, SCHEDULED_TIME#531, ELAPSED_TIME#532, AIR_TIME#533, DISTANCE#534, WHEELS_ON#535, TAXI_IN#536, SCHEDULED_ARRIVAL#537, ARRIVAL_TIME#538, ARRIVAL_DELAY#539, DIVERTED#540, ... 8 more fields]\n",
            "      +- Filter month#518 IN (6,7,8)\n",
            "         +- Relation [YEAR#517,MONTH#518,DAY#519,DAY_OF_WEEK#520,AIRLINE#521,FLIGHT_NUMBER#522,TAIL_NUMBER#523,ORIGIN_AIRPORT#524,DESTINATION_AIRPORT#525,SCHEDULED_DEPARTURE#526,DEPARTURE_TIME#527,DEPARTURE_DELAY#528,TAXI_OUT#529,WHEELS_OFF#530,SCHEDULED_TIME#531,ELAPSED_TIME#532,AIR_TIME#533,DISTANCE#534,WHEELS_ON#535,TAXI_IN#536,SCHEDULED_ARRIVAL#537,ARRIVAL_TIME#538,ARRIVAL_DELAY#539,DIVERTED#540,... 7 more fields] parquet\n",
            "\n",
            "== Analyzed Logical Plan ==\n",
            "AIRLINE: string, dis_tiempo_aire: double\n",
            "Filter AIRLINE#521 IN (AA,DL,AS)\n",
            "+- Project [AIRLINE#521, dis_tiempo_aire#705]\n",
            "   +- Project [YEAR#517, MONTH#518, DAY#519, DAY_OF_WEEK#520, AIRLINE#521, FLIGHT_NUMBER#522, TAIL_NUMBER#523, ORIGIN_AIRPORT#524, DESTINATION_AIRPORT#525, SCHEDULED_DEPARTURE#526, DEPARTURE_TIME#527, DEPARTURE_DELAY#528, TAXI_OUT#529, WHEELS_OFF#530, SCHEDULED_TIME#531, ELAPSED_TIME#532, AIR_TIME#533, DISTANCE#534, WHEELS_ON#535, TAXI_IN#536, SCHEDULED_ARRIVAL#537, ARRIVAL_TIME#538, ARRIVAL_DELAY#539, DIVERTED#540, ... 8 more fields]\n",
            "      +- Filter month#518 IN (6,7,8)\n",
            "         +- Relation [YEAR#517,MONTH#518,DAY#519,DAY_OF_WEEK#520,AIRLINE#521,FLIGHT_NUMBER#522,TAIL_NUMBER#523,ORIGIN_AIRPORT#524,DESTINATION_AIRPORT#525,SCHEDULED_DEPARTURE#526,DEPARTURE_TIME#527,DEPARTURE_DELAY#528,TAXI_OUT#529,WHEELS_OFF#530,SCHEDULED_TIME#531,ELAPSED_TIME#532,AIR_TIME#533,DISTANCE#534,WHEELS_ON#535,TAXI_IN#536,SCHEDULED_ARRIVAL#537,ARRIVAL_TIME#538,ARRIVAL_DELAY#539,DIVERTED#540,... 7 more fields] parquet\n",
            "\n",
            "== Optimized Logical Plan ==\n",
            "Project [AIRLINE#521, (cast(DISTANCE#534 as double) / cast(AIR_TIME#533 as double)) AS dis_tiempo_aire#705]\n",
            "+- Filter (month#518 IN (6,7,8) AND AIRLINE#521 IN (AA,DL,AS))\n",
            "   +- Relation [YEAR#517,MONTH#518,DAY#519,DAY_OF_WEEK#520,AIRLINE#521,FLIGHT_NUMBER#522,TAIL_NUMBER#523,ORIGIN_AIRPORT#524,DESTINATION_AIRPORT#525,SCHEDULED_DEPARTURE#526,DEPARTURE_TIME#527,DEPARTURE_DELAY#528,TAXI_OUT#529,WHEELS_OFF#530,SCHEDULED_TIME#531,ELAPSED_TIME#532,AIR_TIME#533,DISTANCE#534,WHEELS_ON#535,TAXI_IN#536,SCHEDULED_ARRIVAL#537,ARRIVAL_TIME#538,ARRIVAL_DELAY#539,DIVERTED#540,... 7 more fields] parquet\n",
            "\n",
            "== Physical Plan ==\n",
            "*(1) Project [AIRLINE#521, (cast(DISTANCE#534 as double) / cast(AIR_TIME#533 as double)) AS dis_tiempo_aire#705]\n",
            "+- *(1) Filter (month#518 IN (6,7,8) AND AIRLINE#521 IN (AA,DL,AS))\n",
            "   +- *(1) ColumnarToRow\n",
            "      +- FileScan parquet [MONTH#518,AIRLINE#521,AIR_TIME#533,DISTANCE#534] Batched: true, DataFilters: [MONTH#518 IN (6,7,8), AIRLINE#521 IN (AA,DL,AS)], Format: Parquet, Location: InMemoryFileIndex(1 paths)[file:/content/vuelos.parquet], PartitionFilters: [], PushedFilters: [In(MONTH, [6,7,8]), In(AIRLINE, [AA,AS,DL])], ReadSchema: struct<MONTH:int,AIRLINE:string,AIR_TIME:int,DISTANCE:int>\n",
            "\n"
          ]
        }
      ]
    },
    {
      "cell_type": "code",
      "source": [],
      "metadata": {
        "id": "TRG4ORN1PzOD"
      },
      "execution_count": null,
      "outputs": []
    }
  ],
  "metadata": {
    "kernelspec": {
      "display_name": "Python 3 (ipykernel)",
      "language": "python",
      "name": "python3"
    },
    "language_info": {
      "codemirror_mode": {
        "name": "ipython",
        "version": 3
      },
      "file_extension": ".py",
      "mimetype": "text/x-python",
      "name": "python",
      "nbconvert_exporter": "python",
      "pygments_lexer": "ipython3",
      "version": "3.8.12"
    },
    "colab": {
      "provenance": []
    }
  },
  "nbformat": 4,
  "nbformat_minor": 0
}