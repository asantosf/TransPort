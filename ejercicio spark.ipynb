{
  "cells": [
    {
      "cell_type": "code",
      "source": [
        "!pip install spark\n",
        "!pip install pyspark\n",
        "!pip install findspark"
      ],
      "metadata": {
        "colab": {
          "base_uri": "https://localhost:8080/"
        },
        "id": "tyjwSmd4eft0",
        "outputId": "45d1d10b-51b2-463d-b496-f409b13d816e"
      },
      "execution_count": 1,
      "outputs": [
        {
          "output_type": "stream",
          "name": "stdout",
          "text": [
            "Collecting spark\n",
            "  Downloading spark-0.2.1.tar.gz (41 kB)\n",
            "\u001b[?25l     \u001b[90m━━━━━━━━━━━━━━━━━━━━━━━━━━━━━━━━━━━━━━━━\u001b[0m \u001b[32m0.0/41.0 kB\u001b[0m \u001b[31m?\u001b[0m eta \u001b[36m-:--:--\u001b[0m\r\u001b[2K     \u001b[90m━━━━━━━━━━━━━━━━━━━━━━━━━━━━━━━━━━━━━━━━\u001b[0m \u001b[32m41.0/41.0 kB\u001b[0m \u001b[31m1.0 MB/s\u001b[0m eta \u001b[36m0:00:00\u001b[0m\n",
            "\u001b[?25h  Preparing metadata (setup.py) ... \u001b[?25l\u001b[?25hdone\n",
            "Building wheels for collected packages: spark\n",
            "  Building wheel for spark (setup.py) ... \u001b[?25l\u001b[?25hdone\n",
            "  Created wheel for spark: filename=spark-0.2.1-py3-none-any.whl size=58748 sha256=b298088fd21ca34b7dde71782c5991213bd8e4b9533223989427fe0513c8ac6e\n",
            "  Stored in directory: /root/.cache/pip/wheels/63/88/77/b4131110ea4094540f7b47c6d62a649807d7e94800da5eab0b\n",
            "Successfully built spark\n",
            "Installing collected packages: spark\n",
            "Successfully installed spark-0.2.1\n",
            "Collecting pyspark\n",
            "  Downloading pyspark-3.5.0.tar.gz (316.9 MB)\n",
            "\u001b[2K     \u001b[90m━━━━━━━━━━━━━━━━━━━━━━━━━━━━━━━━━━━━━━━━\u001b[0m \u001b[32m316.9/316.9 MB\u001b[0m \u001b[31m4.5 MB/s\u001b[0m eta \u001b[36m0:00:00\u001b[0m\n",
            "\u001b[?25h  Preparing metadata (setup.py) ... \u001b[?25l\u001b[?25hdone\n",
            "Requirement already satisfied: py4j==0.10.9.7 in /usr/local/lib/python3.10/dist-packages (from pyspark) (0.10.9.7)\n",
            "Building wheels for collected packages: pyspark\n",
            "  Building wheel for pyspark (setup.py) ... \u001b[?25l\u001b[?25hdone\n",
            "  Created wheel for pyspark: filename=pyspark-3.5.0-py2.py3-none-any.whl size=317425344 sha256=1ac2f48f5e823d446ab4ee1661ade585d650655864d92ab3322c75e945645c1e\n",
            "  Stored in directory: /root/.cache/pip/wheels/41/4e/10/c2cf2467f71c678cfc8a6b9ac9241e5e44a01940da8fbb17fc\n",
            "Successfully built pyspark\n",
            "Installing collected packages: pyspark\n",
            "Successfully installed pyspark-3.5.0\n",
            "Collecting findspark\n",
            "  Downloading findspark-2.0.1-py2.py3-none-any.whl (4.4 kB)\n",
            "Installing collected packages: findspark\n",
            "Successfully installed findspark-2.0.1\n"
          ]
        }
      ]
    },
    {
      "cell_type": "code",
      "source": [
        "import spark\n",
        "import pyspark\n",
        "import findspark\n",
        "\n",
        "findspark.init()\n",
        "\n",
        "from spark import *\n",
        "from pyspark.sql import *\n",
        "from pyspark.sql.functions import *\n",
        "from pyspark.sql.types import *\n",
        "\n",
        "spark = SparkSession.builder.getOrCreate()"
      ],
      "metadata": {
        "id": "0t2oQr86ekay"
      },
      "execution_count": 2,
      "outputs": []
    },
    {
      "cell_type": "code",
      "source": [
        "salesOrderHeader = spark.read.option('header','true').option('inferSchema','true').option('delimiter',';').csv('Sales.SalesOrderHeader.csv')\n",
        "salesTerritory = spark.read.option('header','true').option('inferSchema','true').option('delimiter',';').csv('Sales.SalesTerritory.csv')\n",
        "salesOrderDetail = spark.read.option('header', 'true').option('inferSchema', 'true').option('delimiter',';').csv('Sales.SalesOrderDetail.csv')\n",
        "customer = spark.read.option('header', 'true').option('inferSchema', 'true').option('delimiter',';').csv('Sales.Customer.csv')\n",
        "product = spark.read.option('header', 'true').option('inferSchema', 'true').option('delimiter',';').csv('Production.Product.csv')"
      ],
      "metadata": {
        "id": "tQyzUdZlgGEw"
      },
      "execution_count": 32,
      "outputs": []
    },
    {
      "cell_type": "code",
      "source": [
        "salesOrderHeader.join(salesTerritory,'TerritoryID').\\\n",
        "select(\n",
        "    'SalesOrderID',\n",
        "    'Status',\n",
        "    date_format('OrderDate', 'yyyy-MM').alias('Mes'),\n",
        "    col('Name').alias('NombreTerritorio'),\n",
        "    when(col('Status') == 1, 1).otherwise(0).alias('TrProceso1'),\n",
        "    when(col('Status') == 2, 1).otherwise(0).alias('TrAprobadas1'),\n",
        "    when(col('Status') == 3, 1).otherwise(0).alias('TrAtrasadas1'),\n",
        "    when(col('Status') == 4, 1).otherwise(0).alias('TrRechazadas1'),\n",
        "    when(col('Status') == 5, 1).otherwise(0).alias('TrEnviadas1'),\n",
        "    when(col('Status') == 6, 1).otherwise(0).alias('TrCanceladas1'),\n",
        "    when(col('Status') == 1, salesOrderHeader['TotalDue']).otherwise(0).alias('MntProceso1'),\n",
        "    when(col('Status') == 2, salesOrderHeader['TotalDue']).otherwise(0).alias('MntAprobadas1'),\n",
        "    when(col('Status') == 3, salesOrderHeader['TotalDue']).otherwise(0).alias('MntAtrasadas1'),\n",
        "    when(col('Status') == 4, salesOrderHeader['TotalDue']).otherwise(0).alias('MntRechazadas1'),\n",
        "    when(col('Status') == 5, salesOrderHeader['TotalDue'].cast(DecimalType(38,2))).otherwise(0).alias('MntEnviadas1'),\n",
        "    when(col('Status') == 6, salesOrderHeader['TotalDue']).otherwise(0).alias('MntCanceladas1')\n",
        ").\\\n",
        "groupBy(\n",
        "    'Mes',\n",
        "    'NombreTerritorio'\n",
        ").\\\n",
        "agg(\n",
        "    sum('TrProceso1').alias('TrProceso'),\n",
        "    sum('TrAprobadas1').alias('TrAprobadas'),\n",
        "    sum('TrAtrasadas1').alias('TrAtrasadas'),\n",
        "    sum('TrRechazadas1').alias('TrRechazadas'),\n",
        "    sum('TrEnviadas1').alias('TrEnviadas'),\n",
        "    sum('TrCanceladas1').alias('TrCanceladas'),\n",
        "    sum('MntProceso1').alias('MntProceso'),\n",
        "    sum('MntAprobadas1').alias('MntAprobadas'),\n",
        "    sum('MntAtrasadas1').alias('MntAtrasadas'),\n",
        "    sum('MntRechazadas1').alias('MntRechazadas'),\n",
        "    sum('MntEnviadas1').alias('MntEnviadas'),\n",
        "    sum('MntCanceladas1').alias('MntCanceladas')\n",
        ").\\\n",
        "orderBy('Mes', 'NombreTerritorio').\\\n",
        "show()"
      ],
      "metadata": {
        "colab": {
          "base_uri": "https://localhost:8080/"
        },
        "id": "3aoyvdX8hVK8",
        "outputId": "78bcafee-368f-401d-e097-7d7c910723e3"
      },
      "execution_count": 52,
      "outputs": [
        {
          "output_type": "stream",
          "name": "stdout",
          "text": [
            "+-------+----------------+---------+-----------+-----------+------------+----------+------------+----------+------------+------------+-------------+-----------+-------------+\n",
            "|    Mes|NombreTerritorio|TrProceso|TrAprobadas|TrAtrasadas|TrRechazadas|TrEnviadas|TrCanceladas|MntProceso|MntAprobadas|MntAtrasadas|MntRechazadas|MntEnviadas|MntCanceladas|\n",
            "+-------+----------------+---------+-----------+-----------+------------+----------+------------+----------+------------+------------+-------------+-----------+-------------+\n",
            "|2011-05|       Australia|        0|          0|          0|           0|         1|           0|       0.0|         0.0|         0.0|          0.0|    3756.99|          0.0|\n",
            "|2011-05|          Canada|        0|          0|          0|           0|         8|           0|       0.0|         0.0|         0.0|          0.0|  133887.75|          0.0|\n",
            "|2011-05|         Central|        0|          0|          0|           0|         4|           0|       0.0|         0.0|         0.0|          0.0|   21664.30|          0.0|\n",
            "|2011-05|          France|        0|          0|          0|           0|         1|           0|       0.0|         0.0|         0.0|          0.0|    3756.99|          0.0|\n",
            "|2011-05|       Northeast|        0|          0|          0|           0|         4|           0|       0.0|         0.0|         0.0|          0.0|   24319.79|          0.0|\n",
            "|2011-05|       Northwest|        0|          0|          0|           0|         7|           0|       0.0|         0.0|         0.0|          0.0|  109490.72|          0.0|\n",
            "|2011-05|       Southeast|        0|          0|          0|           0|         9|           0|       0.0|         0.0|         0.0|          0.0|  133543.57|          0.0|\n",
            "|2011-05|       Southwest|        0|          0|          0|           0|         9|           0|       0.0|         0.0|         0.0|          0.0|  136600.85|          0.0|\n",
            "|2011-06|       Australia|        0|          0|          0|           0|        61|           0|       0.0|         0.0|         0.0|          0.0|  227909.51|          0.0|\n",
            "|2011-06|          Canada|        0|          0|          0|           0|         6|           0|       0.0|         0.0|         0.0|          0.0|   20317.82|          0.0|\n",
            "|2011-06|          France|        0|          0|          0|           0|        12|           0|       0.0|         0.0|         0.0|          0.0|   40635.64|          0.0|\n",
            "|2011-06|         Germany|        0|          0|          0|           0|        10|           0|       0.0|         0.0|         0.0|          0.0|   39342.90|          0.0|\n",
            "|2011-06|       Northwest|        0|          0|          0|           0|        18|           0|       0.0|         0.0|         0.0|          0.0|   60981.09|          0.0|\n",
            "|2011-06|       Southwest|        0|          0|          0|           0|        21|           0|       0.0|         0.0|         0.0|          0.0|   76473.81|          0.0|\n",
            "|2011-06|  United Kingdom|        0|          0|          0|           0|        13|           0|       0.0|         0.0|         0.0|          0.0|   41435.77|          0.0|\n",
            "|2011-07|       Australia|        0|          0|          0|           0|        68|           0|       0.0|         0.0|         0.0|          0.0|  245904.82|          0.0|\n",
            "|2011-07|          Canada|        0|          0|          0|           0|        30|           0|       0.0|         0.0|         0.0|          0.0|  388940.31|          0.0|\n",
            "|2011-07|         Central|        0|          0|          0|           0|         8|           0|       0.0|         0.0|         0.0|          0.0|  284715.03|          0.0|\n",
            "|2011-07|          France|        0|          0|          0|           0|         6|           0|       0.0|         0.0|         0.0|          0.0|   20120.82|          0.0|\n",
            "|2011-07|         Germany|        0|          0|          0|           0|        13|           0|       0.0|         0.0|         0.0|          0.0|   45038.89|          0.0|\n",
            "+-------+----------------+---------+-----------+-----------+------------+----------+------------+----------+------------+------------+-------------+-----------+-------------+\n",
            "only showing top 20 rows\n",
            "\n"
          ]
        }
      ]
    },
    {
      "cell_type": "code",
      "source": [
        "product_join = salesOrderDetail.join(product, 'ProductID').join(salesOrderHeader, 'SalesOrderID')\n",
        "customer_join = product_join.join(customer, 'CustomerID')"
      ],
      "metadata": {
        "id": "01hPA8FMXPkE"
      },
      "execution_count": 5,
      "outputs": []
    },
    {
      "cell_type": "code",
      "source": [
        "product_qty = product_join.\\\n",
        "select('ProductID', date_format('OrderDate', 'yyyy-MM').alias('Mes'), 'Status', 'OrderQty').\\\n",
        "where(col('Status') == 5).\\\n",
        "groupBy('Mes','ProductID').\\\n",
        "agg(sum('OrderQty').alias('Cantidad'))\n",
        "\n",
        "product_espec = Window.partitionBy('Mes').orderBy(desc('Cantidad'))\n",
        "product_qty = product_qty.withColumn('rn', row_number().over(product_espec)).\\\n",
        "select(\n",
        "    'Mes',\n",
        "    when(col('rn') == 1, product_qty['Cantidad']).otherwise(0).alias('Producto_N1'),\n",
        "    when(col('rn') == 2, product_qty['Cantidad']).otherwise(0).alias('Producto_N2'),\n",
        "    when(col('rn') == 3, product_qty['Cantidad']).otherwise(0).alias('Producto_N3'),\n",
        ").\\\n",
        "filter(col('rn') <= 3).\\\n",
        "groupBy('Mes').\\\n",
        "agg(\n",
        "    sum('Producto_N1').alias('Producto_N1'),\n",
        "    sum('Producto_N2').alias('Producto_N2'),\n",
        "    sum('Producto_N3').alias('Producto_N3')\n",
        ").\\\n",
        "orderBy('Mes')"
      ],
      "metadata": {
        "id": "7NThyLvudMPE"
      },
      "execution_count": 6,
      "outputs": []
    },
    {
      "cell_type": "code",
      "source": [
        "customer_bill = customer_join.\\\n",
        "select(date_format('OrderDate', 'yyyy-MM').alias('Mes'), 'CustomerID', 'Status', col('TotalDue').cast(DecimalType(38,2)).alias('TotalDue')).\\\n",
        "filter(col('Status') == 5).\\\n",
        "groupBy('Mes', 'CustomerID').\\\n",
        "agg(sum('TotalDue').alias('total_factu'))\n",
        "\n",
        "customer_spec = Window.partitionBy('Mes').orderBy(desc('total_factu'))\n",
        "customer_bill = customer_bill.withColumn('rn', row_number().over(customer_spec)).\\\n",
        "select(\n",
        "    'Mes',\n",
        "    when(col('rn') == 1, customer_bill['total_factu']).otherwise(0).alias('Cliente_N1'),\n",
        "    when(col('rn') == 2, customer_bill['total_factu']).otherwise(0).alias('Cliente_N2'),\n",
        "    when(col('rn') == 3, customer_bill['total_factu']).otherwise(0).alias('Cliente_N3')\n",
        ").\\\n",
        "filter(col('rn') <= 3).\\\n",
        "groupBy('Mes').\\\n",
        "agg(\n",
        "    sum('Cliente_N1').alias('Cliente_N1'),\n",
        "    sum('Cliente_N2').alias('Cliente_N2'),\n",
        "    sum('Cliente_N3').alias('Cliente_N3')\n",
        ")"
      ],
      "metadata": {
        "id": "Nr1auGkWdRwu"
      },
      "execution_count": 7,
      "outputs": []
    },
    {
      "cell_type": "code",
      "source": [
        "product_qty.join(customer_bill, 'mes').show()"
      ],
      "metadata": {
        "colab": {
          "base_uri": "https://localhost:8080/"
        },
        "id": "xEeS1eY4-3eU",
        "outputId": "c096d3b3-8152-4d59-b4a5-b4478348183a"
      },
      "execution_count": 8,
      "outputs": [
        {
          "output_type": "stream",
          "name": "stdout",
          "text": [
            "+-------+-----------+-----------+-----------+-----------+-----------+----------+\n",
            "|    Mes|Producto_N1|Producto_N2|Producto_N3| Cliente_N1| Cliente_N2|Cliente_N3|\n",
            "+-------+-----------+-----------+-----------+-----------+-----------+----------+\n",
            "|2011-05|         49|         46|         44| 1214147.76| 1174143.88| 804115.41|\n",
            "|2011-06|         28|         23|         21|    3953.99|    3953.99|   3953.99|\n",
            "|2011-07|        134|        114|        103| 2884209.09| 2869162.56|1606960.04|\n",
            "|2011-08|        167|        137|        113| 2255571.78| 1921769.85|1881760.20|\n",
            "|2011-09|         27|         23|         23|    3953.99|    3953.99|   3953.99|\n",
            "|2011-10|        240|        239|        224| 2846244.40| 2655280.25|2600539.48|\n",
            "|2011-11|         40|         35|         34|    3953.99|    3953.99|   3953.99|\n",
            "|2011-12|         52|         49|         45| 1158570.40|  907400.34| 649401.36|\n",
            "|2012-01|        181|        155|        153| 2296157.22| 2034090.03|2020403.40|\n",
            "|2012-02|         78|         59|         55| 2250245.72| 1345924.32| 988658.50|\n",
            "|2012-03|        135|        135|        125| 2327162.20| 2293812.20|2246759.04|\n",
            "|2012-04|        114|        113|        105| 2390926.68| 2367975.75|2033021.52|\n",
            "|2012-05|        357|        215|        214|11083323.55| 6237907.28|5972753.25|\n",
            "|2012-06|        409|        345|        334|10824910.20| 6903967.11|6860863.50|\n",
            "|2012-07|        347|        273|        254|10891897.50|10273675.10|9910446.48|\n",
            "|2012-08|        223|        173|        159| 4974755.94| 4967466.30|3917298.35|\n",
            "|2012-09|        331|        245|        234| 5550297.20| 5477133.27|5463953.34|\n",
            "|2012-10|        275|        220|        212| 6340937.12| 5134464.92|4987894.24|\n",
            "|2012-11|        176|         98|         97| 3095683.84| 2678327.96|2576019.60|\n",
            "|2012-12|        262|        160|        145| 3087100.90| 2867929.35|2840685.72|\n",
            "+-------+-----------+-----------+-----------+-----------+-----------+----------+\n",
            "only showing top 20 rows\n",
            "\n"
          ]
        }
      ]
    },
    {
      "cell_type": "code",
      "source": [
        "monthAVG = salesOrderHeader.select('subTotal', date_format('OrderDate','yyyy-MM').alias('Mes')).groupBy('Mes').agg(avg('subTotal').alias('monthAVG')).orderBy('Mes')\n",
        "\n",
        "groupMonthAVG = salesOrderHeader.join(salesTerritory, 'TerritoryID').select(date_format('OrderDate', 'yyyy-MM').alias('Mes'),'SubTotal', 'Group').groupBy('Mes', 'Group').\\\n",
        "agg(avg('SubTotal').alias('GroupMonthAvg')).orderBy('Mes', 'Group')\n",
        "\n",
        "monthAVG.join(groupMonthAVG, 'Mes').\\\n",
        "select(\n",
        "    col('Mes').alias('OrderMonth'),\n",
        "    col('Group').alias('TerritoryGroup'),\n",
        "    round('monthAVG',2).alias('MonthAvg'),\n",
        "    round(col('GroupMonthAvg') - col('MonthAvg'),2).alias('Diff'),\n",
        "    when(col('GroupMonthAvg') > col('MonthAvg'), 'Above').\\\n",
        "    when(col('GroupMonthAvg') < col('MonthAvg'), 'Below').\\\n",
        "    otherwise('Equal').alias('Indicator')\n",
        ").orderBy('Mes', 'Group').show()"
      ],
      "metadata": {
        "colab": {
          "base_uri": "https://localhost:8080/"
        },
        "id": "qr03LJxX_iBr",
        "outputId": "5bd386da-dc71-45a2-eb99-fd3c7da39e5e"
      },
      "execution_count": 104,
      "outputs": [
        {
          "output_type": "stream",
          "name": "stdout",
          "text": [
            "+----------+--------------+--------+---------+---------+\n",
            "|OrderMonth|TerritoryGroup|MonthAvg|     Diff|Indicator|\n",
            "+----------+--------------+--------+---------+---------+\n",
            "|   2011-05|        Europe|11716.42| -8316.43|    Below|\n",
            "|   2011-05| North America|11716.42|   405.68|    Above|\n",
            "|   2011-05|       Pacific|11716.42| -8316.43|    Below|\n",
            "|   2011-06|        Europe| 3254.69|  -115.34|    Below|\n",
            "|   2011-06| North America| 3254.69|   -81.78|    Below|\n",
            "|   2011-06|       Pacific| 3254.69|   126.51|    Above|\n",
            "|   2011-07|        Europe| 8851.08|  -5703.8|    Below|\n",
            "|   2011-07| North America| 8851.08|  4603.72|    Above|\n",
            "|   2011-07|       Pacific| 8851.08| -5578.46|    Below|\n",
            "|   2011-08|        Europe| 9983.27| -6919.52|    Below|\n",
            "|   2011-08| North America| 9983.27|  4073.21|    Above|\n",
            "|   2011-08|       Pacific| 9983.27| -6636.22|    Below|\n",
            "|   2011-09|        Europe| 3197.92|   -84.42|    Below|\n",
            "|   2011-09| North America| 3197.92|  -119.01|    Below|\n",
            "|   2011-09|       Pacific| 3197.92|    155.1|    Above|\n",
            "|   2011-10|        Europe|14032.91|-11039.92|    Below|\n",
            "|   2011-10| North America|14032.91|  4902.13|    Above|\n",
            "|   2011-10|       Pacific|14032.91|-10684.65|    Below|\n",
            "|   2011-11|        Europe|  3208.0|  -202.41|    Below|\n",
            "|   2011-11| North America|  3208.0|    55.39|    Above|\n",
            "+----------+--------------+--------+---------+---------+\n",
            "only showing top 20 rows\n",
            "\n"
          ]
        }
      ]
    },
    {
      "cell_type": "code",
      "source": [
        "secuenciales = spark.read.option('header', 'true').option('delimiter', ',').option('inferSchema', 'true').csv('Secuenciales.csv')"
      ],
      "metadata": {
        "id": "ooighIgziU4z"
      },
      "execution_count": null,
      "outputs": []
    },
    {
      "cell_type": "code",
      "source": [
        "sec_espec = Window.partitionBy('codigo').partitionBy('secuencial').orderBy('secuencial', 'secuencial')\n",
        "# sec_espec = Window.partitionBy('secuencial').partitionBy('codigo').orderBy(\"secuencial\").rowsBetween(Window.unboundedPreceding, Window.currentRow)\n",
        "# secuenciales.withColumn('lag', lag('codigo', 1).over(sec_espec)).filter(col('lag').isNull()).show()\n",
        "secuenciales.withColumn('rn', row_number().over(sec_espec)).orderBy(\"secuencial\").show()"
      ],
      "metadata": {
        "colab": {
          "base_uri": "https://localhost:8080/"
        },
        "id": "JsfP7PdMYlbT",
        "outputId": "979c33ca-a86f-46bc-a1d0-1da77e482996"
      },
      "execution_count": 31,
      "outputs": [
        {
          "output_type": "stream",
          "name": "stdout",
          "text": [
            "+----------+------+---+\n",
            "|secuencial|codigo| rn|\n",
            "+----------+------+---+\n",
            "|         0|  3606|  1|\n",
            "|         1|  3615|  1|\n",
            "|         2|  3607|  1|\n",
            "|         3|  3603|  1|\n",
            "|         4|  3608|  1|\n",
            "|         5|  3605|  1|\n",
            "|         6|  3606|  1|\n",
            "|         7|  3618|  1|\n",
            "|         8|  3606|  1|\n",
            "|         9|  3616|  1|\n",
            "|        10|  3611|  1|\n",
            "|        11|  3611|  1|\n",
            "|        12|  3604|  1|\n",
            "|        13|  3603|  1|\n",
            "|        14|  3608|  1|\n",
            "|        15|  3601|  1|\n",
            "|        16|  3612|  1|\n",
            "|        17|  3612|  1|\n",
            "|        18|  3605|  1|\n",
            "|        19|  3601|  1|\n",
            "+----------+------+---+\n",
            "only showing top 20 rows\n",
            "\n"
          ]
        }
      ]
    },
    {
      "cell_type": "code",
      "source": [
        "res = []\n",
        "currCod = 0\n",
        "counter = 0\n",
        "\n",
        "for value in secuenciales.collect():\n",
        "  if currCod == value[1]:\n",
        "    counter += 1\n",
        "  else:\n",
        "    counter = 0\n",
        "\n",
        "  if counter == 3:\n",
        "    res.append(currCod)\n",
        "\n",
        "  currCod = value[1]\n",
        "\n",
        "print(res)"
      ],
      "metadata": {
        "colab": {
          "base_uri": "https://localhost:8080/"
        },
        "id": "VoOLNd_ybFp2",
        "outputId": "f9acc94b-9928-4886-df79-5d957e22b6bb"
      },
      "execution_count": 179,
      "outputs": [
        {
          "output_type": "stream",
          "name": "stdout",
          "text": [
            "[3620]\n"
          ]
        }
      ]
    },
    {
      "cell_type": "code",
      "source": [
        "person = spark.read.option('header','true').option('inferSchema', 'true').option('delimiter', ';').csv('Person.Person.csv')"
      ],
      "metadata": {
        "id": "e-mEDXafvcVc"
      },
      "execution_count": 33,
      "outputs": []
    },
    {
      "cell_type": "code",
      "source": [
        "customers = customer.join(person, person['BusinessEntityID'] == customer['PersonID']).\\\n",
        "select(\n",
        "    'CustomerID',\n",
        "    concat_ws(' ', person.FirstName, person.LastName).alias('NombreCliente')\n",
        ")"
      ],
      "metadata": {
        "id": "I7Xq-aUKdylZ"
      },
      "execution_count": 59,
      "outputs": []
    },
    {
      "cell_type": "code",
      "source": [
        "spec_compras = Window.partitionBy('CustomerID').orderBy(desc('OrderDate'))\n",
        "\n",
        "ultimas_compras = salesOrderHeader\\\n",
        ".withColumn('rn', row_number().over(spec_compras))\\\n",
        ".select(\n",
        "    'CustomerID',\n",
        "    when(col('rn') == 1, salesOrderHeader['OrderDate']).alias('UltCompra'),\n",
        "    when(col('rn') == 2, salesOrderHeader['OrderDate']).alias('PenultCompra'),\n",
        "    when(col('rn') == 3, salesOrderHeader['OrderDate']).alias('AntepenultCompra')\n",
        ")\\\n",
        ".filter(\n",
        "    col('rn') <= 3\n",
        ")\\\n",
        ".filter(\n",
        "    col('Status') == 5\n",
        ")\\\n",
        ".groupBy('CustomerID')\\\n",
        ".agg(\n",
        "    max('UltCompra').alias('UltCompra'),\n",
        "    max('PenultCompra').alias('PenultCompra'),\n",
        "    max('AntepenultCompra').alias('AntepenultCompra')\n",
        ")"
      ],
      "metadata": {
        "id": "Wvfslqm5hHSD"
      },
      "execution_count": 119,
      "outputs": []
    },
    {
      "cell_type": "code",
      "source": [
        "ultimas_compras.join(customers, 'CustomerID')\\\n",
        ".select(\n",
        "    date_format('UltCompra', 'yyyy-MM').alias('Mes'),\n",
        "    'NombreCliente',\n",
        "    col('UltCompra').alias('FechaUltCompra'),\n",
        "    coalesce(date_diff('UltCompra', 'PenultCompra'), lit(0)).alias('DiasUC_PC'),\n",
        "    coalesce(date_diff('PenultCompra', 'AntepenultCompra'), lit(0)).alias('DiasPC_APC')\n",
        ")\\\n",
        ".orderBy(col('Mes').desc(), 'NombreCliente')\\\n",
        ".show()"
      ],
      "metadata": {
        "colab": {
          "base_uri": "https://localhost:8080/"
        },
        "id": "gwimHBZHpv-x",
        "outputId": "eaee9de2-fa7e-4a20-f82a-3f17ed8ef57b"
      },
      "execution_count": 131,
      "outputs": [
        {
          "output_type": "stream",
          "name": "stdout",
          "text": [
            "+-------+-------------------+-------------------+---------+----------+\n",
            "|    Mes|      NombreCliente|     FechaUltCompra|DiasUC_PC|DiasPC_APC|\n",
            "+-------+-------------------+-------------------+---------+----------+\n",
            "|2014-06|    Aaron Henderson|2014-06-04 00:00:00|        0|         0|\n",
            "|2014-06|       Aaron Sharma|2014-06-02 00:00:00|       19|         0|\n",
            "|2014-06|     Abigail Barnes|2014-06-11 00:00:00|        0|         0|\n",
            "|2014-06|        Adrian Bell|2014-06-20 00:00:00|      183|         0|\n",
            "|2014-06|     Adrian Stewart|2014-06-27 00:00:00|      182|         0|\n",
            "|2014-06|       Adriana Rana|2014-06-17 00:00:00|        0|         0|\n",
            "|2014-06|        Aidan Hayes|2014-06-03 00:00:00|        0|         0|\n",
            "|2014-06|           Alan Sun|2014-06-14 00:00:00|        0|         0|\n",
            "|2014-06|          Alan Zhou|2014-06-14 00:00:00|      198|         0|\n",
            "|2014-06|      Albert Castro|2014-06-30 00:00:00|        0|         0|\n",
            "|2014-06|      Alberto Gomez|2014-06-27 00:00:00|        0|         0|\n",
            "|2014-06|     Alberto Suarez|2014-06-11 00:00:00|      278|         0|\n",
            "|2014-06|        Alex Nelson|2014-06-27 00:00:00|        0|         0|\n",
            "|2014-06|      Alex Peterson|2014-06-29 00:00:00|      149|        38|\n",
            "|2014-06|       Alexa Howard|2014-06-10 00:00:00|        0|         0|\n",
            "|2014-06|   Alexander Martin|2014-06-30 00:00:00|       53|         0|\n",
            "|2014-06|Alexandra Alexander|2014-06-29 00:00:00|        0|         0|\n",
            "|2014-06|   Alexandra Carter|2014-06-18 00:00:00|        0|         0|\n",
            "|2014-06|  Alexandra Griffin|2014-06-25 00:00:00|        0|         0|\n",
            "|2014-06|  Alexandra Jenkins|2014-06-05 00:00:00|       11|        41|\n",
            "+-------+-------------------+-------------------+---------+----------+\n",
            "only showing top 20 rows\n",
            "\n"
          ]
        }
      ]
    }
  ],
  "metadata": {
    "kernelspec": {
      "display_name": "Python 3 (ipykernel)",
      "language": "python",
      "name": "python3"
    },
    "language_info": {
      "codemirror_mode": {
        "name": "ipython",
        "version": 3
      },
      "file_extension": ".py",
      "mimetype": "text/x-python",
      "name": "python",
      "nbconvert_exporter": "python",
      "pygments_lexer": "ipython3",
      "version": "3.8.12"
    },
    "colab": {
      "provenance": []
    }
  },
  "nbformat": 4,
  "nbformat_minor": 0
}