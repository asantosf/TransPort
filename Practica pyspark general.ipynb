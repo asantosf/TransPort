{
  "cells": [
    {
      "cell_type": "code",
      "source": [
        "!pip install findspark\n",
        "!pip install pyspark\n",
        "!pip install spark"
      ],
      "metadata": {
        "id": "rqzGafdhHxA0",
        "outputId": "f2614c85-6405-481e-e5d9-3e7ece157cca",
        "colab": {
          "base_uri": "https://localhost:8080/"
        }
      },
      "execution_count": 3,
      "outputs": [
        {
          "output_type": "stream",
          "name": "stdout",
          "text": [
            "Collecting findspark\n",
            "  Downloading findspark-2.0.1-py2.py3-none-any.whl (4.4 kB)\n",
            "Installing collected packages: findspark\n",
            "Successfully installed findspark-2.0.1\n",
            "Collecting pyspark\n",
            "  Downloading pyspark-3.4.1.tar.gz (310.8 MB)\n",
            "\u001b[2K     \u001b[90m━━━━━━━━━━━━━━━━━━━━━━━━━━━━━━━━━━━━━━━\u001b[0m \u001b[32m310.8/310.8 MB\u001b[0m \u001b[31m3.0 MB/s\u001b[0m eta \u001b[36m0:00:00\u001b[0m\n",
            "\u001b[?25h  Preparing metadata (setup.py) ... \u001b[?25l\u001b[?25hdone\n",
            "Requirement already satisfied: py4j==0.10.9.7 in /usr/local/lib/python3.10/dist-packages (from pyspark) (0.10.9.7)\n",
            "Building wheels for collected packages: pyspark\n",
            "  Building wheel for pyspark (setup.py) ... \u001b[?25l\u001b[?25hdone\n",
            "  Created wheel for pyspark: filename=pyspark-3.4.1-py2.py3-none-any.whl size=311285387 sha256=cbdc5e067332e4a5daba6c964a3786274708643771bef24e16998a3606e9fded\n",
            "  Stored in directory: /root/.cache/pip/wheels/0d/77/a3/ff2f74cc9ab41f8f594dabf0579c2a7c6de920d584206e0834\n",
            "Successfully built pyspark\n",
            "Installing collected packages: pyspark\n",
            "Successfully installed pyspark-3.4.1\n",
            "Collecting spark\n",
            "  Downloading spark-0.2.1.tar.gz (41 kB)\n",
            "\u001b[2K     \u001b[90m━━━━━━━━━━━━━━━━━━━━━━━━━━━━━━━━━━━━━━━━\u001b[0m \u001b[32m41.0/41.0 kB\u001b[0m \u001b[31m1.1 MB/s\u001b[0m eta \u001b[36m0:00:00\u001b[0m\n",
            "\u001b[?25h  Preparing metadata (setup.py) ... \u001b[?25l\u001b[?25hdone\n",
            "Building wheels for collected packages: spark\n",
            "  Building wheel for spark (setup.py) ... \u001b[?25l\u001b[?25hdone\n",
            "  Created wheel for spark: filename=spark-0.2.1-py3-none-any.whl size=58748 sha256=ef5d8e4c1afc86fb765e6553c0f7d4d9ce2f40d2a00541791e0c96f5c6f18b80\n",
            "  Stored in directory: /root/.cache/pip/wheels/63/88/77/b4131110ea4094540f7b47c6d62a649807d7e94800da5eab0b\n",
            "Successfully built spark\n",
            "Installing collected packages: spark\n",
            "Successfully installed spark-0.2.1\n"
          ]
        }
      ]
    },
    {
      "cell_type": "code",
      "source": [
        "import pyspark\n",
        "import findspark\n",
        "import spark\n",
        "\n",
        "findspark.init()\n",
        "\n",
        "from pyspark.sql import SparkSession\n",
        "from pyspark.sql.functions import *\n",
        "\n",
        "spark = SparkSession.builder.getOrCreate()"
      ],
      "metadata": {
        "id": "Cc8bMLK2uT4k"
      },
      "execution_count": 5,
      "outputs": []
    },
    {
      "cell_type": "code",
      "source": [
        "jugadores = spark.read.option('inferSchema', 'true').option('header', 'true').csv('players.csv')\n",
        "apariciones = spark.read.option('inferSchema', 'true').option('header', 'true').csv('appearances.csv')\n",
        "competiciones = spark.read.option('inferSchema', 'true').option('header', 'true').csv('competitions.csv')\n",
        "juegos = spark.read.option('inferSchema', 'true').option('header', 'true').csv('games.csv')"
      ],
      "metadata": {
        "id": "CHequ9i58knL"
      },
      "execution_count": 27,
      "outputs": []
    },
    {
      "cell_type": "code",
      "source": [
        "jugadores.groupBy('country_of_birth').agg(countDistinct('player_id').alias('conteo'))\\\n",
        ".orderBy(desc('conteo'))\\\n",
        ".filter(col('country_of_birth').isNotNull())\\\n",
        ".limit(3).show()"
      ],
      "metadata": {
        "id": "l0enHj-v9EME",
        "outputId": "9931a20f-e104-4cb2-f251-38acf99b4e7e",
        "colab": {
          "base_uri": "https://localhost:8080/"
        }
      },
      "execution_count": 15,
      "outputs": [
        {
          "output_type": "stream",
          "name": "stdout",
          "text": [
            "+----------------+------+\n",
            "|country_of_birth|conteo|\n",
            "+----------------+------+\n",
            "|          France|  1694|\n",
            "|           Spain|  1388|\n",
            "|           Italy|  1312|\n",
            "+----------------+------+\n",
            "\n"
          ]
        }
      ]
    },
    {
      "cell_type": "code",
      "source": [
        "jugadores.join(apariciones, apariciones.player_id == jugadores.player_id)\\\n",
        ".filter(col('game_id').isNotNull())\\\n",
        ".filter(col('red_cards') > 0)\\\n",
        ".groupBy('pretty_name')\\\n",
        ".agg(count('red_cards').alias('tarjetas_rojas'))\\\n",
        ".orderBy(desc('tarjetas_rojas'))\\\n",
        ".show(truncate=False)"
      ],
      "metadata": {
        "id": "QzUdw0O294vI",
        "outputId": "1e4c8620-fb3d-46f3-fd43-e4e44404a695",
        "colab": {
          "base_uri": "https://localhost:8080/"
        }
      },
      "execution_count": 24,
      "outputs": [
        {
          "output_type": "stream",
          "name": "stdout",
          "text": [
            "+----------------------+--------------+\n",
            "|pretty_name           |tarjetas_rojas|\n",
            "+----------------------+--------------+\n",
            "|Marcelo               |6             |\n",
            "|Domenico Berardi      |5             |\n",
            "|Rodrigo               |5             |\n",
            "|Granit Xhaka          |5             |\n",
            "|Thomas Lam            |5             |\n",
            "|Mario Balotelli       |5             |\n",
            "|Hilton                |5             |\n",
            "|Joao Pedro            |4             |\n",
            "|David Luiz            |4             |\n",
            "|Rafik Halliche        |4             |\n",
            "|Kalidou Koulibaly     |4             |\n",
            "|Ante Rebic            |4             |\n",
            "|Yannick Cahuzac       |4             |\n",
            "|Damien Da Silva       |4             |\n",
            "|Ramon Leeuwin         |4             |\n",
            "|Timothee Kolodziejczak|4             |\n",
            "|Roberto Soriano       |4             |\n",
            "|Rodrigo De Paul       |4             |\n",
            "|Ivan Ordets           |4             |\n",
            "|Stefan Mitrovic       |4             |\n",
            "+----------------------+--------------+\n",
            "only showing top 20 rows\n",
            "\n"
          ]
        }
      ]
    },
    {
      "cell_type": "code",
      "source": [
        "juegos.join(competiciones, competiciones.competition_id == juegos.competition_code)\\\n",
        ".filter(col('name') == 'premier-liga')\\\n",
        ".groupBy('name').agg(count('game_id').alias('juegos'))\\\n",
        ".show()"
      ],
      "metadata": {
        "id": "stsUrZTnBRmZ",
        "outputId": "c3fea10e-f1e2-4105-d56a-2821a99992e7",
        "colab": {
          "base_uri": "https://localhost:8080/"
        }
      },
      "execution_count": 31,
      "outputs": [
        {
          "output_type": "stream",
          "name": "stdout",
          "text": [
            "+------------+------+\n",
            "|        name|juegos|\n",
            "+------------+------+\n",
            "|premier-liga|  3084|\n",
            "+------------+------+\n",
            "\n"
          ]
        }
      ]
    },
    {
      "cell_type": "code",
      "source": [
        "juegos.join(competiciones, competiciones.competition_id == juegos.competition_code)\\\n",
        ".groupBy('name').agg(sum('attendance').alias('asistencia'))\\\n",
        ".filter(col('name').isNotNull())\\\n",
        ".orderBy(desc('asistencia'))\\\n",
        ".limit(3)\\\n",
        ".show()"
      ],
      "metadata": {
        "id": "gS1GzlcmDgN3",
        "outputId": "08abc437-ee31-4a50-e9c1-4a6ae1e624d9",
        "colab": {
          "base_uri": "https://localhost:8080/"
        }
      },
      "execution_count": 37,
      "outputs": [
        {
          "output_type": "stream",
          "name": "stdout",
          "text": [
            "+--------------+----------+\n",
            "|          name|asistencia|\n",
            "+--------------+----------+\n",
            "|premier-league|  86964852|\n",
            "|    bundesliga|  78102473|\n",
            "|        laliga|  62943533|\n",
            "+--------------+----------+\n",
            "\n"
          ]
        }
      ]
    },
    {
      "cell_type": "code",
      "source": [
        "pelis = spark.read.option('inferSchema','true').option('delimiter','|').option('header','true').csv('movies.csv')"
      ],
      "metadata": {
        "id": "g_qP4U3mJC_T",
        "outputId": "c630e83b-df13-4898-fe6b-08af4895c043",
        "colab": {
          "base_uri": "https://localhost:8080/"
        }
      },
      "execution_count": 39,
      "outputs": [
        {
          "output_type": "stream",
          "name": "stdout",
          "text": [
            "+-----------------+--------------------+----+\n",
            "|            actor|            pelicula| año|\n",
            "+-----------------+--------------------+----+\n",
            "|McClure, Marc (I)|       Freaky Friday|2003|\n",
            "|McClure, Marc (I)|        Coach Carter|2005|\n",
            "|McClure, Marc (I)|         Superman II|1980|\n",
            "|McClure, Marc (I)|           Apollo 13|1995|\n",
            "|McClure, Marc (I)|            Superman|1978|\n",
            "|McClure, Marc (I)|  Back to the Future|1985|\n",
            "|McClure, Marc (I)|Back to the Futur...|1990|\n",
            "|Cooper, Chris (I)|  Me, Myself & Irene|2000|\n",
            "|Cooper, Chris (I)|         October Sky|1999|\n",
            "|Cooper, Chris (I)|              Capote|2005|\n",
            "|Cooper, Chris (I)|The Bourne Supremacy|2004|\n",
            "|Cooper, Chris (I)|         The Patriot|2000|\n",
            "|Cooper, Chris (I)|            The Town|2010|\n",
            "|Cooper, Chris (I)|          Seabiscuit|2003|\n",
            "|Cooper, Chris (I)|      A Time to Kill|1996|\n",
            "|Cooper, Chris (I)|Where the Wild Th...|2009|\n",
            "|Cooper, Chris (I)|         The Muppets|2011|\n",
            "|Cooper, Chris (I)|     American Beauty|1999|\n",
            "|Cooper, Chris (I)|             Syriana|2005|\n",
            "|Cooper, Chris (I)| The Horse Whisperer|1998|\n",
            "+-----------------+--------------------+----+\n",
            "only showing top 20 rows\n",
            "\n"
          ]
        }
      ]
    },
    {
      "cell_type": "code",
      "source": [
        "pelis.groupBy('actor').agg(count('pelicula').alias('conteo')).orderBy(desc('conteo')).show()"
      ],
      "metadata": {
        "id": "5h-QZV3RMdRB",
        "outputId": "8fb61b12-b2b2-478f-d36f-0b18fd87994e",
        "colab": {
          "base_uri": "https://localhost:8080/"
        }
      },
      "execution_count": 40,
      "outputs": [
        {
          "output_type": "stream",
          "name": "stdout",
          "text": [
            "+-------------------+------+\n",
            "|              actor|conteo|\n",
            "+-------------------+------+\n",
            "|   Tatasciore, Fred|    38|\n",
            "|      Welker, Frank|    38|\n",
            "| Jackson, Samuel L.|    32|\n",
            "|      Harnell, Jess|    31|\n",
            "|        Damon, Matt|    27|\n",
            "|      Willis, Bruce|    27|\n",
            "|  Cummings, Jim (I)|    26|\n",
            "|         Hanks, Tom|    25|\n",
            "|   Lynn, Sherry (I)|    25|\n",
            "|    McGowan, Mickie|    25|\n",
            "|    Bergen, Bob (I)|    25|\n",
            "|      Proctor, Phil|    24|\n",
            "|   Wilson, Owen (I)|    23|\n",
            "|        Cruise, Tom|    23|\n",
            "|         Pitt, Brad|    23|\n",
            "|Freeman, Morgan (I)|    22|\n",
            "|Williams, Robin (I)|    22|\n",
            "|       Depp, Johnny|    22|\n",
            "|     Morrison, Rana|    22|\n",
            "|      Diaz, Cameron|    21|\n",
            "+-------------------+------+\n",
            "only showing top 20 rows\n",
            "\n"
          ]
        }
      ]
    },
    {
      "cell_type": "code",
      "source": [
        "pelis.select(\n",
        "    'año',\n",
        "    when((col('año') > 1900) & (col('año') <= 2000), 'Siglo XX').otherwise('Siglo XXI').alias('siglo')\n",
        ")\\\n",
        ".groupBy('año', 'siglo').agg(count_distinct('año').alias('conteo'))\\\n",
        ".orderBy(desc('conteo'))\\\n",
        ".show()"
      ],
      "metadata": {
        "id": "u26jQ-a5Nl4b",
        "outputId": "d64f487e-1b54-448a-97a4-172839806209",
        "colab": {
          "base_uri": "https://localhost:8080/"
        }
      },
      "execution_count": 61,
      "outputs": [
        {
          "output_type": "stream",
          "name": "stdout",
          "text": [
            "+----+---------+------+\n",
            "| año|    siglo|conteo|\n",
            "+----+---------+------+\n",
            "|2012|Siglo XXI|     1|\n",
            "|2000| Siglo XX|     1|\n",
            "|1996| Siglo XX|     1|\n",
            "|2010|Siglo XXI|     1|\n",
            "|1982| Siglo XX|     1|\n",
            "|1992| Siglo XX|     1|\n",
            "|1994| Siglo XX|     1|\n",
            "|1975| Siglo XX|     1|\n",
            "|1997| Siglo XX|     1|\n",
            "|1961| Siglo XX|     1|\n",
            "|1986| Siglo XX|     1|\n",
            "|1983| Siglo XX|     1|\n",
            "|1980| Siglo XX|     1|\n",
            "|2005|Siglo XXI|     1|\n",
            "|2003|Siglo XXI|     1|\n",
            "|1977| Siglo XX|     1|\n",
            "|2006|Siglo XXI|     1|\n",
            "|1999| Siglo XX|     1|\n",
            "|2002|Siglo XXI|     1|\n",
            "|2007|Siglo XXI|     1|\n",
            "+----+---------+------+\n",
            "only showing top 20 rows\n",
            "\n"
          ]
        }
      ]
    },
    {
      "cell_type": "code",
      "source": [
        "ratings = spark.read.option('inferSchema','true').option('header','true').option('delimiter','|').csv('movie_ratings.csv')\n",
        "ratings.show()"
      ],
      "metadata": {
        "id": "sCMDR5WTPvgV",
        "outputId": "3eb0d110-e699-42f3-cd0f-65d4ef0999ac",
        "colab": {
          "base_uri": "https://localhost:8080/"
        }
      },
      "execution_count": 51,
      "outputs": [
        {
          "output_type": "stream",
          "name": "stdout",
          "text": [
            "+----------+--------------------+----+\n",
            "|valoracion|            pelicula| año|\n",
            "+----------+--------------------+----+\n",
            "|    1.6339|'Crocodile' Dunde...|1988|\n",
            "|    7.6177|                  10|1979|\n",
            "|    1.2864|10 Things I Hate ...|1999|\n",
            "|    0.3243|           10,000 BC|2008|\n",
            "|    0.3376|      101 Dalmatians|1996|\n",
            "|    0.5218|      102 Dalmatians|2000|\n",
            "|   12.8205|                1066|2012|\n",
            "|    0.6829|                  12|2007|\n",
            "|    7.4061|           12 Rounds|2009|\n",
            "|    2.3677|           127 Hours|2010|\n",
            "|    1.3585|      13 Going on 30|2004|\n",
            "|    8.4034|     13 game sayawng|2006|\n",
            "|      0.59|                1408|2007|\n",
            "|    4.4292|          15 Minutes|2001|\n",
            "|    2.2118|           16 Blocks|2006|\n",
            "|    1.0491|            17 Again|2009|\n",
            "|    3.9265|                1941|1979|\n",
            "|   10.4757|2 Days in the Valley|1996|\n",
            "|       0.4|    2 Fast 2 Furious|2003|\n",
            "|   11.1111|              2 Guns|2013|\n",
            "+----------+--------------------+----+\n",
            "only showing top 20 rows\n",
            "\n"
          ]
        }
      ]
    },
    {
      "cell_type": "code",
      "source": [
        "from pyspark.sql.window import Window\n",
        "window_spec = Window.partitionBy('año').orderBy(desc('valoracion'))\n",
        "ratings.withColumn('rn', row_number().over(window_spec))\\\n",
        ".filter(col('rn') == 1)\\\n",
        ".select('año', 'pelicula', 'valoracion')\\\n",
        ".show(truncate=False)"
      ],
      "metadata": {
        "id": "rD2G3eSIQoIB",
        "outputId": "9ba9ca8a-4faf-4540-904a-a9280f515a5b",
        "colab": {
          "base_uri": "https://localhost:8080/"
        }
      },
      "execution_count": 63,
      "outputs": [
        {
          "output_type": "stream",
          "name": "stdout",
          "text": [
            "+----+-------------------------------+----------+\n",
            "|año |pelicula                       |valoracion|\n",
            "+----+-------------------------------+----------+\n",
            "|1937|Snow White and the Seven Dwarfs|2.2207    |\n",
            "|1939|The Wizard of Oz               |7.9215    |\n",
            "|1940|Pinocchio                      |7.8557    |\n",
            "|1942|Bambi                          |1.5053    |\n",
            "|1946|Song of the South              |7.602     |\n",
            "|1950|Cinderella                     |9.4226    |\n",
            "|1953|Peter Pan                      |5.4756    |\n",
            "|1954|Rear Window                    |10.7625   |\n",
            "|1955|Lady and the Tramp             |5.1258    |\n",
            "|1956|Around the World in Eighty Days|14.0607   |\n",
            "|1959|Sleeping Beauty                |6.3919    |\n",
            "|1960|Psycho                         |10.6375   |\n",
            "|1961|One Hundred and One Dalmatians |0.6726    |\n",
            "|1962|The Longest Day                |12.8866   |\n",
            "|1963|It's a Mad Mad Mad Mad World   |6.626     |\n",
            "|1964|My Fair Lady                   |7.587     |\n",
            "|1965|Doctor Zhivago                 |4.9304    |\n",
            "|1966|Who's Afraid of Virginia Woolf?|11.1111   |\n",
            "|1967|The Dirty Dozen                |13.388    |\n",
            "|1968|The Love Bug                   |13.4383   |\n",
            "+----+-------------------------------+----------+\n",
            "only showing top 20 rows\n",
            "\n"
          ]
        }
      ]
    }
  ],
  "metadata": {
    "kernelspec": {
      "display_name": "Python 3 (ipykernel)",
      "language": "python",
      "name": "python3"
    },
    "language_info": {
      "codemirror_mode": {
        "name": "ipython",
        "version": 3
      },
      "file_extension": ".py",
      "mimetype": "text/x-python",
      "name": "python",
      "nbconvert_exporter": "python",
      "pygments_lexer": "ipython3",
      "version": "3.8.12"
    },
    "colab": {
      "provenance": []
    }
  },
  "nbformat": 4,
  "nbformat_minor": 0
}