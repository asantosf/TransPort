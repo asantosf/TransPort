{
  "cells": [
    {
      "cell_type": "markdown",
      "metadata": {
        "id": "view-in-github",
        "colab_type": "text"
      },
      "source": [
        "<a href=\"https://colab.research.google.com/github/asantosf/TransPort/blob/main/Datos_externos_archivos_locales%2C_Drive%2C_Hojas_de_c%C3%A1lculo_y_Cloud_Storag.ipynb\" target=\"_parent\"><img src=\"https://colab.research.google.com/assets/colab-badge.svg\" alt=\"Open In Colab\"/></a>"
      ]
    },
    {
      "cell_type": "markdown",
      "source": [
        "# Incisos"
      ],
      "metadata": {
        "id": "rZobpjBmLn62"
      }
    },
    {
      "cell_type": "code",
      "source": [
        "!pip install pyspark"
      ],
      "metadata": {
        "id": "lWcwDDCGLkq4",
        "outputId": "8d3377ca-074b-4eeb-ae3f-7d48e9308a25",
        "colab": {
          "base_uri": "https://localhost:8080/"
        }
      },
      "execution_count": 20,
      "outputs": [
        {
          "output_type": "stream",
          "name": "stdout",
          "text": [
            "Requirement already satisfied: pyspark in /usr/local/lib/python3.10/dist-packages (3.4.1)\n",
            "Requirement already satisfied: py4j==0.10.9.7 in /usr/local/lib/python3.10/dist-packages (from pyspark) (0.10.9.7)\n"
          ]
        }
      ]
    },
    {
      "cell_type": "code",
      "source": [
        "!pip install findspark"
      ],
      "metadata": {
        "colab": {
          "base_uri": "https://localhost:8080/"
        },
        "id": "_ZKSQ_gefHyl",
        "outputId": "2e0d50e4-fd9d-4cd5-ea97-a9b1ddf12766"
      },
      "execution_count": 2,
      "outputs": [
        {
          "output_type": "stream",
          "name": "stdout",
          "text": [
            "Collecting findspark\n",
            "  Downloading findspark-2.0.1-py2.py3-none-any.whl (4.4 kB)\n",
            "Installing collected packages: findspark\n",
            "Successfully installed findspark-2.0.1\n"
          ]
        }
      ]
    },
    {
      "cell_type": "code",
      "source": [
        "import findspark\n",
        "findspark.init()\n",
        "\n",
        "import pandas as pd\n",
        "import pyspark"
      ],
      "metadata": {
        "id": "xJg4ueIdfJkj"
      },
      "execution_count": 3,
      "outputs": []
    },
    {
      "cell_type": "code",
      "source": [
        "from pyspark.sql import SparkSession, Window\n",
        "from pyspark.sql.functions import *\n",
        "\n",
        "spark = SparkSession.builder.getOrCreate()"
      ],
      "metadata": {
        "id": "v6B1yyqBfLBC"
      },
      "execution_count": 4,
      "outputs": []
    },
    {
      "cell_type": "code",
      "source": [
        "person = spark.read.option('delimiter', ';').option('header','true').csv('Person.Person.csv')\n",
        "product = spark.read.option('delimiter', ';').option('header','true').csv('Production.Product.csv')\n",
        "customer = spark.read.option('delimiter', ';').option('header','true').csv('Sales.Customer.csv')\n",
        "salesOrderDetail = spark.read.option('delimiter', ';').option('header','true').csv('Sales.SalesOrderDetail.csv')\n",
        "salesOrderHeader = spark.read.option('delimiter', ';').option('header','true').csv('Sales.SalesOrderHeader.csv')\n",
        "territory = spark.read.option('delimiter', ';').option('header','true').csv('Sales.SalesTerritory.csv')\n",
        "salesOrderHeader = spark.read.option(\"delimiter\", \";\").option(\"header\", \"true\").csv('Sales.SalesOrderHeader.csv')\n",
        "territory = spark.read.option('delimiter',';').option('header','true').csv('Sales.SalesTerritory.csv')\n",
        "secuenciales = spark.read.option('delimiter', ',').option('header','true').csv('Secuenciales.csv')"
      ],
      "metadata": {
        "id": "PDe7rNwpfOVj"
      },
      "execution_count": 5,
      "outputs": []
    },
    {
      "cell_type": "code",
      "source": [
        "salesOrderHeader.join(territory, salesOrderHeader['TerritoryID'] == territory['TerritoryID']).select(\n",
        "    date_format('OrderDate', 'yyyy-MM').alias('Mes'), 'Group',\n",
        "    # Cantidades\n",
        "    when(col('Status') == 1, 1).otherwise(0).alias('status_1'),\n",
        "    when(col('Status') == 2, 1).otherwise(0).alias('status_2'),\n",
        "    when(col('Status') == 3, 1).otherwise(0).alias('status_3'),\n",
        "    when(col('Status') == 4, 1).otherwise(0).alias('status_4'),\n",
        "    when(col('Status') == 5, 1).otherwise(0).alias('status_5'),\n",
        "    when(col('Status') == 6, 1).otherwise(0).alias('status_6'),\n",
        "    # Montos\n",
        "    when(col('Status') == 1, salesOrderHeader['TotalDue'].cast('float')).otherwise(0).alias('monto_1'),\n",
        "    when(col('Status') == 2, salesOrderHeader['TotalDue'].cast('float')).otherwise(0).alias('monto_2'),\n",
        "    when(col('Status') == 3, salesOrderHeader['TotalDue'].cast('float')).otherwise(0).alias('monto_3'),\n",
        "    when(col('Status') == 4, salesOrderHeader['TotalDue'].cast('float')).otherwise(0).alias('monto_4'),\n",
        "    when(col('Status') == 5, salesOrderHeader['TotalDue'].cast('float')).otherwise(0).alias('monto_5'),\n",
        "    when(col('Status') == 6, salesOrderHeader['TotalDue'].cast('float')).otherwise(0).alias('monto_6')\n",
        "    ).groupBy(\n",
        "        'Mes', 'Group'\n",
        "    ).pivot('status_1').agg(\n",
        "        sum('status_1').alias('TrProceso'),\n",
        "        sum('status_2').alias('TrAprobadas'),\n",
        "        sum('status_3').alias('TrAtrasadas'),\n",
        "        sum('status_4').alias('TrRechazadas'),\n",
        "        sum('status_5').alias('TrEnviadas'),\n",
        "        sum('status_6').alias('TrCanceladas'),\n",
        "        sum('monto_1').alias('MntProceso'),\n",
        "        sum('monto_2').alias('MntAprobadas'),\n",
        "        sum('monto_3').alias('MntAtrasadas'),\n",
        "        sum('monto_4').alias('MntRechazadas'),\n",
        "        sum('monto_5').alias('MntEnviadas'),\n",
        "        sum('monto_6').alias('MntCanceladas')\n",
        "    ).orderBy('Mes', 'Group').show()"
      ],
      "metadata": {
        "colab": {
          "base_uri": "https://localhost:8080/"
        },
        "id": "iOck1zXUfOyr",
        "outputId": "72d74c52-c808-4c43-879d-189974c7e5ee"
      },
      "execution_count": 208,
      "outputs": [
        {
          "output_type": "stream",
          "name": "stdout",
          "text": [
            "+-------+-------------+-----------+-------------+-------------+--------------+------------+--------------+------------+--------------+--------------+---------------+------------------+---------------+\n",
            "|    Mes|        Group|0_TrProceso|0_TrAprobadas|0_TrAtrasadas|0_TrRechazadas|0_TrEnviadas|0_TrCanceladas|0_MntProceso|0_MntAprobadas|0_MntAtrasadas|0_MntRechazadas|     0_MntEnviadas|0_MntCanceladas|\n",
            "+-------+-------------+-----------+-------------+-------------+--------------+------------+--------------+------------+--------------+--------------+---------------+------------------+---------------+\n",
            "|2011-05|       Europe|          0|            0|            0|             0|           1|             0|         0.0|           0.0|           0.0|            0.0| 3756.989013671875|            0.0|\n",
            "|2011-05|North America|          0|            0|            0|             0|          41|             0|         0.0|           0.0|           0.0|            0.0| 559506.9689331055|            0.0|\n",
            "|2011-05|      Pacific|          0|            0|            0|             0|           1|             0|         0.0|           0.0|           0.0|            0.0| 3756.989013671875|            0.0|\n",
            "|2011-06|       Europe|          0|            0|            0|             0|          35|             0|         0.0|           0.0|           0.0|            0.0|121414.29510498047|            0.0|\n",
            "|2011-06|North America|          0|            0|            0|             0|          45|             0|         0.0|           0.0|           0.0|            0.0| 157772.6932373047|            0.0|\n",
            "|2011-06|      Pacific|          0|            0|            0|             0|          61|             0|         0.0|           0.0|           0.0|            0.0| 227909.4692993164|            0.0|\n",
            "|2011-07|       Europe|          0|            0|            0|             0|          36|             0|         0.0|           0.0|           0.0|            0.0|125198.90911865234|            0.0|\n",
            "|2011-07|North America|          0|            0|            0|             0|         127|             0|         0.0|           0.0|           0.0|            0.0|1921079.1416873932|            0.0|\n",
            "|2011-07|      Pacific|          0|            0|            0|             0|          68|             0|         0.0|           0.0|           0.0|            0.0|245904.80822753906|            0.0|\n",
            "|2011-08|       Europe|          0|            0|            0|             0|          41|             0|         0.0|           0.0|           0.0|            0.0| 138802.8804321289|            0.0|\n",
            "|2011-08|North America|          0|            0|            0|             0|         156|             0|         0.0|           0.0|           0.0|            0.0|2465753.4585990906|            0.0|\n",
            "|2011-08|      Pacific|          0|            0|            0|             0|          53|             0|         0.0|           0.0|           0.0|            0.0|196019.81811523438|            0.0|\n",
            "|2011-09|       Europe|          0|            0|            0|             0|          33|             0|         0.0|           0.0|           0.0|            0.0|113533.94354248047|            0.0|\n",
            "|2011-09|North America|          0|            0|            0|             0|          60|             0|         0.0|           0.0|           0.0|            0.0|204131.95446777344|            0.0|\n",
            "|2011-09|      Pacific|          0|            0|            0|             0|          64|             0|         0.0|           0.0|           0.0|            0.0|  237125.697265625|            0.0|\n",
            "|2011-10|       Europe|          0|            0|            0|             0|          37|             0|         0.0|           0.0|           0.0|            0.0|122368.30450439453|            0.0|\n",
            "|2011-10|North America|          0|            0|            0|             0|         225|             0|         0.0|           0.0|           0.0|            0.0| 4793412.516990662|            0.0|\n",
            "|2011-10|      Pacific|          0|            0|            0|             0|          65|             0|         0.0|           0.0|           0.0|            0.0|240488.68774414062|            0.0|\n",
            "|2011-11|       Europe|          0|            0|            0|             0|          48|             0|         0.0|           0.0|           0.0|            0.0|159416.33123779297|            0.0|\n",
            "|2011-11|North America|          0|            0|            0|             0|         100|             0|         0.0|           0.0|           0.0|            0.0|360604.99157714844|            0.0|\n",
            "+-------+-------------+-----------+-------------+-------------+--------------+------------+--------------+------------+--------------+--------------+---------------+------------------+---------------+\n",
            "only showing top 20 rows\n",
            "\n"
          ]
        }
      ]
    },
    {
      "cell_type": "code",
      "source": [
        "inciso2_j1 = salesOrderDetail.join(\n",
        "                salesOrderHeader, salesOrderDetail['SalesOrderID'] == salesOrderHeader['SalesOrderID']\n",
        "                ).select(\n",
        "                    date_format('OrderDate', 'yyyy-MM').alias('Mes'), 'ProductID', 'OrderQty'\n",
        "                ).where(\n",
        "                    salesOrderHeader['Status'] == 5\n",
        "                )\n",
        "\n",
        "productos = product.join(inciso2_j1, product['ProductID'] == inciso2_j1['ProductID']).select(\n",
        "                    'Mes', product['Name'].alias('ProductName'), 'OrderQty'\n",
        "                ).groupby(\n",
        "                    'Mes', 'ProductName'\n",
        "                ).agg(\n",
        "                    sum('OrderQty').alias('ProductQty')\n",
        "                )\n",
        "\n",
        "rn = Window.partitionBy('Mes').orderBy('Mes',col('ProductQty').desc())\n",
        "rn_productos = productos.withColumn('row_no', row_number().over(rn))"
      ],
      "metadata": {
        "id": "aUHg-e3lfckF"
      },
      "execution_count": 209,
      "outputs": []
    },
    {
      "cell_type": "code",
      "source": [
        "topProductos = rn_productos.select(\n",
        "        'Mes',\n",
        "        when(col('row_no') == 1, rn_productos['ProductQty']).otherwise(0).alias('Producto_N1'),\n",
        "        when(col('row_no') == 2, rn_productos['ProductQty']).otherwise(0).alias('Producto_N2'),\n",
        "        when(col('row_no') == 3, rn_productos['ProductQty']).otherwise(0).alias('Producto_N3')\n",
        ").where(\n",
        "    col('row_no').cast('int') <= 3\n",
        ").groupBy(\n",
        "    'Mes'\n",
        ").agg(\n",
        "    sum(col('Producto_N1').cast('int')).alias('Producto_N1'),\n",
        "    sum(col('Producto_N2').cast('int')).alias('Producto_N2'),\n",
        "    sum(col('Producto_N3').cast('int')).alias('Producto_N3')\n",
        ")"
      ],
      "metadata": {
        "id": "SRiDPZ95gXKN"
      },
      "execution_count": 210,
      "outputs": []
    },
    {
      "cell_type": "code",
      "source": [
        "inciso2_j2 = salesOrderDetail.join(salesOrderHeader, salesOrderDetail['SalesOrderID'] == salesOrderHeader['SalesOrderID']\n",
        "                                  ).select(\n",
        "                                    date_format('OrderDate', 'yyyy-MM').alias('Mes'), 'CustomerID', 'TotalDue'\n",
        "                                  ).filter(col('Status') == 5)\n",
        "\n",
        "tableCus = customer.join(inciso2_j2, customer['CustomerID'] == inciso2_j2['CustomerID']).select(\n",
        "    'Mes', inciso2_j2['CustomerID'], 'TotalDue'\n",
        ").groupBy(\n",
        "    'Mes', 'CustomerID'\n",
        ").agg(\n",
        "    sum('TotalDue').alias('Total')\n",
        ")\n",
        "\n",
        "row_num_1 = Window.partitionBy('Mes').orderBy('Mes', col('Total').desc())\n",
        "tblGen = tableCus.withColumn('row_num', row_number().over(row_num_1))"
      ],
      "metadata": {
        "id": "fXhPR0iDgZUE"
      },
      "execution_count": 212,
      "outputs": []
    },
    {
      "cell_type": "code",
      "source": [
        "topClientes = tblGen.select(\n",
        "    'Mes',\n",
        "    when(col('row_num') == 1, tblGen['Total']).alias('Cliente_N1'),\n",
        "    when(col('row_num') == 2, tblGen['Total']).alias('Cliente_N2'),\n",
        "    when(col('row_num') == 3, tblGen['Total']).alias('Cliente_N3')\n",
        ").where(\n",
        "    col('row_num').cast('int') <= 3\n",
        ").groupBy(\n",
        "    'Mes'\n",
        ").agg(\n",
        "    sum('Cliente_N1').alias('Cliente_N1'),\n",
        "    sum('Cliente_N2').alias('Cliente_N2'),\n",
        "    sum('Cliente_N3').alias('Cliente_N3')\n",
        ")"
      ],
      "metadata": {
        "id": "O4A8N6Azga4d"
      },
      "execution_count": 213,
      "outputs": []
    },
    {
      "cell_type": "code",
      "source": [
        "topProductos.join(topClientes, topProductos['Mes'] == topClientes['Mes']).select(\n",
        "    topProductos['Mes'], 'Producto_N1', 'Producto_N2', 'Producto_N3', 'Cliente_N1', 'Cliente_N2', 'Cliente_N3'\n",
        ").show()"
      ],
      "metadata": {
        "colab": {
          "base_uri": "https://localhost:8080/"
        },
        "id": "tQ0_bo_RgeUN",
        "outputId": "d53102ce-42d6-4ef3-9fa9-551686905151"
      },
      "execution_count": 214,
      "outputs": [
        {
          "output_type": "stream",
          "name": "stdout",
          "text": [
            "+-------+-----------+-----------+-----------+--------------------+--------------------+------------------+\n",
            "|    Mes|Producto_N1|Producto_N2|Producto_N3|          Cliente_N1|          Cliente_N2|        Cliente_N3|\n",
            "+-------+-----------+-----------+-----------+--------------------+--------------------+------------------+\n",
            "|2011-05|         49|         46|         44|        1214147.7488|  1174143.9756999994| 804115.3322999998|\n",
            "|2011-06|         28|         23|         21|           3953.9884|           3953.9884|         3953.9884|\n",
            "|2011-07|        134|        114|        103|   2884209.041700001|        2869162.6238|1606959.9952000005|\n",
            "|2011-08|        167|        137|        113|        2255571.7228|  1921769.8647000003|1881760.2210000013|\n",
            "|2011-09|         27|         23|         23|           3953.9884|           3953.9884|         3953.9884|\n",
            "|2011-10|        240|        239|        224|   2846244.397999999|        2655280.3025|2600539.4975999985|\n",
            "|2011-11|         40|         35|         34|           3953.9884|           3953.9884|         3953.9884|\n",
            "|2011-12|         52|         49|         45|  1158570.4780000004|   907400.3080999999| 649401.3143999998|\n",
            "|2012-01|        181|        155|        153|   2296157.245200001|         2034090.009|       2020403.462|\n",
            "|2012-02|         78|         59|         55|  2250245.7287000017|  1345924.2342000003| 988658.6000000003|\n",
            "|2012-03|        135|        135|        125|  2327162.2726000007|  2293812.1279999996|      2246759.0048|\n",
            "|2012-04|        114|        113|        105|  2390926.5864000022|  2367975.9110000003|2033021.3868000007|\n",
            "|2012-05|        357|        215|        214|1.1083323478499997E7|   6237907.137400003| 5972753.277000006|\n",
            "|2012-06|        409|        345|        334|1.0824910252000002E7|   6903967.172700009| 6860863.505799994|\n",
            "|2012-07|        347|        273|        254|1.0891897381199993E7|1.0273675418500004E7| 9910446.160399998|\n",
            "|2012-08|        223|        173|        159|   4974755.712000006|   4967466.544800001|3917298.2240000027|\n",
            "|2012-09|        331|        245|        234|   5550297.104800001|   5477133.361800007| 5463953.467499999|\n",
            "|2012-10|        275|        220|        212|   6340937.052799998|   5134465.148799998|      4987894.4864|\n",
            "|2012-11|        176|         98|         97|  3095683.9935999997|  2678327.8499999978| 2576019.423599999|\n",
            "|2012-12|        262|        160|        145|  3087101.0115999994|  2867929.3437999994|2840685.8457999993|\n",
            "+-------+-----------+-----------+-----------+--------------------+--------------------+------------------+\n",
            "only showing top 20 rows\n",
            "\n"
          ]
        }
      ]
    },
    {
      "cell_type": "code",
      "source": [
        "maxDate = salesOrderHeader.select(max('OrderDate').alias('maxDate'))\n",
        "\n",
        "a = salesOrderHeader.join(territory, territory['TerritoryID'] == salesOrderHeader['TerritoryID']\n",
        "                                  ).select(\n",
        "                                      date_format('OrderDate', 'yyyy-MM').alias('Mes'), col('Group').alias('TerritoryGroup'),\n",
        "                                      col('SubTotal').cast('float').alias('SubTotal'), 'OrderDate'\n",
        "                                  ).join(\n",
        "                                      maxDate, salesOrderHeader['OrderDate'] >= add_months(maxDate['maxDate'],-5)\n",
        "                                  ).groupBy(\n",
        "                                      'Mes', 'TerritoryGroup'\n",
        "                                  ).agg(\n",
        "                                      avg('SubTotal').alias('GroupMonthAvg')\n",
        "                                  )\n",
        "\n",
        "b = salesOrderHeader.join(maxDate, salesOrderHeader['OrderDate'] >= add_months(maxDate['maxDate'],-5)\n",
        ").select(\n",
        "    date_format('OrderDate', 'yyyy-MM').alias('Mes'), 'SubTotal'\n",
        ").groupBy(\n",
        "    'Mes'\n",
        ").agg(\n",
        "    avg('SubTotal').alias('MonthAvg')\n",
        ")"
      ],
      "metadata": {
        "id": "z1TuIb97gfzt"
      },
      "execution_count": 215,
      "outputs": []
    },
    {
      "cell_type": "code",
      "source": [
        "finalResult = a.join(b, a['Mes'] == b['Mes']).select(\n",
        "    a.Mes,\n",
        "    a.TerritoryGroup,\n",
        "    a.GroupMonthAvg,\n",
        "    b.MonthAvg,\n",
        "    (a['GroupMonthAvg'] - b['MonthAvg']).alias('Diff'),\n",
        "    when(col('GroupMonthAvg').cast('float') > col('MonthAvg').cast('float'), 'Above').otherwise('Below').alias('Indicator')\n",
        ").orderBy(col('Mes').desc()).show()"
      ],
      "metadata": {
        "colab": {
          "base_uri": "https://localhost:8080/"
        },
        "id": "XmFXOBBwgkHN",
        "outputId": "1d9f6ab2-245c-4ef5-a866-4219a77791a5"
      },
      "execution_count": 216,
      "outputs": [
        {
          "output_type": "stream",
          "name": "stdout",
          "text": [
            "+-------+--------------+------------------+------------------+-------------------+---------+\n",
            "|    Mes|TerritoryGroup|     GroupMonthAvg|          MonthAvg|               Diff|Indicator|\n",
            "+-------+--------------+------------------+------------------+-------------------+---------+\n",
            "|2014-06| North America| 52.73099850439982|52.189392971246086|  0.541605533153735|    Above|\n",
            "|2014-06|       Pacific|53.645833715086894|52.189392971246086| 1.4564407438408082|    Above|\n",
            "|2014-06|        Europe| 49.72072738842531|52.189392971246086| -2.468665582820776|    Below|\n",
            "|2014-05|        Europe| 1930.117516871531| 2225.912471713053|  -295.794954841522|    Below|\n",
            "|2014-05| North America| 2754.944705779644| 2225.912471713053|  529.0322340665912|    Above|\n",
            "|2014-05|       Pacific|1391.9935544619589| 2225.912471713053| -833.9189172510942|    Below|\n",
            "|2014-04| North America| 784.6804316441218| 849.7276231678421| -65.04719152372036|    Below|\n",
            "|2014-04|       Pacific| 918.0368452882767| 849.7276231678421|  68.30922212043458|    Above|\n",
            "|2014-04|        Europe| 912.0440089910097| 849.7276231678421|  62.31638582316759|    Above|\n",
            "|2014-03|       Pacific|  1329.54641728214|3008.5581875781536|-1679.0117702960135|    Below|\n",
            "|2014-03| North America|3834.6461661913586|3008.5581875781536|   826.087978613205|    Above|\n",
            "|2014-03|        Europe|2724.5209451299725|3008.5581875781536|-284.03724244818113|    Below|\n",
            "|2014-02| North America| 623.1305018939793| 761.8024120728863|-138.67191017890707|    Below|\n",
            "|2014-02|        Europe| 872.8704750117405| 761.8024120728863| 111.06806293885415|    Above|\n",
            "|2014-02|       Pacific| 920.1306230188034| 761.8024120728863| 158.32821094591702|    Above|\n",
            "|2014-01|       Pacific|  762.529994430542| 711.0147222222224|  51.51527220831963|    Above|\n",
            "|2014-01|        Europe| 841.5333217541377| 711.0147222222224| 130.51859953191524|    Above|\n",
            "|2014-01| North America|  612.836603281633| 711.0147222222224| -98.17811894058946|    Below|\n",
            "+-------+--------------+------------------+------------------+-------------------+---------+\n",
            "\n"
          ]
        }
      ]
    },
    {
      "cell_type": "code",
      "source": [
        "codigoAnt = 0\n",
        "count = 0\n",
        "result = []\n",
        "\n",
        "for row in secuenciales.collect():\n",
        "  if codigoAnt == 0 or codigoAnt == row.codigo:\n",
        "    count+=1\n",
        "  else:\n",
        "    codigoAnt = row.codigo\n",
        "    count = 0\n",
        "\n",
        "  if count == 3:\n",
        "    result.append(row.codigo)\n",
        "\n",
        "print(result)"
      ],
      "metadata": {
        "colab": {
          "base_uri": "https://localhost:8080/"
        },
        "id": "paiFg0cUgtD1",
        "outputId": "5ae02eaf-d699-42d9-c033-d0b5c54a8325"
      },
      "execution_count": 219,
      "outputs": [
        {
          "output_type": "stream",
          "name": "stdout",
          "text": [
            "['3607']\n"
          ]
        }
      ]
    },
    {
      "cell_type": "code",
      "source": [
        "row_num5 = Window.partitionBy('CustomerID').orderBy(col('OrderDate').desc())\n",
        "ultimasTresCompras = salesOrderHeader.withColumn('row_num', row_number().over(row_num5)).select(\n",
        "    date_format('OrderDate', 'yyyy-MM-dd').alias('Mes'), 'CustomerID', 'row_num',\n",
        "    when(col('row_num') == 1, date_format('OrderDate', 'yyyy-MM-dd')).otherwise('-').alias('FechaUltCompra'),\n",
        "    when(col('row_num') == 2, date_format('OrderDate', 'yyyy-MM-dd')).otherwise('-').alias('FechaPenCompra'),\n",
        "    when(col('row_num') == 3, date_format('OrderDate', 'yyyy-MM-dd')).otherwise('-').alias('FechaAntCompra')\n",
        ").where(\n",
        "    salesOrderHeader['Status'] == 5\n",
        ").where(\n",
        "    col('row_num') <= 3\n",
        ").groupBy(\n",
        "    'CustomerID'\n",
        ").agg(\n",
        "    max('FechaUltCompra').alias('FechaUltCompra'),\n",
        "    max('FechaPenCompra').alias('FechaPenCompra'),\n",
        "    max('FechaAntCompra').alias('FechaAntCompra')\n",
        ")"
      ],
      "metadata": {
        "id": "iUFzTfWFgzXN"
      },
      "execution_count": 17,
      "outputs": []
    },
    {
      "cell_type": "code",
      "source": [
        "ultimasTresCompras.join(\n",
        "    customer, customer['CustomerID'] == ultimasTresCompras['CustomerID']\n",
        ").join(\n",
        "    person, customer['CustomerID'] == person['BusinessEntityID']\n",
        ").select(\n",
        "    date_format('FechaUltCompra','yyyy-MM').alias('Mes'),\n",
        "    concat_ws(' ', person['FirstName'], person['LastName']).alias('FullName'),\n",
        "    'FechaUltCompra',\n",
        "    coalesce(datediff('FechaUltCompra', 'FechaPenCompra'), lit(0)).alias('DiasUC_PC'),\n",
        "    coalesce(datediff('FechaPenCompra', 'FechaAntCompra'), lit(0)).alias('DiasPC_APC')\n",
        ").orderBy(\n",
        "    col('Mes').desc(), 'FullName'\n",
        ").show()"
      ],
      "metadata": {
        "colab": {
          "base_uri": "https://localhost:8080/"
        },
        "id": "BlYG-zewg21W",
        "outputId": "b33fff0b-38c8-4a3a-fa9a-4f8d2750997d"
      },
      "execution_count": 19,
      "outputs": [
        {
          "output_type": "stream",
          "name": "stdout",
          "text": [
            "+-------+----------------+--------------+---------+----------+\n",
            "|    Mes|        FullName|FechaUltCompra|DiasUC_PC|DiasPC_APC|\n",
            "+-------+----------------+--------------+---------+----------+\n",
            "|2014-06|   Aaron Collins|    2014-06-28|       49|        33|\n",
            "|2014-06|      Abby Madan|    2014-06-04|      113|         0|\n",
            "|2014-06|  Abigail Barnes|    2014-06-04|       50|       255|\n",
            "|2014-06| Abigail Johnson|    2014-06-22|      118|         1|\n",
            "|2014-06|   Abigail Jones|    2014-06-28|      198|        69|\n",
            "|2014-06|  Abigail Martin|    2014-06-18|       17|       299|\n",
            "|2014-06|Abigail Martinez|    2014-06-15|      323|         0|\n",
            "|2014-06|  Abigail Miller|    2014-06-08|      327|         0|\n",
            "|2014-06|   Abigail Perry|    2014-06-26|        0|         0|\n",
            "|2014-06|      Adam Lopez|    2014-06-10|        0|         0|\n",
            "|2014-06|      Adam Scott|    2014-06-02|        0|         0|\n",
            "|2014-06|         Alan Hu|    2014-06-09|       59|        79|\n",
            "|2014-06|       Alan Yang|    2014-06-27|      360|         0|\n",
            "|2014-06|        Alan Zhu|    2014-06-13|       90|         0|\n",
            "|2014-06|    Albert Rubio|    2014-06-28|        0|         0|\n",
            "|2014-06| Alejandro Huang|    2014-06-01|        0|         0|\n",
            "|2014-06|     Alex Brooks|    2014-06-30|        0|         0|\n",
            "|2014-06|   Alex Campbell|    2014-06-09|       40|         0|\n",
            "|2014-06|     Alex Nelson|    2014-06-29|       21|        28|\n",
            "|2014-06|     Alex Watson|    2014-06-26|       40|        16|\n",
            "+-------+----------------+--------------+---------+----------+\n",
            "only showing top 20 rows\n",
            "\n"
          ]
        }
      ]
    },
    {
      "cell_type": "code",
      "source": [],
      "metadata": {
        "id": "YNV0ADI0jLqT"
      },
      "execution_count": null,
      "outputs": []
    },
    {
      "cell_type": "markdown",
      "source": [
        "# Curso Spark"
      ],
      "metadata": {
        "id": "KwFnJOx2Lw5o"
      }
    },
    {
      "cell_type": "code",
      "source": [
        "emp = [(1, \"AAA\", \"dept1\", 1000),\n",
        "    (2, \"BBB\", \"dept1\", 1100),\n",
        "    (3, \"CCC\", \"dept1\", 3000),\n",
        "    (4, \"DDD\", \"dept1\", 1500),\n",
        "    (5, \"EEE\", \"dept2\", 8000),\n",
        "    (6, \"FFF\", \"dept2\", 7200),\n",
        "    (7, \"GGG\", \"dept3\", 7100),\n",
        "    (8, \"HHH\", \"dept3\", 3700),\n",
        "    (9, \"III\", \"dept3\", 4500),\n",
        "    (10, \"JJJ\", \"dept5\", 3400)]\n",
        "\n",
        "dept = [(\"dept1\", \"Department - 1\"),\n",
        "        (\"dept2\", \"Department - 2\"),\n",
        "        (\"dept3\", \"Department - 3\"),\n",
        "        (\"dept4\", \"Department - 4\")\n",
        "\n",
        "       ]\n",
        "\n",
        "df = spark.createDataFrame(emp, [\"id\", \"name\", \"dept\", \"salary\"])\n",
        "\n",
        "deptdf = spark.createDataFrame(dept, [\"id\", \"name\"])"
      ],
      "metadata": {
        "id": "1lPN5EOqR-bj"
      },
      "execution_count": 21,
      "outputs": []
    },
    {
      "cell_type": "code",
      "source": [
        "df.show()"
      ],
      "metadata": {
        "id": "00XLr2XUSAWP",
        "outputId": "58bdf80f-e4ca-4ccc-be16-570cb2a67617",
        "colab": {
          "base_uri": "https://localhost:8080/"
        }
      },
      "execution_count": 22,
      "outputs": [
        {
          "output_type": "stream",
          "name": "stdout",
          "text": [
            "+---+----+-----+------+\n",
            "| id|name| dept|salary|\n",
            "+---+----+-----+------+\n",
            "|  1| AAA|dept1|  1000|\n",
            "|  2| BBB|dept1|  1100|\n",
            "|  3| CCC|dept1|  3000|\n",
            "|  4| DDD|dept1|  1500|\n",
            "|  5| EEE|dept2|  8000|\n",
            "|  6| FFF|dept2|  7200|\n",
            "|  7| GGG|dept3|  7100|\n",
            "|  8| HHH|dept3|  3700|\n",
            "|  9| III|dept3|  4500|\n",
            "| 10| JJJ|dept5|  3400|\n",
            "+---+----+-----+------+\n",
            "\n"
          ]
        }
      ]
    },
    {
      "cell_type": "code",
      "source": [
        "# Register DataFrame as Temporary Table\n",
        "df.createOrReplaceTempView(\"temp_table\")\n",
        "\n",
        "# Execute SQL-Like query.\n",
        "spark.sql(\"select * from temp_table where id = 1\").show()"
      ],
      "metadata": {
        "id": "9c6RlhceSBnM",
        "outputId": "f109f8de-eb03-45c1-ea94-4f5d486f5286",
        "colab": {
          "base_uri": "https://localhost:8080/"
        }
      },
      "execution_count": 23,
      "outputs": [
        {
          "output_type": "stream",
          "name": "stdout",
          "text": [
            "+---+----+-----+------+\n",
            "| id|name| dept|salary|\n",
            "+---+----+-----+------+\n",
            "|  1| AAA|dept1|  1000|\n",
            "+---+----+-----+------+\n",
            "\n"
          ]
        }
      ]
    },
    {
      "cell_type": "code",
      "source": [
        "spark.sql(\"select * from temp_table\").select(\n",
        "    'name', 'dept'\n",
        ").filter(col('salary').cast('float') <= 1500).show()"
      ],
      "metadata": {
        "id": "xfFyLIXCTEsE",
        "outputId": "a84e9068-ec04-4e4b-c6aa-584b8c58aa7d",
        "colab": {
          "base_uri": "https://localhost:8080/"
        }
      },
      "execution_count": 37,
      "outputs": [
        {
          "output_type": "stream",
          "name": "stdout",
          "text": [
            "+----+-----+\n",
            "|name| dept|\n",
            "+----+-----+\n",
            "| AAA|dept1|\n",
            "| BBB|dept1|\n",
            "| DDD|dept1|\n",
            "+----+-----+\n",
            "\n"
          ]
        }
      ]
    },
    {
      "cell_type": "code",
      "source": [
        "spark.sql(\"select count(*) from temp_table where salary >= 1500\").show()"
      ],
      "metadata": {
        "id": "wWXSraroTwH0",
        "outputId": "783d0f0a-6866-4638-f6cb-2c9b87e75db4",
        "colab": {
          "base_uri": "https://localhost:8080/"
        }
      },
      "execution_count": 112,
      "outputs": [
        {
          "output_type": "stream",
          "name": "stdout",
          "text": [
            "+--------+\n",
            "|count(1)|\n",
            "+--------+\n",
            "|       8|\n",
            "+--------+\n",
            "\n"
          ]
        }
      ]
    },
    {
      "cell_type": "code",
      "source": [
        "# FUNDAMENTOS DE APACHE SPARK: FUNCIONES AVANZADAS\n",
        "\n",
        "from pyspark.sql import SparkSession\n",
        "from pyspark.sql.functions import *\n",
        "from pyspark.sql.functions import broadcast\n",
        "from pyspark.sql.types import *\n",
        "\n",
        "emp = [(1, \"AAA\", \"dept1\", 1000),\n",
        "    (2, \"BBB\", \"dept1\", 1100),\n",
        "    (3, \"CCC\", \"dept1\", 3000),\n",
        "    (4, \"DDD\", \"dept1\", 1500),\n",
        "    (5, \"EEE\", \"dept2\", 8000),\n",
        "    (6, \"FFF\", \"dept2\", 7200),\n",
        "    (7, \"GGG\", \"dept3\", 7100),\n",
        "    (None, None, None, 7500),\n",
        "    (9, \"III\", None, 4500),\n",
        "    (10, None, \"dept5\", 2500)]\n",
        "\n",
        "dept = [(\"dept1\", \"Department - 1\"),\n",
        "        (\"dept2\", \"Department - 2\"),\n",
        "        (\"dept3\", \"Department - 3\"),\n",
        "        (\"dept4\", \"Department - 4\")\n",
        "       ]\n",
        "\n",
        "df = spark.createDataFrame(emp, [\"id\", \"name\", \"dept\", \"salary\"])\n",
        "deptdf = spark.createDataFrame(dept, [\"id\", \"name\"])\n",
        "\n",
        "# Create Temp Tables\n",
        "df.createOrReplaceTempView(\"empdf\")\n",
        "deptdf.createOrReplaceTempView(\"deptdf\")\n",
        "\n",
        "# Save as HIVE tables. Para poder recuperarlas en caso se cierre sesión.\n",
        "df.write.saveAsTable(\"hive_empdf\", mode = \"overwrite\")\n",
        "deptdf.write.saveAsTable(\"hive_deptdf\", mode = \"overwrite\")"
      ],
      "metadata": {
        "id": "CFZ_B9QaDyFK"
      },
      "execution_count": 114,
      "outputs": []
    },
    {
      "cell_type": "code",
      "source": [
        "spark.conf.set(\"spark.sql.autoBroadcastJoinThreshold\", 50 * 1024 * 1024)\n",
        "join_df = df.join(broadcast(deptdf), df[\"id\"] == deptdf[\"id\"])"
      ],
      "metadata": {
        "id": "TFQvzSbOXWpH"
      },
      "execution_count": 130,
      "outputs": []
    },
    {
      "cell_type": "code",
      "source": [
        "df.cache()\n",
        "df.count()\n",
        "print(\"Memory Used : {0}\".format(df.storageLevel.useMemory))\n",
        "print(\"Disk Used : {0}\".format(df.storageLevel.useDisk))"
      ],
      "metadata": {
        "id": "JvhtQv5DYOrH",
        "outputId": "1705b0e1-22c1-4ed3-b301-cd1b0d5c98ea",
        "colab": {
          "base_uri": "https://localhost:8080/"
        }
      },
      "execution_count": 131,
      "outputs": [
        {
          "output_type": "stream",
          "name": "stdout",
          "text": [
            "Memory Used : True\n",
            "Disk Used : True\n"
          ]
        }
      ]
    },
    {
      "cell_type": "code",
      "source": [
        "from pyspark.storagelevel import StorageLevel"
      ],
      "metadata": {
        "id": "6BFyuUhCYPfv"
      },
      "execution_count": 132,
      "outputs": []
    },
    {
      "cell_type": "code",
      "source": [
        "deptdf.persist(StorageLevel.MEMORY_ONLY)\n",
        "deptdf.count()\n",
        "print(\"Memory Used : {0}\".format(df.storageLevel.useMemory))\n",
        "print(\"Disk Used : {0}\".format(df.storageLevel.useDisk))"
      ],
      "metadata": {
        "id": "hHuRGn-qYRpB",
        "outputId": "3ee66f73-8ee7-4cc5-899c-f0e7df7552d4",
        "colab": {
          "base_uri": "https://localhost:8080/"
        }
      },
      "execution_count": 133,
      "outputs": [
        {
          "output_type": "stream",
          "name": "stdout",
          "text": [
            "Memory Used : True\n",
            "Disk Used : True\n"
          ]
        }
      ]
    },
    {
      "cell_type": "code",
      "source": [
        "df.unpersist()"
      ],
      "metadata": {
        "id": "1L_oIApoaICB",
        "outputId": "f712b0b2-226d-4f93-da43-850fbdcebcb3",
        "colab": {
          "base_uri": "https://localhost:8080/"
        }
      },
      "execution_count": 134,
      "outputs": [
        {
          "output_type": "execute_result",
          "data": {
            "text/plain": [
              "DataFrame[id: bigint, name: string, dept: string, salary: bigint]"
            ]
          },
          "metadata": {},
          "execution_count": 134
        }
      ]
    },
    {
      "cell_type": "code",
      "source": [
        "from pyspark.sql.functions import expr\n",
        "\n",
        "# Intentemos categorizar el salario en Bajo, Medio y Alto según la categorización a continuación.\n",
        "\n",
        "# 0-2000: salario_bajo\n",
        "# 2001 - 5000: mid_salary\n",
        "#> 5001: high_salary\n",
        "\n",
        "cond = \"\"\"case when salary > 5000 then 'high_salary'\n",
        "               else case when salary > 2000 then 'mid_salary'\n",
        "                    else case when salary > 0 then 'low_salary'\n",
        "                         else 'invalid_salary'\n",
        "                              end\n",
        "                         end\n",
        "                end as salary_level\"\"\"\n",
        "\n",
        "newdf = df.withColumn(\"salary_level\", expr(cond))\n",
        "newdf.show()"
      ],
      "metadata": {
        "id": "O_py75nGaIup",
        "outputId": "297a8714-e7e0-4537-ba52-a95c634d0a6e",
        "colab": {
          "base_uri": "https://localhost:8080/"
        }
      },
      "execution_count": 139,
      "outputs": [
        {
          "output_type": "stream",
          "name": "stdout",
          "text": [
            "+----+----+-----+------+------------+\n",
            "|  id|name| dept|salary|salary_level|\n",
            "+----+----+-----+------+------------+\n",
            "|   1| AAA|dept1|  1000|  low_salary|\n",
            "|   2| BBB|dept1|  1100|  low_salary|\n",
            "|   3| CCC|dept1|  3000|  mid_salary|\n",
            "|   4| DDD|dept1|  1500|  low_salary|\n",
            "|   5| EEE|dept2|  8000| high_salary|\n",
            "|   6| FFF|dept2|  7200| high_salary|\n",
            "|   7| GGG|dept3|  7100| high_salary|\n",
            "|null|null| null|  7500| high_salary|\n",
            "|   9| III| null|  4500|  mid_salary|\n",
            "|  10|null|dept5|  2500|  mid_salary|\n",
            "+----+----+-----+------+------------+\n",
            "\n"
          ]
        }
      ]
    },
    {
      "cell_type": "code",
      "source": [
        "newdf = df.selectExpr(\"*\", cond)\n",
        "newdf.show()"
      ],
      "metadata": {
        "id": "dhscIk24aI2S",
        "outputId": "6204f1d7-fd7e-4a88-b34d-62c4ea7f8fdf",
        "colab": {
          "base_uri": "https://localhost:8080/"
        }
      },
      "execution_count": 140,
      "outputs": [
        {
          "output_type": "stream",
          "name": "stdout",
          "text": [
            "+----+----+-----+------+------------+\n",
            "|  id|name| dept|salary|salary_level|\n",
            "+----+----+-----+------+------------+\n",
            "|   1| AAA|dept1|  1000|  low_salary|\n",
            "|   2| BBB|dept1|  1100|  low_salary|\n",
            "|   3| CCC|dept1|  3000|  mid_salary|\n",
            "|   4| DDD|dept1|  1500|  low_salary|\n",
            "|   5| EEE|dept2|  8000| high_salary|\n",
            "|   6| FFF|dept2|  7200| high_salary|\n",
            "|   7| GGG|dept3|  7100| high_salary|\n",
            "|null|null| null|  7500| high_salary|\n",
            "|   9| III| null|  4500|  mid_salary|\n",
            "|  10|null|dept5|  2500|  mid_salary|\n",
            "+----+----+-----+------+------------+\n",
            "\n"
          ]
        }
      ]
    },
    {
      "cell_type": "code",
      "source": [
        "newdf = df.filter(df[\"dept\"].isNull())\n",
        "newdf.show()"
      ],
      "metadata": {
        "id": "YRtyPfGLgkZT",
        "outputId": "cdaa9fb6-c304-4584-ffac-b9380995fa46",
        "colab": {
          "base_uri": "https://localhost:8080/"
        }
      },
      "execution_count": 141,
      "outputs": [
        {
          "output_type": "stream",
          "name": "stdout",
          "text": [
            "+----+----+----+------+\n",
            "|  id|name|dept|salary|\n",
            "+----+----+----+------+\n",
            "|null|null|null|  7500|\n",
            "|   9| III|null|  4500|\n",
            "+----+----+----+------+\n",
            "\n"
          ]
        }
      ]
    },
    {
      "cell_type": "code",
      "source": [
        "newdf = df.filter(df[\"dept\"].isNotNull())\n",
        "newdf.show()"
      ],
      "metadata": {
        "id": "MMwtIDWSiBkj",
        "outputId": "07a9ca0f-57a5-496d-ef1e-5bd423dda20a",
        "colab": {
          "base_uri": "https://localhost:8080/"
        }
      },
      "execution_count": 142,
      "outputs": [
        {
          "output_type": "stream",
          "name": "stdout",
          "text": [
            "+---+----+-----+------+\n",
            "| id|name| dept|salary|\n",
            "+---+----+-----+------+\n",
            "|  1| AAA|dept1|  1000|\n",
            "|  2| BBB|dept1|  1100|\n",
            "|  3| CCC|dept1|  3000|\n",
            "|  4| DDD|dept1|  1500|\n",
            "|  5| EEE|dept2|  8000|\n",
            "|  6| FFF|dept2|  7200|\n",
            "|  7| GGG|dept3|  7100|\n",
            "| 10|null|dept5|  2500|\n",
            "+---+----+-----+------+\n",
            "\n"
          ]
        }
      ]
    },
    {
      "cell_type": "code",
      "source": [
        "# Replace -1 where the salary is null.\n",
        "newdf = df.fillna(\"INVALID\", [\"dept\"])\n",
        "newdf.show()"
      ],
      "metadata": {
        "id": "gzlEU9xEiBpk",
        "outputId": "23bb2fc9-0c75-4c16-859e-43387c78164b",
        "colab": {
          "base_uri": "https://localhost:8080/"
        }
      },
      "execution_count": 143,
      "outputs": [
        {
          "output_type": "stream",
          "name": "stdout",
          "text": [
            "+----+----+-------+------+\n",
            "|  id|name|   dept|salary|\n",
            "+----+----+-------+------+\n",
            "|   1| AAA|  dept1|  1000|\n",
            "|   2| BBB|  dept1|  1100|\n",
            "|   3| CCC|  dept1|  3000|\n",
            "|   4| DDD|  dept1|  1500|\n",
            "|   5| EEE|  dept2|  8000|\n",
            "|   6| FFF|  dept2|  7200|\n",
            "|   7| GGG|  dept3|  7100|\n",
            "|null|null|INVALID|  7500|\n",
            "|   9| III|INVALID|  4500|\n",
            "|  10|null|  dept5|  2500|\n",
            "+----+----+-------+------+\n",
            "\n"
          ]
        }
      ]
    },
    {
      "cell_type": "code",
      "source": [
        "# borrar los valores nulos del df\n",
        "# se le pueden pasar parametros como \"how\". Si how = 'all', elimina los registros cuando todos son nulos\n",
        "\n",
        "newdf = df.dropna()\n",
        "newdf.show()"
      ],
      "metadata": {
        "id": "8cIxdXRxjBhW"
      },
      "execution_count": null,
      "outputs": []
    },
    {
      "cell_type": "code",
      "source": [],
      "metadata": {
        "id": "u9ilIWQ1jBlg"
      },
      "execution_count": null,
      "outputs": []
    },
    {
      "cell_type": "code",
      "source": [],
      "metadata": {
        "id": "1VqSRAJgiBrs"
      },
      "execution_count": null,
      "outputs": []
    },
    {
      "cell_type": "code",
      "source": [],
      "metadata": {
        "id": "uFNhU8XEiBuN"
      },
      "execution_count": null,
      "outputs": []
    },
    {
      "cell_type": "code",
      "source": [],
      "metadata": {
        "id": "qiku5a2DiBwp"
      },
      "execution_count": null,
      "outputs": []
    },
    {
      "cell_type": "markdown",
      "source": [
        "# Ejercicio 1"
      ],
      "metadata": {
        "id": "CNlW21YyW9P_"
      }
    },
    {
      "cell_type": "code",
      "source": [
        "## Importa el csv de \"data/WorldCupPlayers.csv\"\n",
        "## Visualiza los datos\n",
        "\n",
        "wcPlayers = spark.read.option('header','true').csv('WorldCupPlayers.csv')\n",
        "wcPlayers.show()"
      ],
      "metadata": {
        "id": "CIWByMhnXB6U",
        "outputId": "9133b4d8-6e5f-4aa2-f47c-a4a3a9179f08",
        "colab": {
          "base_uri": "https://localhost:8080/"
        }
      },
      "execution_count": 44,
      "outputs": [
        {
          "output_type": "stream",
          "name": "stdout",
          "text": [
            "+-------+-------+-------------+-------------------+-------+------------+-----------------+--------+---------+\n",
            "|RoundID|MatchID|Team Initials|         Coach Name|Line-up|Shirt Number|      Player Name|Position|    Event|\n",
            "+-------+-------+-------------+-------------------+-------+------------+-----------------+--------+---------+\n",
            "|    201|   1096|          FRA|CAUDRON Raoul (FRA)|      S|           0|      Alex THEPOT|      GK|     null|\n",
            "|    201|   1096|          MEX|   LUQUE Juan (MEX)|      S|           0|  Oscar BONFIGLIO|      GK|     null|\n",
            "|    201|   1096|          FRA|CAUDRON Raoul (FRA)|      S|           0| Marcel LANGILLER|    null|     G40'|\n",
            "|    201|   1096|          MEX|   LUQUE Juan (MEX)|      S|           0|     Juan CARRENO|    null|     G70'|\n",
            "|    201|   1096|          FRA|CAUDRON Raoul (FRA)|      S|           0|  Ernest LIBERATI|    null|     null|\n",
            "|    201|   1096|          MEX|   LUQUE Juan (MEX)|      S|           0|     Rafael GARZA|       C|     null|\n",
            "|    201|   1096|          FRA|CAUDRON Raoul (FRA)|      S|           0|  Andre MASCHINOT|    null|G43' G87'|\n",
            "|    201|   1096|          MEX|   LUQUE Juan (MEX)|      S|           0|    Hilario LOPEZ|    null|     null|\n",
            "|    201|   1096|          FRA|CAUDRON Raoul (FRA)|      S|           0|  Etienne MATTLER|    null|     null|\n",
            "|    201|   1096|          MEX|   LUQUE Juan (MEX)|      S|           0|   Dionisio MEJIA|    null|     null|\n",
            "|    201|   1096|          FRA|CAUDRON Raoul (FRA)|      S|           0|     Marcel PINEL|    null|     null|\n",
            "|    201|   1096|          MEX|   LUQUE Juan (MEX)|      S|           0|     Felipe ROSAS|    null|     null|\n",
            "|    201|   1096|          FRA|CAUDRON Raoul (FRA)|      S|           0|  Alex VILLAPLANE|       C|     null|\n",
            "|    201|   1096|          MEX|   LUQUE Juan (MEX)|      S|           0|     Manuel ROSAS|    null|     null|\n",
            "|    201|   1096|          FRA|CAUDRON Raoul (FRA)|      S|           0|   Lucien LAURENT|    null|     G19'|\n",
            "|    201|   1096|          MEX|   LUQUE Juan (MEX)|      S|           0|        Jose RUIZ|    null|     null|\n",
            "|    201|   1096|          FRA|CAUDRON Raoul (FRA)|      S|           0|   Marcel CAPELLE|    null|     null|\n",
            "|    201|   1096|          MEX|   LUQUE Juan (MEX)|      S|           0|  Alfredo SANCHEZ|    null|     null|\n",
            "|    201|   1096|          FRA|CAUDRON Raoul (FRA)|      S|           0|Augustin CHANTREL|    null|     null|\n",
            "|    201|   1096|          MEX|   LUQUE Juan (MEX)|      S|           0|   Efrain AMEZCUA|    null|     null|\n",
            "+-------+-------+-------------+-------------------+-------+------------+-----------------+--------+---------+\n",
            "only showing top 20 rows\n",
            "\n"
          ]
        }
      ]
    },
    {
      "cell_type": "code",
      "source": [
        "## ¿que tipo de datos contiene cada variable?\n",
        "\n",
        "wcPlayers.dtypes"
      ],
      "metadata": {
        "id": "P3ZjZXWTXc7t",
        "outputId": "ca233bd3-602c-4684-d8e3-d07ac84a40c5",
        "colab": {
          "base_uri": "https://localhost:8080/"
        }
      },
      "execution_count": 45,
      "outputs": [
        {
          "output_type": "execute_result",
          "data": {
            "text/plain": [
              "[('RoundID', 'string'),\n",
              " ('MatchID', 'string'),\n",
              " ('Team Initials', 'string'),\n",
              " ('Coach Name', 'string'),\n",
              " ('Line-up', 'string'),\n",
              " ('Shirt Number', 'string'),\n",
              " ('Player Name', 'string'),\n",
              " ('Position', 'string'),\n",
              " ('Event', 'string')]"
            ]
          },
          "metadata": {},
          "execution_count": 45
        }
      ]
    },
    {
      "cell_type": "code",
      "source": [
        "## ¿Cuantos registros hay?\n",
        "\n",
        "wcPlayers.count()"
      ],
      "metadata": {
        "id": "57pQ7NiWX7rN",
        "outputId": "c140ad49-f287-4503-c1c9-16e87c5474cf",
        "colab": {
          "base_uri": "https://localhost:8080/"
        }
      },
      "execution_count": 46,
      "outputs": [
        {
          "output_type": "execute_result",
          "data": {
            "text/plain": [
              "37784"
            ]
          },
          "metadata": {},
          "execution_count": 46
        }
      ]
    },
    {
      "cell_type": "code",
      "source": [
        "## Obtén los principales estadísticos de Position\n",
        "\n",
        "'''wcPlayers.select(\n",
        "    'Position'\n",
        "    ).filter(\n",
        "      'Position is not null'\n",
        "    ).groupBy(\n",
        "        'Position'\n",
        "    ).count().show()'''\n",
        "\n",
        "wcPlayers.describe('Position').show()"
      ],
      "metadata": {
        "id": "9uWU8sKWX_az",
        "outputId": "c9b39bd0-aa7f-40f1-f769-d5e2acd47ae8",
        "colab": {
          "base_uri": "https://localhost:8080/"
        }
      },
      "execution_count": 109,
      "outputs": [
        {
          "output_type": "stream",
          "name": "stdout",
          "text": [
            "+-------+--------+\n",
            "|summary|Position|\n",
            "+-------+--------+\n",
            "|  count|    4143|\n",
            "|   mean|    null|\n",
            "| stddev|    null|\n",
            "|    min|       C|\n",
            "|    max|     GKC|\n",
            "+-------+--------+\n",
            "\n"
          ]
        }
      ]
    },
    {
      "cell_type": "code",
      "source": [
        "## Slecciona y muestra los registros distintos de 'Player Name','Coach Name'\n",
        "\n",
        "#wcPlayers.groupBy('Player Name','Coach Name').count().show()\n",
        "wcPlayers.select('Player Name', 'Coach Name').distinct().show()"
      ],
      "metadata": {
        "id": "OVGV4b-sYpCM",
        "outputId": "d0a58f47-3bbe-4fe3-cb81-a578257a978e",
        "colab": {
          "base_uri": "https://localhost:8080/"
        }
      },
      "execution_count": 110,
      "outputs": [
        {
          "output_type": "stream",
          "name": "stdout",
          "text": [
            "+--------------------+--------------------+\n",
            "|         Player Name|          Coach Name|\n",
            "+--------------------+--------------------+\n",
            "|    Arturo FERNANDEZ| BRU Francisco (ESP)|\n",
            "|Cayetano CARRERAS...|DURAND LAGUNA Jos...|\n",
            "|  Ernesto MASCHERONI|SUPPICI Alberto (...|\n",
            "|          Aziz FAHMY|   McREA James (SCO)|\n",
            "|        Gyula POLGAR|    NADAS Odon (HUN)|\n",
            "|  Ernesto ALBARRACIN|PASCUCCI Felipe (...|\n",
            "| Armando CASTELLAZZI|POZZO Vittorio (ITA)|\n",
            "|     Jaroslav BOUCEK|   PETRU Karel (TCH)|\n",
            "|           Erwin NYC|  KALUZA Jozef (POL)|\n",
            "|     Stanislaw BARAN|  KALUZA Jozef (POL)|\n",
            "|     Fernando ROLDAN|BUCCIARDI Arturo ...|\n",
            "|            Joe MACA|  JEFFREY Bill (SCO)|\n",
            "|               INDIO|  MOREIRA Zeze (BRA)|\n",
            "|      Rene DEREUDDRE|PIBAROT Pierre (FRA)|\n",
            "|    Anton MALATINSKY|    CEJP Josef (TCH)|\n",
            "|    Alberto MARIOTTI|LORENZO Juan Carl...|\n",
            "|  Alfredo DI STEFANO|HERRERA Helenio (...|\n",
            "|             FIDELIS| FEOLA Vicente (BRA)|\n",
            "|     Stoyan YORDANOV|BOZHKOV Stefan (BUL)|\n",
            "|      Wim RIJSBERGEN| MICHELS Rinus (NED)|\n",
            "+--------------------+--------------------+\n",
            "only showing top 20 rows\n",
            "\n"
          ]
        }
      ]
    },
    {
      "cell_type": "code",
      "source": [
        "## ¿Cuantos partidos con el ID de 1096 ha habido?\n",
        "\n",
        "wcPlayers.filter(col('MatchID').cast('int') == 1096).count()"
      ],
      "metadata": {
        "id": "IG1dEfX1ZoGV",
        "outputId": "ba391e6b-965d-46bd-8557-99eb70490fca",
        "colab": {
          "base_uri": "https://localhost:8080/"
        }
      },
      "execution_count": 70,
      "outputs": [
        {
          "output_type": "execute_result",
          "data": {
            "text/plain": [
              "33"
            ]
          },
          "metadata": {},
          "execution_count": 70
        }
      ]
    },
    {
      "cell_type": "code",
      "source": [
        "## Muestra los datos donde la posicion haya sido C y el evento sea G40\n",
        "# |RoundID|MatchID|Team Initials|         Coach Name|Line-up|Shirt Number|      Player Name|Position|    Event\n",
        "\n",
        "wcPlayers.filter(wcPlayers['Position'] == 'C').filter(wcPlayers['Event'].like('G40%')).show()"
      ],
      "metadata": {
        "id": "5Kgrav32qRx2",
        "outputId": "c0272b8d-f159-4b48-a5f6-b5c82b3ac984",
        "colab": {
          "base_uri": "https://localhost:8080/"
        }
      },
      "execution_count": 79,
      "outputs": [
        {
          "output_type": "stream",
          "name": "stdout",
          "text": [
            "+-------+-------+-------------+--------------------+-------+------------+----------------+--------+-----+\n",
            "|RoundID|MatchID|Team Initials|          Coach Name|Line-up|Shirt Number|     Player Name|Position|Event|\n",
            "+-------+-------+-------------+--------------------+-------+------------+----------------+--------+-----+\n",
            "|    201|   1089|          PAR|DURAND LAGUNA Jos...|      S|           0|Luis VARGAS PENA|       C| G40'|\n",
            "|    429|   1175|          HUN|  DIETZ Karoly (HUN)|      S|           0|   Gyorgy SAROSI|       C| G40'|\n",
            "+-------+-------+-------------+--------------------+-------+------------+----------------+--------+-----+\n",
            "\n"
          ]
        }
      ]
    },
    {
      "cell_type": "code",
      "source": [
        "## Utiliza Spark SQL para mostras los registros donde el MatchID sea mayor o igual a 20\n",
        "\n",
        "wcPlayers.createOrReplaceTempView(\"wcPlayers\")\n",
        "spark.sql('select * from wcPlayers where MatchID >= 20').show()"
      ],
      "metadata": {
        "id": "mycLmwvBrMC_",
        "outputId": "ff39a8ba-e886-4b47-922b-c775bdfb516d",
        "colab": {
          "base_uri": "https://localhost:8080/"
        }
      },
      "execution_count": 96,
      "outputs": [
        {
          "output_type": "stream",
          "name": "stdout",
          "text": [
            "+-------+-------+-------------+-------------------+-------+------------+-----------------+--------+---------+\n",
            "|RoundID|MatchID|Team Initials|         Coach Name|Line-up|Shirt Number|      Player Name|Position|    Event|\n",
            "+-------+-------+-------------+-------------------+-------+------------+-----------------+--------+---------+\n",
            "|    201|   1096|          FRA|CAUDRON Raoul (FRA)|      S|           0|      Alex THEPOT|      GK|     null|\n",
            "|    201|   1096|          MEX|   LUQUE Juan (MEX)|      S|           0|  Oscar BONFIGLIO|      GK|     null|\n",
            "|    201|   1096|          FRA|CAUDRON Raoul (FRA)|      S|           0| Marcel LANGILLER|    null|     G40'|\n",
            "|    201|   1096|          MEX|   LUQUE Juan (MEX)|      S|           0|     Juan CARRENO|    null|     G70'|\n",
            "|    201|   1096|          FRA|CAUDRON Raoul (FRA)|      S|           0|  Ernest LIBERATI|    null|     null|\n",
            "|    201|   1096|          MEX|   LUQUE Juan (MEX)|      S|           0|     Rafael GARZA|       C|     null|\n",
            "|    201|   1096|          FRA|CAUDRON Raoul (FRA)|      S|           0|  Andre MASCHINOT|    null|G43' G87'|\n",
            "|    201|   1096|          MEX|   LUQUE Juan (MEX)|      S|           0|    Hilario LOPEZ|    null|     null|\n",
            "|    201|   1096|          FRA|CAUDRON Raoul (FRA)|      S|           0|  Etienne MATTLER|    null|     null|\n",
            "|    201|   1096|          MEX|   LUQUE Juan (MEX)|      S|           0|   Dionisio MEJIA|    null|     null|\n",
            "|    201|   1096|          FRA|CAUDRON Raoul (FRA)|      S|           0|     Marcel PINEL|    null|     null|\n",
            "|    201|   1096|          MEX|   LUQUE Juan (MEX)|      S|           0|     Felipe ROSAS|    null|     null|\n",
            "|    201|   1096|          FRA|CAUDRON Raoul (FRA)|      S|           0|  Alex VILLAPLANE|       C|     null|\n",
            "|    201|   1096|          MEX|   LUQUE Juan (MEX)|      S|           0|     Manuel ROSAS|    null|     null|\n",
            "|    201|   1096|          FRA|CAUDRON Raoul (FRA)|      S|           0|   Lucien LAURENT|    null|     G19'|\n",
            "|    201|   1096|          MEX|   LUQUE Juan (MEX)|      S|           0|        Jose RUIZ|    null|     null|\n",
            "|    201|   1096|          FRA|CAUDRON Raoul (FRA)|      S|           0|   Marcel CAPELLE|    null|     null|\n",
            "|    201|   1096|          MEX|   LUQUE Juan (MEX)|      S|           0|  Alfredo SANCHEZ|    null|     null|\n",
            "|    201|   1096|          FRA|CAUDRON Raoul (FRA)|      S|           0|Augustin CHANTREL|    null|     null|\n",
            "|    201|   1096|          MEX|   LUQUE Juan (MEX)|      S|           0|   Efrain AMEZCUA|    null|     null|\n",
            "+-------+-------+-------------+-------------------+-------+------------+-----------------+--------+---------+\n",
            "only showing top 20 rows\n",
            "\n"
          ]
        }
      ]
    }
  ],
  "metadata": {
    "colab": {
      "name": "Datos externos: archivos locales, Drive, Hojas de cálculo y Cloud Storage",
      "provenance": [],
      "include_colab_link": true
    },
    "kernelspec": {
      "display_name": "Python 3",
      "name": "python3"
    }
  },
  "nbformat": 4,
  "nbformat_minor": 0
}