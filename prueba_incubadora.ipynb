{
  "cells": [
    {
      "cell_type": "code",
      "source": [
        "!pip install findspark\n",
        "!pip install pyspark\n",
        "!pip install spark"
      ],
      "metadata": {
        "id": "rqzGafdhHxA0",
        "outputId": "76ee321f-42f0-4382-cfe4-4e92b6f6ad5c",
        "colab": {
          "base_uri": "https://localhost:8080/"
        }
      },
      "execution_count": 1,
      "outputs": [
        {
          "output_type": "stream",
          "name": "stdout",
          "text": [
            "Requirement already satisfied: findspark in /usr/local/lib/python3.10/dist-packages (2.0.1)\n",
            "Requirement already satisfied: pyspark in /usr/local/lib/python3.10/dist-packages (3.4.1)\n",
            "Requirement already satisfied: py4j==0.10.9.7 in /usr/local/lib/python3.10/dist-packages (from pyspark) (0.10.9.7)\n",
            "Requirement already satisfied: spark in /usr/local/lib/python3.10/dist-packages (0.2.1)\n"
          ]
        }
      ]
    },
    {
      "cell_type": "code",
      "source": [
        "import pyspark\n",
        "import findspark\n",
        "import spark\n",
        "\n",
        "findspark.init()\n",
        "\n",
        "from pyspark.sql import SparkSession\n",
        "from pyspark.sql.functions import *\n",
        "from pyspark.sql.types import *\n",
        "\n",
        "spark = SparkSession.builder.getOrCreate()"
      ],
      "metadata": {
        "id": "Cc8bMLK2uT4k"
      },
      "execution_count": 3,
      "outputs": []
    },
    {
      "cell_type": "code",
      "source": [
        "lista = [n for n in range(1,101)]\n",
        "\n",
        "for numero in lista:\n",
        "    div3 = numero-((numero//3)*3)\n",
        "    div5 = numero-((numero//5)*5)\n",
        "\n",
        "    if div3 == 0 and div5 == 0:\n",
        "        print('BI')\n",
        "    elif div3 == 0:\n",
        "        print('B')\n",
        "    elif div5 == 0:\n",
        "        print('I')\n",
        "    else:\n",
        "        print(numero)"
      ],
      "metadata": {
        "id": "pcNkFJRFdXmd"
      },
      "execution_count": null,
      "outputs": []
    },
    {
      "cell_type": "markdown",
      "source": [
        "# SERIE II"
      ],
      "metadata": {
        "id": "SnQfSe32krg_"
      }
    },
    {
      "cell_type": "code",
      "source": [
        "cards = spark.read.option('inferSchema','true').option('header','true').csv('Credit Card Customer Data.csv')"
      ],
      "metadata": {
        "id": "n7lUJxd5gkRJ"
      },
      "execution_count": null,
      "outputs": []
    },
    {
      "cell_type": "code",
      "source": [
        "lower_column_name = [col.lower().replace(' ', '_') for col in cards.columns]\n",
        "cards = cards.toDF(*lower_column_name)\n",
        "cards.columns"
      ],
      "metadata": {
        "id": "89KJ1ExKhD96",
        "outputId": "bb0b20a3-8db7-46d6-ebdc-364d3c613d99",
        "colab": {
          "base_uri": "https://localhost:8080/"
        }
      },
      "execution_count": null,
      "outputs": [
        {
          "output_type": "execute_result",
          "data": {
            "text/plain": [
              "['sl_no',\n",
              " 'customer_key',\n",
              " 'avg_credit_limit',\n",
              " 'total_credit_cards',\n",
              " 'total_visits_bank',\n",
              " 'total_visits_online',\n",
              " 'total_calls_made']"
            ]
          },
          "metadata": {},
          "execution_count": 94
        }
      ]
    },
    {
      "cell_type": "markdown",
      "source": [
        "### 1. identificar al cliente con mayor limite de credito"
      ],
      "metadata": {
        "id": "6mSyuEDUkfPX"
      }
    },
    {
      "cell_type": "code",
      "source": [
        "cards.select(\n",
        "    'customer_key',\n",
        "    'avg_credit_limit'\n",
        ")\\\n",
        ".groupBy('customer_key').agg(max('avg_credit_limit').alias('max_credit_limit'))\\\n",
        ".orderBy(desc('max_credit_limit'))\\\n",
        ".limit(1)\\\n",
        ".show()"
      ],
      "metadata": {
        "id": "Z3uRpszGicC2",
        "outputId": "2fc007ff-54ab-48db-d51b-92c033a8b491",
        "colab": {
          "base_uri": "https://localhost:8080/"
        }
      },
      "execution_count": null,
      "outputs": [
        {
          "output_type": "stream",
          "name": "stdout",
          "text": [
            "+------------+----------------+\n",
            "|customer_key|max_credit_limit|\n",
            "+------------+----------------+\n",
            "|       33837|          200000|\n",
            "+------------+----------------+\n",
            "\n"
          ]
        }
      ]
    },
    {
      "cell_type": "markdown",
      "source": [
        "### 2. Basandose en el numero de visitas al banco, visitas online y total de llamadas. Crear un nuevo campo que pueda clasificar a los clientes de la siguiente manera:\n",
        "\n",
        "  ##### a. Si el total de visitas al banco es mayor que otros = tradicional\n",
        "  ##### b. Si el total de visitas online es mayor que otros = digital\n",
        "  ##### c. Si el total de llamadas es mayor que otros = telefonico\n",
        "  ##### d. Si tiene el mismo valor en dos o tres canales = Multicanal\n",
        "\n"
      ],
      "metadata": {
        "id": "eAiqV1M5kvMj"
      }
    },
    {
      "cell_type": "code",
      "source": [
        "cards.select(\n",
        "    'customer_key',\n",
        "    'total_visits_bank',\n",
        "    'total_visits_online',\n",
        "    'total_calls_made',\n",
        "    when((col('total_visits_bank') > col('total_visits_online')) & (col('total_visits_bank') > col('total_calls_made')), 'Tradicional').\\\n",
        "    when((col('total_visits_online') > col('total_visits_bank')) & (col('total_visits_online') > col('total_calls_made')), 'Digital').\\\n",
        "    when((col('total_calls_made') > col('total_visits_bank')) & (col('total_calls_made') > col('total_visits_online')), 'Telefonico').\\\n",
        "    otherwise('Multicanal').\\\n",
        "    alias('customer_type')\n",
        ").show()"
      ],
      "metadata": {
        "id": "BYaR0oR8kTXC",
        "outputId": "c334995f-e0e7-4d6c-fd72-16e85f3b1307",
        "colab": {
          "base_uri": "https://localhost:8080/"
        }
      },
      "execution_count": null,
      "outputs": [
        {
          "output_type": "stream",
          "name": "stdout",
          "text": [
            "+------------+-----------------+-------------------+----------------+-------------+\n",
            "|customer_key|total_visits_bank|total_visits_online|total_calls_made|customer_type|\n",
            "+------------+-----------------+-------------------+----------------+-------------+\n",
            "|       87073|                1|                  1|               0|   Multicanal|\n",
            "|       38414|                0|                 10|               9|      Digital|\n",
            "|       17341|                1|                  3|               4|   Telefonico|\n",
            "|       40496|                1|                  1|               4|   Telefonico|\n",
            "|       47437|                0|                 12|               3|      Digital|\n",
            "|       58634|                0|                  1|               8|   Telefonico|\n",
            "|       48370|                0|                 11|               2|      Digital|\n",
            "|       37376|                0|                  1|               1|   Multicanal|\n",
            "|       82490|                0|                  2|               2|   Multicanal|\n",
            "|       44770|                0|                  1|               7|   Telefonico|\n",
            "|       52741|                0|                  5|               5|   Multicanal|\n",
            "|       52326|                0|                  2|               7|   Telefonico|\n",
            "|       92503|                2|                  5|               9|   Telefonico|\n",
            "|       25084|                1|                  5|               6|   Telefonico|\n",
            "|       68517|                2|                  4|               6|   Telefonico|\n",
            "|       55196|                0|                  5|               7|   Telefonico|\n",
            "|       62617|                1|                  2|               4|   Telefonico|\n",
            "|       96463|                0|                  3|               4|   Telefonico|\n",
            "|       39137|                2|                  2|               7|   Telefonico|\n",
            "|       14309|                1|                  5|               8|   Telefonico|\n",
            "+------------+-----------------+-------------------+----------------+-------------+\n",
            "only showing top 20 rows\n",
            "\n"
          ]
        }
      ]
    },
    {
      "cell_type": "markdown",
      "source": [
        "### 3. ¿Para qué podría utilizar una empresa del sector bancario el campo creado en el punto 2?"
      ],
      "metadata": {
        "id": "4KtYmYG6prBP"
      }
    },
    {
      "cell_type": "code",
      "source": [
        "'''\n",
        "Para poder saber el medio favorito de interacción del cliente con el banco y por este, poder ofrecer nuevos productos o servicios.\n",
        "Así como crear estrategias de mercado dependiendo la via favorita de los clientes en general.\n",
        "'''"
      ],
      "metadata": {
        "id": "Y0hx7tQypl6W"
      },
      "execution_count": null,
      "outputs": []
    },
    {
      "cell_type": "markdown",
      "source": [
        "### 4. Sumar los campos total_visits_banck, total_visits_online, total_calls_mode para identificar a los 3 clientes con el mayor total."
      ],
      "metadata": {
        "id": "-marJNg968IM"
      }
    },
    {
      "cell_type": "code",
      "source": [
        "cards.select(\n",
        "    'customer_key',\n",
        "    (col('total_visits_bank') + col('total_visits_online') + col('total_calls_made')).alias('total_customer')\n",
        ")\\\n",
        ".orderBy(desc('total_customer'))\\\n",
        ".limit(3)\\\n",
        ".show()"
      ],
      "metadata": {
        "id": "5Tykc0-E83Fi",
        "outputId": "62e18cb5-5004-43d1-d94b-f58fdd50d18e",
        "colab": {
          "base_uri": "https://localhost:8080/"
        }
      },
      "execution_count": null,
      "outputs": [
        {
          "output_type": "stream",
          "name": "stdout",
          "text": [
            "+------------+--------------+\n",
            "|customer_key|total_customer|\n",
            "+------------+--------------+\n",
            "|       38414|            19|\n",
            "|       99843|            18|\n",
            "|       90839|            18|\n",
            "+------------+--------------+\n",
            "\n"
          ]
        }
      ]
    },
    {
      "cell_type": "markdown",
      "source": [
        "### 5. ¿Cuántas tarjetas de credito hay en total? ¿Cuántos clientes tiene la empresa? ¿Cuáñ es el límite total?"
      ],
      "metadata": {
        "id": "DVIkpEoe-bS-"
      }
    },
    {
      "cell_type": "code",
      "source": [
        "cards.select(\n",
        "    count('sl_no').alias('total_tarjetas'),\n",
        "    count_distinct('customer_key').alias('conteo_clientes'),\n",
        "    sum('avg_credit_limit').alias('total_limite')\n",
        ").show()"
      ],
      "metadata": {
        "id": "pYfiE_5H-WhB",
        "outputId": "d30b63a0-7ece-4e13-a226-e1cbc2955b1d",
        "colab": {
          "base_uri": "https://localhost:8080/"
        }
      },
      "execution_count": null,
      "outputs": [
        {
          "output_type": "stream",
          "name": "stdout",
          "text": [
            "+--------------+---------------+------------+\n",
            "|total_tarjetas|conteo_clientes|total_limite|\n",
            "+--------------+---------------+------------+\n",
            "|           660|            655|    22819000|\n",
            "+--------------+---------------+------------+\n",
            "\n"
          ]
        }
      ]
    },
    {
      "cell_type": "markdown",
      "source": [
        "### 6. Crear una nueva estructura dataframe llamada: df_cc_filter con todos los clientes que tengan menos de 3 tarjetas de credito."
      ],
      "metadata": {
        "id": "fNz0lw_v_1-E"
      }
    },
    {
      "cell_type": "code",
      "source": [
        "df_cc_filter = cards.groupBy('customer_key').agg(count('customer_key').alias('customer_cards')).filter(col('customer_cards') < 3)\n",
        "df_cc_filter.show()"
      ],
      "metadata": {
        "id": "CCmQfr9b_k2k",
        "outputId": "f809d1d4-0f81-4ce5-8a03-b7edfeaa8795",
        "colab": {
          "base_uri": "https://localhost:8080/"
        }
      },
      "execution_count": null,
      "outputs": [
        {
          "output_type": "stream",
          "name": "stdout",
          "text": [
            "+------------+--------------+\n",
            "|customer_key|customer_cards|\n",
            "+------------+--------------+\n",
            "|       41946|             1|\n",
            "|       48510|             1|\n",
            "|       49331|             1|\n",
            "|       64519|             1|\n",
            "|       45341|             1|\n",
            "|       39285|             1|\n",
            "|       82164|             1|\n",
            "|       34103|             1|\n",
            "|       29058|             1|\n",
            "|       18595|             1|\n",
            "|       26767|             1|\n",
            "|       44398|             1|\n",
            "|       47496|             1|\n",
            "|       97109|             1|\n",
            "|       14377|             1|\n",
            "|       34495|             1|\n",
            "|       87219|             1|\n",
            "|       90586|             1|\n",
            "|       25742|             1|\n",
            "|       17036|             1|\n",
            "+------------+--------------+\n",
            "only showing top 20 rows\n",
            "\n"
          ]
        }
      ]
    },
    {
      "cell_type": "markdown",
      "source": [
        "# SERIE III"
      ],
      "metadata": {
        "id": "N60MGWR5B52T"
      }
    },
    {
      "cell_type": "markdown",
      "source": [
        "### 1. Leer los archivos en su respectivo DF de pyspark y mostrar el esquema de cada DF"
      ],
      "metadata": {
        "id": "GDVmU_cieT8x"
      }
    },
    {
      "cell_type": "code",
      "source": [
        "product = spark.read.option('inferSchema','true').option('header','true').option('delimiter','\\t').csv('Product.csv')\n",
        "region = spark.read.option('inferSchema','true').option('header','true').option('delimiter','\\t').csv('Region.csv')\n",
        "reseller = spark.read.option('inferSchema','true').option('header','true').option('delimiter','\\t').csv('Reseller.csv')\n",
        "sales = spark.read.option('inferSchema','true').option('header','true').option('delimiter','\\t').csv('Sales.csv')\n",
        "salesperson = spark.read.option('inferSchema','true').option('header','true').option('delimiter','\\t').csv('Salesperson.csv')\n",
        "salespersonRegion = spark.read.option('inferSchema','true').option('header','true').option('delimiter','\\t').csv('SalespersonRegion.csv')\n",
        "targets = spark.read.option('inferSchema','true').option('header','true').option('delimiter','\\t').csv('Targets.csv')"
      ],
      "metadata": {
        "id": "T8jjRXWBCvm3"
      },
      "execution_count": 4,
      "outputs": []
    },
    {
      "cell_type": "code",
      "source": [
        "product.printSchema()"
      ],
      "metadata": {
        "id": "WX-2fqqbex97",
        "outputId": "425118bd-6888-42f9-e57a-0437fca7bbcd",
        "colab": {
          "base_uri": "https://localhost:8080/"
        }
      },
      "execution_count": null,
      "outputs": [
        {
          "output_type": "stream",
          "name": "stdout",
          "text": [
            "root\n",
            " |-- productkey: integer (nullable = true)\n",
            " |-- product: string (nullable = true)\n",
            " |-- standard_cost: float (nullable = true)\n",
            " |-- color: string (nullable = true)\n",
            " |-- subcategory: string (nullable = true)\n",
            " |-- category: string (nullable = true)\n",
            " |-- background_color_format: string (nullable = true)\n",
            " |-- font_color_format: string (nullable = true)\n",
            "\n"
          ]
        }
      ]
    },
    {
      "cell_type": "code",
      "source": [
        "region.printSchema()"
      ],
      "metadata": {
        "id": "-hcMDj17ezea",
        "outputId": "8f45d895-097c-4e78-fc96-aa4ddc10b2b8",
        "colab": {
          "base_uri": "https://localhost:8080/"
        }
      },
      "execution_count": null,
      "outputs": [
        {
          "output_type": "stream",
          "name": "stdout",
          "text": [
            "root\n",
            " |-- SalesTerritoryKey: integer (nullable = true)\n",
            " |-- Region: string (nullable = true)\n",
            " |-- Country: string (nullable = true)\n",
            " |-- Group: string (nullable = true)\n",
            "\n"
          ]
        }
      ]
    },
    {
      "cell_type": "code",
      "source": [
        "reseller.printSchema()"
      ],
      "metadata": {
        "id": "wxKGddFbe_Kc",
        "outputId": "b53a1eb0-cdf1-4f07-9005-2c3464379205",
        "colab": {
          "base_uri": "https://localhost:8080/"
        }
      },
      "execution_count": null,
      "outputs": [
        {
          "output_type": "stream",
          "name": "stdout",
          "text": [
            "root\n",
            " |-- ResellerKey: integer (nullable = true)\n",
            " |-- Business Type: string (nullable = true)\n",
            " |-- Reseller: string (nullable = true)\n",
            " |-- City: string (nullable = true)\n",
            " |-- State-Province: string (nullable = true)\n",
            " |-- Country-Region: string (nullable = true)\n",
            "\n"
          ]
        }
      ]
    },
    {
      "cell_type": "code",
      "source": [
        "sales.printSchema()"
      ],
      "metadata": {
        "id": "agn300qjfAz7",
        "outputId": "2bafbe0e-ecea-4c4a-fd26-a8a4a9c52f88",
        "colab": {
          "base_uri": "https://localhost:8080/"
        }
      },
      "execution_count": null,
      "outputs": [
        {
          "output_type": "stream",
          "name": "stdout",
          "text": [
            "root\n",
            " |-- SalesOrderNumber: string (nullable = true)\n",
            " |-- OrderDate: date (nullable = true)\n",
            " |-- ProductKey: integer (nullable = true)\n",
            " |-- ResellerKey: integer (nullable = true)\n",
            " |-- EmployeeKey: integer (nullable = true)\n",
            " |-- SalesTerritoryKey: integer (nullable = true)\n",
            " |-- Quantity: integer (nullable = true)\n",
            " |-- Unit_Price: float (nullable = true)\n",
            " |-- Sales: float (nullable = true)\n",
            " |-- Cost: float (nullable = true)\n",
            "\n"
          ]
        }
      ]
    },
    {
      "cell_type": "code",
      "source": [
        "salesperson.printSchema()"
      ],
      "metadata": {
        "id": "G2ZeXaFDfC_8",
        "outputId": "65674714-11db-4866-994b-d8e42776ae3c",
        "colab": {
          "base_uri": "https://localhost:8080/"
        }
      },
      "execution_count": null,
      "outputs": [
        {
          "output_type": "stream",
          "name": "stdout",
          "text": [
            "root\n",
            " |-- EmployeeKey: integer (nullable = true)\n",
            " |-- EmployeeID: integer (nullable = true)\n",
            " |-- Salesperson: string (nullable = true)\n",
            " |-- Title: string (nullable = true)\n",
            " |-- UPN: string (nullable = true)\n",
            "\n"
          ]
        }
      ]
    },
    {
      "cell_type": "code",
      "source": [
        "salespersonRegion.printSchema()"
      ],
      "metadata": {
        "id": "jE1pk2JefElE",
        "outputId": "cfc1ece7-88ce-4016-f7ec-7b70250cd471",
        "colab": {
          "base_uri": "https://localhost:8080/"
        }
      },
      "execution_count": null,
      "outputs": [
        {
          "output_type": "stream",
          "name": "stdout",
          "text": [
            "root\n",
            " |-- EmployeeKey: integer (nullable = true)\n",
            " |-- SalesTerritoryKey: integer (nullable = true)\n",
            "\n"
          ]
        }
      ]
    },
    {
      "cell_type": "code",
      "source": [
        "targets.printSchema()"
      ],
      "metadata": {
        "id": "Pk1X2LiTfF2z",
        "outputId": "fb10c8cd-af30-4e91-ff51-98f4822ae4f6",
        "colab": {
          "base_uri": "https://localhost:8080/"
        }
      },
      "execution_count": null,
      "outputs": [
        {
          "output_type": "stream",
          "name": "stdout",
          "text": [
            "root\n",
            " |-- EmployeeID: integer (nullable = true)\n",
            " |-- Target: string (nullable = true)\n",
            " |-- TargetMonth: date (nullable = true)\n",
            "\n"
          ]
        }
      ]
    },
    {
      "cell_type": "markdown",
      "source": [
        "### 2. Realizar el proceso de limpieza de datos en caso de ser necesario."
      ],
      "metadata": {
        "id": "1hGhdgrrenWJ"
      }
    },
    {
      "cell_type": "code",
      "source": [
        "def format_column_names(columns):\n",
        "  return [col.replace(' ', '_').replace('-','_') for col in columns]"
      ],
      "metadata": {
        "id": "m4zKf023Dkcb"
      },
      "execution_count": 5,
      "outputs": []
    },
    {
      "cell_type": "code",
      "source": [
        "# Aplicando formato a columnas\n",
        "product = product.toDF(*format_column_names(product.columns))\n",
        "\n",
        "# Cast correcto a columnas\n",
        "product = product.select(\n",
        "    col('productkey').cast('int').alias('productkey'),\n",
        "    'product',\n",
        "    regexp_extract('standard_cost', r'([0-9]+).([0-9]+)', 0).cast('double').alias('standard_cost'),\n",
        "    'color',\n",
        "    'subcategory',\n",
        "    'category',\n",
        "    'background_color_format',\n",
        "    'font_color_format'\n",
        ")"
      ],
      "metadata": {
        "id": "SuoDh7HQFFb6"
      },
      "execution_count": 7,
      "outputs": []
    },
    {
      "cell_type": "code",
      "source": [
        "region = region.select(\n",
        "    col('SalesTerritoryKey').cast('int'),\n",
        "    'Region',\n",
        "    'Country',\n",
        "    'Group'\n",
        ")\n",
        "\n",
        "region = region.toDF(*format_column_names(region.columns))"
      ],
      "metadata": {
        "id": "R3hyrjSCIrmv"
      },
      "execution_count": 8,
      "outputs": []
    },
    {
      "cell_type": "code",
      "source": [
        "reseller = reseller.toDF(*format_column_names(reseller.columns))"
      ],
      "metadata": {
        "id": "lYntXDPiIuCz"
      },
      "execution_count": 9,
      "outputs": []
    },
    {
      "cell_type": "code",
      "source": [
        "# Función que convierte fecha en letras a numeros en string para poder aplicar un cast tipo date\n",
        "\n",
        "@udf(returnType=StringType())\n",
        "def date_to_str_fun(date):\n",
        "    months = ['january','february','march','april','may','june','july','august','september','october','november','december']\n",
        "\n",
        "    a = date.split(', ')\n",
        "    b = [x.split(' ') for x in a[1:]]\n",
        "    year_var = a[2]\n",
        "    month_var = months.index(b[0][0].lower())+1\n",
        "    day_var = b[0][1]\n",
        "\n",
        "    if month_var < 10: month_var = f'0{str(month_var)}'\n",
        "    if int(day_var) < 10: day_var = f'0{day_var}'\n",
        "\n",
        "    return f'{str(year_var)}-{str(month_var)}-{str(day_var)}'"
      ],
      "metadata": {
        "id": "QsL1ikXpbG4o"
      },
      "execution_count": 10,
      "outputs": []
    },
    {
      "cell_type": "code",
      "source": [
        "sales = sales.toDF(*format_column_names(sales.columns))\n",
        "\n",
        "# Nuevo DF sales con formato correcto a los datos\n",
        "sales = sales.select(\n",
        "    'SalesOrderNumber',\n",
        "    date_to_str_fun('OrderDate').alias('OrderDate'),\n",
        "    'ProductKey',\n",
        "    'ResellerKey',\n",
        "    'EmployeeKey',\n",
        "    'SalesTerritoryKey',\n",
        "    'Quantity',\n",
        "    regexp_extract(regexp_replace('Unit_Price', ',', ''), r'([0-9]+).([0-9]+)', 0).cast(DecimalType(38,2)).alias('Unit_Price'),\n",
        "    regexp_extract(regexp_replace('Sales', ',', ''), r'([0-9]+).([0-9]+)', 0).cast(DecimalType(38,2)).alias('Sales'),\n",
        "    regexp_extract(regexp_replace('Cost', ',', ''), r'([0-9]+).([0-9]+)', 0).cast(DecimalType(38,2)).alias('Cost')\n",
        ")"
      ],
      "metadata": {
        "id": "wDUtvxlcKG49"
      },
      "execution_count": 11,
      "outputs": []
    },
    {
      "cell_type": "code",
      "source": [
        "targets = targets.select(\n",
        "    'EmployeeID',\n",
        "    regexp_extract(regexp_replace('Target',',',''), r'([0-9]+).([0-9]+)',0).alias('Target'),\n",
        "    date_to_str_fun('TargetMonth').alias('TargetMonth')\n",
        ")"
      ],
      "metadata": {
        "id": "2CE2J_o2ZFpd"
      },
      "execution_count": 10,
      "outputs": []
    },
    {
      "cell_type": "markdown",
      "source": [
        "### 3. mostrar las ventas por región comparado anualmente nombre_region, año 2017, 2018, 2019, 2020"
      ],
      "metadata": {
        "id": "txNveNMRfY3n"
      }
    },
    {
      "cell_type": "code",
      "source": [
        "sales_region = sales.join(region, 'SalesTerritoryKey')"
      ],
      "metadata": {
        "id": "p8OzdJjlfb9Z"
      },
      "execution_count": 12,
      "outputs": []
    },
    {
      "cell_type": "code",
      "source": [
        "(sales_region\\\n",
        ".select(\n",
        "    col('region').alias('nombre_region'),\n",
        "    year('OrderDate').alias(f'year'),\n",
        "    'Sales'\n",
        ")\\\n",
        ".groupBy('nombre_region')\\\n",
        ".pivot('year')\\\n",
        ".sum('Sales')\\\n",
        ".orderBy('nombre_region'))\\\n",
        ".select(\n",
        "    'nombre_region',\n",
        "    (coalesce('2017', lit(0))).alias('año_2017'),\n",
        "    (coalesce('2018', lit(0))).alias('año_2018'),\n",
        "    (coalesce('2019', lit(0))).alias('año_2019'),\n",
        "    (coalesce('2020', lit(0))).alias('año_2020')\n",
        ").show()"
      ],
      "metadata": {
        "colab": {
          "base_uri": "https://localhost:8080/"
        },
        "id": "vhiN9TvLB6Yk",
        "outputId": "2dbe244b-d5b9-4c4c-e7ed-f830a84b753d"
      },
      "execution_count": 28,
      "outputs": [
        {
          "output_type": "stream",
          "name": "stdout",
          "text": [
            "+--------------+----------+----------+----------+----------+\n",
            "| nombre_region|  año_2017|  año_2018|  año_2019|  año_2020|\n",
            "+--------------+----------+----------+----------+----------+\n",
            "|     Australia|      0.00|      0.00| 875621.82| 515331.03|\n",
            "|        Canada|1514228.89|4860350.61|5689304.09|1808034.37|\n",
            "|       Central| 951799.96|2635029.33|3015528.54|1029523.03|\n",
            "|        France|      0.00| 860559.52|2405726.06|1260801.11|\n",
            "|       Germany|      0.00|      0.00|1127531.53| 750148.86|\n",
            "|     Northeast| 568552.28|2453082.16|2875491.60| 816863.35|\n",
            "|     Northwest|1690237.48|3502111.03|4686781.50|2124429.44|\n",
            "|     Southeast|1450813.30|2837964.04|2443724.75| 904561.46|\n",
            "|     Southwest|1894009.67|6329568.61|7187096.70|2587513.12|\n",
            "|United Kingdom|      0.00| 843795.95|2186342.99| 852025.02|\n",
            "+--------------+----------+----------+----------+----------+\n",
            "\n"
          ]
        }
      ]
    },
    {
      "cell_type": "markdown",
      "source": [
        "### 4. Identificar los dos productos con mas cantidades vendidas en cada año."
      ],
      "metadata": {
        "id": "xJdOcf5rv87X"
      }
    },
    {
      "cell_type": "code",
      "source": [
        "group_product_sales = sales.join(product, 'ProductKey')\\\n",
        "                      .groupBy(year('OrderDate').alias('year'), 'ProductKey', 'product').agg(sum('Quantity').alias('product_sales'))"
      ],
      "metadata": {
        "id": "iRKnC5j_y8DL"
      },
      "execution_count": 20,
      "outputs": []
    },
    {
      "cell_type": "code",
      "source": [
        "from pyspark.sql.window import Window\n",
        "\n",
        "product_espec = Window.partitionBy('year').orderBy(desc('product_sales'))\n",
        "group_product_sales.withColumn('rn', row_number().over(product_espec)).filter(col('rn') <= 2).show(truncate=False)"
      ],
      "metadata": {
        "colab": {
          "base_uri": "https://localhost:8080/"
        },
        "id": "vZ-_oJenv-QF",
        "outputId": "e537d578-9761-4576-aa2c-f6dedbab2943"
      },
      "execution_count": 21,
      "outputs": [
        {
          "output_type": "stream",
          "name": "stdout",
          "text": [
            "+----+----------+-------------------------------+-------------+---+\n",
            "|year|ProductKey|product                        |product_sales|rn |\n",
            "+----+----------+-------------------------------+-------------+---+\n",
            "|2017|218       |Mountain Bike Socks, M         |563          |1  |\n",
            "|2017|223       |AWC Logo Cap                   |520          |2  |\n",
            "|2018|470       |Full-Finger Gloves, L          |1942         |1  |\n",
            "|2018|233       |Long-Sleeve Logo Jersey, L     |1432         |2  |\n",
            "|2019|471       |Classic Vest, S                |2347         |1  |\n",
            "|2019|491       |Short-Sleeve Classic Jersey, XL|2052         |2  |\n",
            "|2020|471       |Classic Vest, S                |1349         |1  |\n",
            "|2020|491       |Short-Sleeve Classic Jersey, XL|1107         |2  |\n",
            "+----+----------+-------------------------------+-------------+---+\n",
            "\n"
          ]
        }
      ]
    },
    {
      "cell_type": "markdown",
      "source": [
        "### 5. Encontrar la diferencia entre la venta y el costo de cada orden e identificar por medio de un flag las ordenes que generaron una perdida para la empresa.\n",
        "\n"
      ],
      "metadata": {
        "id": "JQxJkj1v0BqN"
      }
    },
    {
      "cell_type": "code",
      "source": [
        "perdidas = (sales.select(\n",
        "    'SalesOrderNumber',\n",
        "    (col('Sales') - col('Cost')).alias('diff')\n",
        ")\\\n",
        ".groupBy('SalesOrderNumber')\\\n",
        ".agg(sum('diff').alias('total_diff')))\\\n",
        ".select(\n",
        "    'SalesOrderNumber',\n",
        "    col('total_diff').alias('total_diff'),\n",
        "    when(col('total_diff') < 0, 1).otherwise(0).alias('diff_flag')\n",
        ")\\\n",
        ".filter(col('diff_flag') == 1)\n",
        "\n",
        "perdidas.show()"
      ],
      "metadata": {
        "colab": {
          "base_uri": "https://localhost:8080/"
        },
        "id": "VXPWzqbg0DKr",
        "outputId": "feda7036-bd66-41e2-edde-a10357908191"
      },
      "execution_count": 14,
      "outputs": [
        {
          "output_type": "stream",
          "name": "stdout",
          "text": [
            "+----------------+----------+---------+\n",
            "|SalesOrderNumber|total_diff|diff_flag|\n",
            "+----------------+----------+---------+\n",
            "|         SO44521|     -9.98|        1|\n",
            "|         SO57042|  -2233.29|        1|\n",
            "|         SO63277|   -305.09|        1|\n",
            "|         SO45291|   -291.94|        1|\n",
            "|         SO46086|    -31.11|        1|\n",
            "|         SO57159|    -99.97|        1|\n",
            "|         SO57066|    -23.13|        1|\n",
            "|         SO69506|   -181.38|        1|\n",
            "|         SO49123|   -877.91|        1|\n",
            "|         SO69467|   -255.88|        1|\n",
            "|         SO63195|   -606.12|        1|\n",
            "|         SO65308|    -88.94|        1|\n",
            "|         SO57175|    -61.92|        1|\n",
            "|         SO48764|   -238.82|        1|\n",
            "|         SO51789|  -9986.52|        1|\n",
            "|         SO49859|    -83.94|        1|\n",
            "|         SO44101|    -79.81|        1|\n",
            "|         SO67311|   -341.05|        1|\n",
            "|         SO65310|   -263.85|        1|\n",
            "|         SO45568|    -61.86|        1|\n",
            "+----------------+----------+---------+\n",
            "only showing top 20 rows\n",
            "\n"
          ]
        }
      ]
    },
    {
      "cell_type": "markdown",
      "source": [
        "### 6. ¿Cual es la categoria con mas ganancias reportadas?"
      ],
      "metadata": {
        "id": "gZlt9T-cL1fX"
      }
    },
    {
      "cell_type": "code",
      "source": [
        "sales_product = sales.join(product, 'ProductKey')"
      ],
      "metadata": {
        "id": "nZ_t_g6oL2Wz"
      },
      "execution_count": 15,
      "outputs": []
    },
    {
      "cell_type": "code",
      "source": [
        "(sales_product.select(\n",
        "    'category',\n",
        "    (col('Sales') - col('Cost')).alias('diff')\n",
        ")\\\n",
        ".groupBy('category')\\\n",
        ".agg(sum('diff').alias('total_diff')))\\\n",
        ".select(\n",
        "    'Category',\n",
        "    round('total_diff',2).alias('total_revenue'),\n",
        ")\\\n",
        ".orderBy(desc('total_diff'))\\\n",
        ".limit(1)\\\n",
        ".show()"
      ],
      "metadata": {
        "colab": {
          "base_uri": "https://localhost:8080/"
        },
        "id": "86bCfLk-MZ3g",
        "outputId": "f4d99a06-6c46-4008-f3cd-c5d337ee2919"
      },
      "execution_count": 16,
      "outputs": [
        {
          "output_type": "stream",
          "name": "stdout",
          "text": [
            "+----------+-------------+\n",
            "|  Category|total_revenue|\n",
            "+----------+-------------+\n",
            "|Components|   1001235.43|\n",
            "+----------+-------------+\n",
            "\n"
          ]
        }
      ]
    },
    {
      "cell_type": "markdown",
      "source": [
        "### 7. Mostrar los numeros de orden de ventas que generaron un perdida para la empresa."
      ],
      "metadata": {
        "id": "jrXVatLIOi7_"
      }
    },
    {
      "cell_type": "code",
      "source": [
        "perdidas.select('SalesOrderNumber').show()"
      ],
      "metadata": {
        "colab": {
          "base_uri": "https://localhost:8080/"
        },
        "id": "8oHyu9Q6OkAR",
        "outputId": "8848d3da-ef17-4084-f80c-15b8aa82a41f"
      },
      "execution_count": 83,
      "outputs": [
        {
          "output_type": "stream",
          "name": "stdout",
          "text": [
            "+----------------+\n",
            "|SalesOrderNumber|\n",
            "+----------------+\n",
            "|         SO44521|\n",
            "|         SO57042|\n",
            "|         SO63277|\n",
            "|         SO45291|\n",
            "|         SO46086|\n",
            "|         SO57159|\n",
            "|         SO57066|\n",
            "|         SO69506|\n",
            "|         SO49123|\n",
            "|         SO69467|\n",
            "|         SO63195|\n",
            "|         SO65308|\n",
            "|         SO57175|\n",
            "|         SO48764|\n",
            "|         SO51789|\n",
            "|         SO49859|\n",
            "|         SO44101|\n",
            "|         SO67311|\n",
            "|         SO65310|\n",
            "|         SO45568|\n",
            "+----------------+\n",
            "only showing top 20 rows\n",
            "\n"
          ]
        }
      ]
    },
    {
      "cell_type": "markdown",
      "source": [
        "### 8. Identificar al empleado con mayor cantidad de ventas en cada mes del año 2020. id_empleado / nombre_empleado / mes / total_ventas"
      ],
      "metadata": {
        "id": "91aag_gNd3y9"
      }
    },
    {
      "cell_type": "code",
      "source": [
        "sales_employees = sales.join(salesperson, 'EmployeeKey')\\\n",
        ".select(\n",
        "    'OrderDate',\n",
        "    'EmployeeID',\n",
        "    'Salesperson',\n",
        "    'Sales'\n",
        ")\\\n",
        ".filter(year('OrderDate') == 2020)\\\n",
        ".groupBy(\n",
        "    col('EmployeeID').alias('id_empleado'),\n",
        "    col('Salesperson').alias('nombre_empleado'),\n",
        "    month('OrderDate').alias('mes')\n",
        ").agg(sum('Sales').alias('total_ventas'))"
      ],
      "metadata": {
        "id": "3C_qngtXd8I1"
      },
      "execution_count": 18,
      "outputs": []
    },
    {
      "cell_type": "code",
      "source": [
        "SE_spec = Window.partitionBy('mes').orderBy(desc('total_ventas'))\n",
        "sales_employees.withColumn('rn', row_number().over(SE_spec))\\\n",
        ".select(\n",
        "    'id_empleado',\n",
        "    'nombre_empleado',\n",
        "    'mes',\n",
        "    round('total_ventas',2).alias('total_ventas')\n",
        ")\\\n",
        ".filter(col('rn') == 1).show(truncate=False)"
      ],
      "metadata": {
        "colab": {
          "base_uri": "https://localhost:8080/"
        },
        "id": "-7L6_yAyjFZk",
        "outputId": "1c17bd2f-dd49-4f96-b533-e7f6e57a4ce2"
      },
      "execution_count": 22,
      "outputs": [
        {
          "output_type": "stream",
          "name": "stdout",
          "text": [
            "+-----------+------------------------+---+------------+\n",
            "|id_empleado|nombre_empleado         |mes|total_ventas|\n",
            "+-----------+------------------------+---+------------+\n",
            "|668991357  |Jae Pak                 |1  |219460.40   |\n",
            "|191644724  |Linda Mitchell          |2  |499364.86   |\n",
            "|668991357  |Jae Pak                 |3  |353918.00   |\n",
            "|668991357  |Jae Pak                 |4  |370602.30   |\n",
            "|134219713  |Ranjit Varkey Chudukatil|5  |608336.73   |\n",
            "+-----------+------------------------+---+------------+\n",
            "\n"
          ]
        }
      ]
    },
    {
      "cell_type": "markdown",
      "source": [
        "### 9. Mostrar las distintas categorias de productos que tiene la empresa"
      ],
      "metadata": {
        "id": "YGFi2heYlQkC"
      }
    },
    {
      "cell_type": "code",
      "source": [
        "product.select('Category').distinct().show()"
      ],
      "metadata": {
        "colab": {
          "base_uri": "https://localhost:8080/"
        },
        "id": "tfh3uZJulRkA",
        "outputId": "7eb10cc2-7163-4b02-cfbe-ffb26e2d2f44"
      },
      "execution_count": 114,
      "outputs": [
        {
          "output_type": "stream",
          "name": "stdout",
          "text": [
            "+-----------+\n",
            "|   Category|\n",
            "+-----------+\n",
            "|      Bikes|\n",
            "|   Clothing|\n",
            "|Accessories|\n",
            "| Components|\n",
            "+-----------+\n",
            "\n"
          ]
        }
      ]
    },
    {
      "cell_type": "markdown",
      "source": [
        "### 10. Identificar el total de unidades vendidas, total de ventas y el monto de la venta para cada categoria de producto. categoria / unidades_vendidas / total_ventas / monto_venta"
      ],
      "metadata": {
        "id": "Z6TRyXhslzDd"
      }
    },
    {
      "cell_type": "code",
      "source": [
        "(sales.join(product, 'ProductKey')\\\n",
        ".select(\n",
        "    'Sales',\n",
        "    'category',\n",
        "    'SalesOrderNumber',\n",
        "    'Quantity'\n",
        ")\\\n",
        ".groupBy(col('category').alias('categoria')).\\\n",
        "agg(\n",
        "    sum('Quantity').alias('unidades_vendidas'),\n",
        "    count('SalesOrderNumber').alias('total_ventas'),\n",
        "    sum('Sales').alias('monto_venta')\n",
        "))\\\n",
        ".show()"
      ],
      "metadata": {
        "colab": {
          "base_uri": "https://localhost:8080/"
        },
        "id": "vz9yo5kPn5Qv",
        "outputId": "9c327053-cfca-407d-c2f1-68e9d4557691"
      },
      "execution_count": 24,
      "outputs": [
        {
          "output_type": "stream",
          "name": "stdout",
          "text": [
            "+-----------+-----------------+------------+-----------+\n",
            "|  categoria|unidades_vendidas|total_ventas|monto_venta|\n",
            "+-----------+-----------------+------------+-----------+\n",
            "|      Bikes|            71880|       23661|64069033.16|\n",
            "|   Clothing|            61498|       11745| 1713315.05|\n",
            "|Accessories|            24264|        4826|  525760.09|\n",
            "| Components|            46472|       17619|11226374.90|\n",
            "+-----------+-----------------+------------+-----------+\n",
            "\n"
          ]
        }
      ]
    }
  ],
  "metadata": {
    "kernelspec": {
      "display_name": "Python 3 (ipykernel)",
      "language": "python",
      "name": "python3"
    },
    "language_info": {
      "codemirror_mode": {
        "name": "ipython",
        "version": 3
      },
      "file_extension": ".py",
      "mimetype": "text/x-python",
      "name": "python",
      "nbconvert_exporter": "python",
      "pygments_lexer": "ipython3",
      "version": "3.8.12"
    },
    "colab": {
      "provenance": []
    }
  },
  "nbformat": 4,
  "nbformat_minor": 0
}