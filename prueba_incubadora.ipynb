{
  "cells": [
    {
      "cell_type": "code",
      "source": [
        "!pip install findspark\n",
        "!pip install pyspark\n",
        "!pip install spark"
      ],
      "metadata": {
        "id": "rqzGafdhHxA0",
        "outputId": "649b6d8e-c938-43ba-c54c-57fb9d940187",
        "colab": {
          "base_uri": "https://localhost:8080/"
        }
      },
      "execution_count": 1,
      "outputs": [
        {
          "output_type": "stream",
          "name": "stdout",
          "text": [
            "Collecting findspark\n",
            "  Downloading findspark-2.0.1-py2.py3-none-any.whl (4.4 kB)\n",
            "Installing collected packages: findspark\n",
            "Successfully installed findspark-2.0.1\n",
            "Collecting pyspark\n",
            "  Downloading pyspark-3.4.1.tar.gz (310.8 MB)\n",
            "\u001b[2K     \u001b[90m━━━━━━━━━━━━━━━━━━━━━━━━━━━━━━━━━━━━━━━\u001b[0m \u001b[32m310.8/310.8 MB\u001b[0m \u001b[31m3.7 MB/s\u001b[0m eta \u001b[36m0:00:00\u001b[0m\n",
            "\u001b[?25h  Preparing metadata (setup.py) ... \u001b[?25l\u001b[?25hdone\n",
            "Requirement already satisfied: py4j==0.10.9.7 in /usr/local/lib/python3.10/dist-packages (from pyspark) (0.10.9.7)\n",
            "Building wheels for collected packages: pyspark\n",
            "  Building wheel for pyspark (setup.py) ... \u001b[?25l\u001b[?25hdone\n",
            "  Created wheel for pyspark: filename=pyspark-3.4.1-py2.py3-none-any.whl size=311285387 sha256=bbdda2958e64b5303f7a21857fbd896b58d93b57209447e5f086a648e8628e69\n",
            "  Stored in directory: /root/.cache/pip/wheels/0d/77/a3/ff2f74cc9ab41f8f594dabf0579c2a7c6de920d584206e0834\n",
            "Successfully built pyspark\n",
            "Installing collected packages: pyspark\n",
            "Successfully installed pyspark-3.4.1\n",
            "Collecting spark\n",
            "  Downloading spark-0.2.1.tar.gz (41 kB)\n",
            "\u001b[2K     \u001b[90m━━━━━━━━━━━━━━━━━━━━━━━━━━━━━━━━━━━━━━━\u001b[0m \u001b[32m41.0/41.0 kB\u001b[0m \u001b[31m832.7 kB/s\u001b[0m eta \u001b[36m0:00:00\u001b[0m\n",
            "\u001b[?25h  Preparing metadata (setup.py) ... \u001b[?25l\u001b[?25hdone\n",
            "Building wheels for collected packages: spark\n",
            "  Building wheel for spark (setup.py) ... \u001b[?25l\u001b[?25hdone\n",
            "  Created wheel for spark: filename=spark-0.2.1-py3-none-any.whl size=58748 sha256=97fba94a5aaddc672b818979a755c5efe8f7daa77304f2206cc4a4231532c1f1\n",
            "  Stored in directory: /root/.cache/pip/wheels/63/88/77/b4131110ea4094540f7b47c6d62a649807d7e94800da5eab0b\n",
            "Successfully built spark\n",
            "Installing collected packages: spark\n",
            "Successfully installed spark-0.2.1\n"
          ]
        }
      ]
    },
    {
      "cell_type": "code",
      "source": [
        "import pyspark\n",
        "import findspark\n",
        "import spark\n",
        "\n",
        "findspark.init()\n",
        "\n",
        "from pyspark.sql import SparkSession\n",
        "from pyspark.sql.functions import *\n",
        "\n",
        "spark = SparkSession.builder.getOrCreate()"
      ],
      "metadata": {
        "id": "Cc8bMLK2uT4k"
      },
      "execution_count": 2,
      "outputs": []
    },
    {
      "cell_type": "code",
      "source": [
        "lista = [n for n in range(1,101)]\n",
        "\n",
        "for numero in lista:\n",
        "    div3 = numero-((numero//3)*3)\n",
        "    div5 = numero-((numero//5)*5)\n",
        "\n",
        "    if div3 == 0 and div5 == 0:\n",
        "        print('BI')\n",
        "    elif div3 == 0:\n",
        "        print('B')\n",
        "    elif div5 == 0:\n",
        "        print('I')\n",
        "    else:\n",
        "        print(numero)"
      ],
      "metadata": {
        "id": "pcNkFJRFdXmd"
      },
      "execution_count": null,
      "outputs": []
    },
    {
      "cell_type": "markdown",
      "source": [
        "# SERIE II"
      ],
      "metadata": {
        "id": "SnQfSe32krg_"
      }
    },
    {
      "cell_type": "code",
      "source": [
        "cards = spark.read.option('inferSchema','true').option('header','true').csv('Credit Card Customer Data.csv')"
      ],
      "metadata": {
        "id": "n7lUJxd5gkRJ"
      },
      "execution_count": null,
      "outputs": []
    },
    {
      "cell_type": "code",
      "source": [
        "lower_column_name = [col.lower().replace(' ', '_') for col in cards.columns]\n",
        "cards = cards.toDF(*lower_column_name)\n",
        "cards.columns"
      ],
      "metadata": {
        "id": "89KJ1ExKhD96",
        "outputId": "bb0b20a3-8db7-46d6-ebdc-364d3c613d99",
        "colab": {
          "base_uri": "https://localhost:8080/"
        }
      },
      "execution_count": null,
      "outputs": [
        {
          "output_type": "execute_result",
          "data": {
            "text/plain": [
              "['sl_no',\n",
              " 'customer_key',\n",
              " 'avg_credit_limit',\n",
              " 'total_credit_cards',\n",
              " 'total_visits_bank',\n",
              " 'total_visits_online',\n",
              " 'total_calls_made']"
            ]
          },
          "metadata": {},
          "execution_count": 94
        }
      ]
    },
    {
      "cell_type": "markdown",
      "source": [
        "### 1. identificar al cliente con mayor limite de credito"
      ],
      "metadata": {
        "id": "6mSyuEDUkfPX"
      }
    },
    {
      "cell_type": "code",
      "source": [
        "cards.select(\n",
        "    'customer_key',\n",
        "    'avg_credit_limit'\n",
        ")\\\n",
        ".groupBy('customer_key').agg(max('avg_credit_limit').alias('max_credit_limit'))\\\n",
        ".orderBy(desc('max_credit_limit'))\\\n",
        ".limit(1)\\\n",
        ".show()"
      ],
      "metadata": {
        "id": "Z3uRpszGicC2",
        "outputId": "2fc007ff-54ab-48db-d51b-92c033a8b491",
        "colab": {
          "base_uri": "https://localhost:8080/"
        }
      },
      "execution_count": null,
      "outputs": [
        {
          "output_type": "stream",
          "name": "stdout",
          "text": [
            "+------------+----------------+\n",
            "|customer_key|max_credit_limit|\n",
            "+------------+----------------+\n",
            "|       33837|          200000|\n",
            "+------------+----------------+\n",
            "\n"
          ]
        }
      ]
    },
    {
      "cell_type": "markdown",
      "source": [
        "### 2. Basandose en el numero de visitas al banco, visitas online y total de llamadas. Crear un nuevo campo que pueda clasificar a los clientes de la siguiente manera:\n",
        "\n",
        "  ##### a. Si el total de visitas al banco es mayor que otros = tradicional\n",
        "  ##### b. Si el total de visitas online es mayor que otros = digital\n",
        "  ##### c. Si el total de llamadas es mayor que otros = telefonico\n",
        "  ##### d. Si tiene el mismo valor en dos o tres canales = Multicanal\n",
        "\n"
      ],
      "metadata": {
        "id": "eAiqV1M5kvMj"
      }
    },
    {
      "cell_type": "code",
      "source": [
        "cards.select(\n",
        "    'customer_key',\n",
        "    'total_visits_bank',\n",
        "    'total_visits_online',\n",
        "    'total_calls_made',\n",
        "    when((col('total_visits_bank') > col('total_visits_online')) & (col('total_visits_bank') > col('total_calls_made')), 'Tradicional').\\\n",
        "    when((col('total_visits_online') > col('total_visits_bank')) & (col('total_visits_online') > col('total_calls_made')), 'Digital').\\\n",
        "    when((col('total_calls_made') > col('total_visits_bank')) & (col('total_calls_made') > col('total_visits_online')), 'Telefonico').\\\n",
        "    otherwise('Multicanal').\\\n",
        "    alias('customer_type')\n",
        ").show()"
      ],
      "metadata": {
        "id": "BYaR0oR8kTXC",
        "outputId": "c334995f-e0e7-4d6c-fd72-16e85f3b1307",
        "colab": {
          "base_uri": "https://localhost:8080/"
        }
      },
      "execution_count": null,
      "outputs": [
        {
          "output_type": "stream",
          "name": "stdout",
          "text": [
            "+------------+-----------------+-------------------+----------------+-------------+\n",
            "|customer_key|total_visits_bank|total_visits_online|total_calls_made|customer_type|\n",
            "+------------+-----------------+-------------------+----------------+-------------+\n",
            "|       87073|                1|                  1|               0|   Multicanal|\n",
            "|       38414|                0|                 10|               9|      Digital|\n",
            "|       17341|                1|                  3|               4|   Telefonico|\n",
            "|       40496|                1|                  1|               4|   Telefonico|\n",
            "|       47437|                0|                 12|               3|      Digital|\n",
            "|       58634|                0|                  1|               8|   Telefonico|\n",
            "|       48370|                0|                 11|               2|      Digital|\n",
            "|       37376|                0|                  1|               1|   Multicanal|\n",
            "|       82490|                0|                  2|               2|   Multicanal|\n",
            "|       44770|                0|                  1|               7|   Telefonico|\n",
            "|       52741|                0|                  5|               5|   Multicanal|\n",
            "|       52326|                0|                  2|               7|   Telefonico|\n",
            "|       92503|                2|                  5|               9|   Telefonico|\n",
            "|       25084|                1|                  5|               6|   Telefonico|\n",
            "|       68517|                2|                  4|               6|   Telefonico|\n",
            "|       55196|                0|                  5|               7|   Telefonico|\n",
            "|       62617|                1|                  2|               4|   Telefonico|\n",
            "|       96463|                0|                  3|               4|   Telefonico|\n",
            "|       39137|                2|                  2|               7|   Telefonico|\n",
            "|       14309|                1|                  5|               8|   Telefonico|\n",
            "+------------+-----------------+-------------------+----------------+-------------+\n",
            "only showing top 20 rows\n",
            "\n"
          ]
        }
      ]
    },
    {
      "cell_type": "markdown",
      "source": [
        "### 3. ¿Para qué podría utilizar una empresa del sector bancario el campo creado en el punto 2?"
      ],
      "metadata": {
        "id": "4KtYmYG6prBP"
      }
    },
    {
      "cell_type": "code",
      "source": [
        "'''\n",
        "Para poder saber el medio favorito de interacción del cliente con el banco y por este, poder ofrecer nuevos productos o servicios.\n",
        "Así como crear estrategias de mercado dependiendo la via favorita de los clientes en general.\n",
        "'''"
      ],
      "metadata": {
        "id": "Y0hx7tQypl6W"
      },
      "execution_count": null,
      "outputs": []
    },
    {
      "cell_type": "markdown",
      "source": [
        "### 4. Sumar los campos total_visits_banck, total_visits_online, total_calls_mode para identificar a los 3 clientes con el mayor total."
      ],
      "metadata": {
        "id": "-marJNg968IM"
      }
    },
    {
      "cell_type": "code",
      "source": [
        "cards.select(\n",
        "    'customer_key',\n",
        "    (col('total_visits_bank') + col('total_visits_online') + col('total_calls_made')).alias('total_customer')\n",
        ")\\\n",
        ".orderBy(desc('total_customer'))\\\n",
        ".limit(3)\\\n",
        ".show()"
      ],
      "metadata": {
        "id": "5Tykc0-E83Fi",
        "outputId": "62e18cb5-5004-43d1-d94b-f58fdd50d18e",
        "colab": {
          "base_uri": "https://localhost:8080/"
        }
      },
      "execution_count": null,
      "outputs": [
        {
          "output_type": "stream",
          "name": "stdout",
          "text": [
            "+------------+--------------+\n",
            "|customer_key|total_customer|\n",
            "+------------+--------------+\n",
            "|       38414|            19|\n",
            "|       99843|            18|\n",
            "|       90839|            18|\n",
            "+------------+--------------+\n",
            "\n"
          ]
        }
      ]
    },
    {
      "cell_type": "markdown",
      "source": [
        "### 5. ¿Cuántas tarjetas de credito hay en total? ¿Cuántos clientes tiene la empresa? ¿Cuáñ es el límite total?"
      ],
      "metadata": {
        "id": "DVIkpEoe-bS-"
      }
    },
    {
      "cell_type": "code",
      "source": [
        "cards.select(\n",
        "    count('sl_no').alias('total_tarjetas'),\n",
        "    count_distinct('customer_key').alias('conteo_clientes'),\n",
        "    sum('avg_credit_limit').alias('total_limite')\n",
        ").show()"
      ],
      "metadata": {
        "id": "pYfiE_5H-WhB",
        "outputId": "d30b63a0-7ece-4e13-a226-e1cbc2955b1d",
        "colab": {
          "base_uri": "https://localhost:8080/"
        }
      },
      "execution_count": null,
      "outputs": [
        {
          "output_type": "stream",
          "name": "stdout",
          "text": [
            "+--------------+---------------+------------+\n",
            "|total_tarjetas|conteo_clientes|total_limite|\n",
            "+--------------+---------------+------------+\n",
            "|           660|            655|    22819000|\n",
            "+--------------+---------------+------------+\n",
            "\n"
          ]
        }
      ]
    },
    {
      "cell_type": "markdown",
      "source": [
        "### 6. Crear una nueva estructura dataframe llamada: df_cc_filter con todos los clientes que tengan menos de 3 tarjetas de credito."
      ],
      "metadata": {
        "id": "fNz0lw_v_1-E"
      }
    },
    {
      "cell_type": "code",
      "source": [
        "df_cc_filter = cards.groupBy('customer_key').agg(count('customer_key').alias('customer_cards')).filter(col('customer_cards') < 3)\n",
        "df_cc_filter.show()"
      ],
      "metadata": {
        "id": "CCmQfr9b_k2k",
        "outputId": "f809d1d4-0f81-4ce5-8a03-b7edfeaa8795",
        "colab": {
          "base_uri": "https://localhost:8080/"
        }
      },
      "execution_count": null,
      "outputs": [
        {
          "output_type": "stream",
          "name": "stdout",
          "text": [
            "+------------+--------------+\n",
            "|customer_key|customer_cards|\n",
            "+------------+--------------+\n",
            "|       41946|             1|\n",
            "|       48510|             1|\n",
            "|       49331|             1|\n",
            "|       64519|             1|\n",
            "|       45341|             1|\n",
            "|       39285|             1|\n",
            "|       82164|             1|\n",
            "|       34103|             1|\n",
            "|       29058|             1|\n",
            "|       18595|             1|\n",
            "|       26767|             1|\n",
            "|       44398|             1|\n",
            "|       47496|             1|\n",
            "|       97109|             1|\n",
            "|       14377|             1|\n",
            "|       34495|             1|\n",
            "|       87219|             1|\n",
            "|       90586|             1|\n",
            "|       25742|             1|\n",
            "|       17036|             1|\n",
            "+------------+--------------+\n",
            "only showing top 20 rows\n",
            "\n"
          ]
        }
      ]
    },
    {
      "cell_type": "markdown",
      "source": [
        "# SERIE III"
      ],
      "metadata": {
        "id": "N60MGWR5B52T"
      }
    },
    {
      "cell_type": "code",
      "source": [
        "'''\n",
        "\n",
        "4. Identificar los dos productos con mas cantidades vendidas en cada año.\n",
        "5. Encontrar la diferencia entre la venta y el costo de cda orden e ident\n",
        "'''"
      ],
      "metadata": {
        "id": "vYG5cf9ZB7KU"
      },
      "execution_count": null,
      "outputs": []
    },
    {
      "cell_type": "markdown",
      "source": [
        "### 1. Leer los archivos en su respectivo DF de pyspark y mostrar el esquema de cada DF"
      ],
      "metadata": {
        "id": "GDVmU_cieT8x"
      }
    },
    {
      "cell_type": "code",
      "source": [
        "product = spark.read.option('inferSchema','true').option('header','true').option('delimiter','\\t').csv('Product.csv')\n",
        "region = spark.read.option('inferSchema','true').option('header','true').option('delimiter','\\t').csv('Region.csv')\n",
        "reseller = spark.read.option('inferSchema','true').option('header','true').option('delimiter','\\t').csv('Reseller.csv')\n",
        "sales = spark.read.option('inferSchema','true').option('header','true').option('delimiter','\\t').csv('Sales.csv')\n",
        "salesperson = spark.read.option('inferSchema','true').option('header','true').option('delimiter','\\t').csv('Salesperson.csv')\n",
        "salespersonRegion = spark.read.option('inferSchema','true').option('header','true').option('delimiter','\\t').csv('SalespersonRegion.csv')\n",
        "targets = spark.read.option('inferSchema','true').option('header','true').option('delimiter','\\t').csv('Targets.csv')"
      ],
      "metadata": {
        "id": "T8jjRXWBCvm3"
      },
      "execution_count": 4,
      "outputs": []
    },
    {
      "cell_type": "code",
      "source": [
        "product.printSchema()"
      ],
      "metadata": {
        "id": "WX-2fqqbex97",
        "outputId": "425118bd-6888-42f9-e57a-0437fca7bbcd",
        "colab": {
          "base_uri": "https://localhost:8080/"
        }
      },
      "execution_count": null,
      "outputs": [
        {
          "output_type": "stream",
          "name": "stdout",
          "text": [
            "root\n",
            " |-- productkey: integer (nullable = true)\n",
            " |-- product: string (nullable = true)\n",
            " |-- standard_cost: float (nullable = true)\n",
            " |-- color: string (nullable = true)\n",
            " |-- subcategory: string (nullable = true)\n",
            " |-- category: string (nullable = true)\n",
            " |-- background_color_format: string (nullable = true)\n",
            " |-- font_color_format: string (nullable = true)\n",
            "\n"
          ]
        }
      ]
    },
    {
      "cell_type": "code",
      "source": [
        "region.printSchema()"
      ],
      "metadata": {
        "id": "-hcMDj17ezea",
        "outputId": "8f45d895-097c-4e78-fc96-aa4ddc10b2b8",
        "colab": {
          "base_uri": "https://localhost:8080/"
        }
      },
      "execution_count": null,
      "outputs": [
        {
          "output_type": "stream",
          "name": "stdout",
          "text": [
            "root\n",
            " |-- SalesTerritoryKey: integer (nullable = true)\n",
            " |-- Region: string (nullable = true)\n",
            " |-- Country: string (nullable = true)\n",
            " |-- Group: string (nullable = true)\n",
            "\n"
          ]
        }
      ]
    },
    {
      "cell_type": "code",
      "source": [
        "reseller.printSchema()"
      ],
      "metadata": {
        "id": "wxKGddFbe_Kc",
        "outputId": "b53a1eb0-cdf1-4f07-9005-2c3464379205",
        "colab": {
          "base_uri": "https://localhost:8080/"
        }
      },
      "execution_count": null,
      "outputs": [
        {
          "output_type": "stream",
          "name": "stdout",
          "text": [
            "root\n",
            " |-- ResellerKey: integer (nullable = true)\n",
            " |-- Business Type: string (nullable = true)\n",
            " |-- Reseller: string (nullable = true)\n",
            " |-- City: string (nullable = true)\n",
            " |-- State-Province: string (nullable = true)\n",
            " |-- Country-Region: string (nullable = true)\n",
            "\n"
          ]
        }
      ]
    },
    {
      "cell_type": "code",
      "source": [
        "sales.printSchema()"
      ],
      "metadata": {
        "id": "agn300qjfAz7",
        "outputId": "2bafbe0e-ecea-4c4a-fd26-a8a4a9c52f88",
        "colab": {
          "base_uri": "https://localhost:8080/"
        }
      },
      "execution_count": null,
      "outputs": [
        {
          "output_type": "stream",
          "name": "stdout",
          "text": [
            "root\n",
            " |-- SalesOrderNumber: string (nullable = true)\n",
            " |-- OrderDate: date (nullable = true)\n",
            " |-- ProductKey: integer (nullable = true)\n",
            " |-- ResellerKey: integer (nullable = true)\n",
            " |-- EmployeeKey: integer (nullable = true)\n",
            " |-- SalesTerritoryKey: integer (nullable = true)\n",
            " |-- Quantity: integer (nullable = true)\n",
            " |-- Unit_Price: float (nullable = true)\n",
            " |-- Sales: float (nullable = true)\n",
            " |-- Cost: float (nullable = true)\n",
            "\n"
          ]
        }
      ]
    },
    {
      "cell_type": "code",
      "source": [
        "salesperson.printSchema()"
      ],
      "metadata": {
        "id": "G2ZeXaFDfC_8",
        "outputId": "65674714-11db-4866-994b-d8e42776ae3c",
        "colab": {
          "base_uri": "https://localhost:8080/"
        }
      },
      "execution_count": null,
      "outputs": [
        {
          "output_type": "stream",
          "name": "stdout",
          "text": [
            "root\n",
            " |-- EmployeeKey: integer (nullable = true)\n",
            " |-- EmployeeID: integer (nullable = true)\n",
            " |-- Salesperson: string (nullable = true)\n",
            " |-- Title: string (nullable = true)\n",
            " |-- UPN: string (nullable = true)\n",
            "\n"
          ]
        }
      ]
    },
    {
      "cell_type": "code",
      "source": [
        "salespersonRegion.printSchema()"
      ],
      "metadata": {
        "id": "jE1pk2JefElE",
        "outputId": "cfc1ece7-88ce-4016-f7ec-7b70250cd471",
        "colab": {
          "base_uri": "https://localhost:8080/"
        }
      },
      "execution_count": null,
      "outputs": [
        {
          "output_type": "stream",
          "name": "stdout",
          "text": [
            "root\n",
            " |-- EmployeeKey: integer (nullable = true)\n",
            " |-- SalesTerritoryKey: integer (nullable = true)\n",
            "\n"
          ]
        }
      ]
    },
    {
      "cell_type": "code",
      "source": [
        "targets.printSchema()"
      ],
      "metadata": {
        "id": "Pk1X2LiTfF2z",
        "outputId": "fb10c8cd-af30-4e91-ff51-98f4822ae4f6",
        "colab": {
          "base_uri": "https://localhost:8080/"
        }
      },
      "execution_count": null,
      "outputs": [
        {
          "output_type": "stream",
          "name": "stdout",
          "text": [
            "root\n",
            " |-- EmployeeID: integer (nullable = true)\n",
            " |-- Target: string (nullable = true)\n",
            " |-- TargetMonth: date (nullable = true)\n",
            "\n"
          ]
        }
      ]
    },
    {
      "cell_type": "markdown",
      "source": [
        "### 2. Realizar el proceso de limpieza de datos en caso de ser necesario."
      ],
      "metadata": {
        "id": "1hGhdgrrenWJ"
      }
    },
    {
      "cell_type": "code",
      "source": [
        "def format_column_names(columns):\n",
        "  return [col.replace(' ', '_').replace('-','_') for col in columns]"
      ],
      "metadata": {
        "id": "m4zKf023Dkcb"
      },
      "execution_count": 5,
      "outputs": []
    },
    {
      "cell_type": "code",
      "source": [
        "# Aplicando formato a columnas\n",
        "product = product.toDF(*format_column_names(product.columns))\n",
        "\n",
        "# Cast correcto a columnas\n",
        "product = product.select(\n",
        "    col('productkey').cast('int').alias('productkey'),\n",
        "    'product',\n",
        "    regexp_extract('standard_cost', r'([0-9]+).([0-9]+)', 0).cast('float').alias('standard_cost'),\n",
        "    'color',\n",
        "    'subcategory',\n",
        "    'category',\n",
        "    'background_color_format',\n",
        "    'font_color_format'\n",
        ")"
      ],
      "metadata": {
        "id": "SuoDh7HQFFb6"
      },
      "execution_count": 6,
      "outputs": []
    },
    {
      "cell_type": "code",
      "source": [
        "region = region.select(\n",
        "    col('SalesTerritoryKey').cast('int'),\n",
        "    'Region',\n",
        "    'Country',\n",
        "    'Group'\n",
        ")\n",
        "\n",
        "region = region.toDF(*format_column_names(region.columns))"
      ],
      "metadata": {
        "id": "R3hyrjSCIrmv"
      },
      "execution_count": 7,
      "outputs": []
    },
    {
      "cell_type": "code",
      "source": [
        "reseller = reseller.toDF(*format_column_names(reseller.columns))"
      ],
      "metadata": {
        "id": "lYntXDPiIuCz"
      },
      "execution_count": 8,
      "outputs": []
    },
    {
      "cell_type": "code",
      "source": [
        "# Función que convierte fecha en letras a numeros en string para poder aplicar un cast tipo date\n",
        "\n",
        "@udf(returnType=StringType())\n",
        "def date_to_str_fun(date):\n",
        "    months = ['january','february','march','april','may','june','july','august','september','october','november','december']\n",
        "\n",
        "    a = date.split(', ')\n",
        "    b = [x.split(' ') for x in a[1:]]\n",
        "    year_var = a[2]\n",
        "    month_var = months.index(b[0][0].lower())+1\n",
        "    day_var = b[0][1]\n",
        "\n",
        "    if month_var < 10: month_var = f'0{str(month_var)}'\n",
        "    if int(day_var) < 10: day_var = f'0{day_var}'\n",
        "\n",
        "    return f'{str(year_var)}-{str(month_var)}-{str(day_var)}'"
      ],
      "metadata": {
        "id": "QsL1ikXpbG4o"
      },
      "execution_count": 10,
      "outputs": []
    },
    {
      "cell_type": "code",
      "source": [
        "sales = sales.toDF(*format_column_names(sales.columns))\n",
        "\n",
        "# Nuevo DF sales con formato correcto a los datos\n",
        "sales = sales.select(\n",
        "    'SalesOrderNumber',\n",
        "    date_to_str_fun('OrderDate').alias('OrderDate'),\n",
        "    'ProductKey',\n",
        "    'ResellerKey',\n",
        "    'EmployeeKey',\n",
        "    'SalesTerritoryKey',\n",
        "    'Quantity',\n",
        "    regexp_extract(regexp_replace('Unit_Price', ',', ''), r'([0-9]+).([0-9]+)', 0).cast('float').alias('Unit_Price'),\n",
        "    regexp_extract(regexp_replace('Sales', ',', ''), r'([0-9]+).([0-9]+)', 0).cast('float').alias('Sales'),\n",
        "    regexp_extract(regexp_replace('Cost', ',', ''), r'([0-9]+).([0-9]+)', 0).cast('float').alias('Cost')\n",
        ")"
      ],
      "metadata": {
        "id": "wDUtvxlcKG49"
      },
      "execution_count": 11,
      "outputs": []
    },
    {
      "cell_type": "code",
      "source": [
        "targets = targets.select(\n",
        "    'EmployeeID',\n",
        "    regexp_extract(regexp_replace('Target',',',''), r'([0-9]+).([0-9]+)',0).alias('Target'),\n",
        "    date_to_str_fun('TargetMonth').alias('TargetMonth')\n",
        ")"
      ],
      "metadata": {
        "id": "2CE2J_o2ZFpd"
      },
      "execution_count": 13,
      "outputs": []
    },
    {
      "cell_type": "markdown",
      "source": [
        "### 3. mostrar las ventas por región comparado anualmente nombre_region, año 2017, 2018, 2019, 2020"
      ],
      "metadata": {
        "id": "txNveNMRfY3n"
      }
    },
    {
      "cell_type": "code",
      "source": [
        "sales_region = sales.join(region, 'SalesTerritoryKey')"
      ],
      "metadata": {
        "id": "p8OzdJjlfb9Z"
      },
      "execution_count": 17,
      "outputs": []
    },
    {
      "cell_type": "code",
      "source": [
        "sales_region\\\n",
        ".select(\n",
        "    'region',\n",
        "    year('OrderDate').alias('year'),\n",
        "    'Sales'\n",
        ")\\\n",
        ".groupBy('Region', 'year').agg(sum('Sales').alias('total_sales'))\\\n",
        ".show()"
      ],
      "metadata": {
        "id": "p1dSaFDkh1Af",
        "outputId": "985b99e6-3630-48aa-e5ad-11c336820304",
        "colab": {
          "base_uri": "https://localhost:8080/"
        }
      },
      "execution_count": 19,
      "outputs": [
        {
          "output_type": "stream",
          "name": "stdout",
          "text": [
            "+--------------+----+------------------+\n",
            "|        Region|year|       total_sales|\n",
            "+--------------+----+------------------+\n",
            "|        Canada|2019| 5689304.063606858|\n",
            "|       Central|2017| 951799.9631867409|\n",
            "|United Kingdom|2019|2186342.9776256084|\n",
            "|     Southeast|2017|1450813.3120913506|\n",
            "|United Kingdom|2020| 852025.0148931742|\n",
            "|     Northwest|2018|3502111.0230522156|\n",
            "|     Australia|2020| 515331.0184943676|\n",
            "|     Northwest|2020| 2124429.429153204|\n",
            "|United Kingdom|2018| 843795.9444041252|\n",
            "|     Northwest|2017|1690237.4899878502|\n",
            "|     Southwest|2020| 2587513.102998495|\n",
            "|       Central|2018|2635029.3197636604|\n",
            "|     Northeast|2017| 568552.2762298584|\n",
            "|       Central|2019| 3015528.528031826|\n",
            "|     Southeast|2020| 904561.4563504457|\n",
            "|     Northwest|2019| 4686781.475811243|\n",
            "|     Southeast|2019| 2443724.734798074|\n",
            "|     Southwest|2018| 6329568.597466469|\n",
            "|        Canada|2018|4860350.5877485275|\n",
            "|     Northeast|2020| 816863.3455300331|\n",
            "+--------------+----+------------------+\n",
            "only showing top 20 rows\n",
            "\n"
          ]
        }
      ]
    }
  ],
  "metadata": {
    "kernelspec": {
      "display_name": "Python 3 (ipykernel)",
      "language": "python",
      "name": "python3"
    },
    "language_info": {
      "codemirror_mode": {
        "name": "ipython",
        "version": 3
      },
      "file_extension": ".py",
      "mimetype": "text/x-python",
      "name": "python",
      "nbconvert_exporter": "python",
      "pygments_lexer": "ipython3",
      "version": "3.8.12"
    },
    "colab": {
      "provenance": []
    }
  },
  "nbformat": 4,
  "nbformat_minor": 0
}