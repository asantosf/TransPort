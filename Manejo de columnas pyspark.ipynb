{
  "cells": [
    {
      "cell_type": "markdown",
      "source": [
        "# Inicio"
      ],
      "metadata": {
        "id": "SepfUcyBsNVM"
      }
    },
    {
      "cell_type": "code",
      "source": [
        "!pip install findspark\n",
        "!pip install pyspark\n",
        "!pip install spark"
      ],
      "metadata": {
        "id": "PLluq_jTsLLm",
        "outputId": "464796d4-574b-4af7-eb5b-f6989c9d1d79",
        "colab": {
          "base_uri": "https://localhost:8080/"
        }
      },
      "execution_count": 1,
      "outputs": [
        {
          "output_type": "stream",
          "name": "stdout",
          "text": [
            "Collecting findspark\n",
            "  Downloading findspark-2.0.1-py2.py3-none-any.whl (4.4 kB)\n",
            "Installing collected packages: findspark\n",
            "Successfully installed findspark-2.0.1\n",
            "Collecting pyspark\n",
            "  Downloading pyspark-3.4.1.tar.gz (310.8 MB)\n",
            "\u001b[2K     \u001b[90m━━━━━━━━━━━━━━━━━━━━━━━━━━━━━━━━━━━━━━━\u001b[0m \u001b[32m310.8/310.8 MB\u001b[0m \u001b[31m3.7 MB/s\u001b[0m eta \u001b[36m0:00:00\u001b[0m\n",
            "\u001b[?25h  Preparing metadata (setup.py) ... \u001b[?25l\u001b[?25hdone\n",
            "Requirement already satisfied: py4j==0.10.9.7 in /usr/local/lib/python3.10/dist-packages (from pyspark) (0.10.9.7)\n",
            "Building wheels for collected packages: pyspark\n",
            "  Building wheel for pyspark (setup.py) ... \u001b[?25l\u001b[?25hdone\n",
            "  Created wheel for pyspark: filename=pyspark-3.4.1-py2.py3-none-any.whl size=311285387 sha256=6eeddb0a0531528c12d91489e31598ff1c88a267821618ad4f27f49cc8352c67\n",
            "  Stored in directory: /root/.cache/pip/wheels/0d/77/a3/ff2f74cc9ab41f8f594dabf0579c2a7c6de920d584206e0834\n",
            "Successfully built pyspark\n",
            "Installing collected packages: pyspark\n",
            "Successfully installed pyspark-3.4.1\n",
            "Collecting spark\n",
            "  Downloading spark-0.2.1.tar.gz (41 kB)\n",
            "\u001b[2K     \u001b[90m━━━━━━━━━━━━━━━━━━━━━━━━━━━━━━━━━━━━━━━━\u001b[0m \u001b[32m41.0/41.0 kB\u001b[0m \u001b[31m1.2 MB/s\u001b[0m eta \u001b[36m0:00:00\u001b[0m\n",
            "\u001b[?25h  Preparing metadata (setup.py) ... \u001b[?25l\u001b[?25hdone\n",
            "Building wheels for collected packages: spark\n",
            "  Building wheel for spark (setup.py) ... \u001b[?25l\u001b[?25hdone\n",
            "  Created wheel for spark: filename=spark-0.2.1-py3-none-any.whl size=58748 sha256=eeaa9b6a15f4a6b55701ad33802cd1dad6480664ac359fdd4438f75172a66a12\n",
            "  Stored in directory: /root/.cache/pip/wheels/63/88/77/b4131110ea4094540f7b47c6d62a649807d7e94800da5eab0b\n",
            "Successfully built spark\n",
            "Installing collected packages: spark\n",
            "Successfully installed spark-0.2.1\n"
          ]
        }
      ]
    },
    {
      "cell_type": "code",
      "source": [
        "import pyspark\n",
        "import findspark\n",
        "import spark\n",
        "\n",
        "findspark.init()\n",
        "\n",
        "from pyspark.sql import SparkSession\n",
        "from pyspark.sql.functions import *\n",
        "\n",
        "spark = SparkSession.builder.getOrCreate()"
      ],
      "metadata": {
        "id": "Cc8bMLK2uT4k"
      },
      "execution_count": 2,
      "outputs": []
    },
    {
      "cell_type": "code",
      "source": [
        "sc = spark.sparkContext"
      ],
      "metadata": {
        "id": "nBRA6_KXNcbd"
      },
      "execution_count": 4,
      "outputs": []
    },
    {
      "cell_type": "code",
      "source": [
        "rdd = sc.parallelize([1,2,3,4,5], 10)"
      ],
      "metadata": {
        "id": "YCUuxAUNOD9T"
      },
      "execution_count": 5,
      "outputs": []
    },
    {
      "cell_type": "code",
      "source": [
        "df = spark.read.parquet('dataPARQUET.parquet')"
      ],
      "metadata": {
        "id": "kuiZTO7Cj_zG"
      },
      "execution_count": 3,
      "outputs": []
    },
    {
      "cell_type": "code",
      "source": [
        "df.select('title').show()"
      ],
      "metadata": {
        "id": "bgxAHh01ncCw",
        "outputId": "706f3717-d89c-4f86-b401-aecdd5dbf394",
        "colab": {
          "base_uri": "https://localhost:8080/"
        }
      },
      "execution_count": 7,
      "outputs": [
        {
          "output_type": "stream",
          "name": "stdout",
          "text": [
            "+--------------------+\n",
            "|               title|\n",
            "+--------------------+\n",
            "|WE WANT TO TALK A...|\n",
            "|The Trump Preside...|\n",
            "|Racist Superman |...|\n",
            "|Nickelback Lyrics...|\n",
            "|I Dare You: GOING...|\n",
            "|2 Weeks with iPho...|\n",
            "|Roy Moore & Jeff ...|\n",
            "|5 Ice Cream Gadge...|\n",
            "|The Greatest Show...|\n",
            "|Why the rise of t...|\n",
            "|Dion Lewis' 103-Y...|\n",
            "|(SPOILERS) 'Shiva...|\n",
            "|Marshmello - Bloc...|\n",
            "|Which Countries A...|\n",
            "|SHOPPING FOR NEW ...|\n",
            "|    The New SpotMini|\n",
            "|One Change That W...|\n",
            "|How does your bod...|\n",
            "|HomeMade Electric...|\n",
            "|Founding An Inbre...|\n",
            "+--------------------+\n",
            "only showing top 20 rows\n",
            "\n"
          ]
        }
      ]
    },
    {
      "cell_type": "code",
      "source": [
        "df.select(col('title')).show()"
      ],
      "metadata": {
        "id": "5A7_Zn2aoRcm",
        "outputId": "317aabe4-a168-4fbf-94ba-b60c53a65bd5",
        "colab": {
          "base_uri": "https://localhost:8080/"
        }
      },
      "execution_count": 9,
      "outputs": [
        {
          "output_type": "stream",
          "name": "stdout",
          "text": [
            "+--------------------+\n",
            "|               title|\n",
            "+--------------------+\n",
            "|WE WANT TO TALK A...|\n",
            "|The Trump Preside...|\n",
            "|Racist Superman |...|\n",
            "|Nickelback Lyrics...|\n",
            "|I Dare You: GOING...|\n",
            "|2 Weeks with iPho...|\n",
            "|Roy Moore & Jeff ...|\n",
            "|5 Ice Cream Gadge...|\n",
            "|The Greatest Show...|\n",
            "|Why the rise of t...|\n",
            "|Dion Lewis' 103-Y...|\n",
            "|(SPOILERS) 'Shiva...|\n",
            "|Marshmello - Bloc...|\n",
            "|Which Countries A...|\n",
            "|SHOPPING FOR NEW ...|\n",
            "|    The New SpotMini|\n",
            "|One Change That W...|\n",
            "|How does your bod...|\n",
            "|HomeMade Electric...|\n",
            "|Founding An Inbre...|\n",
            "+--------------------+\n",
            "only showing top 20 rows\n",
            "\n"
          ]
        }
      ]
    },
    {
      "cell_type": "markdown",
      "source": [
        "# SELECT"
      ],
      "metadata": {
        "id": "ubuMww1GoyTw"
      }
    },
    {
      "cell_type": "code",
      "source": [
        "# SELECT\n",
        "\n",
        "df.select(\n",
        "    'video_id',\n",
        "    col('trending_date')\n",
        ").show()"
      ],
      "metadata": {
        "id": "XCf8M-XDoVTu",
        "outputId": "cb95c775-1eac-4418-ae31-bb8385ffa9b7",
        "colab": {
          "base_uri": "https://localhost:8080/"
        }
      },
      "execution_count": 16,
      "outputs": [
        {
          "output_type": "stream",
          "name": "stdout",
          "text": [
            "+-----------+-------------+\n",
            "|   video_id|trending_date|\n",
            "+-----------+-------------+\n",
            "|2kyS6SvSYSE|     17.14.11|\n",
            "|1ZAPwfrtAFY|     17.14.11|\n",
            "|5qpjK5DgCt4|     17.14.11|\n",
            "|puqaWrEC7tY|     17.14.11|\n",
            "|d380meD0W0M|     17.14.11|\n",
            "|gHZ1Qz0KiKM|     17.14.11|\n",
            "|39idVpFF7NQ|     17.14.11|\n",
            "|nc99ccSXST0|     17.14.11|\n",
            "|jr9QtXwC9vc|     17.14.11|\n",
            "|TUmyygCMMGA|     17.14.11|\n",
            "|9wRQljFNDW8|     17.14.11|\n",
            "|VifQlJit6A0|     17.14.11|\n",
            "|5E4ZBSInqUU|     17.14.11|\n",
            "|GgVmn66oK_A|     17.14.11|\n",
            "|TaTleo4cOs8|     17.14.11|\n",
            "|kgaO45SyaO4|     17.14.11|\n",
            "|ZAQs-ctOqXQ|     17.14.11|\n",
            "|YVfyYrEmzgM|     17.14.11|\n",
            "|eNSN6qet1kE|     17.14.11|\n",
            "|B5HORANmzHw|     17.14.11|\n",
            "+-----------+-------------+\n",
            "only showing top 20 rows\n",
            "\n"
          ]
        }
      ]
    },
    {
      "cell_type": "code",
      "source": [
        "df.select(\n",
        "    'likes',\n",
        "    'dislikes',\n",
        "    ('likes' - 'dislikes')\n",
        ").show()"
      ],
      "metadata": {
        "id": "MuIMwLdFpVvH",
        "outputId": "5ad41125-027a-46cf-e1df-2608a64f4e9c",
        "colab": {
          "base_uri": "https://localhost:8080/",
          "height": 227
        }
      },
      "execution_count": 18,
      "outputs": [
        {
          "output_type": "error",
          "ename": "TypeError",
          "evalue": "ignored",
          "traceback": [
            "\u001b[0;31m---------------------------------------------------------------------------\u001b[0m",
            "\u001b[0;31mTypeError\u001b[0m                                 Traceback (most recent call last)",
            "\u001b[0;32m<ipython-input-18-30f64bce1cd1>\u001b[0m in \u001b[0;36m<cell line: 1>\u001b[0;34m()\u001b[0m\n\u001b[1;32m      2\u001b[0m     \u001b[0;34m'likes'\u001b[0m\u001b[0;34m,\u001b[0m\u001b[0;34m\u001b[0m\u001b[0;34m\u001b[0m\u001b[0m\n\u001b[1;32m      3\u001b[0m     \u001b[0;34m'dislikes'\u001b[0m\u001b[0;34m,\u001b[0m\u001b[0;34m\u001b[0m\u001b[0;34m\u001b[0m\u001b[0m\n\u001b[0;32m----> 4\u001b[0;31m     \u001b[0;34m(\u001b[0m\u001b[0;34m'likes'\u001b[0m \u001b[0;34m-\u001b[0m \u001b[0;34m'dislikes'\u001b[0m\u001b[0;34m)\u001b[0m\u001b[0;34m\u001b[0m\u001b[0;34m\u001b[0m\u001b[0m\n\u001b[0m\u001b[1;32m      5\u001b[0m ).show()\n",
            "\u001b[0;31mTypeError\u001b[0m: unsupported operand type(s) for -: 'str' and 'str'"
          ]
        }
      ]
    },
    {
      "cell_type": "code",
      "source": [
        "df.select(\n",
        "    col('likes'),\n",
        "    col('dislikes'),\n",
        "    (col('likes') - col('dislikes')).alias('likes-dislikes').cast('int')\n",
        ").show()"
      ],
      "metadata": {
        "id": "ZPYfqRwPpXy-",
        "outputId": "4cfefc0e-6242-442e-e318-26e87b49f19a",
        "colab": {
          "base_uri": "https://localhost:8080/"
        }
      },
      "execution_count": 21,
      "outputs": [
        {
          "output_type": "stream",
          "name": "stdout",
          "text": [
            "+------+--------+--------------+\n",
            "| likes|dislikes|likes-dislikes|\n",
            "+------+--------+--------------+\n",
            "| 57527|    2966|         54561|\n",
            "| 97185|    6146|         91039|\n",
            "|146033|    5339|        140694|\n",
            "| 10172|     666|          9506|\n",
            "|132235|    1989|        130246|\n",
            "|  9763|     511|          9252|\n",
            "| 15993|    2445|         13548|\n",
            "| 23663|     778|         22885|\n",
            "|  3543|     119|          3424|\n",
            "| 12654|    1363|         11291|\n",
            "|   655|      25|           630|\n",
            "|  1576|     303|          1273|\n",
            "|114188|    1333|        112855|\n",
            "|  7848|    1171|          6677|\n",
            "|  7473|     246|          7227|\n",
            "|  9419|      52|          9367|\n",
            "|  8011|     638|          7373|\n",
            "|  5398|      53|          5345|\n",
            "| 11963|      36|         11927|\n",
            "|  8421|     191|          8230|\n",
            "+------+--------+--------------+\n",
            "only showing top 20 rows\n",
            "\n"
          ]
        }
      ]
    },
    {
      "cell_type": "markdown",
      "source": [
        "# SELECT EXPRESION"
      ],
      "metadata": {
        "id": "1Kv4X_6CqgV3"
      }
    },
    {
      "cell_type": "code",
      "source": [
        "df.selectExpr('likes', 'dislikes', '(likes - dislikes) as aceptacion').show()"
      ],
      "metadata": {
        "id": "aFQ8MsNgqUIB",
        "outputId": "b014f76f-5f10-48ce-96d4-35725af55ac0",
        "colab": {
          "base_uri": "https://localhost:8080/"
        }
      },
      "execution_count": 22,
      "outputs": [
        {
          "output_type": "stream",
          "name": "stdout",
          "text": [
            "+------+--------+----------+\n",
            "| likes|dislikes|aceptacion|\n",
            "+------+--------+----------+\n",
            "| 57527|    2966|   54561.0|\n",
            "| 97185|    6146|   91039.0|\n",
            "|146033|    5339|  140694.0|\n",
            "| 10172|     666|    9506.0|\n",
            "|132235|    1989|  130246.0|\n",
            "|  9763|     511|    9252.0|\n",
            "| 15993|    2445|   13548.0|\n",
            "| 23663|     778|   22885.0|\n",
            "|  3543|     119|    3424.0|\n",
            "| 12654|    1363|   11291.0|\n",
            "|   655|      25|     630.0|\n",
            "|  1576|     303|    1273.0|\n",
            "|114188|    1333|  112855.0|\n",
            "|  7848|    1171|    6677.0|\n",
            "|  7473|     246|    7227.0|\n",
            "|  9419|      52|    9367.0|\n",
            "|  8011|     638|    7373.0|\n",
            "|  5398|      53|    5345.0|\n",
            "| 11963|      36|   11927.0|\n",
            "|  8421|     191|    8230.0|\n",
            "+------+--------+----------+\n",
            "only showing top 20 rows\n",
            "\n"
          ]
        }
      ]
    },
    {
      "cell_type": "code",
      "source": [
        "df.selectExpr('count(distinct video_id) as countVideo').show()"
      ],
      "metadata": {
        "id": "m9LjrmjOqrFw",
        "outputId": "44f65c27-cf84-4023-b43d-f61f15c71717",
        "colab": {
          "base_uri": "https://localhost:8080/"
        }
      },
      "execution_count": 23,
      "outputs": [
        {
          "output_type": "stream",
          "name": "stdout",
          "text": [
            "+----------+\n",
            "|countVideo|\n",
            "+----------+\n",
            "|      6837|\n",
            "+----------+\n",
            "\n"
          ]
        }
      ]
    },
    {
      "cell_type": "markdown",
      "source": [
        "# FILTER"
      ],
      "metadata": {
        "id": "yBC5Lf5nrjPY"
      }
    },
    {
      "cell_type": "code",
      "source": [
        "df.filter(col('video_id') == '2kyS6SvSYSE').show()"
      ],
      "metadata": {
        "id": "m_lPsoBsq1Ou",
        "outputId": "1c525162-d33c-426f-8c19-83da5a1ddb87",
        "colab": {
          "base_uri": "https://localhost:8080/"
        }
      },
      "execution_count": 24,
      "outputs": [
        {
          "output_type": "stream",
          "name": "stdout",
          "text": [
            "+-----------+-------------+--------------------+-------------+-----------+--------------------+---------------+-------+-----+--------+-------------+--------------------+-----------------+----------------+----------------------+--------------------+\n",
            "|   video_id|trending_date|               title|channel_title|category_id|        publish_time|           tags|  views|likes|dislikes|comment_count|      thumbnail_link|comments_disabled|ratings_disabled|video_error_or_removed|         description|\n",
            "+-----------+-------------+--------------------+-------------+-----------+--------------------+---------------+-------+-----+--------+-------------+--------------------+-----------------+----------------+----------------------+--------------------+\n",
            "|2kyS6SvSYSE|     17.14.11|WE WANT TO TALK A...| CaseyNeistat|         22|2017-11-13T17:13:...|SHANtell martin| 748374|57527|    2966|        15954|https://i.ytimg.c...|            False|           False|                 False|SHANTELL'S CHANNE...|\n",
            "|2kyS6SvSYSE|     17.15.11|WE WANT TO TALK A...| CaseyNeistat|         22|2017-11-13T17:13:...|SHANtell martin|2188590|88099|    7150|        24225|https://i.ytimg.c...|            False|           False|                 False|SHANTELL'S CHANNE...|\n",
            "|2kyS6SvSYSE|     17.16.11|WE WANT TO TALK A...| CaseyNeistat|         22|2017-11-13T17:13:...|SHANtell martin|2325233|91111|    7543|        21450|https://i.ytimg.c...|            False|           False|                 False|SHANTELL'S CHANNE...|\n",
            "|2kyS6SvSYSE|     17.17.11|WE WANT TO TALK A...| CaseyNeistat|         22|2017-11-13T17:13:...|SHANtell martin|2400741|92831|    7687|        21714|https://i.ytimg.c...|            False|           False|                 False|SHANTELL'S CHANNE...|\n",
            "|2kyS6SvSYSE|     17.18.11|WE WANT TO TALK A...| CaseyNeistat|         22|2017-11-13T17:13:...|SHANtell martin|2468267|94303|    7802|        21866|https://i.ytimg.c...|            False|           False|                 False|SHANTELL'S CHANNE...|\n",
            "|2kyS6SvSYSE|     17.19.11|WE WANT TO TALK A...| CaseyNeistat|         22|2017-11-13T17:13:...|SHANtell martin|2524854|95587|    7892|        22038|https://i.ytimg.c...|            False|           False|                 False|SHANTELL'S CHANNE...|\n",
            "|2kyS6SvSYSE|     17.20.11|WE WANT TO TALK A...| CaseyNeistat|         22|2017-11-13T17:13:...|SHANtell martin|2564903|96321|    7972|        22149|https://i.ytimg.c...|            False|           False|                 False|SHANTELL'S CHANNE...|\n",
            "+-----------+-------------+--------------------+-------------+-----------+--------------------+---------------+-------+-----+--------+-------------+--------------------+-----------------+----------------+----------------------+--------------------+\n",
            "\n"
          ]
        }
      ]
    },
    {
      "cell_type": "code",
      "source": [
        "# WHERE Y FILTER\n",
        "\n",
        "df1 = spark.read.parquet('dataPARQUET.parquet').where(col('trending_date') != '17.14.11')\n",
        "df1.show()"
      ],
      "metadata": {
        "id": "I4VCt4mJrsaW",
        "outputId": "2c381c96-716f-4f45-9c44-d1346f387290",
        "colab": {
          "base_uri": "https://localhost:8080/"
        }
      },
      "execution_count": 25,
      "outputs": [
        {
          "output_type": "stream",
          "name": "stdout",
          "text": [
            "+--------------------+--------------------+--------------------+--------------------+--------------------+--------------------+--------------------+-------+------+--------+-------------+--------------------+-----------------+----------------+----------------------+--------------------+\n",
            "|            video_id|       trending_date|               title|       channel_title|         category_id|        publish_time|                tags|  views| likes|dislikes|comment_count|      thumbnail_link|comments_disabled|ratings_disabled|video_error_or_removed|         description|\n",
            "+--------------------+--------------------+--------------------+--------------------+--------------------+--------------------+--------------------+-------+------+--------+-------------+--------------------+-----------------+----------------+----------------------+--------------------+\n",
            "|\\nCook with confi...|             recipes|              videos| and restaurant g...| dining destinations| and hosting idea...|                null|   null|  null|    null|         null|                null|             null|            null|                  null|                null|\n",
            "|\\nVogue is the au...|      culture trends|     beauty coverage|              videos|     celebrity style| and fashion week...|                null|   null|  null|    null|         null|                null|             null|            null|                  null|                null|\n",
            "|\\nWIRED is where ...| WIRED explores t...|          innovation| and culture.\\n\\n...|                null|                null|                null|   null|  null|    null|         null|                null|             null|            null|                  null|                null|\n",
            "|         YvfYK0EEhK4|            17.15.11|Brent Pella - Why...|         Brent Pella|                  23|2017-11-14T15:32:...|\"spirit airlines\"...| 462490| 14132|     795|          666|https://i.ytimg.c...|            False|           False|                 False|Traveling for the...|\n",
            "|         cxMvzK2OQTw|            17.15.11|Cards Against Hum...|Cards Against Hum...|                  23|2017-11-14T16:43:...|              [none]| 295217|  4854|    1439|         1267|https://i.ytimg.c...|            False|           False|                 False|Narrated by Peter...|\n",
            "|         bAkEd8r7Nnw|            17.15.11|Slow Mo Katana Sw...|    The Slow Mo Guys|                  24|2017-11-14T18:31:...|\"slomo\"|\"slow\"|\"m...|1525400| 63995|     896|         4697|https://i.ytimg.c...|            False|           False|                 False|Has Dan ever used...|\n",
            "|         ItYOdWRo0JY|            17.15.11|Selling My iPhone...|          TechSmartt|                  28|2017-11-14T00:45:...|\"iphone x\"|\"iphon...|1836419| 28647|   17815|         7860|https://i.ytimg.c...|            False|           False|                 False|I saw the EcoATM ...|\n",
            "|         5530I_pYjbo|            17.15.11|How I Trained My ...|         JunsKitchen|                  26|2017-11-14T12:06:...|\"how\"|\"trained\"|\"...| 977285| 87615|     391|         5575|https://i.ytimg.c...|            False|           False|                 False|►EQUIPMENT I use ...|\n",
            "|         dUMH6DVYskc|            17.15.11|Ten-Year-Old's Fa...|     Attaullah Malik|                  28|2017-11-14T12:02:...|\"iPhone X\"|\"Face ...| 390964|  3687|    1273|         1224|https://i.ytimg.c...|            False|           False|                 False|We are seeing a f...|\n",
            "|         gjXrm2Q-te4|            17.15.11|Jimmy Fallon Pays...|The Tonight Show ...|                  23|2017-11-14T04:55:...|\"Jimmy Fallon\"|\"T...|1611093| 58474|     837|         3294|https://i.ytimg.c...|            False|           False|                 False|Jimmy celebrates ...|\n",
            "|         9SK1I0V6U5c|            17.15.11|Lie Detector | An...|        Anwar Jibawi|                  23|2017-11-14T18:01:...|\"lie detector\"|\"a...| 983365| 60983|     578|         3837|https://i.ytimg.c...|            False|           False|                 False|SUBSCRIBE ► https...|\n",
            "|         VsYmwBOYfW8|            17.15.11|Mean Tweets – Jim...|   Jimmy Kimmel Live|                  23|2017-11-14T08:30:...|\"jimmy\"|\"jimmy ki...|2765121| 35529|    1705|         2388|https://i.ytimg.c...|            False|           False|                 False|In honor of Jimmy...|\n",
            "|         kgaO45SyaO4|            17.15.11|    The New SpotMini|      BostonDynamics|                  28|2017-11-13T20:09:...|\"Robots\"|\"Boston ...|3701763| 56561|    2495|        11608|https://i.ytimg.c...|            False|           False|                 False|For more informat...|\n",
            "|         CtBca6H6Teg|            17.15.11|Honest Trailers -...|      Screen Junkies|                   1|2017-11-14T18:00:...|\"batman\"|\"screenj...| 829132| 25109|     316|         3428|https://i.ytimg.c...|            False|           False|                 False|Before Justice Le...|\n",
            "|         pcWKpGzhgq4|            17.15.11|Jason Momoa Shows...|The Graham Norton...|                  24|2017-11-14T12:13:...|\"Graham Norton\"|\"...| 391049|  5939|     106|          385|https://i.ytimg.c...|            False|           False|                 False|It's not a triden...|\n",
            "|         L3br0klRqF4|            17.15.11|Watch live: Sessi...|     Washington Post|                  25|2017-11-14T21:51:...|\"breaking news vi...| 137003|   580|     262|          343|https://i.ytimg.c...|            False|           False|                 False|Attorney General ...|\n",
            "|         9kF9xY74h-E|            17.15.11|Spilling Tea Abou...|         Dolan Twins|                  23|2017-11-14T21:00:...|\"Dolan Twins\"|\"Sp...| 891912|122347|     455|         7459|https://i.ytimg.c...|            False|           False|                 False|We spill TEA abou...|\n",
            "|         p2EY93WfBQk|            17.15.11|Is the Morphe 350...|         Jackie Aina|                  26|2017-11-14T21:03:...|\"morphe\"|\"morphe ...| 175539| 17130|     264|         1747|https://i.ytimg.c...|            False|           False|                 False|hi babes! the lat...|\n",
            "|         xL_qpDkF5A8|            17.15.11|American Crime St...|           TV Promos|                  24|2017-11-15T01:25:...|\"Donatella Versac...|  14565|   478|      13|           67|https://i.ytimg.c...|            False|           False|                 False|The Assassination...|\n",
            "|         eQVhAN7-IAw|            17.15.11|The Making of a S...|        Taylor Swift|                  10|2017-11-15T03:43:...|\"DIRECTV\"|\"DIRECT...| 125645| 16754|      65|         1373|https://i.ytimg.c...|            False|           False|                 False|A glimpse into Ta...|\n",
            "+--------------------+--------------------+--------------------+--------------------+--------------------+--------------------+--------------------+-------+------+--------+-------------+--------------------+-----------------+----------------+----------------------+--------------------+\n",
            "only showing top 20 rows\n",
            "\n"
          ]
        }
      ]
    },
    {
      "cell_type": "code",
      "source": [
        "df2 = spark.read.parquet('dataPARQUET.parquet').where(col('likes') > 5000)"
      ],
      "metadata": {
        "id": "ReQseDiOsGyX"
      },
      "execution_count": 27,
      "outputs": []
    },
    {
      "cell_type": "code",
      "source": [
        "df2.filter((col('trending_date') != '17.14.11') & (col('likes') > 7000)).show()"
      ],
      "metadata": {
        "id": "RzsD-kzzsXem",
        "outputId": "fb4f8313-fc8e-4833-c43f-5c36a74017de",
        "colab": {
          "base_uri": "https://localhost:8080/"
        }
      },
      "execution_count": 29,
      "outputs": [
        {
          "output_type": "stream",
          "name": "stdout",
          "text": [
            "+-----------+-------------+--------------------+--------------------+-----------+--------------------+--------------------+-------+------+--------+-------------+--------------------+-----------------+----------------+----------------------+--------------------+\n",
            "|   video_id|trending_date|               title|       channel_title|category_id|        publish_time|                tags|  views| likes|dislikes|comment_count|      thumbnail_link|comments_disabled|ratings_disabled|video_error_or_removed|         description|\n",
            "+-----------+-------------+--------------------+--------------------+-----------+--------------------+--------------------+-------+------+--------+-------------+--------------------+-----------------+----------------+----------------------+--------------------+\n",
            "|YvfYK0EEhK4|     17.15.11|Brent Pella - Why...|         Brent Pella|         23|2017-11-14T15:32:...|\"spirit airlines\"...| 462490| 14132|     795|          666|https://i.ytimg.c...|            False|           False|                 False|Traveling for the...|\n",
            "|bAkEd8r7Nnw|     17.15.11|Slow Mo Katana Sw...|    The Slow Mo Guys|         24|2017-11-14T18:31:...|\"slomo\"|\"slow\"|\"m...|1525400| 63995|     896|         4697|https://i.ytimg.c...|            False|           False|                 False|Has Dan ever used...|\n",
            "|ItYOdWRo0JY|     17.15.11|Selling My iPhone...|          TechSmartt|         28|2017-11-14T00:45:...|\"iphone x\"|\"iphon...|1836419| 28647|   17815|         7860|https://i.ytimg.c...|            False|           False|                 False|I saw the EcoATM ...|\n",
            "|5530I_pYjbo|     17.15.11|How I Trained My ...|         JunsKitchen|         26|2017-11-14T12:06:...|\"how\"|\"trained\"|\"...| 977285| 87615|     391|         5575|https://i.ytimg.c...|            False|           False|                 False|►EQUIPMENT I use ...|\n",
            "|gjXrm2Q-te4|     17.15.11|Jimmy Fallon Pays...|The Tonight Show ...|         23|2017-11-14T04:55:...|\"Jimmy Fallon\"|\"T...|1611093| 58474|     837|         3294|https://i.ytimg.c...|            False|           False|                 False|Jimmy celebrates ...|\n",
            "|9SK1I0V6U5c|     17.15.11|Lie Detector | An...|        Anwar Jibawi|         23|2017-11-14T18:01:...|\"lie detector\"|\"a...| 983365| 60983|     578|         3837|https://i.ytimg.c...|            False|           False|                 False|SUBSCRIBE ► https...|\n",
            "|VsYmwBOYfW8|     17.15.11|Mean Tweets – Jim...|   Jimmy Kimmel Live|         23|2017-11-14T08:30:...|\"jimmy\"|\"jimmy ki...|2765121| 35529|    1705|         2388|https://i.ytimg.c...|            False|           False|                 False|In honor of Jimmy...|\n",
            "|kgaO45SyaO4|     17.15.11|    The New SpotMini|      BostonDynamics|         28|2017-11-13T20:09:...|\"Robots\"|\"Boston ...|3701763| 56561|    2495|        11608|https://i.ytimg.c...|            False|           False|                 False|For more informat...|\n",
            "|CtBca6H6Teg|     17.15.11|Honest Trailers -...|      Screen Junkies|          1|2017-11-14T18:00:...|\"batman\"|\"screenj...| 829132| 25109|     316|         3428|https://i.ytimg.c...|            False|           False|                 False|Before Justice Le...|\n",
            "|9kF9xY74h-E|     17.15.11|Spilling Tea Abou...|         Dolan Twins|         23|2017-11-14T21:00:...|\"Dolan Twins\"|\"Sp...| 891912|122347|     455|         7459|https://i.ytimg.c...|            False|           False|                 False|We spill TEA abou...|\n",
            "|p2EY93WfBQk|     17.15.11|Is the Morphe 350...|         Jackie Aina|         26|2017-11-14T21:03:...|\"morphe\"|\"morphe ...| 175539| 17130|     264|         1747|https://i.ytimg.c...|            False|           False|                 False|hi babes! the lat...|\n",
            "|eQVhAN7-IAw|     17.15.11|The Making of a S...|        Taylor Swift|         10|2017-11-15T03:43:...|\"DIRECTV\"|\"DIRECT...| 125645| 16754|      65|         1373|https://i.ytimg.c...|            False|           False|                 False|A glimpse into Ta...|\n",
            "|2kyS6SvSYSE|     17.15.11|WE WANT TO TALK A...|        CaseyNeistat|         22|2017-11-13T17:13:...|     SHANtell martin|2188590| 88099|    7150|        24225|https://i.ytimg.c...|            False|           False|                 False|SHANTELL'S CHANNE...|\n",
            "|Y9nDagqKL7Q|     17.15.11|venting online ab...|               ProZD|          1|2017-11-13T20:47:...|\"venting online\"|...| 394709| 25188|     281|         1345|https://i.ytimg.c...|            False|           False|                 False|My Twitter: https...|\n",
            "|DbJ2s_g1oDc|     17.15.11|10 LIFE HACKS YOU...|               REACT|         24|2017-11-13T20:00:...|\"easy life hacks\"...| 863116| 20518|    1030|         4272|https://i.ytimg.c...|            False|           False|                 False|10 Awesome life h...|\n",
            "|1ZAPwfrtAFY|     17.15.11|The Trump Preside...|     LastWeekTonight|         24|2017-11-13T07:30:...|\"last week tonigh...|4632016|131784|    9892|        18284|https://i.ytimg.c...|            False|           False|                 False|One year after th...|\n",
            "|gHZ1Qz0KiKM|     17.15.11|2 Weeks with iPho...|            iJustine|         28|2017-11-13T19:07:...|\"ijustine\"|\"week ...| 758998| 19138|    2272|         2873|https://i.ytimg.c...|            False|           False|                 False|Using the iPhone ...|\n",
            "|jr9QtXwC9vc|     17.15.11|The Greatest Show...|    20th Century Fox|          1|2017-11-13T14:00:...|\"Trailer\"|\"Hugh J...|2671756| 12699|     505|         1010|https://i.ytimg.c...|            False|           False|                 False|Inspired by the i...|\n",
            "|l4bAoNAx2uo|     17.15.11|American Things E...|The Infographics ...|         27|2017-11-13T17:11:...|\"American Things ...| 419965|  9805|    1337|         5457|https://i.ytimg.c...|            False|           False|                 False|What are things t...|\n",
            "|puqaWrEC7tY|     17.15.11|Nickelback Lyrics...|Good Mythical Mor...|         24|2017-11-13T11:00:...|\"rhett and link\"|...| 772235| 15301|    1229|         3328|https://i.ytimg.c...|            False|           False|                 False|Today we find out...|\n",
            "+-----------+-------------+--------------------+--------------------+-----------+--------------------+--------------------+-------+------+--------+-------------+--------------------+-----------------+----------------+----------------------+--------------------+\n",
            "only showing top 20 rows\n",
            "\n"
          ]
        }
      ]
    },
    {
      "cell_type": "code",
      "source": [
        "df2.filter(col('trending_date') != '17.14.11').filter(col('likes') > 7000).show()"
      ],
      "metadata": {
        "id": "AeRzS4LCsu7e",
        "outputId": "b7b48fe7-80a4-4b79-c2c9-f0a0efa3ef84",
        "colab": {
          "base_uri": "https://localhost:8080/"
        }
      },
      "execution_count": 30,
      "outputs": [
        {
          "output_type": "stream",
          "name": "stdout",
          "text": [
            "+-----------+-------------+--------------------+--------------------+-----------+--------------------+--------------------+-------+------+--------+-------------+--------------------+-----------------+----------------+----------------------+--------------------+\n",
            "|   video_id|trending_date|               title|       channel_title|category_id|        publish_time|                tags|  views| likes|dislikes|comment_count|      thumbnail_link|comments_disabled|ratings_disabled|video_error_or_removed|         description|\n",
            "+-----------+-------------+--------------------+--------------------+-----------+--------------------+--------------------+-------+------+--------+-------------+--------------------+-----------------+----------------+----------------------+--------------------+\n",
            "|YvfYK0EEhK4|     17.15.11|Brent Pella - Why...|         Brent Pella|         23|2017-11-14T15:32:...|\"spirit airlines\"...| 462490| 14132|     795|          666|https://i.ytimg.c...|            False|           False|                 False|Traveling for the...|\n",
            "|bAkEd8r7Nnw|     17.15.11|Slow Mo Katana Sw...|    The Slow Mo Guys|         24|2017-11-14T18:31:...|\"slomo\"|\"slow\"|\"m...|1525400| 63995|     896|         4697|https://i.ytimg.c...|            False|           False|                 False|Has Dan ever used...|\n",
            "|ItYOdWRo0JY|     17.15.11|Selling My iPhone...|          TechSmartt|         28|2017-11-14T00:45:...|\"iphone x\"|\"iphon...|1836419| 28647|   17815|         7860|https://i.ytimg.c...|            False|           False|                 False|I saw the EcoATM ...|\n",
            "|5530I_pYjbo|     17.15.11|How I Trained My ...|         JunsKitchen|         26|2017-11-14T12:06:...|\"how\"|\"trained\"|\"...| 977285| 87615|     391|         5575|https://i.ytimg.c...|            False|           False|                 False|►EQUIPMENT I use ...|\n",
            "|gjXrm2Q-te4|     17.15.11|Jimmy Fallon Pays...|The Tonight Show ...|         23|2017-11-14T04:55:...|\"Jimmy Fallon\"|\"T...|1611093| 58474|     837|         3294|https://i.ytimg.c...|            False|           False|                 False|Jimmy celebrates ...|\n",
            "|9SK1I0V6U5c|     17.15.11|Lie Detector | An...|        Anwar Jibawi|         23|2017-11-14T18:01:...|\"lie detector\"|\"a...| 983365| 60983|     578|         3837|https://i.ytimg.c...|            False|           False|                 False|SUBSCRIBE ► https...|\n",
            "|VsYmwBOYfW8|     17.15.11|Mean Tweets – Jim...|   Jimmy Kimmel Live|         23|2017-11-14T08:30:...|\"jimmy\"|\"jimmy ki...|2765121| 35529|    1705|         2388|https://i.ytimg.c...|            False|           False|                 False|In honor of Jimmy...|\n",
            "|kgaO45SyaO4|     17.15.11|    The New SpotMini|      BostonDynamics|         28|2017-11-13T20:09:...|\"Robots\"|\"Boston ...|3701763| 56561|    2495|        11608|https://i.ytimg.c...|            False|           False|                 False|For more informat...|\n",
            "|CtBca6H6Teg|     17.15.11|Honest Trailers -...|      Screen Junkies|          1|2017-11-14T18:00:...|\"batman\"|\"screenj...| 829132| 25109|     316|         3428|https://i.ytimg.c...|            False|           False|                 False|Before Justice Le...|\n",
            "|9kF9xY74h-E|     17.15.11|Spilling Tea Abou...|         Dolan Twins|         23|2017-11-14T21:00:...|\"Dolan Twins\"|\"Sp...| 891912|122347|     455|         7459|https://i.ytimg.c...|            False|           False|                 False|We spill TEA abou...|\n",
            "|p2EY93WfBQk|     17.15.11|Is the Morphe 350...|         Jackie Aina|         26|2017-11-14T21:03:...|\"morphe\"|\"morphe ...| 175539| 17130|     264|         1747|https://i.ytimg.c...|            False|           False|                 False|hi babes! the lat...|\n",
            "|eQVhAN7-IAw|     17.15.11|The Making of a S...|        Taylor Swift|         10|2017-11-15T03:43:...|\"DIRECTV\"|\"DIRECT...| 125645| 16754|      65|         1373|https://i.ytimg.c...|            False|           False|                 False|A glimpse into Ta...|\n",
            "|2kyS6SvSYSE|     17.15.11|WE WANT TO TALK A...|        CaseyNeistat|         22|2017-11-13T17:13:...|     SHANtell martin|2188590| 88099|    7150|        24225|https://i.ytimg.c...|            False|           False|                 False|SHANTELL'S CHANNE...|\n",
            "|Y9nDagqKL7Q|     17.15.11|venting online ab...|               ProZD|          1|2017-11-13T20:47:...|\"venting online\"|...| 394709| 25188|     281|         1345|https://i.ytimg.c...|            False|           False|                 False|My Twitter: https...|\n",
            "|DbJ2s_g1oDc|     17.15.11|10 LIFE HACKS YOU...|               REACT|         24|2017-11-13T20:00:...|\"easy life hacks\"...| 863116| 20518|    1030|         4272|https://i.ytimg.c...|            False|           False|                 False|10 Awesome life h...|\n",
            "|1ZAPwfrtAFY|     17.15.11|The Trump Preside...|     LastWeekTonight|         24|2017-11-13T07:30:...|\"last week tonigh...|4632016|131784|    9892|        18284|https://i.ytimg.c...|            False|           False|                 False|One year after th...|\n",
            "|gHZ1Qz0KiKM|     17.15.11|2 Weeks with iPho...|            iJustine|         28|2017-11-13T19:07:...|\"ijustine\"|\"week ...| 758998| 19138|    2272|         2873|https://i.ytimg.c...|            False|           False|                 False|Using the iPhone ...|\n",
            "|jr9QtXwC9vc|     17.15.11|The Greatest Show...|    20th Century Fox|          1|2017-11-13T14:00:...|\"Trailer\"|\"Hugh J...|2671756| 12699|     505|         1010|https://i.ytimg.c...|            False|           False|                 False|Inspired by the i...|\n",
            "|l4bAoNAx2uo|     17.15.11|American Things E...|The Infographics ...|         27|2017-11-13T17:11:...|\"American Things ...| 419965|  9805|    1337|         5457|https://i.ytimg.c...|            False|           False|                 False|What are things t...|\n",
            "|puqaWrEC7tY|     17.15.11|Nickelback Lyrics...|Good Mythical Mor...|         24|2017-11-13T11:00:...|\"rhett and link\"|...| 772235| 15301|    1229|         3328|https://i.ytimg.c...|            False|           False|                 False|Today we find out...|\n",
            "+-----------+-------------+--------------------+--------------------+-----------+--------------------+--------------------+-------+------+--------+-------------+--------------------+-----------------+----------------+----------------------+--------------------+\n",
            "only showing top 20 rows\n",
            "\n"
          ]
        }
      ]
    },
    {
      "cell_type": "code",
      "source": [
        "df_noDuplicados = df.distinct()"
      ],
      "metadata": {
        "id": "h8yiNiR5tj0A"
      },
      "execution_count": 34,
      "outputs": []
    },
    {
      "cell_type": "code",
      "source": [
        "print(f'El conteo del DF original es {df.count()}')\n",
        "print(f'El conteo del DF distinct es {df_noDuplicados.count()}')"
      ],
      "metadata": {
        "id": "L27aBEPZuAtZ",
        "outputId": "b1ae25d0-cd72-4479-fa1f-b7898b0cd53f",
        "colab": {
          "base_uri": "https://localhost:8080/"
        }
      },
      "execution_count": 35,
      "outputs": [
        {
          "output_type": "stream",
          "name": "stdout",
          "text": [
            "El conteo del DF original es 48137\n",
            "El conteo del DF distinct es 41497\n"
          ]
        }
      ]
    },
    {
      "cell_type": "markdown",
      "source": [
        "# dropDuplicate"
      ],
      "metadata": {
        "id": "snLtYfc2v8zX"
      }
    },
    {
      "cell_type": "code",
      "source": [
        "dataframe = spark.createDataFrame([(1, 'azul', 567), (2, 'rojo', 487), (1, 'azul', 345), (2, 'verde', 783)]).toDF('id', 'color', 'importe')"
      ],
      "metadata": {
        "id": "zNBrMv9guPIX"
      },
      "execution_count": 36,
      "outputs": []
    },
    {
      "cell_type": "code",
      "source": [
        "dataframe.show()"
      ],
      "metadata": {
        "id": "nvV8gPfRwMPF",
        "outputId": "ef2d258a-c37b-45d6-dfa3-9aa243b84100",
        "colab": {
          "base_uri": "https://localhost:8080/"
        }
      },
      "execution_count": 37,
      "outputs": [
        {
          "output_type": "stream",
          "name": "stdout",
          "text": [
            "+---+-----+-------+\n",
            "| id|color|importe|\n",
            "+---+-----+-------+\n",
            "|  1| azul|    567|\n",
            "|  2| rojo|    487|\n",
            "|  1| azul|    345|\n",
            "|  2|verde|    783|\n",
            "+---+-----+-------+\n",
            "\n"
          ]
        }
      ]
    },
    {
      "cell_type": "code",
      "source": [
        "df_dropDup = dataframe.dropDuplicates()"
      ],
      "metadata": {
        "id": "qZHpzrSOwNAy"
      },
      "execution_count": 40,
      "outputs": []
    },
    {
      "cell_type": "code",
      "source": [
        "df_dropDup.show()"
      ],
      "metadata": {
        "id": "fbsFZofow3kz",
        "outputId": "c49ff237-2bbd-4940-96c9-d9ae623a3b92",
        "colab": {
          "base_uri": "https://localhost:8080/"
        }
      },
      "execution_count": 41,
      "outputs": [
        {
          "output_type": "stream",
          "name": "stdout",
          "text": [
            "+---+-----+-------+\n",
            "| id|color|importe|\n",
            "+---+-----+-------+\n",
            "|  2| rojo|    487|\n",
            "|  1| azul|    567|\n",
            "|  2|verde|    783|\n",
            "|  1| azul|    345|\n",
            "+---+-----+-------+\n",
            "\n"
          ]
        }
      ]
    },
    {
      "cell_type": "code",
      "source": [
        "df = df.select(col('likes'), col('views'), col('video_id'), col('dislikes')).dropDuplicates(['video_id'])"
      ],
      "metadata": {
        "id": "celIOnbbw5Tj"
      },
      "execution_count": 42,
      "outputs": []
    },
    {
      "cell_type": "code",
      "source": [
        "df.show()"
      ],
      "metadata": {
        "id": "ZWBblqchzEMF",
        "outputId": "2db20cb1-87ad-488f-ece4-650206daefac",
        "colab": {
          "base_uri": "https://localhost:8080/"
        }
      },
      "execution_count": 43,
      "outputs": [
        {
          "output_type": "stream",
          "name": "stdout",
          "text": [
            "+-----+-------+-----------+--------+\n",
            "|likes|  views|   video_id|dislikes|\n",
            "+-----+-------+-----------+--------+\n",
            "| 6531| 475965|-0CMnp02rNY|     172|\n",
            "| 4429| 563746|-0NYY8cqdiQ|      54|\n",
            "|32752|1566807|-1Hm41N0dUs|     393|\n",
            "| 5214| 129360|-1yT-K3c6YI|     108|\n",
            "|  438|  67429|-2RVw2_QyxQ|      23|\n",
            "|19339|1012527|-2aVkGcI7ZA|     633|\n",
            "| 1444|  84744|-2b4qSoMnKE|     199|\n",
            "|10350| 703371|-2wRFv-mScQ|     260|\n",
            "|73480| 545655|-35jibKqbEo|     727|\n",
            "|    2|   2863|-37nIo_tLnk|       0|\n",
            "| 4028| 385104|-39ysKKpE7I|     343|\n",
            "| 6468| 230360|-3h4Xt9No9o|     177|\n",
            "|10384| 249601|-3nEHRN6IPg|     370|\n",
            "|38776| 296237|-4s2MeUgduo|     466|\n",
            "|71090| 390631|-5aaJJQFvOg|     635|\n",
            "|21224| 744363|-66xHRJSPxs|     534|\n",
            "|17882| 363370|-7AZX5Xtiks|     416|\n",
            "|36960| 908989|-7UzyXO-mzk|     434|\n",
            "|17120|1815030|-7_ATlZ-zMc|     633|\n",
            "|  760| 252542|-8ZHXaGILlc|     100|\n",
            "+-----+-------+-----------+--------+\n",
            "only showing top 20 rows\n",
            "\n"
          ]
        }
      ]
    },
    {
      "cell_type": "code",
      "source": [
        "# sort\n",
        "\n",
        "df.sort('likes').show()"
      ],
      "metadata": {
        "id": "NTBeiPMEzFCe",
        "outputId": "340de82f-0b07-46f0-ec41-cfd4e7b27932",
        "colab": {
          "base_uri": "https://localhost:8080/"
        }
      },
      "execution_count": 44,
      "outputs": [
        {
          "output_type": "stream",
          "name": "stdout",
          "text": [
            "+-----+-----+--------------------+--------+\n",
            "|likes|views|            video_id|dislikes|\n",
            "+-----+-----+--------------------+--------+\n",
            "| null| null|Awesome Games Pla...|    null|\n",
            "| null| null|Filmed by Lucas F...|    null|\n",
            "| null| null|    Beautiful Thing:|    null|\n",
            "| null| null|Bon Appétit Test ...|    null|\n",
            "| null| null|Filmed at the Bee...|    null|\n",
            "| null| null|Britton Lane: htt...|    null|\n",
            "| null| null|Allie Sherlock: h...|    null|\n",
            "| null| null|Browse thousands ...|    null|\n",
            "| null| null|   ABOUT BON APPÉTIT|    null|\n",
            "| null| null|Catch Terry Crews...|    null|\n",
            "| null| null|    ABOUT EPICURIOUS|    null|\n",
            "| null| null|Check Out My WEBS...|    null|\n",
            "| null| null|    ABOUT TEEN VOGUE|    null|\n",
            "| null| null|Check out the Dam...|    null|\n",
            "| null| null|         ABOUT VOGUE|    null|\n",
            "| null| null|          City Song:|    null|\n",
            "| null| null|Filmed at the Wal...|    null|\n",
            "| null| null|            Clearly:|    null|\n",
            "| null| null|Black Panther is ...|    null|\n",
            "| null| null|Cook with confide...|    null|\n",
            "+-----+-----+--------------------+--------+\n",
            "only showing top 20 rows\n",
            "\n"
          ]
        }
      ]
    },
    {
      "cell_type": "code",
      "source": [
        "df.sort(desc('likes')).show()"
      ],
      "metadata": {
        "id": "EGhaeTRI4DCj",
        "outputId": "07eed153-24bd-4653-a953-7775c3903d31",
        "colab": {
          "base_uri": "https://localhost:8080/"
        }
      },
      "execution_count": 46,
      "outputs": [
        {
          "output_type": "stream",
          "name": "stdout",
          "text": [
            "+-----+-------+-----------+--------+\n",
            "|likes|  views|   video_id|dislikes|\n",
            "+-----+-------+-----------+--------+\n",
            "|99990|2079137|2v4-L4PkV9U|    2844|\n",
            "|99973|2465294|DSRSgMp5X1w|   17299|\n",
            "|99952|3313449|LdhQzXHYLZ4|    5142|\n",
            "| 9991|  98513|eBnXbImHX-g|      91|\n",
            "| 9988|1162843|kz1xzBYppW8|    2555|\n",
            "|99851|1053828|vRf3azp1pak|    1226|\n",
            "| 9984| 206669|Lydh_saD9EQ|      88|\n",
            "| 9984| 254807|Ps7GzIV2KP0|     294|\n",
            "|  998|  71308|Hkx5fveyjIs|      74|\n",
            "|  998|  54348|Pr6zjrF0Djg|      75|\n",
            "|  998|  82087|hX643KbiI4s|      93|\n",
            "|99761|1454233|h5CLO2n6OxQ|     692|\n",
            "|  997|  27234|nb42DxagyOE|      13|\n",
            "| 9969| 273905|c47kn_Y4y8A|     127|\n",
            "| 9946| 242329|QXcbVHFE2bo|     148|\n",
            "| 9939| 235293|1iGBHh1q0Kg|     232|\n",
            "| 9926| 467558|hHFuZVGpBC0|     342|\n",
            "|99254|1552618|0v-6AylRH68|    5195|\n",
            "| 9925| 166235|flLc6LmAG6c|      50|\n",
            "| 9921| 594536|e9NOwaiXqqA|     323|\n",
            "+-----+-------+-----------+--------+\n",
            "only showing top 20 rows\n",
            "\n"
          ]
        }
      ]
    },
    {
      "cell_type": "code",
      "source": [
        "df.orderBy('likes').show()"
      ],
      "metadata": {
        "id": "Alhbeld44QqH",
        "outputId": "083ba1e2-a065-462d-a1ba-c742173284d5",
        "colab": {
          "base_uri": "https://localhost:8080/"
        }
      },
      "execution_count": 48,
      "outputs": [
        {
          "output_type": "stream",
          "name": "stdout",
          "text": [
            "+-----+-----+--------------------+--------+\n",
            "|likes|views|            video_id|dislikes|\n",
            "+-----+-----+--------------------+--------+\n",
            "| null| null|Awesome Games Pla...|    null|\n",
            "| null| null|Filmed by Lucas F...|    null|\n",
            "| null| null|    Beautiful Thing:|    null|\n",
            "| null| null|Bon Appétit Test ...|    null|\n",
            "| null| null|Filmed at the Bee...|    null|\n",
            "| null| null|Britton Lane: htt...|    null|\n",
            "| null| null|Allie Sherlock: h...|    null|\n",
            "| null| null|Browse thousands ...|    null|\n",
            "| null| null|   ABOUT BON APPÉTIT|    null|\n",
            "| null| null|Catch Terry Crews...|    null|\n",
            "| null| null|    ABOUT EPICURIOUS|    null|\n",
            "| null| null|Check Out My WEBS...|    null|\n",
            "| null| null|    ABOUT TEEN VOGUE|    null|\n",
            "| null| null|Check out the Dam...|    null|\n",
            "| null| null|         ABOUT VOGUE|    null|\n",
            "| null| null|          City Song:|    null|\n",
            "| null| null|Filmed at the Wal...|    null|\n",
            "| null| null|            Clearly:|    null|\n",
            "| null| null|Black Panther is ...|    null|\n",
            "| null| null|Cook with confide...|    null|\n",
            "+-----+-----+--------------------+--------+\n",
            "only showing top 20 rows\n",
            "\n"
          ]
        }
      ]
    },
    {
      "cell_type": "code",
      "source": [
        "df.orderBy(col('likes').desc()).show()"
      ],
      "metadata": {
        "id": "VsmPr0VI4pEQ",
        "outputId": "b856477d-5770-43e1-de39-b3337132924a",
        "colab": {
          "base_uri": "https://localhost:8080/"
        }
      },
      "execution_count": 49,
      "outputs": [
        {
          "output_type": "stream",
          "name": "stdout",
          "text": [
            "+-----+-------+-----------+--------+\n",
            "|likes|  views|   video_id|dislikes|\n",
            "+-----+-------+-----------+--------+\n",
            "|99990|2079137|2v4-L4PkV9U|    2844|\n",
            "|99973|2465294|DSRSgMp5X1w|   17299|\n",
            "|99952|3313449|LdhQzXHYLZ4|    5142|\n",
            "| 9991|  98513|eBnXbImHX-g|      91|\n",
            "| 9988|1162843|kz1xzBYppW8|    2555|\n",
            "|99851|1053828|vRf3azp1pak|    1226|\n",
            "| 9984| 206669|Lydh_saD9EQ|      88|\n",
            "| 9984| 254807|Ps7GzIV2KP0|     294|\n",
            "|  998|  71308|Hkx5fveyjIs|      74|\n",
            "+-----+-------+-----------+--------+\n",
            "only showing top 9 rows\n",
            "\n"
          ]
        }
      ]
    },
    {
      "cell_type": "code",
      "source": [
        "dataframe.show()"
      ],
      "metadata": {
        "id": "1Affg1Hf4y1w",
        "outputId": "25eacdc6-e8c1-4300-8296-f77432e5aae5",
        "colab": {
          "base_uri": "https://localhost:8080/"
        }
      },
      "execution_count": 50,
      "outputs": [
        {
          "output_type": "stream",
          "name": "stdout",
          "text": [
            "+---+-----+-------+\n",
            "| id|color|importe|\n",
            "+---+-----+-------+\n",
            "|  1| azul|    567|\n",
            "|  2| rojo|    487|\n",
            "|  1| azul|    345|\n",
            "|  2|verde|    783|\n",
            "+---+-----+-------+\n",
            "\n"
          ]
        }
      ]
    },
    {
      "cell_type": "code",
      "source": [
        "dataframe.orderBy(col('color').desc(), col('importe')).show()"
      ],
      "metadata": {
        "id": "7uoycRd45C1Q",
        "outputId": "d0d9655a-edea-4775-fe21-a6fb02bdf09d",
        "colab": {
          "base_uri": "https://localhost:8080/"
        }
      },
      "execution_count": 51,
      "outputs": [
        {
          "output_type": "stream",
          "name": "stdout",
          "text": [
            "+---+-----+-------+\n",
            "| id|color|importe|\n",
            "+---+-----+-------+\n",
            "|  2|verde|    783|\n",
            "|  2| rojo|    487|\n",
            "|  1| azul|    345|\n",
            "|  1| azul|    567|\n",
            "+---+-----+-------+\n",
            "\n"
          ]
        }
      ]
    },
    {
      "cell_type": "code",
      "source": [
        "top_10 = df.orderBy(col('views').desc()).limit(10)"
      ],
      "metadata": {
        "id": "8PrUAByd5Oa_"
      },
      "execution_count": 55,
      "outputs": []
    },
    {
      "cell_type": "code",
      "source": [
        "top_10.show()"
      ],
      "metadata": {
        "id": "rdLGiO0t5pNS",
        "outputId": "efb968db-0529-4a51-f217-c4b6d83bd267",
        "colab": {
          "base_uri": "https://localhost:8080/"
        }
      },
      "execution_count": 56,
      "outputs": [
        {
          "output_type": "stream",
          "name": "stdout",
          "text": [
            "+------+-------+-----------+--------+\n",
            "| likes|  views|   video_id|dislikes|\n",
            "+------+-------+-----------+--------+\n",
            "|126363| 999910|gw82GrEt370|    1034|\n",
            "| 78088| 999867|cyhU06cXfeU|     690|\n",
            "| 58552| 998908|QIN5_tJRiyY|    1080|\n",
            "|151348|9988608|fAIX12F6958|   10274|\n",
            "| 70972| 998362|LC3fWTXZXxE|    1608|\n",
            "|  4727|  99796|kOsl3cmK3zg|     152|\n",
            "|   120|   9977|1L_fPteZOYQ|      11|\n",
            "|   299|  99674|Yzx_tSlifIw|      95|\n",
            "|119634| 996318|__1SjDrSMik|    1143|\n",
            "|  3959|  99619|9ymjcSvEyhk|     158|\n",
            "+------+-------+-----------+--------+\n",
            "\n"
          ]
        }
      ]
    },
    {
      "cell_type": "code",
      "source": [
        "# withColumn\n",
        "\n",
        "df_valoracion = df.withColumn('valoracion', col('likes') - col('dislikes'))"
      ],
      "metadata": {
        "id": "vOkYUS5P5tn4"
      },
      "execution_count": 57,
      "outputs": []
    },
    {
      "cell_type": "code",
      "source": [
        "df_valoracion.printSchema()"
      ],
      "metadata": {
        "id": "K2I2uhDT6Kmh",
        "outputId": "34170b21-39a4-4bf0-edee-f3498a54e890",
        "colab": {
          "base_uri": "https://localhost:8080/"
        }
      },
      "execution_count": 59,
      "outputs": [
        {
          "output_type": "stream",
          "name": "stdout",
          "text": [
            "root\n",
            " |-- likes: string (nullable = true)\n",
            " |-- views: string (nullable = true)\n",
            " |-- video_id: string (nullable = true)\n",
            " |-- dislikes: string (nullable = true)\n",
            " |-- valoracion: double (nullable = true)\n",
            "\n"
          ]
        }
      ]
    },
    {
      "cell_type": "code",
      "source": [
        "df_valoracion.show()"
      ],
      "metadata": {
        "id": "0ako0VX86LZg",
        "outputId": "e8f668a3-bf15-4172-9855-0d5096949190",
        "colab": {
          "base_uri": "https://localhost:8080/"
        }
      },
      "execution_count": 60,
      "outputs": [
        {
          "output_type": "stream",
          "name": "stdout",
          "text": [
            "+-----+-------+-----------+--------+----------+\n",
            "|likes|  views|   video_id|dislikes|valoracion|\n",
            "+-----+-------+-----------+--------+----------+\n",
            "| 6531| 475965|-0CMnp02rNY|     172|    6359.0|\n",
            "| 4429| 563746|-0NYY8cqdiQ|      54|    4375.0|\n",
            "|32752|1566807|-1Hm41N0dUs|     393|   32359.0|\n",
            "| 5214| 129360|-1yT-K3c6YI|     108|    5106.0|\n",
            "|  438|  67429|-2RVw2_QyxQ|      23|     415.0|\n",
            "|19339|1012527|-2aVkGcI7ZA|     633|   18706.0|\n",
            "| 1444|  84744|-2b4qSoMnKE|     199|    1245.0|\n",
            "|10350| 703371|-2wRFv-mScQ|     260|   10090.0|\n",
            "|73480| 545655|-35jibKqbEo|     727|   72753.0|\n",
            "|    2|   2863|-37nIo_tLnk|       0|       2.0|\n",
            "| 4028| 385104|-39ysKKpE7I|     343|    3685.0|\n",
            "| 6468| 230360|-3h4Xt9No9o|     177|    6291.0|\n",
            "|10384| 249601|-3nEHRN6IPg|     370|   10014.0|\n",
            "|38776| 296237|-4s2MeUgduo|     466|   38310.0|\n",
            "|71090| 390631|-5aaJJQFvOg|     635|   70455.0|\n",
            "|21224| 744363|-66xHRJSPxs|     534|   20690.0|\n",
            "|17882| 363370|-7AZX5Xtiks|     416|   17466.0|\n",
            "|36960| 908989|-7UzyXO-mzk|     434|   36526.0|\n",
            "|17120|1815030|-7_ATlZ-zMc|     633|   16487.0|\n",
            "|  760| 252542|-8ZHXaGILlc|     100|     660.0|\n",
            "+-----+-------+-----------+--------+----------+\n",
            "only showing top 20 rows\n",
            "\n"
          ]
        }
      ]
    },
    {
      "cell_type": "code",
      "source": [
        "df_valoracion1 = []\n",
        "df_valoracion1 = df.withColumn('valoracion', col('likes') - col('dislikes'))\\\n",
        "                              .withColumn('res_div', col('valoracion') % 10 )"
      ],
      "metadata": {
        "id": "f9TpgF5q6RkB"
      },
      "execution_count": 67,
      "outputs": []
    },
    {
      "cell_type": "code",
      "source": [
        "df_valoracion1.printSchema()"
      ],
      "metadata": {
        "id": "9bBltrWJ6sxQ",
        "outputId": "b25b9c38-58de-4861-f53e-2059c7ee0952",
        "colab": {
          "base_uri": "https://localhost:8080/"
        }
      },
      "execution_count": 68,
      "outputs": [
        {
          "output_type": "stream",
          "name": "stdout",
          "text": [
            "root\n",
            " |-- likes: string (nullable = true)\n",
            " |-- views: string (nullable = true)\n",
            " |-- video_id: string (nullable = true)\n",
            " |-- dislikes: string (nullable = true)\n",
            " |-- valoracion: double (nullable = true)\n",
            " |-- res_div: double (nullable = true)\n",
            "\n"
          ]
        }
      ]
    },
    {
      "cell_type": "code",
      "source": [
        "df_valoracion1.select('likes', 'dislikes','valoracion', 'res_div').show()"
      ],
      "metadata": {
        "id": "_79uXxhR6vYA",
        "outputId": "9b9a3594-0641-4244-c88e-c726cdd901a9",
        "colab": {
          "base_uri": "https://localhost:8080/"
        }
      },
      "execution_count": 69,
      "outputs": [
        {
          "output_type": "stream",
          "name": "stdout",
          "text": [
            "+-----+--------+----------+-------+\n",
            "|likes|dislikes|valoracion|res_div|\n",
            "+-----+--------+----------+-------+\n",
            "| 6531|     172|    6359.0|    9.0|\n",
            "| 4429|      54|    4375.0|    5.0|\n",
            "|32752|     393|   32359.0|    9.0|\n",
            "| 5214|     108|    5106.0|    6.0|\n",
            "|  438|      23|     415.0|    5.0|\n",
            "|19339|     633|   18706.0|    6.0|\n",
            "| 1444|     199|    1245.0|    5.0|\n",
            "|10350|     260|   10090.0|    0.0|\n",
            "|73480|     727|   72753.0|    3.0|\n",
            "|    2|       0|       2.0|    2.0|\n",
            "| 4028|     343|    3685.0|    5.0|\n",
            "| 6468|     177|    6291.0|    1.0|\n",
            "|10384|     370|   10014.0|    4.0|\n",
            "|38776|     466|   38310.0|    0.0|\n",
            "|71090|     635|   70455.0|    5.0|\n",
            "|21224|     534|   20690.0|    0.0|\n",
            "|17882|     416|   17466.0|    6.0|\n",
            "|36960|     434|   36526.0|    6.0|\n",
            "|17120|     633|   16487.0|    7.0|\n",
            "|  760|     100|     660.0|    0.0|\n",
            "+-----+--------+----------+-------+\n",
            "only showing top 20 rows\n",
            "\n"
          ]
        }
      ]
    },
    {
      "cell_type": "code",
      "source": [
        "df.show()"
      ],
      "metadata": {
        "id": "Wt2hOx3d7J7x",
        "outputId": "99d90098-3b41-4ea8-e074-07153ee75dcd",
        "colab": {
          "base_uri": "https://localhost:8080/"
        }
      },
      "execution_count": 70,
      "outputs": [
        {
          "output_type": "stream",
          "name": "stdout",
          "text": [
            "+-----+-------+-----------+--------+\n",
            "|likes|  views|   video_id|dislikes|\n",
            "+-----+-------+-----------+--------+\n",
            "| 6531| 475965|-0CMnp02rNY|     172|\n",
            "| 4429| 563746|-0NYY8cqdiQ|      54|\n",
            "|32752|1566807|-1Hm41N0dUs|     393|\n",
            "| 5214| 129360|-1yT-K3c6YI|     108|\n",
            "|  438|  67429|-2RVw2_QyxQ|      23|\n",
            "|19339|1012527|-2aVkGcI7ZA|     633|\n",
            "| 1444|  84744|-2b4qSoMnKE|     199|\n",
            "|10350| 703371|-2wRFv-mScQ|     260|\n",
            "|73480| 545655|-35jibKqbEo|     727|\n",
            "|    2|   2863|-37nIo_tLnk|       0|\n",
            "| 4028| 385104|-39ysKKpE7I|     343|\n",
            "| 6468| 230360|-3h4Xt9No9o|     177|\n",
            "|10384| 249601|-3nEHRN6IPg|     370|\n",
            "|38776| 296237|-4s2MeUgduo|     466|\n",
            "|71090| 390631|-5aaJJQFvOg|     635|\n",
            "|21224| 744363|-66xHRJSPxs|     534|\n",
            "|17882| 363370|-7AZX5Xtiks|     416|\n",
            "|36960| 908989|-7UzyXO-mzk|     434|\n",
            "|17120|1815030|-7_ATlZ-zMc|     633|\n",
            "|  760| 252542|-8ZHXaGILlc|     100|\n",
            "+-----+-------+-----------+--------+\n",
            "only showing top 20 rows\n",
            "\n"
          ]
        }
      ]
    },
    {
      "cell_type": "code",
      "source": [
        "df.show()"
      ],
      "metadata": {
        "id": "1fHsnWyM76FD",
        "outputId": "f7f420f3-0073-4522-ece9-3bdd4d1682ce",
        "colab": {
          "base_uri": "https://localhost:8080/"
        }
      },
      "execution_count": 73,
      "outputs": [
        {
          "output_type": "stream",
          "name": "stdout",
          "text": [
            "+-----------+-------------+--------------------+--------------------+-----------+--------------------+--------------------+-------+------+--------+-------------+--------------------+-----------------+----------------+----------------------+--------------------+\n",
            "|   video_id|trending_date|               title|       channel_title|category_id|        publish_time|                tags|  views| likes|dislikes|comment_count|      thumbnail_link|comments_disabled|ratings_disabled|video_error_or_removed|         description|\n",
            "+-----------+-------------+--------------------+--------------------+-----------+--------------------+--------------------+-------+------+--------+-------------+--------------------+-----------------+----------------+----------------------+--------------------+\n",
            "|2kyS6SvSYSE|     17.14.11|WE WANT TO TALK A...|        CaseyNeistat|         22|2017-11-13T17:13:...|     SHANtell martin| 748374| 57527|    2966|        15954|https://i.ytimg.c...|            False|           False|                 False|SHANTELL'S CHANNE...|\n",
            "|1ZAPwfrtAFY|     17.14.11|The Trump Preside...|     LastWeekTonight|         24|2017-11-13T07:30:...|\"last week tonigh...|2418783| 97185|    6146|        12703|https://i.ytimg.c...|            False|           False|                 False|One year after th...|\n",
            "|5qpjK5DgCt4|     17.14.11|Racist Superman |...|        Rudy Mancuso|         23|2017-11-12T19:05:...|\"racist superman\"...|3191434|146033|    5339|         8181|https://i.ytimg.c...|            False|           False|                 False|WATCH MY PREVIOUS...|\n",
            "|puqaWrEC7tY|     17.14.11|Nickelback Lyrics...|Good Mythical Mor...|         24|2017-11-13T11:00:...|\"rhett and link\"|...| 343168| 10172|     666|         2146|https://i.ytimg.c...|            False|           False|                 False|Today we find out...|\n",
            "|d380meD0W0M|     17.14.11|I Dare You: GOING...|            nigahiga|         24|2017-11-12T18:01:...|\"ryan\"|\"higa\"|\"hi...|2095731|132235|    1989|        17518|https://i.ytimg.c...|            False|           False|                 False|I know it's been ...|\n",
            "|gHZ1Qz0KiKM|     17.14.11|2 Weeks with iPho...|            iJustine|         28|2017-11-13T19:07:...|\"ijustine\"|\"week ...| 119180|  9763|     511|         1434|https://i.ytimg.c...|            False|           False|                 False|Using the iPhone ...|\n",
            "|39idVpFF7NQ|     17.14.11|Roy Moore & Jeff ...| Saturday Night Live|         24|2017-11-12T05:37:...|\"SNL\"|\"Saturday N...|2103417| 15993|    2445|         1970|https://i.ytimg.c...|            False|           False|                 False|Embattled Alabama...|\n",
            "|nc99ccSXST0|     17.14.11|5 Ice Cream Gadge...|  CrazyRussianHacker|         28|2017-11-12T21:50:...|\"5 Ice Cream Gadg...| 817732| 23663|     778|         3432|https://i.ytimg.c...|            False|           False|                 False|Ice Cream Pint Co...|\n",
            "|jr9QtXwC9vc|     17.14.11|The Greatest Show...|    20th Century Fox|          1|2017-11-13T14:00:...|\"Trailer\"|\"Hugh J...| 826059|  3543|     119|          340|https://i.ytimg.c...|            False|           False|                 False|Inspired by the i...|\n",
            "|TUmyygCMMGA|     17.14.11|Why the rise of t...|                 Vox|         25|2017-11-13T13:45:...|\"vox.com\"|\"vox\"|\"...| 256426| 12654|    1363|         2368|https://i.ytimg.c...|            False|           False|                 False|For now, at least...|\n",
            "|9wRQljFNDW8|     17.14.11|Dion Lewis' 103-Y...|                 NFL|         17|2017-11-13T02:05:...|\"NFL\"|\"Football\"|...|  81377|   655|      25|          177|https://i.ytimg.c...|            False|           False|                 False|New England Patri...|\n",
            "|VifQlJit6A0|     17.14.11|(SPOILERS) 'Shiva...|                 amc|         24|2017-11-13T03:00:...|\"The Walking Dead...| 104578|  1576|     303|         1279|https://i.ytimg.c...|            False|           False|                 False|Shiva arrives jus...|\n",
            "|5E4ZBSInqUU|     17.14.11|Marshmello - Bloc...|          marshmello|         10|2017-11-13T17:00:...|\"marshmello\"|\"blo...| 687582|114188|    1333|         8371|https://i.ytimg.c...|            False|           False|                 False|WATCH SILENCE MUS...|\n",
            "|GgVmn66oK_A|     17.14.11|Which Countries A...|       NowThis World|         25|2017-11-12T14:00:...|\"nowthis\"|\"nowthi...| 544770|  7848|    1171|         3981|https://i.ytimg.c...|            False|           False|                 False|The world at larg...|\n",
            "|TaTleo4cOs8|     17.14.11|SHOPPING FOR NEW ...|     The king of DIY|         15|2017-11-12T18:30:...|\"shopping for new...| 207532|  7473|     246|         2120|https://i.ytimg.c...|            False|           False|                 False|Today we go shopp...|\n",
            "|kgaO45SyaO4|     17.14.11|    The New SpotMini|      BostonDynamics|         28|2017-11-13T20:09:...|\"Robots\"|\"Boston ...|  75752|  9419|      52|         1230|https://i.ytimg.c...|            False|           False|                 False|For more informat...|\n",
            "|ZAQs-ctOqXQ|     17.14.11|One Change That W...|             Cracked|         23|2017-11-12T17:00:...|\"pacific rim\"|\"pa...| 295639|  8011|     638|         1256|https://i.ytimg.c...|            False|           False|                 False|Pacific Rim was s...|\n",
            "|YVfyYrEmzgM|     17.14.11|How does your bod...|              TED-Ed|         27|2017-11-13T16:00:...|\"TED\"|\"TED-Ed\"|\"T...|  78044|  5398|      53|          385|https://i.ytimg.c...|            False|           False|                 False|Check out our Pat...|\n",
            "|eNSN6qet1kE|     17.14.11|HomeMade Electric...|         PeterSripol|         28|2017-11-13T15:30:...|\"ultralight\"|\"air...|  97007| 11963|      36|         2211|https://i.ytimg.c...|            False|           False|                 False|aaaannnd now to f...|\n",
            "|B5HORANmzHw|     17.14.11|Founding An Inbre...|             SciShow|         27|2017-11-12T22:00:...|\"SciShow\"|\"scienc...| 223871|  8421|     191|         1214|https://i.ytimg.c...|            False|           False|                 False|Thanks to 23AndMe...|\n",
            "+-----------+-------------+--------------------+--------------------+-----------+--------------------+--------------------+-------+------+--------+-------------+--------------------+-----------------+----------------+----------------------+--------------------+\n",
            "only showing top 20 rows\n",
            "\n"
          ]
        }
      ]
    },
    {
      "cell_type": "code",
      "source": [
        "df_util = df.drop('comments_disabled')"
      ],
      "metadata": {
        "id": "WxTL8CQL8QQh"
      },
      "execution_count": 74,
      "outputs": []
    },
    {
      "cell_type": "code",
      "source": [
        "df_util.printSchema()"
      ],
      "metadata": {
        "id": "pJwY-G1z8Wvo",
        "outputId": "32039dd1-2f3f-4368-e19c-97014d96f822",
        "colab": {
          "base_uri": "https://localhost:8080/"
        }
      },
      "execution_count": 75,
      "outputs": [
        {
          "output_type": "stream",
          "name": "stdout",
          "text": [
            "root\n",
            " |-- video_id: string (nullable = true)\n",
            " |-- trending_date: string (nullable = true)\n",
            " |-- title: string (nullable = true)\n",
            " |-- channel_title: string (nullable = true)\n",
            " |-- category_id: string (nullable = true)\n",
            " |-- publish_time: string (nullable = true)\n",
            " |-- tags: string (nullable = true)\n",
            " |-- views: string (nullable = true)\n",
            " |-- likes: string (nullable = true)\n",
            " |-- dislikes: string (nullable = true)\n",
            " |-- comment_count: string (nullable = true)\n",
            " |-- thumbnail_link: string (nullable = true)\n",
            " |-- ratings_disabled: string (nullable = true)\n",
            " |-- video_error_or_removed: string (nullable = true)\n",
            " |-- description: string (nullable = true)\n",
            "\n"
          ]
        }
      ]
    },
    {
      "cell_type": "code",
      "source": [
        "# sample\n",
        "\n",
        "df_muestra = df.sample(0.8)"
      ],
      "metadata": {
        "id": "8_-Gwr-y8beT"
      },
      "execution_count": 76,
      "outputs": []
    },
    {
      "cell_type": "code",
      "source": [
        "df.count()"
      ],
      "metadata": {
        "id": "qSEHk9Ve84di",
        "outputId": "10101fc3-d310-4eda-b78a-21f13b4ab6cf",
        "colab": {
          "base_uri": "https://localhost:8080/"
        }
      },
      "execution_count": 79,
      "outputs": [
        {
          "output_type": "execute_result",
          "data": {
            "text/plain": [
              "48137"
            ]
          },
          "metadata": {},
          "execution_count": 79
        }
      ]
    },
    {
      "cell_type": "code",
      "source": [
        "df_muestra = df.sample(fraction=0.8, seed=1234)"
      ],
      "metadata": {
        "id": "fYj8RCL985iy"
      },
      "execution_count": 5,
      "outputs": []
    },
    {
      "cell_type": "code",
      "source": [
        "df_muestra = df.sample(withReplacement=True, fraction=0.8, seed=1234)"
      ],
      "metadata": {
        "id": "GRytXhBP9Zh7"
      },
      "execution_count": 6,
      "outputs": []
    },
    {
      "cell_type": "code",
      "source": [
        "# random split\n",
        "\n",
        "train, test = df.randomSplit([0.8,0.2], seed=1234)"
      ],
      "metadata": {
        "id": "noUwInXg8u2H"
      },
      "execution_count": 7,
      "outputs": []
    },
    {
      "cell_type": "markdown",
      "source": [
        "# Trabajo con datos incorrectos o faltantes"
      ],
      "metadata": {
        "id": "ClCrBLoa98ai"
      }
    },
    {
      "cell_type": "code",
      "source": [
        "df.count()"
      ],
      "metadata": {
        "id": "QIVfKebo9lbp",
        "outputId": "f01b0597-2ec1-43b9-f24f-0e1c2b233e4b",
        "colab": {
          "base_uri": "https://localhost:8080/"
        }
      },
      "execution_count": 8,
      "outputs": [
        {
          "output_type": "execute_result",
          "data": {
            "text/plain": [
              "48137"
            ]
          },
          "metadata": {},
          "execution_count": 8
        }
      ]
    },
    {
      "cell_type": "code",
      "source": [
        "df.na.drop().count()"
      ],
      "metadata": {
        "id": "VfgyE-K7-Cn4",
        "outputId": "9cf5829c-3dc2-40c1-9c13-a089fe220a97",
        "colab": {
          "base_uri": "https://localhost:8080/"
        }
      },
      "execution_count": 9,
      "outputs": [
        {
          "output_type": "execute_result",
          "data": {
            "text/plain": [
              "40390"
            ]
          },
          "metadata": {},
          "execution_count": 9
        }
      ]
    },
    {
      "cell_type": "code",
      "source": [
        "df.na.drop('any').count()"
      ],
      "metadata": {
        "id": "P6cV-ObX-G7W",
        "outputId": "de162fc6-61c0-4480-a48b-1ce71016975b",
        "colab": {
          "base_uri": "https://localhost:8080/"
        }
      },
      "execution_count": 10,
      "outputs": [
        {
          "output_type": "execute_result",
          "data": {
            "text/plain": [
              "40390"
            ]
          },
          "metadata": {},
          "execution_count": 10
        }
      ]
    },
    {
      "cell_type": "code",
      "source": [
        "df.dropna().count()"
      ],
      "metadata": {
        "id": "ORAmmBFR-N9p",
        "outputId": "e0706a44-786c-401e-f70e-b71ac53c1b3f",
        "colab": {
          "base_uri": "https://localhost:8080/"
        }
      },
      "execution_count": 12,
      "outputs": [
        {
          "output_type": "execute_result",
          "data": {
            "text/plain": [
              "40390"
            ]
          },
          "metadata": {},
          "execution_count": 12
        }
      ]
    },
    {
      "cell_type": "code",
      "source": [
        "df.na.drop(subset=['views']).count()"
      ],
      "metadata": {
        "id": "a6tRy6pT-VJX",
        "outputId": "ebe453f0-5c28-49ad-9ad8-3fa5c85bd6d2",
        "colab": {
          "base_uri": "https://localhost:8080/"
        }
      },
      "execution_count": 13,
      "outputs": [
        {
          "output_type": "execute_result",
          "data": {
            "text/plain": [
              "41061"
            ]
          },
          "metadata": {},
          "execution_count": 13
        }
      ]
    },
    {
      "cell_type": "code",
      "source": [
        "df.na.drop(subset=['views', 'dislikes']).count()"
      ],
      "metadata": {
        "id": "aMqxHZje-kmA",
        "outputId": "abfdce08-df3f-4635-a18e-c44cabc74c99",
        "colab": {
          "base_uri": "https://localhost:8080/"
        }
      },
      "execution_count": 14,
      "outputs": [
        {
          "output_type": "execute_result",
          "data": {
            "text/plain": [
              "41035"
            ]
          },
          "metadata": {},
          "execution_count": 14
        }
      ]
    },
    {
      "cell_type": "code",
      "source": [
        "df.orderBy(col('views')).select(col('views'), col('likes'), col('dislikes')).show()"
      ],
      "metadata": {
        "id": "1Y3QKAg4-uBZ",
        "outputId": "241666f3-ea97-40b8-d175-3dfd4818c849",
        "colab": {
          "base_uri": "https://localhost:8080/"
        }
      },
      "execution_count": 16,
      "outputs": [
        {
          "output_type": "stream",
          "name": "stdout",
          "text": [
            "+-----+-----+--------+\n",
            "|views|likes|dislikes|\n",
            "+-----+-----+--------+\n",
            "| null| null|    null|\n",
            "| null| null|    null|\n",
            "| null| null|    null|\n",
            "| null| null|    null|\n",
            "| null| null|    null|\n",
            "| null| null|    null|\n",
            "| null| null|    null|\n",
            "| null| null|    null|\n",
            "| null| null|    null|\n",
            "| null| null|    null|\n",
            "| null| null|    null|\n",
            "| null| null|    null|\n",
            "| null| null|    null|\n",
            "| null| null|    null|\n",
            "| null| null|    null|\n",
            "| null| null|    null|\n",
            "| null| null|    null|\n",
            "| null| null|    null|\n",
            "| null| null|    null|\n",
            "| null| null|    null|\n",
            "+-----+-----+--------+\n",
            "only showing top 20 rows\n",
            "\n"
          ]
        }
      ]
    },
    {
      "cell_type": "code",
      "source": [
        "df.fillna('').orderBy(col('views')).select(col('views'), col('likes'), col('dislikes')).show()"
      ],
      "metadata": {
        "id": "qSQYnBwS_DaR",
        "outputId": "0b7ff642-3b55-4a16-dff9-d6293102f97c",
        "colab": {
          "base_uri": "https://localhost:8080/"
        }
      },
      "execution_count": 24,
      "outputs": [
        {
          "output_type": "stream",
          "name": "stdout",
          "text": [
            "+-----+-----+--------+\n",
            "|views|likes|dislikes|\n",
            "+-----+-----+--------+\n",
            "|     |     |        |\n",
            "|     |     |        |\n",
            "|     |     |        |\n",
            "|     |     |        |\n",
            "|     |     |        |\n",
            "|     |     |        |\n",
            "|     |     |        |\n",
            "|     |     |        |\n",
            "|     |     |        |\n",
            "|     |     |        |\n",
            "|     |     |        |\n",
            "|     |     |        |\n",
            "|     |     |        |\n",
            "|     |     |        |\n",
            "|     |     |        |\n",
            "|     |     |        |\n",
            "|     |     |        |\n",
            "|     |     |        |\n",
            "|     |     |        |\n",
            "|     |     |        |\n",
            "+-----+-----+--------+\n",
            "only showing top 20 rows\n",
            "\n"
          ]
        }
      ]
    },
    {
      "cell_type": "code",
      "source": [
        "df.fillna('', subset=['likes','dislikes']).orderBy(col('views')).select(col('views'), col('likes'), col('dislikes')).show()"
      ],
      "metadata": {
        "id": "iDdAfUNk_XRJ",
        "outputId": "9d10acd7-27ea-466d-ce8e-30280a5c02a0",
        "colab": {
          "base_uri": "https://localhost:8080/"
        }
      },
      "execution_count": 26,
      "outputs": [
        {
          "output_type": "stream",
          "name": "stdout",
          "text": [
            "+-----+-----+--------+\n",
            "|views|likes|dislikes|\n",
            "+-----+-----+--------+\n",
            "| null|     |        |\n",
            "| null|     |        |\n",
            "| null|     |        |\n",
            "| null|     |        |\n",
            "| null|     |        |\n",
            "| null|     |        |\n",
            "| null|     |        |\n",
            "| null|     |        |\n",
            "| null|     |        |\n",
            "| null|     |        |\n",
            "| null|     |        |\n",
            "| null|     |        |\n",
            "| null|     |        |\n",
            "| null|     |        |\n",
            "| null|     |        |\n",
            "| null|     |        |\n",
            "| null|     |        |\n",
            "| null|     |        |\n",
            "| null|     |        |\n",
            "| null|     |        |\n",
            "+-----+-----+--------+\n",
            "only showing top 20 rows\n",
            "\n"
          ]
        }
      ]
    },
    {
      "cell_type": "code",
      "source": [
        "# Acciones sobre un datafram en spark SQL\n",
        "\n",
        "df.show(5, truncate=False)"
      ],
      "metadata": {
        "id": "0_2yitddAWXJ",
        "outputId": "e0453505-143e-4bc0-de9f-3f2219f3c95d",
        "colab": {
          "base_uri": "https://localhost:8080/"
        }
      },
      "execution_count": 31,
      "outputs": [
        {
          "output_type": "stream",
          "name": "stdout",
          "text": [
            "+-----------+-------------+--------------------------------------------------------------+---------------------+-----------+------------------------+-----------------------------------------------------------------------------------------------------------------------------------------------------------------------------------------------------------------------------------------------------------------------------------------------------------------------------------------------------------------------------------------------------------------------------------------------------------------------------------------------+-------+------+--------+-------------+----------------------------------------------+-----------------+----------------+----------------------+------------------------------------------------------------------------------------------------------------------------------------------------------------------------------------------------------------------------------------------------------------------------------------------------------------------------------------------------------------------------------------------------------------------------------------------------------------------------------------------------------------------------------------------------------------------------------------------------------------------------------------------------------------------------------------------------------------------------------------------------------------------------------------------------------------------------------------------------------------------------------------------------------------------------------------------------------------------------------------------------------------------------------------------------------------------------------------------------------------------------------------------------------------------------------------------------------------------------------------------------------------------------------------------------------------------------------------------------------------------------------------------------------------------------------------------------------------------+\n",
            "|video_id   |trending_date|title                                                         |channel_title        |category_id|publish_time            |tags                                                                                                                                                                                                                                                                                                                                                                                                                                                                                           |views  |likes |dislikes|comment_count|thumbnail_link                                |comments_disabled|ratings_disabled|video_error_or_removed|description                                                                                                                                                                                                                                                                                                                                                                                                                                                                                                                                                                                                                                                                                                                                                                                                                                                                                                                                                                                                                                                                                                                                                                                                                                                                                                                                                                                                                                                       |\n",
            "+-----------+-------------+--------------------------------------------------------------+---------------------+-----------+------------------------+-----------------------------------------------------------------------------------------------------------------------------------------------------------------------------------------------------------------------------------------------------------------------------------------------------------------------------------------------------------------------------------------------------------------------------------------------------------------------------------------------+-------+------+--------+-------------+----------------------------------------------+-----------------+----------------+----------------------+------------------------------------------------------------------------------------------------------------------------------------------------------------------------------------------------------------------------------------------------------------------------------------------------------------------------------------------------------------------------------------------------------------------------------------------------------------------------------------------------------------------------------------------------------------------------------------------------------------------------------------------------------------------------------------------------------------------------------------------------------------------------------------------------------------------------------------------------------------------------------------------------------------------------------------------------------------------------------------------------------------------------------------------------------------------------------------------------------------------------------------------------------------------------------------------------------------------------------------------------------------------------------------------------------------------------------------------------------------------------------------------------------------------------------------------------------------------+\n",
            "|2kyS6SvSYSE|17.14.11     |WE WANT TO TALK ABOUT OUR MARRIAGE                            |CaseyNeistat         |22         |2017-11-13T17:13:01.000Z|SHANtell martin                                                                                                                                                                                                                                                                                                                                                                                                                                                                                |748374 |57527 |2966    |15954        |https://i.ytimg.com/vi/2kyS6SvSYSE/default.jpg|False            |False           |False                 |SHANTELL'S CHANNEL - https://www.youtube.com/shantellmartin\\nCANDICE - https://www.lovebilly.com\\n\\nfilmed this video in 4k on this -- http://amzn.to/2sTDnRZ\\nwith this lens -- http://amzn.to/2rUJOmD\\nbig drone - http://tinyurl.com/h4ft3oy\\nOTHER GEAR ---  http://amzn.to/2o3GLX5\\nSony CAMERA http://amzn.to/2nOBmnv\\nOLD CAMERA; http://amzn.to/2o2cQBT\\nMAIN LENS; http://amzn.to/2od5gBJ\\nBIG SONY CAMERA; http://amzn.to/2nrdJRO\\nBIG Canon CAMERA; http://tinyurl.com/jn4q4vz\\nBENDY TRIPOD THING; http://tinyurl.com/gw3ylz2\\nYOU NEED THIS FOR THE BENDY TRIPOD; http://tinyurl.com/j8mzzua\\nWIDE LENS; http://tinyurl.com/jkfcm8t\\nMORE EXPENSIVE WIDE LENS; http://tinyurl.com/zrdgtou\\nSMALL CAMERA; http://tinyurl.com/hrrzhor\\nMICROPHONE; http://tinyurl.com/zefm4jy\\nOTHER MICROPHONE; http://tinyurl.com/jxgpj86\\nOLD DRONE (cheaper but still great);http://tinyurl.com/zcfmnmd\\n\\nfollow me; on http://instagram.com/caseyneistat\\non https://www.facebook.com/cneistat\\non https://twitter.com/CaseyNeistat\\n\\namazing intro song by https://soundcloud.com/discoteeth\\n\\nad disclosure.  THIS IS NOT AN AD.  not selling or promoting anything.  but samsung did produce the Shantell Video as a 'GALAXY PROJECT' which is an initiative that enables creators like Shantell and me to make projects we might otherwise not have the opportunity to make.  hope that's clear.  if not ask in the comments and i'll answer any specifics.|\n",
            "|1ZAPwfrtAFY|17.14.11     |The Trump Presidency: Last Week Tonight with John Oliver (HBO)|LastWeekTonight      |24         |2017-11-13T07:30:00.000Z|\"last week tonight trump presidency\"|\"last week tonight donald trump\"|\"john oliver trump\"|\"donald trump\"                                                                                                                                                                                                                                                                                                                                                                                       |2418783|97185 |6146    |12703        |https://i.ytimg.com/vi/1ZAPwfrtAFY/default.jpg|False            |False           |False                 |One year after the presidential election, John Oliver discusses what we've learned so far and enlists our catheter cowboy to teach Donald Trump what he hasn't.\\n\\nConnect with Last Week Tonight online...\\n\\nSubscribe to the Last Week Tonight YouTube channel for more almost news as it almost happens: www.youtube.com/user/LastWeekTonight\\n\\nFind Last Week Tonight on Facebook like your mom would: http://Facebook.com/LastWeekTonight\\n\\nFollow us on Twitter for news about jokes and jokes about news: http://Twitter.com/LastWeekTonight\\n\\nVisit our official site for all that other stuff at once: http://www.hbo.com/lastweektonight                                                                                                                                                                                                                                                                                                                                                                                                                                                                                                                                                                                                                                                                                                                                                                                                            |\n",
            "|5qpjK5DgCt4|17.14.11     |Racist Superman | Rudy Mancuso, King Bach & Lele Pons         |Rudy Mancuso         |23         |2017-11-12T19:05:24.000Z|\"racist superman\"|\"rudy\"|\"mancuso\"|\"king\"|\"bach\"|\"racist\"|\"superman\"|\"love\"|\"rudy mancuso poo bear black white official music video\"|\"iphone x by pineapple\"|\"lelepons\"|\"hannahstocking\"|\"rudymancuso\"|\"inanna\"|\"anwar\"|\"sarkis\"|\"shots\"|\"shotsstudios\"|\"alesso\"|\"anitta\"|\"brazil\"|\"Getting My Driver's License | Lele Pons\"                                                                                                                                                                   |3191434|146033|5339    |8181         |https://i.ytimg.com/vi/5qpjK5DgCt4/default.jpg|False            |False           |False                 |WATCH MY PREVIOUS VIDEO ▶ \\n\\nSUBSCRIBE ► https://www.youtube.com/channel/UC5jkXpfnBhlDjqh0ir5FsIQ?sub_confirmation=1\\n\\nTHANKS FOR WATCHING! LIKE & SUBSCRIBE FOR MORE VIDEOS!\\n-----------------------------------------------------------\\nFIND ME ON: \\nInstagram | http://instagram.com/rudymancuso\\nTwitter | http://twitter.com/rudymancuso\\nFacebook | http://facebook.com/rudymancuso\\n\\nCAST: \\nRudy Mancuso | http://youtube.com/c/rudymancuso\\nLele Pons | http://youtube.com/c/lelepons\\nKing Bach | https://youtube.com/user/BachelorsPadTv\\n\\nVideo Effects: \\nCaleb Natale | https://instagram.com/calebnatale\\n\\nPA:\\nPaulina Gregory\\n\\n\\nShots Studios Channels:\\nAlesso | https://youtube.com/c/alesso\\nAnitta | http://youtube.com/c/anitta\\nAnwar Jibawi | http://youtube.com/c/anwar\\nAwkward Puppets | http://youtube.com/c/awkwardpuppets\\nHannah Stocking | http://youtube.com/c/hannahstocking\\nInanna Sarkis | http://youtube.com/c/inanna\\nLele Pons | http://youtube.com/c/lelepons\\nMaejor | http://youtube.com/c/maejor\\nMike Tyson | http://youtube.com/c/miketyson \\nRudy Mancuso | http://youtube.com/c/rudymancuso\\nShots Studios | http://youtube.com/c/shots\\n\\n#Rudy\\n#RudyMancuso                                                                                                                                                                                                                                         |\n",
            "|puqaWrEC7tY|17.14.11     |Nickelback Lyrics: Real or Fake?                              |Good Mythical Morning|24         |2017-11-13T11:00:04.000Z|\"rhett and link\"|\"gmm\"|\"good mythical morning\"|\"rhett and link good mythical morning\"|\"good mythical morning rhett and link\"|\"mythical morning\"|\"Season 12\"|\"nickelback lyrics\"|\"nickelback lyrics real or fake\"|\"nickelback\"|\"nickelback songs\"|\"nickelback song\"|\"rhett link nickelback\"|\"gmm nickelback\"|\"lyrics (website category)\"|\"nickelback (musical group)\"|\"rock\"|\"music\"|\"lyrics\"|\"chad kroeger\"|\"canada\"|\"music (industry)\"|\"mythical\"|\"gmm challenge\"|\"comedy\"|\"funny\"|\"challenge\"|343168 |10172 |666     |2146         |https://i.ytimg.com/vi/puqaWrEC7tY/default.jpg|False            |False           |False                 |Today we find out if Link is a Nickelback amateur or a secret Nickelback devotee. GMM #1218\\nDon't miss an all new Ear Biscuits: https://goo.gl/xeZNQt\\nWatch Part 4: https://youtu.be/MhCdiiB8CQg | Watch Part 2: https://youtu.be/7qiOrNao9fg\\nWatch today's episode from the start: http://bit.ly/GMM1218\\n\\nPick up all of the official GMM merch only at https://mythical.store\\n\\nFollow Rhett & Link: \\nInstagram: https://instagram.com/rhettandlink\\nFacebook: https://facebook.com/rhettandlink\\nTwitter: https://twitter.com/rhettandlink\\nTumblr: https://rhettandlink.tumblr.com\\nSnapchat: @realrhettlink\\nWebsite: https://mythical.co/\\n\\nCheck Out Our Other Mythical Channels:\\nGood Mythical MORE: https://youtube.com/goodmythicalmore\\nRhett & Link: https://youtube.com/rhettandlink\\nThis Is Mythical: https://youtube.com/thisismythical\\nEar Biscuits: https://applepodcasts.com/earbiscuits\\n\\nWant to send us something? https://mythical.co/contact\\nHave you made a Wheel of Mythicality intro video? Submit it here: https://bit.ly/GMMWheelIntro\\n\\nIntro Animation by Digital Twigs: https://www.digitaltwigs.com\\nIntro & Outro Music by Jeff Zeigler & Sarah Schimeneck https://www.jeffzeigler.com\\nWheel of Mythicality theme: https://www.royaltyfreemusiclibrary.com/\\nAll Supplemental Music fromOpus 1 Music: https://opus1.sourceaudio.com/\\nWe use ‘The Mouse’ by Blue Microphones https://www.bluemic.com/mouse/       |\n",
            "|d380meD0W0M|17.14.11     |I Dare You: GOING BALD!?                                      |nigahiga             |24         |2017-11-12T18:01:41.000Z|\"ryan\"|\"higa\"|\"higatv\"|\"nigahiga\"|\"i dare you\"|\"idy\"|\"rhpc\"|\"dares\"|\"no truth\"|\"comments\"|\"comedy\"|\"funny\"|\"stupid\"|\"fail\"                                                                                                                                                                                                                                                                                                                                                                     |2095731|132235|1989    |17518        |https://i.ytimg.com/vi/d380meD0W0M/default.jpg|False            |False           |False                 |I know it's been a while since we did this show, but we're back with what might be the best episode yet!\\nLeave your dares in the comment section! \\n\\nOrder my book how to write good \\nhttp://higatv.com/ryan-higas-how-to-write-good-pre-order-links/\\n\\nJust Launched New Official Store\\nhttps://www.gianthugs.com/collections/ryan\\n\\nHigaTV Channel\\nhttp://www.youtube.com/higatv\\n\\nTwitter\\nhttp://www.twitter.com/therealryanhiga\\n\\nFacebook\\nhttp://www.facebook.com/higatv\\n\\nWebsite\\nhttp://www.higatv.com\\n\\nInstagram\\nhttp://www.instagram.com/notryanhiga\\n\\nSend us mail or whatever you want here!\\nPO Box 232355\\nLas Vegas, NV 89105                                                                                                                                                                                                                                                                                                                                                                                                                                                                                                                                                                                                                                                                                                                                                                                                      |\n",
            "+-----------+-------------+--------------------------------------------------------------+---------------------+-----------+------------------------+-----------------------------------------------------------------------------------------------------------------------------------------------------------------------------------------------------------------------------------------------------------------------------------------------------------------------------------------------------------------------------------------------------------------------------------------------------------------------------------------------+-------+------+--------+-------------+----------------------------------------------+-----------------+----------------+----------------------+------------------------------------------------------------------------------------------------------------------------------------------------------------------------------------------------------------------------------------------------------------------------------------------------------------------------------------------------------------------------------------------------------------------------------------------------------------------------------------------------------------------------------------------------------------------------------------------------------------------------------------------------------------------------------------------------------------------------------------------------------------------------------------------------------------------------------------------------------------------------------------------------------------------------------------------------------------------------------------------------------------------------------------------------------------------------------------------------------------------------------------------------------------------------------------------------------------------------------------------------------------------------------------------------------------------------------------------------------------------------------------------------------------------------------------------------------------------+\n",
            "only showing top 5 rows\n",
            "\n"
          ]
        }
      ]
    },
    {
      "cell_type": "code",
      "source": [
        "df.take(1)"
      ],
      "metadata": {
        "id": "h2H6jO0CAeXS",
        "outputId": "89b4ee0b-dc41-4f26-9487-58050a35ec71",
        "colab": {
          "base_uri": "https://localhost:8080/"
        }
      },
      "execution_count": 32,
      "outputs": [
        {
          "output_type": "execute_result",
          "data": {
            "text/plain": [
              "[Row(video_id='2kyS6SvSYSE', trending_date='17.14.11', title='WE WANT TO TALK ABOUT OUR MARRIAGE', channel_title='CaseyNeistat', category_id='22', publish_time='2017-11-13T17:13:01.000Z', tags='SHANtell martin', views='748374', likes='57527', dislikes='2966', comment_count='15954', thumbnail_link='https://i.ytimg.com/vi/2kyS6SvSYSE/default.jpg', comments_disabled='False', ratings_disabled='False', video_error_or_removed='False', description=\"SHANTELL'S CHANNEL - https://www.youtube.com/shantellmartin\\\\nCANDICE - https://www.lovebilly.com\\\\n\\\\nfilmed this video in 4k on this -- http://amzn.to/2sTDnRZ\\\\nwith this lens -- http://amzn.to/2rUJOmD\\\\nbig drone - http://tinyurl.com/h4ft3oy\\\\nOTHER GEAR ---  http://amzn.to/2o3GLX5\\\\nSony CAMERA http://amzn.to/2nOBmnv\\\\nOLD CAMERA; http://amzn.to/2o2cQBT\\\\nMAIN LENS; http://amzn.to/2od5gBJ\\\\nBIG SONY CAMERA; http://amzn.to/2nrdJRO\\\\nBIG Canon CAMERA; http://tinyurl.com/jn4q4vz\\\\nBENDY TRIPOD THING; http://tinyurl.com/gw3ylz2\\\\nYOU NEED THIS FOR THE BENDY TRIPOD; http://tinyurl.com/j8mzzua\\\\nWIDE LENS; http://tinyurl.com/jkfcm8t\\\\nMORE EXPENSIVE WIDE LENS; http://tinyurl.com/zrdgtou\\\\nSMALL CAMERA; http://tinyurl.com/hrrzhor\\\\nMICROPHONE; http://tinyurl.com/zefm4jy\\\\nOTHER MICROPHONE; http://tinyurl.com/jxgpj86\\\\nOLD DRONE (cheaper but still great);http://tinyurl.com/zcfmnmd\\\\n\\\\nfollow me; on http://instagram.com/caseyneistat\\\\non https://www.facebook.com/cneistat\\\\non https://twitter.com/CaseyNeistat\\\\n\\\\namazing intro song by https://soundcloud.com/discoteeth\\\\n\\\\nad disclosure.  THIS IS NOT AN AD.  not selling or promoting anything.  but samsung did produce the Shantell Video as a 'GALAXY PROJECT' which is an initiative that enables creators like Shantell and me to make projects we might otherwise not have the opportunity to make.  hope that's clear.  if not ask in the comments and i'll answer any specifics.\")]"
            ]
          },
          "metadata": {},
          "execution_count": 32
        }
      ]
    },
    {
      "cell_type": "code",
      "source": [
        "# head\n",
        "\n",
        "df.head(1)"
      ],
      "metadata": {
        "id": "Afj5DXuzBMCL",
        "outputId": "84086151-4fc1-4279-97ed-6f4469e56f55",
        "colab": {
          "base_uri": "https://localhost:8080/"
        }
      },
      "execution_count": 33,
      "outputs": [
        {
          "output_type": "execute_result",
          "data": {
            "text/plain": [
              "[Row(video_id='2kyS6SvSYSE', trending_date='17.14.11', title='WE WANT TO TALK ABOUT OUR MARRIAGE', channel_title='CaseyNeistat', category_id='22', publish_time='2017-11-13T17:13:01.000Z', tags='SHANtell martin', views='748374', likes='57527', dislikes='2966', comment_count='15954', thumbnail_link='https://i.ytimg.com/vi/2kyS6SvSYSE/default.jpg', comments_disabled='False', ratings_disabled='False', video_error_or_removed='False', description=\"SHANTELL'S CHANNEL - https://www.youtube.com/shantellmartin\\\\nCANDICE - https://www.lovebilly.com\\\\n\\\\nfilmed this video in 4k on this -- http://amzn.to/2sTDnRZ\\\\nwith this lens -- http://amzn.to/2rUJOmD\\\\nbig drone - http://tinyurl.com/h4ft3oy\\\\nOTHER GEAR ---  http://amzn.to/2o3GLX5\\\\nSony CAMERA http://amzn.to/2nOBmnv\\\\nOLD CAMERA; http://amzn.to/2o2cQBT\\\\nMAIN LENS; http://amzn.to/2od5gBJ\\\\nBIG SONY CAMERA; http://amzn.to/2nrdJRO\\\\nBIG Canon CAMERA; http://tinyurl.com/jn4q4vz\\\\nBENDY TRIPOD THING; http://tinyurl.com/gw3ylz2\\\\nYOU NEED THIS FOR THE BENDY TRIPOD; http://tinyurl.com/j8mzzua\\\\nWIDE LENS; http://tinyurl.com/jkfcm8t\\\\nMORE EXPENSIVE WIDE LENS; http://tinyurl.com/zrdgtou\\\\nSMALL CAMERA; http://tinyurl.com/hrrzhor\\\\nMICROPHONE; http://tinyurl.com/zefm4jy\\\\nOTHER MICROPHONE; http://tinyurl.com/jxgpj86\\\\nOLD DRONE (cheaper but still great);http://tinyurl.com/zcfmnmd\\\\n\\\\nfollow me; on http://instagram.com/caseyneistat\\\\non https://www.facebook.com/cneistat\\\\non https://twitter.com/CaseyNeistat\\\\n\\\\namazing intro song by https://soundcloud.com/discoteeth\\\\n\\\\nad disclosure.  THIS IS NOT AN AD.  not selling or promoting anything.  but samsung did produce the Shantell Video as a 'GALAXY PROJECT' which is an initiative that enables creators like Shantell and me to make projects we might otherwise not have the opportunity to make.  hope that's clear.  if not ask in the comments and i'll answer any specifics.\")]"
            ]
          },
          "metadata": {},
          "execution_count": 33
        }
      ]
    },
    {
      "cell_type": "code",
      "source": [
        "df.select(col('likes')).collect()"
      ],
      "metadata": {
        "id": "o-atP5k6BTiK",
        "outputId": "944c7762-0828-4738-e826-11132f74045c",
        "colab": {
          "base_uri": "https://localhost:8080/"
        }
      },
      "execution_count": 34,
      "outputs": [
        {
          "output_type": "execute_result",
          "data": {
            "text/plain": [
              "[Row(likes='57527'),\n",
              " Row(likes='97185'),\n",
              " Row(likes='146033'),\n",
              " Row(likes='10172'),\n",
              " Row(likes='132235'),\n",
              " Row(likes='9763'),\n",
              " Row(likes='15993'),\n",
              " Row(likes='23663'),\n",
              " Row(likes='3543'),\n",
              " Row(likes='12654'),\n",
              " Row(likes='655'),\n",
              " Row(likes='1576'),\n",
              " Row(likes='114188'),\n",
              " Row(likes='7848'),\n",
              " Row(likes='7473'),\n",
              " Row(likes='9419'),\n",
              " Row(likes='8011'),\n",
              " Row(likes='5398'),\n",
              " Row(likes='11963'),\n",
              " Row(likes='8421'),\n",
              " Row(likes='9586'),\n",
              " Row(likes='3585'),\n",
              " Row(likes='11758'),\n",
              " Row(likes='1707'),\n",
              " Row(likes='4884'),\n",
              " Row(likes='8676'),\n",
              " Row(likes='4687'),\n",
              " Row(likes='9033'),\n",
              " Row(likes='156'),\n",
              " Row(likes='715'),\n",
              " Row(likes='4035'),\n",
              " Row(likes='119'),\n",
              " Row(likes='787419'),\n",
              " Row(likes='3781'),\n",
              " Row(likes='1661'),\n",
              " Row(likes='2486'),\n",
              " Row(likes='7515'),\n",
              " Row(likes='1318'),\n",
              " Row(likes='38397'),\n",
              " Row(likes='6927'),\n",
              " Row(likes='5389'),\n",
              " Row(likes='308'),\n",
              " Row(likes='7'),\n",
              " Row(likes='15186'),\n",
              " Row(likes='4451'),\n",
              " Row(likes='33505'),\n",
              " Row(likes='3417'),\n",
              " Row(likes='2017'),\n",
              " Row(likes='35'),\n",
              " Row(likes='45406'),\n",
              " Row(likes='99086'),\n",
              " Row(likes='205'),\n",
              " Row(likes='15397'),\n",
              " Row(likes=None),\n",
              " Row(likes=None),\n",
              " Row(likes=None),\n",
              " Row(likes='190083'),\n",
              " Row(likes='7250'),\n",
              " Row(likes='16116'),\n",
              " Row(likes='5734'),\n",
              " Row(likes='21'),\n",
              " Row(likes='89'),\n",
              " Row(likes='8209'),\n",
              " Row(likes='10237'),\n",
              " Row(likes='52'),\n",
              " Row(likes='26917'),\n",
              " Row(likes='115795'),\n",
              " Row(likes='493'),\n",
              " Row(likes='8231'),\n",
              " Row(likes='115426'),\n",
              " Row(likes='120876'),\n",
              " Row(likes='203'),\n",
              " Row(likes='55681'),\n",
              " Row(likes='1634124'),\n",
              " Row(likes='2233'),\n",
              " Row(likes='2978'),\n",
              " Row(likes='1550'),\n",
              " Row(likes='18603'),\n",
              " Row(likes='2429'),\n",
              " Row(likes='1896'),\n",
              " Row(likes='37669'),\n",
              " Row(likes='15504'),\n",
              " Row(likes='355'),\n",
              " Row(likes='23296'),\n",
              " Row(likes='8133'),\n",
              " Row(likes='2323'),\n",
              " Row(likes=None),\n",
              " Row(likes=None),\n",
              " Row(likes=None),\n",
              " Row(likes='67'),\n",
              " Row(likes='3571'),\n",
              " Row(likes='6271'),\n",
              " Row(likes='16430'),\n",
              " Row(likes='439'),\n",
              " Row(likes='34839'),\n",
              " Row(likes='82320'),\n",
              " Row(likes='438'),\n",
              " Row(likes='72593'),\n",
              " Row(likes='2282'),\n",
              " Row(likes='98804'),\n",
              " Row(likes='58967'),\n",
              " Row(likes='8599'),\n",
              " Row(likes='40195'),\n",
              " Row(likes='16396'),\n",
              " Row(likes='202676'),\n",
              " Row(likes='14338'),\n",
              " Row(likes='43875'),\n",
              " Row(likes='22326'),\n",
              " Row(likes='1731'),\n",
              " Row(likes='3283'),\n",
              " Row(likes='286268'),\n",
              " Row(likes='307435'),\n",
              " Row(likes='3305'),\n",
              " Row(likes='10138'),\n",
              " Row(likes='3327'),\n",
              " Row(likes='5048'),\n",
              " Row(likes='53572'),\n",
              " Row(likes='7999'),\n",
              " Row(likes='88417'),\n",
              " Row(likes='52829'),\n",
              " Row(likes='25115'),\n",
              " Row(likes='14303'),\n",
              " Row(likes='7693'),\n",
              " Row(likes='25122'),\n",
              " Row(likes=None),\n",
              " Row(likes=None),\n",
              " Row(likes=None),\n",
              " Row(likes=None),\n",
              " Row(likes=None),\n",
              " Row(likes=None),\n",
              " Row(likes=None),\n",
              " Row(likes=None),\n",
              " Row(likes=None),\n",
              " Row(likes=None),\n",
              " Row(likes=None),\n",
              " Row(likes=None),\n",
              " Row(likes=None),\n",
              " Row(likes='4417'),\n",
              " Row(likes='5505'),\n",
              " Row(likes='15247'),\n",
              " Row(likes='11616'),\n",
              " Row(likes='9312'),\n",
              " Row(likes='9091'),\n",
              " Row(likes='84426'),\n",
              " Row(likes='935'),\n",
              " Row(likes='11198'),\n",
              " Row(likes='2926'),\n",
              " Row(likes='19323'),\n",
              " Row(likes='1365'),\n",
              " Row(likes='32648'),\n",
              " Row(likes='7683'),\n",
              " Row(likes='3652'),\n",
              " Row(likes='4364'),\n",
              " Row(likes='11736'),\n",
              " Row(likes='1345'),\n",
              " Row(likes='1354'),\n",
              " Row(likes='2163'),\n",
              " Row(likes='443'),\n",
              " Row(likes='909'),\n",
              " Row(likes='4604'),\n",
              " Row(likes='35765'),\n",
              " Row(likes='7158'),\n",
              " Row(likes='1991'),\n",
              " Row(likes='5642'),\n",
              " Row(likes='9210'),\n",
              " Row(likes='15909'),\n",
              " Row(likes='242'),\n",
              " Row(likes='65854'),\n",
              " Row(likes='810895'),\n",
              " Row(likes='16106'),\n",
              " Row(likes='11985'),\n",
              " Row(likes='20159'),\n",
              " Row(likes='10175'),\n",
              " Row(likes='31892'),\n",
              " Row(likes='49'),\n",
              " Row(likes='4989'),\n",
              " Row(likes='3809'),\n",
              " Row(likes='5894'),\n",
              " Row(likes='1170'),\n",
              " Row(likes='2'),\n",
              " Row(likes='5075'),\n",
              " Row(likes='3959'),\n",
              " Row(likes='22'),\n",
              " Row(likes='10844'),\n",
              " Row(likes='23338'),\n",
              " Row(likes='3454'),\n",
              " Row(likes='4250'),\n",
              " Row(likes='681'),\n",
              " Row(likes='40'),\n",
              " Row(likes='569'),\n",
              " Row(likes='23634'),\n",
              " Row(likes='47793'),\n",
              " Row(likes='420'),\n",
              " Row(likes='5748'),\n",
              " Row(likes='3'),\n",
              " Row(likes='2707'),\n",
              " Row(likes='258'),\n",
              " Row(likes='1666'),\n",
              " Row(likes='5723'),\n",
              " Row(likes='1211'),\n",
              " Row(likes='6243'),\n",
              " Row(likes='121'),\n",
              " Row(likes='86207'),\n",
              " Row(likes='633'),\n",
              " Row(likes='998'),\n",
              " Row(likes='15130'),\n",
              " Row(likes='426'),\n",
              " Row(likes='2195'),\n",
              " Row(likes='56867'),\n",
              " Row(likes='67227'),\n",
              " Row(likes='20289'),\n",
              " Row(likes='0'),\n",
              " Row(likes='4037'),\n",
              " Row(likes='147'),\n",
              " Row(likes='57'),\n",
              " Row(likes='8388'),\n",
              " Row(likes='16352'),\n",
              " Row(likes=None),\n",
              " Row(likes=None),\n",
              " Row(likes=None),\n",
              " Row(likes=None),\n",
              " Row(likes=None),\n",
              " Row(likes=None),\n",
              " Row(likes=None),\n",
              " Row(likes=None),\n",
              " Row(likes=None),\n",
              " Row(likes=None),\n",
              " Row(likes=None),\n",
              " Row(likes=None),\n",
              " Row(likes=None),\n",
              " Row(likes=None),\n",
              " Row(likes='5684'),\n",
              " Row(likes='29990'),\n",
              " Row(likes='14132'),\n",
              " Row(likes='4854'),\n",
              " Row(likes='63995'),\n",
              " Row(likes='28647'),\n",
              " Row(likes='87615'),\n",
              " Row(likes='3687'),\n",
              " Row(likes='58474'),\n",
              " Row(likes='60983'),\n",
              " Row(likes='35529'),\n",
              " Row(likes='56561'),\n",
              " Row(likes='25109'),\n",
              " Row(likes='5939'),\n",
              " Row(likes='580'),\n",
              " Row(likes='122347'),\n",
              " Row(likes='17130'),\n",
              " Row(likes='478'),\n",
              " Row(likes='16754'),\n",
              " Row(likes='88099'),\n",
              " Row(likes='25188'),\n",
              " Row(likes='20518'),\n",
              " Row(likes='1197'),\n",
              " Row(likes='131784'),\n",
              " Row(likes='6310'),\n",
              " Row(likes='19138'),\n",
              " Row(likes='5198'),\n",
              " Row(likes='12699'),\n",
              " Row(likes='4553'),\n",
              " Row(likes='6095'),\n",
              " Row(likes='62'),\n",
              " Row(likes=None),\n",
              " Row(likes=None),\n",
              " Row(likes=None),\n",
              " Row(likes=None),\n",
              " Row(likes=None),\n",
              " Row(likes=None),\n",
              " Row(likes=None),\n",
              " Row(likes=None),\n",
              " Row(likes=None),\n",
              " Row(likes=None),\n",
              " Row(likes=None),\n",
              " Row(likes=None),\n",
              " Row(likes=None),\n",
              " Row(likes=None),\n",
              " Row(likes=None),\n",
              " Row(likes=None),\n",
              " Row(likes='9805'),\n",
              " Row(likes='1145'),\n",
              " Row(likes='15301'),\n",
              " Row(likes='10410'),\n",
              " Row(likes='12229'),\n",
              " Row(likes='180284'),\n",
              " Row(likes='11131'),\n",
              " Row(likes='975'),\n",
              " Row(likes='16433'),\n",
              " Row(likes='167696'),\n",
              " Row(likes='1950'),\n",
              " Row(likes='61'),\n",
              " Row(likes='75'),\n",
              " Row(likes='20721'),\n",
              " Row(likes='8177'),\n",
              " Row(likes='87'),\n",
              " Row(likes='11162'),\n",
              " Row(likes='5162'),\n",
              " Row(likes='144816'),\n",
              " Row(likes='1440'),\n",
              " Row(likes='143'),\n",
              " Row(likes='136'),\n",
              " Row(likes='2279'),\n",
              " Row(likes='8996'),\n",
              " Row(likes='831'),\n",
              " Row(likes='563'),\n",
              " Row(likes=None),\n",
              " Row(likes=None),\n",
              " Row(likes=None),\n",
              " Row(likes='26813'),\n",
              " Row(likes='6310'),\n",
              " Row(likes='5715'),\n",
              " Row(likes='7129'),\n",
              " Row(likes='276'),\n",
              " Row(likes='4303'),\n",
              " Row(likes='5246'),\n",
              " Row(likes=None),\n",
              " Row(likes=None),\n",
              " Row(likes=None),\n",
              " Row(likes=None),\n",
              " Row(likes=None),\n",
              " Row(likes=None),\n",
              " Row(likes=None),\n",
              " Row(likes=None),\n",
              " Row(likes='16612'),\n",
              " Row(likes='19970'),\n",
              " Row(likes='17959'),\n",
              " Row(likes='10915'),\n",
              " Row(likes='11576'),\n",
              " Row(likes='83'),\n",
              " Row(likes='398'),\n",
              " Row(likes='2530'),\n",
              " Row(likes='8339'),\n",
              " Row(likes='9086'),\n",
              " Row(likes='4719'),\n",
              " Row(likes='2229'),\n",
              " Row(likes='586'),\n",
              " Row(likes='126'),\n",
              " Row(likes='9211'),\n",
              " Row(likes='6587'),\n",
              " Row(likes='930'),\n",
              " Row(likes='9606'),\n",
              " Row(likes='4212'),\n",
              " Row(likes='2265'),\n",
              " Row(likes='6240'),\n",
              " Row(likes='12862'),\n",
              " Row(likes='33'),\n",
              " Row(likes='1322'),\n",
              " Row(likes='5847'),\n",
              " Row(likes='23'),\n",
              " Row(likes='4566'),\n",
              " Row(likes='2425'),\n",
              " Row(likes='217'),\n",
              " Row(likes='386'),\n",
              " Row(likes='9576'),\n",
              " Row(likes='4293'),\n",
              " Row(likes='305'),\n",
              " Row(likes='18'),\n",
              " Row(likes='4170'),\n",
              " Row(likes='3218'),\n",
              " Row(likes='840642'),\n",
              " Row(likes='732'),\n",
              " Row(likes='296'),\n",
              " Row(likes='44513'),\n",
              " Row(likes='136'),\n",
              " Row(likes='2896'),\n",
              " Row(likes='828'),\n",
              " Row(likes='15873'),\n",
              " Row(likes='37124'),\n",
              " Row(likes='11'),\n",
              " Row(likes='4548'),\n",
              " Row(likes='4657'),\n",
              " Row(likes='216319'),\n",
              " Row(likes='103407'),\n",
              " Row(likes='2133'),\n",
              " Row(likes='47'),\n",
              " Row(likes='48000'),\n",
              " Row(likes='16060'),\n",
              " Row(likes=None),\n",
              " Row(likes=None),\n",
              " Row(likes=None),\n",
              " Row(likes='250'),\n",
              " Row(likes='408618'),\n",
              " Row(likes='170'),\n",
              " Row(likes='7589'),\n",
              " Row(likes='6073'),\n",
              " Row(likes='8409'),\n",
              " Row(likes='27068'),\n",
              " Row(likes='130373'),\n",
              " Row(likes='10429'),\n",
              " Row(likes='119348'),\n",
              " Row(likes='8795'),\n",
              " Row(likes='125205'),\n",
              " Row(likes='73'),\n",
              " Row(likes='58209'),\n",
              " Row(likes='487'),\n",
              " Row(likes='19783'),\n",
              " Row(likes='44007'),\n",
              " Row(likes='374'),\n",
              " Row(likes='2556'),\n",
              " Row(likes='24115'),\n",
              " Row(likes='1721383'),\n",
              " Row(likes='2540'),\n",
              " Row(likes='36365'),\n",
              " Row(likes='9052'),\n",
              " Row(likes='382'),\n",
              " Row(likes='7108'),\n",
              " Row(likes='3085'),\n",
              " Row(likes='17'),\n",
              " Row(likes='102199'),\n",
              " Row(likes='2332'),\n",
              " Row(likes='453'),\n",
              " Row(likes='9321'),\n",
              " Row(likes='3128'),\n",
              " Row(likes=None),\n",
              " Row(likes=None),\n",
              " Row(likes=' Kendall Jenner and Kate Upton for a look at the best in pop culture. Welcome to the modern man’s guide to style advice'),\n",
              " Row(likes=None),\n",
              " Row(likes=None),\n",
              " Row(likes='48219'),\n",
              " Row(likes='75023'),\n",
              " Row(likes='14843'),\n",
              " Row(likes='2284'),\n",
              " Row(likes='17023'),\n",
              " Row(likes='18992'),\n",
              " Row(likes='1576'),\n",
              " Row(likes='3823'),\n",
              " Row(likes='101831'),\n",
              " Row(likes='60500'),\n",
              " Row(likes='2404'),\n",
              " Row(likes=None),\n",
              " Row(likes=None),\n",
              " Row(likes=None),\n",
              " Row(likes='212004'),\n",
              " Row(likes='26180'),\n",
              " Row(likes='5405'),\n",
              " Row(likes='55001'),\n",
              " Row(likes='10801'),\n",
              " Row(likes='314872'),\n",
              " Row(likes='45513'),\n",
              " Row(likes='9072'),\n",
              " Row(likes='96850'),\n",
              " Row(likes='4099'),\n",
              " Row(likes='29425'),\n",
              " Row(likes='53901'),\n",
              " Row(likes='3330'),\n",
              " Row(likes='5934'),\n",
              " Row(likes='9278'),\n",
              " Row(likes='5659'),\n",
              " Row(likes='88072'),\n",
              " Row(likes='11702'),\n",
              " Row(likes='14766'),\n",
              " Row(likes='1012'),\n",
              " Row(likes='12261'),\n",
              " Row(likes='2400'),\n",
              " Row(likes='15765'),\n",
              " Row(likes='1351'),\n",
              " Row(likes='1561'),\n",
              " Row(likes='7822'),\n",
              " Row(likes='19962'),\n",
              " Row(likes='3756'),\n",
              " Row(likes='12347'),\n",
              " Row(likes='36686'),\n",
              " Row(likes='12961'),\n",
              " Row(likes='4621'),\n",
              " Row(likes='7803'),\n",
              " Row(likes='4472'),\n",
              " Row(likes='211'),\n",
              " Row(likes=None),\n",
              " Row(likes=None),\n",
              " Row(likes=None),\n",
              " Row(likes=None),\n",
              " Row(likes=None),\n",
              " Row(likes=None),\n",
              " Row(likes=None),\n",
              " Row(likes=None),\n",
              " Row(likes=None),\n",
              " Row(likes=None),\n",
              " Row(likes=None),\n",
              " Row(likes=None),\n",
              " Row(likes=None),\n",
              " Row(likes=None),\n",
              " Row(likes=None),\n",
              " Row(likes=None),\n",
              " Row(likes=None),\n",
              " Row(likes=None),\n",
              " Row(likes=None),\n",
              " Row(likes=None),\n",
              " Row(likes=None),\n",
              " Row(likes=None),\n",
              " Row(likes='7800'),\n",
              " Row(likes='38734'),\n",
              " Row(likes='7979'),\n",
              " Row(likes='477'),\n",
              " Row(likes='10372'),\n",
              " Row(likes='151850'),\n",
              " Row(likes='24442'),\n",
              " Row(likes='57470'),\n",
              " Row(likes='141681'),\n",
              " Row(likes='20036'),\n",
              " Row(likes='17784'),\n",
              " Row(likes='31832'),\n",
              " Row(likes='8970'),\n",
              " Row(likes='24672'),\n",
              " Row(likes='93039'),\n",
              " Row(likes='12633'),\n",
              " Row(likes='29898'),\n",
              " Row(likes='37329'),\n",
              " Row(likes='13283'),\n",
              " Row(likes='142740'),\n",
              " Row(likes='114661'),\n",
              " Row(likes='6260'),\n",
              " Row(likes='2665'),\n",
              " Row(likes='21334'),\n",
              " Row(likes='9435'),\n",
              " Row(likes=None),\n",
              " Row(likes=None),\n",
              " Row(likes=None),\n",
              " Row(likes=None),\n",
              " Row(likes=None),\n",
              " Row(likes=None),\n",
              " Row(likes=None),\n",
              " Row(likes=None),\n",
              " Row(likes=None),\n",
              " Row(likes=None),\n",
              " Row(likes=None),\n",
              " Row(likes=None),\n",
              " Row(likes=None),\n",
              " Row(likes=None),\n",
              " Row(likes=None),\n",
              " Row(likes=None),\n",
              " Row(likes=None),\n",
              " Row(likes=None),\n",
              " Row(likes='43974'),\n",
              " Row(likes='3802'),\n",
              " Row(likes='76806'),\n",
              " Row(likes='72727'),\n",
              " Row(likes='17286'),\n",
              " Row(likes='85208'),\n",
              " Row(likes='3557'),\n",
              " Row(likes='35595'),\n",
              " Row(likes='2207'),\n",
              " Row(likes='77531'),\n",
              " Row(likes='32186'),\n",
              " Row(likes='259'),\n",
              " Row(likes='2793'),\n",
              " Row(likes='979'),\n",
              " Row(likes='7517'),\n",
              " Row(likes='660'),\n",
              " Row(likes='17929'),\n",
              " Row(likes=None),\n",
              " Row(likes=None),\n",
              " Row(likes=None),\n",
              " Row(likes='175'),\n",
              " Row(likes=None),\n",
              " Row(likes=None),\n",
              " Row(likes=None),\n",
              " Row(likes=None),\n",
              " Row(likes=None),\n",
              " Row(likes=None),\n",
              " Row(likes=None),\n",
              " Row(likes=None),\n",
              " Row(likes=None),\n",
              " Row(likes=None),\n",
              " Row(likes=None),\n",
              " Row(likes=None),\n",
              " Row(likes=None),\n",
              " Row(likes=None),\n",
              " Row(likes=None),\n",
              " Row(likes=None),\n",
              " Row(likes='6932'),\n",
              " Row(likes='9576'),\n",
              " Row(likes='2325'),\n",
              " Row(likes='23472'),\n",
              " Row(likes='84'),\n",
              " Row(likes='152975'),\n",
              " Row(likes='309'),\n",
              " Row(likes='28187'),\n",
              " Row(likes='7'),\n",
              " Row(likes='1546'),\n",
              " Row(likes='91111'),\n",
              " Row(likes='6305'),\n",
              " Row(likes='21642'),\n",
              " Row(likes='3835'),\n",
              " Row(likes='5930'),\n",
              " Row(likes='455'),\n",
              " Row(likes='137819'),\n",
              " Row(likes='20489'),\n",
              " Row(likes='19'),\n",
              " Row(likes='6989'),\n",
              " Row(likes='11891'),\n",
              " Row(likes='1935'),\n",
              " Row(likes='93'),\n",
              " Row(likes='2349'),\n",
              " Row(likes='4369'),\n",
              " Row(likes='1741'),\n",
              " Row(likes='1350'),\n",
              " Row(likes='252'),\n",
              " Row(likes='11251'),\n",
              " Row(likes='11933'),\n",
              " Row(likes='5140'),\n",
              " Row(likes='194199'),\n",
              " Row(likes='8895'),\n",
              " Row(likes='15887'),\n",
              " Row(likes='17988'),\n",
              " Row(likes='8451'),\n",
              " Row(likes='1445'),\n",
              " Row(likes='172379'),\n",
              " Row(likes='12958'),\n",
              " Row(likes='730'),\n",
              " Row(likes=None),\n",
              " Row(likes=None),\n",
              " Row(likes=None),\n",
              " Row(likes='5447'),\n",
              " Row(likes='9381'),\n",
              " Row(likes='4064'),\n",
              " Row(likes='1699'),\n",
              " Row(likes='9045'),\n",
              " Row(likes='127'),\n",
              " Row(likes='147110'),\n",
              " Row(likes='15482'),\n",
              " Row(likes='2338'),\n",
              " Row(likes='8012'),\n",
              " Row(likes='2892'),\n",
              " Row(likes='716'),\n",
              " Row(likes='4934'),\n",
              " Row(likes='54'),\n",
              " Row(likes='7049'),\n",
              " Row(likes=None),\n",
              " Row(likes=None),\n",
              " Row(likes=None),\n",
              " Row(likes=None),\n",
              " Row(likes=None),\n",
              " Row(likes=None),\n",
              " Row(likes=None),\n",
              " Row(likes=None),\n",
              " Row(likes='1814'),\n",
              " Row(likes='27632'),\n",
              " Row(likes='5855'),\n",
              " Row(likes='16946'),\n",
              " Row(likes='5320'),\n",
              " Row(likes='145'),\n",
              " Row(likes='17086'),\n",
              " Row(likes='1170'),\n",
              " Row(likes='21214'),\n",
              " Row(likes='18425'),\n",
              " Row(likes='2376'),\n",
              " Row(likes='8480'),\n",
              " Row(likes='19069'),\n",
              " Row(likes='130'),\n",
              " Row(likes='9459'),\n",
              " Row(likes='143'),\n",
              " Row(likes='278'),\n",
              " Row(likes='318'),\n",
              " Row(likes='2323'),\n",
              " Row(likes='423'),\n",
              " Row(likes='6345'),\n",
              " Row(likes='9431'),\n",
              " Row(likes='7010'),\n",
              " Row(likes='1679'),\n",
              " Row(likes='13613'),\n",
              " Row(likes='4345'),\n",
              " Row(likes='39'),\n",
              " Row(likes='2581'),\n",
              " Row(likes='6161'),\n",
              " Row(likes='23'),\n",
              " Row(likes='83'),\n",
              " Row(likes='5012'),\n",
              " Row(likes='9905'),\n",
              " Row(likes='1801'),\n",
              " Row(likes='4511'),\n",
              " Row(likes='607'),\n",
              " Row(likes='225'),\n",
              " Row(likes='4355'),\n",
              " Row(likes='154'),\n",
              " Row(likes='303'),\n",
              " Row(likes='46439'),\n",
              " Row(likes='869304'),\n",
              " Row(likes='18'),\n",
              " Row(likes='4'),\n",
              " Row(likes='828'),\n",
              " Row(likes='2901'),\n",
              " Row(likes='4720'),\n",
              " Row(likes='37692'),\n",
              " Row(likes='6'),\n",
              " Row(likes='769'),\n",
              " Row(likes='424406'),\n",
              " Row(likes='16467'),\n",
              " Row(likes='11'),\n",
              " Row(likes='10'),\n",
              " Row(likes='6369'),\n",
              " Row(likes='106243'),\n",
              " Row(likes='4735'),\n",
              " Row(likes='280'),\n",
              " Row(likes='48'),\n",
              " Row(likes='48904'),\n",
              " Row(likes='254'),\n",
              " Row(likes='233172'),\n",
              " Row(likes='182'),\n",
              " Row(likes='427'),\n",
              " Row(likes='7715'),\n",
              " Row(likes='20'),\n",
              " Row(likes='139054'),\n",
              " Row(likes='1988'),\n",
              " Row(likes='10497'),\n",
              " Row(likes='8926'),\n",
              " Row(likes='121285'),\n",
              " Row(likes='77'),\n",
              " Row(likes='127412'),\n",
              " Row(likes='2691'),\n",
              " Row(likes='27121'),\n",
              " Row(likes='48511'),\n",
              " Row(likes='59673'),\n",
              " Row(likes='20371'),\n",
              " Row(likes='19'),\n",
              " Row(likes='2586'),\n",
              " Row(likes='519'),\n",
              " Row(likes='1788960'),\n",
              " Row(likes='24412'),\n",
              " Row(likes='9474'),\n",
              " Row(likes='3912'),\n",
              " Row(likes='2286'),\n",
              " Row(likes='7782'),\n",
              " Row(likes='111'),\n",
              " Row(likes='2412'),\n",
              " Row(likes='3124'),\n",
              " Row(likes='115781'),\n",
              " Row(likes='460'),\n",
              " Row(likes='3869'),\n",
              " Row(likes=None),\n",
              " Row(likes=None),\n",
              " Row(likes=' Kendall Jenner and Kate Upton for a look at the best in pop culture. Welcome to the modern man’s guide to style advice'),\n",
              " Row(likes=None),\n",
              " Row(likes=None),\n",
              " Row(likes='17267'),\n",
              " Row(likes='9725'),\n",
              " Row(likes='15071'),\n",
              " Row(likes='75930'),\n",
              " Row(likes='57838'),\n",
              " Row(likes='1581'),\n",
              " Row(likes='379'),\n",
              " Row(likes='20085'),\n",
              " Row(likes='102726'),\n",
              " Row(likes='37129'),\n",
              " Row(likes='28119'),\n",
              " Row(likes='386'),\n",
              " Row(likes='55628'),\n",
              " Row(likes='216119'),\n",
              " Row(likes='65594'),\n",
              " Row(likes='40775'),\n",
              " Row(likes='119107'),\n",
              " Row(likes='223821'),\n",
              " Row(likes='39816'),\n",
              " Row(likes='6729'),\n",
              " Row(likes='28309'),\n",
              " Row(likes='12594'),\n",
              " Row(likes=None),\n",
              " Row(likes=None),\n",
              " Row(likes=None),\n",
              " Row(likes=None),\n",
              " Row(likes='135292'),\n",
              " Row(likes='88541'),\n",
              " Row(likes='281095'),\n",
              " Row(likes=None),\n",
              " Row(likes=None),\n",
              " Row(likes=None),\n",
              " Row(likes=None),\n",
              " Row(likes=None),\n",
              " Row(likes=None),\n",
              " Row(likes=None),\n",
              " Row(likes='5666'),\n",
              " Row(likes='789750'),\n",
              " Row(likes='23207'),\n",
              " Row(likes='14355'),\n",
              " Row(likes='6593'),\n",
              " Row(likes='50946'),\n",
              " Row(likes='61075'),\n",
              " Row(likes='31301'),\n",
              " Row(likes='25840'),\n",
              " Row(likes='1326'),\n",
              " Row(likes='70960'),\n",
              " Row(likes='5474'),\n",
              " Row(likes='18816'),\n",
              " Row(likes='11492'),\n",
              " Row(likes='5155'),\n",
              " Row(likes='18022'),\n",
              " Row(likes='21013'),\n",
              " Row(likes='61484'),\n",
              " Row(likes='84669'),\n",
              " Row(likes='29135'),\n",
              " Row(likes='23939'),\n",
              " Row(likes='108'),\n",
              " Row(likes='32749'),\n",
              " Row(likes='3849'),\n",
              " Row(likes='6133'),\n",
              " Row(likes='10814'),\n",
              " Row(likes='135815'),\n",
              " Row(likes='9821'),\n",
              " Row(likes='35950'),\n",
              " Row(likes='1389'),\n",
              " Row(likes='8184'),\n",
              " Row(likes='58902'),\n",
              " Row(likes='5172'),\n",
              " Row(likes='14353'),\n",
              " Row(likes=None),\n",
              " Row(likes=None),\n",
              " Row(likes=None),\n",
              " Row(likes=None),\n",
              " Row(likes=None),\n",
              " Row(likes=None),\n",
              " Row(likes=None),\n",
              " Row(likes=None),\n",
              " Row(likes=None),\n",
              " Row(likes=None),\n",
              " Row(likes=None),\n",
              " Row(likes=None),\n",
              " Row(likes=None),\n",
              " Row(likes=None),\n",
              " Row(likes=None),\n",
              " Row(likes=None),\n",
              " Row(likes=None),\n",
              " Row(likes=None),\n",
              " Row(likes='5340'),\n",
              " Row(likes=None),\n",
              " Row(likes=None),\n",
              " Row(likes=None),\n",
              " Row(likes='18708'),\n",
              " Row(likes='98182'),\n",
              " Row(likes='3657'),\n",
              " Row(likes='21523'),\n",
              " Row(likes='41976'),\n",
              " Row(likes='151277'),\n",
              " Row(likes='3871'),\n",
              " Row(likes='46900'),\n",
              " Row(likes='5188'),\n",
              " Row(likes='2750'),\n",
              " Row(likes='5023'),\n",
              " Row(likes='3539'),\n",
              " Row(likes='2001'),\n",
              " Row(likes='1026'),\n",
              " Row(likes='4468'),\n",
              " Row(likes='91834'),\n",
              " Row(likes='4208'),\n",
              " Row(likes='314'),\n",
              " Row(likes='1184'),\n",
              " Row(likes='28058'),\n",
              " Row(likes='38795'),\n",
              " Row(likes='365'),\n",
              " Row(likes='111'),\n",
              " Row(likes='4237'),\n",
              " Row(likes='33595'),\n",
              " Row(likes='8122'),\n",
              " Row(likes='30255'),\n",
              " Row(likes='174'),\n",
              " Row(likes='204'),\n",
              " Row(likes=None),\n",
              " Row(likes=None),\n",
              " Row(likes=None),\n",
              " Row(likes=None),\n",
              " Row(likes=None),\n",
              " Row(likes=None),\n",
              " Row(likes=None),\n",
              " Row(likes=None),\n",
              " Row(likes=None),\n",
              " Row(likes=None),\n",
              " Row(likes=None),\n",
              " Row(likes=None),\n",
              " Row(likes=None),\n",
              " Row(likes=None),\n",
              " Row(likes=None),\n",
              " Row(likes=None),\n",
              " Row(likes='10327'),\n",
              " Row(likes='86'),\n",
              " Row(likes='370'),\n",
              " Row(likes='10'),\n",
              " Row(likes='25373'),\n",
              " Row(likes='159600'),\n",
              " Row(likes='5189'),\n",
              " Row(likes='681'),\n",
              " Row(likes='4287'),\n",
              " Row(likes='29299'),\n",
              " Row(likes='2738'),\n",
              " Row(likes='7464'),\n",
              " Row(likes='6282'),\n",
              " Row(likes='1693'),\n",
              " Row(likes='92831'),\n",
              " Row(likes='22111'),\n",
              " Row(likes='921'),\n",
              " Row(likes='21174'),\n",
              " Row(likes='142006'),\n",
              " Row(likes='1623'),\n",
              " Row(likes='7229'),\n",
              " Row(likes='12694'),\n",
              " Row(likes='5906'),\n",
              " Row(likes='37'),\n",
              " Row(likes='1834'),\n",
              " Row(likes='1990'),\n",
              " Row(likes='4544'),\n",
              " Row(likes='11637'),\n",
              " Row(likes='204840'),\n",
              " Row(likes='5562'),\n",
              " Row(likes='12392'),\n",
              " Row(likes='197'),\n",
              " Row(likes='10058'),\n",
              " Row(likes='10718'),\n",
              " Row(likes='16213'),\n",
              " Row(likes='18528'),\n",
              " Row(likes='14253'),\n",
              " Row(likes='206'),\n",
              " Row(likes='175762'),\n",
              " Row(likes='1572'),\n",
              " Row(likes='5591'),\n",
              " Row(likes='4288'),\n",
              " Row(likes='10079'),\n",
              " Row(likes='2023'),\n",
              " Row(likes='8593'),\n",
              " Row(likes='16242'),\n",
              " Row(likes='2366'),\n",
              " Row(likes='149105'),\n",
              " Row(likes='1932'),\n",
              " Row(likes='28677'),\n",
              " Row(likes='28200'),\n",
              " Row(likes='17313'),\n",
              " Row(likes='5954'),\n",
              " Row(likes='146'),\n",
              " Row(likes='21839'),\n",
              " Row(likes='2448'),\n",
              " Row(likes='3194'),\n",
              " Row(likes='280'),\n",
              " Row(likes='8575'),\n",
              " Row(likes='18741'),\n",
              " Row(likes='1933'),\n",
              " Row(likes='6418'),\n",
              " Row(likes='5682'),\n",
              " Row(likes='9848'),\n",
              " Row(likes='1288'),\n",
              " Row(likes='58'),\n",
              " Row(likes='7193'),\n",
              " Row(likes='430'),\n",
              " Row(likes='5065'),\n",
              " Row(likes='410'),\n",
              " Row(likes='92'),\n",
              " Row(likes='131'),\n",
              " Row(likes='2742'),\n",
              " Row(likes='9519'),\n",
              " Row(likes='6408'),\n",
              " Row(likes='83'),\n",
              " Row(likes='5190'),\n",
              " Row(likes='13909'),\n",
              " Row(likes='10118'),\n",
              " Row(likes='3578'),\n",
              " Row(likes='4603'),\n",
              " Row(likes='4447'),\n",
              " Row(likes='243'),\n",
              " Row(likes='1941'),\n",
              " Row(likes='620'),\n",
              " Row(likes='39'),\n",
              " Row(likes='230'),\n",
              " Row(likes='4455'),\n",
              " Row(likes='309'),\n",
              " Row(likes='47602'),\n",
              " Row(likes='20'),\n",
              " Row(likes='891282'),\n",
              " Row(likes='4'),\n",
              " Row(likes='438470'),\n",
              " Row(likes='831'),\n",
              " Row(likes='2908'),\n",
              " Row(likes='782'),\n",
              " Row(likes='292'),\n",
              " Row(likes='11'),\n",
              " Row(likes='7'),\n",
              " Row(likes='4836'),\n",
              " Row(likes='38114'),\n",
              " Row(likes='10'),\n",
              " Row(likes='16805'),\n",
              " Row(likes='4782'),\n",
              " Row(likes='48'),\n",
              " Row(likes='447'),\n",
              " Row(likes='261'),\n",
              " Row(likes='248909'),\n",
              " Row(likes='49509'),\n",
              " Row(likes='146732'),\n",
              " Row(likes='6466'),\n",
              " Row(likes='20'),\n",
              " Row(likes='7773'),\n",
              " Row(likes='2028'),\n",
              " Row(likes='8985'),\n",
              " Row(likes='60434'),\n",
              " Row(likes='129182'),\n",
              " Row(likes='86'),\n",
              " Row(likes='8665'),\n",
              " Row(likes='52519'),\n",
              " Row(likes='76529'),\n",
              " Row(likes='20780'),\n",
              " Row(likes='2609'),\n",
              " Row(likes='22'),\n",
              " Row(likes='150015'),\n",
              " Row(likes='1002549'),\n",
              " Row(likes='94545'),\n",
              " Row(likes='16081'),\n",
              " Row(likes='89055'),\n",
              " Row(likes='61135'),\n",
              " ...]"
            ]
          },
          "metadata": {},
          "execution_count": 34
        }
      ]
    },
    {
      "cell_type": "code",
      "source": [],
      "metadata": {
        "id": "sxsCnRt7W40y"
      },
      "execution_count": null,
      "outputs": []
    }
  ],
  "metadata": {
    "kernelspec": {
      "display_name": "Python 3 (ipykernel)",
      "language": "python",
      "name": "python3"
    },
    "language_info": {
      "codemirror_mode": {
        "name": "ipython",
        "version": 3
      },
      "file_extension": ".py",
      "mimetype": "text/x-python",
      "name": "python",
      "nbconvert_exporter": "python",
      "pygments_lexer": "ipython3",
      "version": "3.8.12"
    },
    "colab": {
      "provenance": []
    }
  },
  "nbformat": 4,
  "nbformat_minor": 0
}