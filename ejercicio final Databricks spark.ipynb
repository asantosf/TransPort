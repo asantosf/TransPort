{
  "cells": [
    {
      "cell_type": "code",
      "source": [
        "!pip install findspark\n",
        "!pip install pyspark\n",
        "!pip install spark"
      ],
      "metadata": {
        "id": "rqzGafdhHxA0",
        "outputId": "8c2a71db-27fc-4fde-9080-cea3202392fd",
        "colab": {
          "base_uri": "https://localhost:8080/"
        }
      },
      "execution_count": 2,
      "outputs": [
        {
          "output_type": "stream",
          "name": "stdout",
          "text": [
            "Requirement already satisfied: findspark in /usr/local/lib/python3.10/dist-packages (2.0.1)\n",
            "Requirement already satisfied: pyspark in /usr/local/lib/python3.10/dist-packages (3.4.1)\n",
            "Requirement already satisfied: py4j==0.10.9.7 in /usr/local/lib/python3.10/dist-packages (from pyspark) (0.10.9.7)\n",
            "Requirement already satisfied: spark in /usr/local/lib/python3.10/dist-packages (0.2.1)\n"
          ]
        }
      ]
    },
    {
      "cell_type": "code",
      "source": [
        "import pyspark\n",
        "import findspark\n",
        "import spark\n",
        "\n",
        "findspark.init()\n",
        "\n",
        "from pyspark.sql.types import *\n",
        "from pyspark.sql import SparkSession\n",
        "from pyspark.sql.functions import *\n",
        "\n",
        "spark = SparkSession.builder.getOrCreate()"
      ],
      "metadata": {
        "id": "Cc8bMLK2uT4k"
      },
      "execution_count": 3,
      "outputs": []
    },
    {
      "cell_type": "code",
      "source": [
        "avg_speed = spark.read.option('header','true').option('inferSchema','true').csv('avg_speed.csv')\n",
        "prices = spark.read.option('header','true').option('inferSchema','true').csv('prices_2022.csv')\n",
        "users = spark.read.option('header','true').option('inferSchema','true').csv('users.csv')"
      ],
      "metadata": {
        "id": "Q5RsPVicaSTV"
      },
      "execution_count": 51,
      "outputs": []
    },
    {
      "cell_type": "code",
      "source": [
        "def limpiar_columnas(prices):\n",
        "  nor_simbolos = ['__','.', '(', ')']\n",
        "  prices_columns = prices.columns\n",
        "  prices_col_Nsim = [column.lower().replace(' ','_').replace('–','') for column in prices_columns]\n",
        "\n",
        "  prices_clean = []\n",
        "\n",
        "  for columna in prices_col_Nsim:\n",
        "    if columna.endswith('_'):\n",
        "      new_wrod = columna[:len(columna)-1]\n",
        "    else:\n",
        "      new_wrod = columna\n",
        "\n",
        "    for simbolo in nor_simbolos:\n",
        "      if simbolo in columna:\n",
        "        new_wrod = new_wrod.replace(simbolo, '')\n",
        "\n",
        "    prices_clean.append(new_wrod)\n",
        "\n",
        "  return prices_clean"
      ],
      "metadata": {
        "id": "4lul5JrWSCpQ"
      },
      "execution_count": 52,
      "outputs": []
    },
    {
      "cell_type": "code",
      "source": [
        "avg_speed.printSchema()\n",
        "speedDF = avg_speed.toDF(*limpiar_columnas(avg_speed))\n",
        "speedDF.printSchema()"
      ],
      "metadata": {
        "id": "AyljMEnJ3Rnw",
        "outputId": "4e9f747f-84ab-4b41-a6bb-e18eac905416",
        "colab": {
          "base_uri": "https://localhost:8080/"
        }
      },
      "execution_count": 53,
      "outputs": [
        {
          "output_type": "stream",
          "name": "stdout",
          "text": [
            "root\n",
            " |-- Country: string (nullable = true)\n",
            " |-- Avg : double (nullable = true)\n",
            "\n",
            "root\n",
            " |-- country: string (nullable = true)\n",
            " |-- avg: double (nullable = true)\n",
            "\n"
          ]
        }
      ]
    },
    {
      "cell_type": "code",
      "source": [
        "pricesDF = prices.toDF(*limpiar_columnas(prices))\n",
        "pricesDF.printSchema()"
      ],
      "metadata": {
        "id": "rxSxv5Db874J",
        "outputId": "71a46188-dc9a-47d3-8099-371984822759",
        "colab": {
          "base_uri": "https://localhost:8080/"
        }
      },
      "execution_count": 54,
      "outputs": [
        {
          "output_type": "stream",
          "name": "stdout",
          "text": [
            "root\n",
            " |-- country_code: string (nullable = true)\n",
            " |-- name: string (nullable = true)\n",
            " |-- continental_region: string (nullable = true)\n",
            " |-- no_of_internet_plans: integer (nullable = true)\n",
            " |-- average_price_of_1gb_usd: string (nullable = true)\n",
            " |-- cheapest_1gb_for_30_days_usd: string (nullable = true)\n",
            " |-- most_expensive_1gb_usd: string (nullable = true)\n",
            " |-- average_price_of_1gb_usdat_the_start_of_2021: string (nullable = true)\n",
            " |-- average_price_of_1gb_usdat_start_of_2020: string (nullable = true)\n",
            "\n"
          ]
        }
      ]
    },
    {
      "cell_type": "code",
      "source": [
        "users.printSchema()\n",
        "userDF = users.toDF(*limpiar_columnas(users))\n",
        "\n",
        "'''@udf(returnType=IntegerType())\n",
        "def del_comma(s):\n",
        "  return int(s.replace(',',''))\n",
        "\n",
        "userDF = userDF.select(\n",
        "    'country_or_area',\n",
        "    'subregion',\n",
        "    'region',\n",
        "    del_comma('internet_users').alias('internet_users'),\n",
        "    del_comma('population').alias('population')\n",
        ")'''"
      ],
      "metadata": {
        "id": "CW01KDslK_OP",
        "outputId": "632273f5-23f0-4936-e43c-a3e0b2dc4b52",
        "colab": {
          "base_uri": "https://localhost:8080/",
          "height": 175
        }
      },
      "execution_count": 55,
      "outputs": [
        {
          "output_type": "stream",
          "name": "stdout",
          "text": [
            "root\n",
            " |-- Country or area: string (nullable = true)\n",
            " |-- Subregion: string (nullable = true)\n",
            " |-- Region: string (nullable = true)\n",
            " |-- Internet users: string (nullable = true)\n",
            " |-- Population: string (nullable = true)\n",
            "\n"
          ]
        },
        {
          "output_type": "execute_result",
          "data": {
            "text/plain": [
              "\"@udf(returnType=IntegerType())\\ndef del_comma(s):\\n  return int(s.replace(',',''))\\n\\nuserDF = userDF.select(\\n    'country_or_area', \\n    'subregion', \\n    'region', \\n    del_comma('internet_users').alias('internet_users'), \\n    del_comma('population').alias('population')\\n)\""
            ],
            "application/vnd.google.colaboratory.intrinsic+json": {
              "type": "string"
            }
          },
          "metadata": {},
          "execution_count": 55
        }
      ]
    },
    {
      "cell_type": "code",
      "source": [
        "'''\n",
        "Determine los cinco países con mayor número de usuarios de Internet en la región de América.\n",
        "La salida debe contener el nombre del país, la región, la subregión y la cantidad de usuarios de Internet.\n",
        "'''\n",
        "\n",
        "userDF.select(\n",
        "    'country_or_area','subregion','region',\n",
        "    regexp_replace(col('internet_users'), ',', '').cast('int').alias('internet_users')\n",
        ").select('country_or_area','subregion','region', 'internet_users').\\\n",
        "filter(col('region') == 'Americas').\\\n",
        "orderBy(desc('internet_users')).\\\n",
        "limit(5).\\\n",
        "show()"
      ],
      "metadata": {
        "id": "GejDHzRzHmKz",
        "outputId": "8cf1c5ae-4dc3-431c-f6f0-91ff9fcd1a81",
        "colab": {
          "base_uri": "https://localhost:8080/"
        }
      },
      "execution_count": 46,
      "outputs": [
        {
          "output_type": "stream",
          "name": "stdout",
          "text": [
            "+---------------+----------------+--------+--------------+\n",
            "|country_or_area|       subregion|  region|internet_users|\n",
            "+---------------+----------------+--------+--------------+\n",
            "|  United States|Northern America|Americas|     312320000|\n",
            "|         Brazil|   South America|Americas|     160010801|\n",
            "|         Mexico|Northern America|Americas|      92010000|\n",
            "|         Canada|Northern America|Americas|      33950632|\n",
            "|      Argentina|   South America|Americas|      33561876|\n",
            "+---------------+----------------+--------+--------------+\n",
            "\n"
          ]
        }
      ]
    },
    {
      "cell_type": "code",
      "source": [
        "'''\n",
        "Obtenga el top tres de las regiones con más usuarios de internet.\n",
        "'''\n",
        "\n",
        "userDF.groupBy('region').agg(sum('internet_users').alias('usuarios')).orderBy(desc('usuarios')).limit(3).show()"
      ],
      "metadata": {
        "id": "tXQZmO09Pt7u",
        "outputId": "6f727002-7781-45ca-d39d-9422b5cf5317",
        "colab": {
          "base_uri": "https://localhost:8080/"
        }
      },
      "execution_count": 47,
      "outputs": [
        {
          "output_type": "stream",
          "name": "stdout",
          "text": [
            "+--------+----------+\n",
            "|  region|  usuarios|\n",
            "+--------+----------+\n",
            "|    Asia|2992777999|\n",
            "|Americas| 779914800|\n",
            "|  Europe| 712066624|\n",
            "+--------+----------+\n",
            "\n"
          ]
        }
      ]
    },
    {
      "cell_type": "code",
      "source": [
        "from pyspark.sql.window import Window\n",
        "'''\n",
        "Obtenga el país con más usuarios de Internet por región y subregión\n",
        "Por ejemplo, el resultado para la región de las Américas y la subregión Norte América debería ser Estados Unidos.\n",
        "La salida debe contener el nombre del país con más usuarios de Internet, la región, la subregión y la cantidad de usuarios de Internet.\n",
        "Además, la salida debe estar ordenada de mayor a menor atendiendo a la cantidad de usuarios de Internet de cada país.\n",
        "'''\n",
        "\n",
        "userXregionXsregion = Window.partitionBy('subregion', 'subregion').orderBy(desc('internet_users'))\n",
        "\n",
        "top_paises = userDF.withColumn('rn', row_number().over(userXregionXsregion)).\\\n",
        "select(\n",
        "    'country_or_area',\n",
        "    'region',\n",
        "    'subregion',\n",
        "    'internet_users',\n",
        ").\\\n",
        "filter(col('rn') == 1).\\\n",
        "orderBy(desc('internet_users'))"
      ],
      "metadata": {
        "id": "pOz1fs7sSTgh"
      },
      "execution_count": 49,
      "outputs": []
    },
    {
      "cell_type": "code",
      "source": [
        "!pip install avro"
      ],
      "metadata": {
        "id": "xgpV5JMVqsXY",
        "outputId": "0c839aa6-1eb1-4538-800e-bc17a1752fc7",
        "colab": {
          "base_uri": "https://localhost:8080/"
        }
      },
      "execution_count": 151,
      "outputs": [
        {
          "output_type": "stream",
          "name": "stdout",
          "text": [
            "Collecting avro\n",
            "  Downloading avro-1.11.2.tar.gz (85 kB)\n",
            "\u001b[?25l     \u001b[90m━━━━━━━━━━━━━━━━━━━━━━━━━━━━━━━━━━━━━━━━\u001b[0m \u001b[32m0.0/85.8 kB\u001b[0m \u001b[31m?\u001b[0m eta \u001b[36m-:--:--\u001b[0m\r\u001b[2K     \u001b[91m━━━━━━━━━━━━━━━━━━━━━━━━━━━━\u001b[0m\u001b[91m╸\u001b[0m\u001b[90m━━━━━━━━━━━\u001b[0m \u001b[32m61.4/85.8 kB\u001b[0m \u001b[31m1.6 MB/s\u001b[0m eta \u001b[36m0:00:01\u001b[0m\r\u001b[2K     \u001b[90m━━━━━━━━━━━━━━━━━━━━━━━━━━━━━━━━━━━━━━━━\u001b[0m \u001b[32m85.8/85.8 kB\u001b[0m \u001b[31m1.7 MB/s\u001b[0m eta \u001b[36m0:00:00\u001b[0m\n",
            "\u001b[?25h  Installing build dependencies ... \u001b[?25l\u001b[?25hdone\n",
            "  Getting requirements to build wheel ... \u001b[?25l\u001b[?25hdone\n",
            "  Preparing metadata (pyproject.toml) ... \u001b[?25l\u001b[?25hdone\n",
            "Building wheels for collected packages: avro\n",
            "  Building wheel for avro (pyproject.toml) ... \u001b[?25l\u001b[?25hdone\n",
            "  Created wheel for avro: filename=avro-1.11.2-py2.py3-none-any.whl size=119738 sha256=dd66329c8545f05e0e5f520c86f0c1a723ddbe340ec958cd8aef52112d0bdddf\n",
            "  Stored in directory: /root/.cache/pip/wheels/1f/8b/f2/c2659be6a948e76dd2f89adad8ae4541710dce63ac9969177a\n",
            "Successfully built avro\n",
            "Installing collected packages: avro\n",
            "Successfully installed avro-1.11.2\n"
          ]
        }
      ]
    },
    {
      "cell_type": "code",
      "source": [
        "top_paises.repartition(3).write.mode('overwrite').partitionBy('region').parquet('FileStore/ProyectoFinal/salida')"
      ],
      "metadata": {
        "id": "9cLRFFGVXh5Z"
      },
      "execution_count": null,
      "outputs": []
    },
    {
      "cell_type": "code",
      "source": [
        "userDF.join(speedDF, speedDF['country'] == userDF['country_or_area']).\\\n",
        "select(\n",
        "    'country',\n",
        "    'region',\n",
        "    'subregion',\n",
        "    'population',\n",
        "    regexp_replace(col('internet_users'), ',', '').cast('int').alias('internet_users'),\n",
        "    'avg'\n",
        ").\\\n",
        "select(\n",
        "    'country',\n",
        "    'region',\n",
        "    'subregion',\n",
        "    'population',\n",
        "    'internet_users',\n",
        "    'avg'\n",
        ").\\\n",
        "filter(col('population').isNotNull()).\\\n",
        "filter(col('internet_users').isNotNull()).\\\n",
        "filter(col('avg').isNotNull()).\\\n",
        "orderBy(desc('avg')).\\\n",
        "limit(10).\\\n",
        "show()"
      ],
      "metadata": {
        "id": "XBB15-mOuW_k",
        "outputId": "cee82467-d0af-4cfc-fae1-5a703733e8ad",
        "colab": {
          "base_uri": "https://localhost:8080/"
        }
      },
      "execution_count": 57,
      "outputs": [
        {
          "output_type": "stream",
          "name": "stdout",
          "text": [
            "+--------------------+------+---------------+----------+--------------+------+\n",
            "|             country|region|      subregion|population|internet_users|   avg|\n",
            "+--------------------+------+---------------+----------+--------------+------+\n",
            "|United Arab Emirates|  Asia|   Western Asia| 9,630,959|       8913217|135.35|\n",
            "|              Norway|Europe|Northern Europe| 5,337,962|       5120225|134.73|\n",
            "|               Qatar|  Asia|   Western Asia| 2,781,682|       2532059|120.69|\n",
            "|         South Korea|  Asia|   Eastern Asia|51,171,706|      49421084|117.95|\n",
            "|         Netherlands|Europe| Western Europe|17,059,560|      15877494|108.33|\n",
            "|             Denmark|Europe|Northern Europe| 5,752,126|       5407278|105.65|\n",
            "|        Saudi Arabia|  Asia|   Western Asia|33,702,756|      27048861|102.79|\n",
            "|              Kuwait|  Asia|   Western Asia| 4,137,312|       4053797| 96.23|\n",
            "|            Bulgaria|Europe| Eastern Europe| 7,051,608|       4492326| 87.51|\n",
            "|             Croatia|Europe|Southern Europe| 4,156,405|       2811056| 86.48|\n",
            "+--------------------+------+---------------+----------+--------------+------+\n",
            "\n"
          ]
        }
      ]
    },
    {
      "cell_type": "code",
      "source": [
        "pricesDF.printSchema()"
      ],
      "metadata": {
        "id": "fE-w_vivwMv0",
        "outputId": "ede6a82f-956e-4ec8-d713-407feb1a01df",
        "colab": {
          "base_uri": "https://localhost:8080/"
        }
      },
      "execution_count": 195,
      "outputs": [
        {
          "output_type": "stream",
          "name": "stdout",
          "text": [
            "root\n",
            " |-- country_code: string (nullable = true)\n",
            " |-- name: string (nullable = true)\n",
            " |-- continental_region: string (nullable = true)\n",
            " |-- no_of_internet_plans: integer (nullable = true)\n",
            " |-- average_price_of_1gb_usd: string (nullable = true)\n",
            " |-- cheapest_1gb_for_30_days_usd: string (nullable = true)\n",
            " |-- most_expensive_1gb_usd: string (nullable = true)\n",
            " |-- average_price_of_1gb_usdat_the_start_of_2021: string (nullable = true)\n",
            " |-- average_price_of_1gb_usdat_start_of_2020: string (nullable = true)\n",
            "\n"
          ]
        }
      ]
    },
    {
      "cell_type": "code",
      "source": [
        "pricesDF.join(userDF, userDF.country_or_area == pricesDF.name).\\\n",
        "select(\n",
        "    'region',\n",
        "    regexp_extract('average_price_of_1gb_usdat_the_start_of_2021', r'([0-9]+).([0-9]+)', 0).alias('costo_prom_1_gb')\n",
        ").\\\n",
        "select(\n",
        "    'region',\n",
        "    'costo_prom_1_gb',\n",
        "    when(col('region').startswith('A').cast(StringType()) == 'true', 'region_a').\\\n",
        "    when(col('region').startswith('E').cast(StringType()) == 'true', 'region_e').\\\n",
        "    otherwise('region_por_defecto').\\\n",
        "    alias('grupo_region')\n",
        ").\\\n",
        "orderBy(desc('costo_prom_1_gb')).\\\n",
        "limit(10).\\\n",
        "show()"
      ],
      "metadata": {
        "id": "PYpHQddqmvWW",
        "outputId": "a9088a98-1ee1-4f26-c6ca-89224e2974be",
        "colab": {
          "base_uri": "https://localhost:8080/"
        }
      },
      "execution_count": 58,
      "outputs": [
        {
          "output_type": "stream",
          "name": "stdout",
          "text": [
            "+--------+---------------+------------------+\n",
            "|  region|costo_prom_1_gb|      grupo_region|\n",
            "+--------+---------------+------------------+\n",
            "|Americas|           9.56|          region_a|\n",
            "|  Europe|           9.54|          region_e|\n",
            "|Americas|           9.32|          region_a|\n",
            "|  Africa|           8.81|          region_a|\n",
            "| Oceania|           8.53|region_por_defecto|\n",
            "|  Europe|           8.38|          region_e|\n",
            "|Americas|           8.33|          region_a|\n",
            "|  Africa|           8.25|          region_a|\n",
            "|Americas|           8.00|          region_a|\n",
            "|  Europe|           7.95|          region_e|\n",
            "+--------+---------------+------------------+\n",
            "\n"
          ]
        }
      ]
    }
  ],
  "metadata": {
    "kernelspec": {
      "display_name": "Python 3 (ipykernel)",
      "language": "python",
      "name": "python3"
    },
    "language_info": {
      "codemirror_mode": {
        "name": "ipython",
        "version": 3
      },
      "file_extension": ".py",
      "mimetype": "text/x-python",
      "name": "python",
      "nbconvert_exporter": "python",
      "pygments_lexer": "ipython3",
      "version": "3.8.12"
    },
    "colab": {
      "provenance": []
    }
  },
  "nbformat": 4,
  "nbformat_minor": 0
}