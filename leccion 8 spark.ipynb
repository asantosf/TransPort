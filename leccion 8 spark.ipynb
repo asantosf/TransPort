{
  "cells": [
    {
      "cell_type": "code",
      "source": [
        "!pip install findspark\n",
        "!pip install pyspark\n",
        "!pip install spark"
      ],
      "metadata": {
        "id": "rqzGafdhHxA0",
        "outputId": "d30d9410-d3b5-4188-d7ee-c51664181750",
        "colab": {
          "base_uri": "https://localhost:8080/"
        }
      },
      "execution_count": 1,
      "outputs": [
        {
          "output_type": "stream",
          "name": "stdout",
          "text": [
            "Collecting findspark\n",
            "  Downloading findspark-2.0.1-py2.py3-none-any.whl (4.4 kB)\n",
            "Installing collected packages: findspark\n",
            "Successfully installed findspark-2.0.1\n",
            "Collecting pyspark\n",
            "  Downloading pyspark-3.4.1.tar.gz (310.8 MB)\n",
            "\u001b[2K     \u001b[90m━━━━━━━━━━━━━━━━━━━━━━━━━━━━━━━━━━━━━━━\u001b[0m \u001b[32m310.8/310.8 MB\u001b[0m \u001b[31m2.9 MB/s\u001b[0m eta \u001b[36m0:00:00\u001b[0m\n",
            "\u001b[?25h  Preparing metadata (setup.py) ... \u001b[?25l\u001b[?25hdone\n",
            "Requirement already satisfied: py4j==0.10.9.7 in /usr/local/lib/python3.10/dist-packages (from pyspark) (0.10.9.7)\n",
            "Building wheels for collected packages: pyspark\n",
            "  Building wheel for pyspark (setup.py) ... \u001b[?25l\u001b[?25hdone\n",
            "  Created wheel for pyspark: filename=pyspark-3.4.1-py2.py3-none-any.whl size=311285387 sha256=1b64e8ac8a84b5863f306f7c4b4e22dac8fcee7f704655fc23a05c884aed5fdc\n",
            "  Stored in directory: /root/.cache/pip/wheels/0d/77/a3/ff2f74cc9ab41f8f594dabf0579c2a7c6de920d584206e0834\n",
            "Successfully built pyspark\n",
            "Installing collected packages: pyspark\n",
            "Successfully installed pyspark-3.4.1\n",
            "Collecting spark\n",
            "  Downloading spark-0.2.1.tar.gz (41 kB)\n",
            "\u001b[2K     \u001b[90m━━━━━━━━━━━━━━━━━━━━━━━━━━━━━━━━━━━━━━━━\u001b[0m \u001b[32m41.0/41.0 kB\u001b[0m \u001b[31m1.2 MB/s\u001b[0m eta \u001b[36m0:00:00\u001b[0m\n",
            "\u001b[?25h  Preparing metadata (setup.py) ... \u001b[?25l\u001b[?25hdone\n",
            "Building wheels for collected packages: spark\n",
            "  Building wheel for spark (setup.py) ... \u001b[?25l\u001b[?25hdone\n",
            "  Created wheel for spark: filename=spark-0.2.1-py3-none-any.whl size=58748 sha256=1a71983ac1191cf5e5ae1675f18cbcc4547b0ee178152596515da27190586092\n",
            "  Stored in directory: /root/.cache/pip/wheels/63/88/77/b4131110ea4094540f7b47c6d62a649807d7e94800da5eab0b\n",
            "Successfully built spark\n",
            "Installing collected packages: spark\n",
            "Successfully installed spark-0.2.1\n"
          ]
        }
      ]
    },
    {
      "cell_type": "code",
      "source": [
        "import pyspark\n",
        "import findspark\n",
        "import spark\n",
        "\n",
        "findspark.init()\n",
        "\n",
        "from pyspark.sql import SparkSession\n",
        "from pyspark.sql.functions import *\n",
        "\n",
        "spark = SparkSession.builder.getOrCreate()"
      ],
      "metadata": {
        "id": "Cc8bMLK2uT4k"
      },
      "execution_count": 2,
      "outputs": []
    },
    {
      "cell_type": "code",
      "source": [
        "departamentos = spark.read.parquet('departamentos.parquet')\n",
        "empleados = spark.read.parquet('empleados.parquet')"
      ],
      "metadata": {
        "id": "Q5RsPVicaSTV",
        "outputId": "4271a248-7fc1-4a51-a788-564a8ab31492",
        "colab": {
          "base_uri": "https://localhost:8080/",
          "height": 338
        }
      },
      "execution_count": 3,
      "outputs": [
        {
          "output_type": "error",
          "ename": "AnalysisException",
          "evalue": "ignored",
          "traceback": [
            "\u001b[0;31m---------------------------------------------------------------------------\u001b[0m",
            "\u001b[0;31mAnalysisException\u001b[0m                         Traceback (most recent call last)",
            "\u001b[0;32m<ipython-input-3-e537a4585388>\u001b[0m in \u001b[0;36m<cell line: 1>\u001b[0;34m()\u001b[0m\n\u001b[0;32m----> 1\u001b[0;31m \u001b[0mdepartamentos\u001b[0m \u001b[0;34m=\u001b[0m \u001b[0mspark\u001b[0m\u001b[0;34m.\u001b[0m\u001b[0mread\u001b[0m\u001b[0;34m.\u001b[0m\u001b[0mparquet\u001b[0m\u001b[0;34m(\u001b[0m\u001b[0;34m'departamentos.parquet'\u001b[0m\u001b[0;34m)\u001b[0m\u001b[0;34m\u001b[0m\u001b[0;34m\u001b[0m\u001b[0m\n\u001b[0m\u001b[1;32m      2\u001b[0m \u001b[0mempleados\u001b[0m \u001b[0;34m=\u001b[0m \u001b[0mspark\u001b[0m\u001b[0;34m.\u001b[0m\u001b[0mread\u001b[0m\u001b[0;34m.\u001b[0m\u001b[0mparquet\u001b[0m\u001b[0;34m(\u001b[0m\u001b[0;34m'empleados.parquet'\u001b[0m\u001b[0;34m)\u001b[0m\u001b[0;34m\u001b[0m\u001b[0;34m\u001b[0m\u001b[0m\n",
            "\u001b[0;32m/usr/local/lib/python3.10/dist-packages/pyspark/sql/readwriter.py\u001b[0m in \u001b[0;36mparquet\u001b[0;34m(self, *paths, **options)\u001b[0m\n\u001b[1;32m    529\u001b[0m         )\n\u001b[1;32m    530\u001b[0m \u001b[0;34m\u001b[0m\u001b[0m\n\u001b[0;32m--> 531\u001b[0;31m         \u001b[0;32mreturn\u001b[0m \u001b[0mself\u001b[0m\u001b[0;34m.\u001b[0m\u001b[0m_df\u001b[0m\u001b[0;34m(\u001b[0m\u001b[0mself\u001b[0m\u001b[0;34m.\u001b[0m\u001b[0m_jreader\u001b[0m\u001b[0;34m.\u001b[0m\u001b[0mparquet\u001b[0m\u001b[0;34m(\u001b[0m\u001b[0m_to_seq\u001b[0m\u001b[0;34m(\u001b[0m\u001b[0mself\u001b[0m\u001b[0;34m.\u001b[0m\u001b[0m_spark\u001b[0m\u001b[0;34m.\u001b[0m\u001b[0m_sc\u001b[0m\u001b[0;34m,\u001b[0m \u001b[0mpaths\u001b[0m\u001b[0;34m)\u001b[0m\u001b[0;34m)\u001b[0m\u001b[0;34m)\u001b[0m\u001b[0;34m\u001b[0m\u001b[0;34m\u001b[0m\u001b[0m\n\u001b[0m\u001b[1;32m    532\u001b[0m \u001b[0;34m\u001b[0m\u001b[0m\n\u001b[1;32m    533\u001b[0m     def text(\n",
            "\u001b[0;32m/usr/local/lib/python3.10/dist-packages/py4j/java_gateway.py\u001b[0m in \u001b[0;36m__call__\u001b[0;34m(self, *args)\u001b[0m\n\u001b[1;32m   1320\u001b[0m \u001b[0;34m\u001b[0m\u001b[0m\n\u001b[1;32m   1321\u001b[0m         \u001b[0manswer\u001b[0m \u001b[0;34m=\u001b[0m \u001b[0mself\u001b[0m\u001b[0;34m.\u001b[0m\u001b[0mgateway_client\u001b[0m\u001b[0;34m.\u001b[0m\u001b[0msend_command\u001b[0m\u001b[0;34m(\u001b[0m\u001b[0mcommand\u001b[0m\u001b[0;34m)\u001b[0m\u001b[0;34m\u001b[0m\u001b[0;34m\u001b[0m\u001b[0m\n\u001b[0;32m-> 1322\u001b[0;31m         return_value = get_return_value(\n\u001b[0m\u001b[1;32m   1323\u001b[0m             answer, self.gateway_client, self.target_id, self.name)\n\u001b[1;32m   1324\u001b[0m \u001b[0;34m\u001b[0m\u001b[0m\n",
            "\u001b[0;32m/usr/local/lib/python3.10/dist-packages/pyspark/errors/exceptions/captured.py\u001b[0m in \u001b[0;36mdeco\u001b[0;34m(*a, **kw)\u001b[0m\n\u001b[1;32m    173\u001b[0m                 \u001b[0;31m# Hide where the exception came from that shows a non-Pythonic\u001b[0m\u001b[0;34m\u001b[0m\u001b[0;34m\u001b[0m\u001b[0m\n\u001b[1;32m    174\u001b[0m                 \u001b[0;31m# JVM exception message.\u001b[0m\u001b[0;34m\u001b[0m\u001b[0;34m\u001b[0m\u001b[0m\n\u001b[0;32m--> 175\u001b[0;31m                 \u001b[0;32mraise\u001b[0m \u001b[0mconverted\u001b[0m \u001b[0;32mfrom\u001b[0m \u001b[0;32mNone\u001b[0m\u001b[0;34m\u001b[0m\u001b[0;34m\u001b[0m\u001b[0m\n\u001b[0m\u001b[1;32m    176\u001b[0m             \u001b[0;32melse\u001b[0m\u001b[0;34m:\u001b[0m\u001b[0;34m\u001b[0m\u001b[0;34m\u001b[0m\u001b[0m\n\u001b[1;32m    177\u001b[0m                 \u001b[0;32mraise\u001b[0m\u001b[0;34m\u001b[0m\u001b[0;34m\u001b[0m\u001b[0m\n",
            "\u001b[0;31mAnalysisException\u001b[0m: [PATH_NOT_FOUND] Path does not exist: file:/content/departamentos.parquet."
          ]
        }
      ]
    },
    {
      "cell_type": "markdown",
      "source": [
        "# Join"
      ],
      "metadata": {
        "id": "DvZ1nIHt7Zm2"
      }
    },
    {
      "cell_type": "code",
      "source": [
        "depa = departamentos.withColumn('num_dpto', col('id'))"
      ],
      "metadata": {
        "id": "lD0mQX2Mgpo8"
      },
      "execution_count": 83,
      "outputs": []
    },
    {
      "cell_type": "code",
      "source": [
        "depa.printSchema()\n",
        "departamentos.printSchema()"
      ],
      "metadata": {
        "id": "ZHMBn9eBhDMU",
        "outputId": "f5a117c0-d116-4f62-f60a-b3d8e8f46fb4",
        "colab": {
          "base_uri": "https://localhost:8080/"
        }
      },
      "execution_count": 84,
      "outputs": [
        {
          "output_type": "stream",
          "name": "stdout",
          "text": [
            "root\n",
            " |-- id: long (nullable = true)\n",
            " |-- nombre_dpto: string (nullable = true)\n",
            " |-- num_dpto: long (nullable = true)\n",
            "\n",
            "root\n",
            " |-- id: long (nullable = true)\n",
            " |-- nombre_dpto: string (nullable = true)\n",
            "\n"
          ]
        }
      ]
    },
    {
      "cell_type": "code",
      "source": [
        "empleados.join(depa, empleados.num_dpto == depa.num_dpto).show()"
      ],
      "metadata": {
        "id": "YJVHXIBBhIkm",
        "outputId": "79f6bd38-f66c-4eb0-bae3-200fe0fd8d57",
        "colab": {
          "base_uri": "https://localhost:8080/"
        }
      },
      "execution_count": 89,
      "outputs": [
        {
          "output_type": "stream",
          "name": "stdout",
          "text": [
            "+------+--------+---+-----------+--------+\n",
            "|nombre|num_dpto| id|nombre_dpto|num_dpto|\n",
            "+------+--------+---+-----------+--------+\n",
            "|Sandro|      31| 31|     letras|      31|\n",
            "| Katia|      33| 33|    derecho|      33|\n",
            "|  Luis|      33| 33|    derecho|      33|\n",
            "| Laura|      34| 34| matemática|      34|\n",
            "|  Raul|      34| 34| matemática|      34|\n",
            "+------+--------+---+-----------+--------+\n",
            "\n"
          ]
        }
      ]
    },
    {
      "cell_type": "code",
      "source": [
        "df2 = empleados.join(depa, 'num_dpto')"
      ],
      "metadata": {
        "id": "LyIC1jRMhQg1"
      },
      "execution_count": 90,
      "outputs": []
    },
    {
      "cell_type": "code",
      "source": [
        "df2.show()"
      ],
      "metadata": {
        "id": "Rmnc2SWTiafo",
        "outputId": "d2e83656-942a-4bfb-e29a-3c26ec2b0bea",
        "colab": {
          "base_uri": "https://localhost:8080/"
        }
      },
      "execution_count": 91,
      "outputs": [
        {
          "output_type": "stream",
          "name": "stdout",
          "text": [
            "+--------+------+---+-----------+\n",
            "|num_dpto|nombre| id|nombre_dpto|\n",
            "+--------+------+---+-----------+\n",
            "|      31|Sandro| 31|     letras|\n",
            "|      33| Katia| 33|    derecho|\n",
            "|      33|  Luis| 33|    derecho|\n",
            "|      34| Laura| 34| matemática|\n",
            "|      34|  Raul| 34| matemática|\n",
            "+--------+------+---+-----------+\n",
            "\n"
          ]
        }
      ]
    },
    {
      "cell_type": "code",
      "source": [
        "df3 = empleados.join(depa, ['num_dpto'])\n",
        "df3.show()"
      ],
      "metadata": {
        "id": "GjzZEQtZibSm",
        "outputId": "33ae1e48-7ad3-4c19-c4d0-42cf2e10d8f6",
        "colab": {
          "base_uri": "https://localhost:8080/"
        }
      },
      "execution_count": 92,
      "outputs": [
        {
          "output_type": "stream",
          "name": "stdout",
          "text": [
            "+--------+------+---+-----------+\n",
            "|num_dpto|nombre| id|nombre_dpto|\n",
            "+--------+------+---+-----------+\n",
            "|      31|Sandro| 31|     letras|\n",
            "|      33| Katia| 33|    derecho|\n",
            "|      33|  Luis| 33|    derecho|\n",
            "|      34| Laura| 34| matemática|\n",
            "|      34|  Raul| 34| matemática|\n",
            "+--------+------+---+-----------+\n",
            "\n"
          ]
        }
      ]
    },
    {
      "cell_type": "markdown",
      "source": [
        "# Shuffle Hash join\n"
      ],
      "metadata": {
        "id": "1i-Y5Yh2vPtd"
      }
    },
    {
      "cell_type": "code",
      "source": [
        "empleados.join(broadcast(departamentos), col('num_dpto') == col('id')).show()"
      ],
      "metadata": {
        "id": "cl3LJHYzi3Vv",
        "outputId": "46ad80aa-f9d6-4fcb-d70b-354712c68763",
        "colab": {
          "base_uri": "https://localhost:8080/"
        }
      },
      "execution_count": 5,
      "outputs": [
        {
          "output_type": "stream",
          "name": "stdout",
          "text": [
            "+------+--------+---+-----------+\n",
            "|nombre|num_dpto| id|nombre_dpto|\n",
            "+------+--------+---+-----------+\n",
            "|  Luis|      33| 33|    derecho|\n",
            "| Katia|      33| 33|    derecho|\n",
            "|  Raul|      34| 34| matemática|\n",
            "| Laura|      34| 34| matemática|\n",
            "|Sandro|      31| 31|     letras|\n",
            "+------+--------+---+-----------+\n",
            "\n"
          ]
        }
      ]
    },
    {
      "cell_type": "code",
      "source": [
        "empleados.join(broadcast(departamentos), col('num_dpto') == col('id')).explain()"
      ],
      "metadata": {
        "id": "1FSuD6KLxYUk",
        "outputId": "54ce9338-9c18-4e6e-bd89-5bd026949ef7",
        "colab": {
          "base_uri": "https://localhost:8080/"
        }
      },
      "execution_count": 6,
      "outputs": [
        {
          "output_type": "stream",
          "name": "stdout",
          "text": [
            "== Physical Plan ==\n",
            "AdaptiveSparkPlan isFinalPlan=false\n",
            "+- BroadcastHashJoin [num_dpto#5L], [id#0L], Inner, BuildRight, false\n",
            "   :- Filter isnotnull(num_dpto#5L)\n",
            "   :  +- FileScan parquet [nombre#4,num_dpto#5L] Batched: true, DataFilters: [isnotnull(num_dpto#5L)], Format: Parquet, Location: InMemoryFileIndex(1 paths)[file:/content/empleados.parquet], PartitionFilters: [], PushedFilters: [IsNotNull(num_dpto)], ReadSchema: struct<nombre:string,num_dpto:bigint>\n",
            "   +- BroadcastExchange HashedRelationBroadcastMode(List(input[0, bigint, false]),false), [plan_id=107]\n",
            "      +- Filter isnotnull(id#0L)\n",
            "         +- FileScan parquet [id#0L,nombre_dpto#1] Batched: true, DataFilters: [isnotnull(id#0L)], Format: Parquet, Location: InMemoryFileIndex(1 paths)[file:/content/departamentos.parquet], PartitionFilters: [], PushedFilters: [IsNotNull(id)], ReadSchema: struct<id:bigint,nombre_dpto:string>\n",
            "\n",
            "\n"
          ]
        }
      ]
    },
    {
      "cell_type": "markdown",
      "source": [],
      "metadata": {
        "id": "LTicmfNe_Fqx"
      }
    },
    {
      "cell_type": "markdown",
      "source": [
        "# EJERCICIO"
      ],
      "metadata": {
        "id": "PATfPfUI_Jwg"
      }
    },
    {
      "cell_type": "code",
      "source": [
        "players = spark.read.option('header','true').option('inferSchema','true').csv('players.csv')\n",
        "competitions = spark.read.option('header','true').option('inferSchema','true').csv('competitions.csv')\n",
        "games = spark.read.option('header','true').option('inferSchema','true').csv('games.csv')\n",
        "clubs = spark.read.option('header','true').option('inferSchema','true').csv('clubs.csv')\n",
        "appearances = spark.read.option('header','true').option('inferSchema','true').csv('appearances.csv')\n",
        "leagues = spark.read.option('header','true').option('inferSchema','true').csv('leagues.csv')"
      ],
      "metadata": {
        "id": "krllJQUE_LaI"
      },
      "execution_count": 22,
      "outputs": []
    },
    {
      "cell_type": "code",
      "source": [
        "players.printSchema()"
      ],
      "metadata": {
        "id": "DToz-613_byY",
        "outputId": "a23db396-1a85-436d-f9c5-b353efe98966",
        "colab": {
          "base_uri": "https://localhost:8080/"
        }
      },
      "execution_count": 5,
      "outputs": [
        {
          "output_type": "stream",
          "name": "stdout",
          "text": [
            "root\n",
            " |-- player_id: integer (nullable = true)\n",
            " |-- current_club_id: integer (nullable = true)\n",
            " |-- name: string (nullable = true)\n",
            " |-- pretty_name: string (nullable = true)\n",
            " |-- country_of_birth: string (nullable = true)\n",
            " |-- country_of_citizenship: string (nullable = true)\n",
            " |-- date_of_birth: date (nullable = true)\n",
            " |-- position: string (nullable = true)\n",
            " |-- sub_position: string (nullable = true)\n",
            " |-- foot: string (nullable = true)\n",
            " |-- height_in_cm: integer (nullable = true)\n",
            " |-- market_value_in_gbp: double (nullable = true)\n",
            " |-- highest_market_value_in_gbp: double (nullable = true)\n",
            " |-- url: string (nullable = true)\n",
            "\n"
          ]
        }
      ]
    },
    {
      "cell_type": "code",
      "source": [
        "players.show()"
      ],
      "metadata": {
        "id": "w8_2FXMB_fVO",
        "outputId": "13e90886-320e-4d4a-9973-4137cd77d314",
        "colab": {
          "base_uri": "https://localhost:8080/"
        }
      },
      "execution_count": 6,
      "outputs": [
        {
          "output_type": "stream",
          "name": "stdout",
          "text": [
            "+---------+---------------+--------------------+--------------------+----------------+----------------------+-------------+----------+------------------+-----+------------+-------------------+---------------------------+--------------------+\n",
            "|player_id|current_club_id|                name|         pretty_name|country_of_birth|country_of_citizenship|date_of_birth|  position|      sub_position| foot|height_in_cm|market_value_in_gbp|highest_market_value_in_gbp|                 url|\n",
            "+---------+---------------+--------------------+--------------------+----------------+----------------------+-------------+----------+------------------+-----+------------+-------------------+---------------------------+--------------------+\n",
            "|    38790|          28095|      dmitri-golubov|      Dmitri Golubov|           UdSSR|                Russia|   1985-06-24|    Attack|    Centre-Forward| Both|         178|               null|                   675000.0|https://www.trans...|\n",
            "|   106539|          28095|  aleksandr-vasiljev|  Aleksandr Vasiljev|          Russia|                Russia|   1992-01-23|    Attack|      Right Winger|Right|         182|               null|                   225000.0|https://www.trans...|\n",
            "|   164389|           2288|       rory-donnelly|       Rory Donnelly|Northern Ireland|      Northern Ireland|   1992-02-18|    Attack|    Centre-Forward|Right|         188|           113000.0|                   225000.0|https://www.trans...|\n",
            "|    45247|           1162|      damien-perquis|      Damien Perquis|          France|                France|   1986-03-08|Goalkeeper|        Goalkeeper|Right|         186|               null|                   900000.0|https://www.trans...|\n",
            "|    97205|          28095| nikita-bezlikhotnov| Nikita Bezlikhotnov|           UdSSR|                Russia|   1990-08-19|    Attack|      Right Winger|Right|         179|               null|                   675000.0|https://www.trans...|\n",
            "|    14962|           1177|         jesper-bech|         Jesper Bech|            null|               Denmark|   1982-05-25|  Midfield|  Central Midfield| Left|         177|               null|                  1130000.0|https://www.trans...|\n",
            "|   202836|             24|       yaffa-yusupha|       Yaffa Yusupha|      The Gambia|            The Gambia|   1996-12-31|    Attack|    Centre-Forward| null|           0|               null|                    90000.0|https://www.trans...|\n",
            "|    40027|           5818|       ruben-nygaard|       Ruben Nygaard|            null|               Denmark|   1986-05-25|    Attack|      Right Winger|Right|         175|               null|                   180000.0|https://www.trans...|\n",
            "|    62065|           5818|        dennis-hoegh|        Dennis Hoegh|         Denmark|               Denmark|   1989-02-21|  Midfield|Attacking Midfield|Right|         184|               null|                   225000.0|https://www.trans...|\n",
            "|   203899|            403|         stijn-derkx|         Stijn Derkx|     Netherlands|           Netherlands|   1995-02-03|    Attack|    Centre-Forward|Right|         182|               null|                    45000.0|https://www.trans...|\n",
            "|    48897|           1177|         ade-runsewe|         Ade Runsewe|            null|               Nigeria|   1989-12-01|    Attack|      Right Winger|Right|         176|               null|                   315000.0|https://www.trans...|\n",
            "|    23367|            862|       alessio-sestu|       Alessio Sestu|           Italy|                 Italy|   1983-09-29|    Attack|      Right Winger|Right|         177|               null|                   720000.0|https://www.trans...|\n",
            "|   107958|            862|      nicola-bellomo|      Nicola Bellomo|           Italy|                 Italy|   1991-02-18|  Midfield|Attacking Midfield|Right|         174|               null|                  1620000.0|https://www.trans...|\n",
            "|   103110|           5818| frederik-hammershoj| Frederik Hammershoj|            null|               Denmark|   1987-06-15|  Midfield|  Central Midfield| Left|           0|               null|                   135000.0|https://www.trans...|\n",
            "|    45185|            862|       tomasz-kupisz|       Tomasz Kupisz|          Poland|                Poland|   1990-01-02|  Midfield|    Right Midfield|Right|         180|               null|                   900000.0|https://www.trans...|\n",
            "|   334723|            800|       nicolas-napol|       Nicolas Napol|          France|               Belgium|   1996-04-03|    Attack|    Centre-Forward|Right|         186|               null|                    68000.0|https://www.trans...|\n",
            "|   176130|            800|     lorenzo-rosseti|     Lorenzo Rosseti|           Italy|                 Italy|   1994-08-05|    Attack|    Centre-Forward|Right|         182|               null|                  1080000.0|https://www.trans...|\n",
            "|    47769|           1177|    bjarni-vidarsson|    Bjarni Vidarsson|         Iceland|               Iceland|   1988-03-05|  Midfield|  Central Midfield| Both|         187|               null|                   900000.0|https://www.trans...|\n",
            "|    20726|            800|     rolando-bianchi|     Rolando Bianchi|           Italy|                 Italy|   1983-02-15|    Attack|    Centre-Forward|Right|         188|               null|                     1.17E7|https://www.trans...|\n",
            "|   287631|            276|pierluigi-cappell...|Pierluigi Cappell...|           Italy|                 Italy|   1996-06-09|    Attack|    Centre-Forward| Left|         186|               null|                   270000.0|https://www.trans...|\n",
            "+---------+---------------+--------------------+--------------------+----------------+----------------------+-------------+----------+------------------+-----+------------+-------------------+---------------------------+--------------------+\n",
            "only showing top 20 rows\n",
            "\n"
          ]
        }
      ]
    },
    {
      "cell_type": "code",
      "source": [
        "players.distinct().count()"
      ],
      "metadata": {
        "id": "CG8kKy-o_hp-",
        "outputId": "e8d3c5c7-299e-4e24-ac2e-fa3caf36d6f1",
        "colab": {
          "base_uri": "https://localhost:8080/"
        }
      },
      "execution_count": 7,
      "outputs": [
        {
          "output_type": "execute_result",
          "data": {
            "text/plain": [
              "22428"
            ]
          },
          "metadata": {},
          "execution_count": 7
        }
      ]
    },
    {
      "cell_type": "code",
      "source": [
        "players.count()"
      ],
      "metadata": {
        "id": "-nOk9DWuADhG",
        "outputId": "4f63fa82-8211-464e-bc0b-438641a8ec75",
        "colab": {
          "base_uri": "https://localhost:8080/"
        }
      },
      "execution_count": 8,
      "outputs": [
        {
          "output_type": "execute_result",
          "data": {
            "text/plain": [
              "22428"
            ]
          },
          "metadata": {},
          "execution_count": 8
        }
      ]
    },
    {
      "cell_type": "code",
      "source": [
        "# Determine los tres países con mayor número de jugadores(jugadores nacidos en ese país).\n",
        "# El resultado debe estar ordenado de forma descendente.\n",
        "\n",
        "players.groupBy('country_of_birth').agg(count('country_of_birth').alias('players_count')).orderBy(desc('players_count')).show(3)"
      ],
      "metadata": {
        "id": "GXWotyjrAF4s",
        "outputId": "0b8b1a5e-47a2-4ff6-b20d-9849d9170b2e",
        "colab": {
          "base_uri": "https://localhost:8080/"
        }
      },
      "execution_count": 16,
      "outputs": [
        {
          "output_type": "stream",
          "name": "stdout",
          "text": [
            "+----------------+-------------+\n",
            "|country_of_birth|players_count|\n",
            "+----------------+-------------+\n",
            "|          France|         1694|\n",
            "|           Spain|         1388|\n",
            "|           Italy|         1312|\n",
            "+----------------+-------------+\n",
            "only showing top 3 rows\n",
            "\n"
          ]
        }
      ]
    },
    {
      "cell_type": "code",
      "source": [
        "# Obtenga la lista de jugadores con tarjeta roja. La salida debe contener dos columnas,\n",
        "# el nombre de pila del jugador y la cantidad de tarjetas rojas que tiene.\n",
        "\n",
        "players.join(appearances, 'player_id').\\\n",
        "filter(col('red_cards') > 0).\\\n",
        "groupBy(\n",
        "    'pretty_name').\\\n",
        "    agg(\n",
        "        count('red_cards').alias('count_red_cards')\n",
        "        ).\\\n",
        "orderBy(desc('count_red_cards')).\\\n",
        "show()"
      ],
      "metadata": {
        "id": "okeYDTb-APSp",
        "outputId": "deb5938e-6c43-4c5d-9e13-20138a57480d",
        "colab": {
          "base_uri": "https://localhost:8080/"
        }
      },
      "execution_count": 32,
      "outputs": [
        {
          "output_type": "stream",
          "name": "stdout",
          "text": [
            "+--------------------+---------------+\n",
            "|         pretty_name|count_red_cards|\n",
            "+--------------------+---------------+\n",
            "|             Marcelo|              6|\n",
            "|    Domenico Berardi|              5|\n",
            "|             Rodrigo|              5|\n",
            "|        Granit Xhaka|              5|\n",
            "|          Thomas Lam|              5|\n",
            "|     Mario Balotelli|              5|\n",
            "|              Hilton|              5|\n",
            "|          Joao Pedro|              4|\n",
            "|          David Luiz|              4|\n",
            "|      Rafik Halliche|              4|\n",
            "|   Kalidou Koulibaly|              4|\n",
            "|          Ante Rebic|              4|\n",
            "|     Yannick Cahuzac|              4|\n",
            "|     Damien Da Silva|              4|\n",
            "|       Ramon Leeuwin|              4|\n",
            "|Timothee Kolodzie...|              4|\n",
            "|     Roberto Soriano|              4|\n",
            "|     Rodrigo De Paul|              4|\n",
            "|         Ivan Ordets|              4|\n",
            "|     Stefan Mitrovic|              4|\n",
            "+--------------------+---------------+\n",
            "only showing top 20 rows\n",
            "\n"
          ]
        }
      ]
    },
    {
      "cell_type": "code",
      "source": [
        "# ¿Cuántos juegos se jugaron en la Premier League? La salida debe contener dos columnas,\n",
        "# el nombre de la liga y la cantidad de juegos que se jugaron en ella.\n",
        "\n",
        "gam_comp = games.join(competitions, col('competition_id') == col('competition_code'))"
      ],
      "metadata": {
        "id": "767nMtq0LsSg"
      },
      "execution_count": 106,
      "outputs": []
    },
    {
      "cell_type": "code",
      "source": [
        "gam_comp.filter(col('name') == 'premier-league').groupBy('name').agg(count('game_id').alias('juegos_jugados')).show()"
      ],
      "metadata": {
        "id": "_TpsOnKQ0Hhf",
        "outputId": "8e98a9bb-188b-4990-e05c-2921dc6c272c",
        "colab": {
          "base_uri": "https://localhost:8080/"
        }
      },
      "execution_count": 112,
      "outputs": [
        {
          "output_type": "stream",
          "name": "stdout",
          "text": [
            "+--------------+--------------+\n",
            "|          name|juegos_jugados|\n",
            "+--------------+--------------+\n",
            "|premier-league|          2809|\n",
            "+--------------+--------------+\n",
            "\n"
          ]
        }
      ]
    },
    {
      "cell_type": "code",
      "source": [
        "# Obtenga las tres ligas con mayor número de asistencia de público teniendo en cuenta todos los juegos que se jugaron en ellas.\n",
        "# El resultado debe estar ordenado de forma descendente y tener dos columnas, el nombre de la liga y la asistencia total.\n",
        "\n",
        "gam_comp.groupBy('name').agg(sum('attendance').alias('audiencia')).orderBy(desc('audiencia')).limit(3).show()"
      ],
      "metadata": {
        "id": "0QoeOCK7VzbR",
        "outputId": "ce08385d-bcd4-4796-a0d8-28959958dc49",
        "colab": {
          "base_uri": "https://localhost:8080/"
        }
      },
      "execution_count": 115,
      "outputs": [
        {
          "output_type": "stream",
          "name": "stdout",
          "text": [
            "+--------------+---------+\n",
            "|          name|audiencia|\n",
            "+--------------+---------+\n",
            "|premier-league| 86964852|\n",
            "|    bundesliga| 78102473|\n",
            "|        laliga| 62943533|\n",
            "+--------------+---------+\n",
            "\n"
          ]
        }
      ]
    },
    {
      "cell_type": "code",
      "source": [
        "competitions.show()"
      ],
      "metadata": {
        "id": "OQvPFE6b2XKm",
        "outputId": "e3595e53-e3f4-475a-cfc9-8aeb60bfe42a",
        "colab": {
          "base_uri": "https://localhost:8080/"
        }
      },
      "execution_count": 116,
      "outputs": [
        {
          "output_type": "stream",
          "name": "stdout",
          "text": [
            "+--------------+--------------------+------------------+----------+------------+--------------------+-------------+--------------------+\n",
            "|competition_id|                name|              type|country_id|country_name|domestic_league_code|confederation|                 url|\n",
            "+--------------+--------------------+------------------+----------+------------+--------------------+-------------+--------------------+\n",
            "|            L1|          bundesliga|        first_tier|        40|     Germany|                  L1|       europa|https://www.trans...|\n",
            "|           DFB|           dfb-pokal|      domestic_cup|        40|     Germany|                  L1|       europa|https://www.trans...|\n",
            "|           DFL|        dfl-supercup|domestic_super_cup|        40|     Germany|                  L1|       europa|https://www.trans...|\n",
            "|           NL1|          eredivisie|        first_tier|       122| Netherlands|                 NL1|       europa|https://www.trans...|\n",
            "|           NLP|     toto-knvb-beker|      domestic_cup|       122| Netherlands|                 NL1|       europa|https://www.trans...|\n",
            "|          NLSC|johan-cruijff-schaal|domestic_super_cup|       122| Netherlands|                 NL1|       europa|https://www.trans...|\n",
            "|           BE1|  jupiler-pro-league|        first_tier|        19|     Belgium|                 BE1|       europa|https://www.trans...|\n",
            "|          BESC|    belgian-supercup|domestic_super_cup|        19|     Belgium|                 BE1|       europa|https://www.trans...|\n",
            "|           ES1|              laliga|        first_tier|       157|       Spain|                 ES1|       europa|https://www.trans...|\n",
            "|           CDR|        copa-del-rey|      domestic_cup|       157|       Spain|                 ES1|       europa|https://www.trans...|\n",
            "|           SUC|           supercopa|domestic_super_cup|       157|       Spain|                 ES1|       europa|https://www.trans...|\n",
            "|           PO1|  liga-portugal-bwin|        first_tier|       136|    Portugal|                 PO1|       europa|https://www.trans...|\n",
            "|          POCP|         allianz-cup|      domestic_cup|       136|    Portugal|                 PO1|       europa|https://www.trans...|\n",
            "|          POSU|supertaca-candido...|domestic_super_cup|       136|    Portugal|                 PO1|       europa|https://www.trans...|\n",
            "|           FR1|             ligue-1|        first_tier|        50|      France|                 FR1|       europa|https://www.trans...|\n",
            "|          FRCH|trophee-des-champ...|domestic_super_cup|        50|      France|                 FR1|       europa|https://www.trans...|\n",
            "|           GB1|      premier-league|        first_tier|       189|     England|                 GB1|       europa|https://www.trans...|\n",
            "|           CGB|             efl-cup|      domestic_cup|       189|     England|                 GB1|       europa|https://www.trans...|\n",
            "|          GBCS|    community-shield|domestic_super_cup|       189|     England|                 GB1|       europa|https://www.trans...|\n",
            "|           RU1|        premier-liga|        first_tier|       141|      Russia|                 RU1|       europa|https://www.trans...|\n",
            "+--------------+--------------------+------------------+----------+------------+--------------------+-------------+--------------------+\n",
            "only showing top 20 rows\n",
            "\n"
          ]
        }
      ]
    },
    {
      "cell_type": "code",
      "source": [],
      "metadata": {
        "id": "mQIUoH0d3GF3"
      },
      "execution_count": null,
      "outputs": []
    }
  ],
  "metadata": {
    "kernelspec": {
      "display_name": "Python 3 (ipykernel)",
      "language": "python",
      "name": "python3"
    },
    "language_info": {
      "codemirror_mode": {
        "name": "ipython",
        "version": 3
      },
      "file_extension": ".py",
      "mimetype": "text/x-python",
      "name": "python",
      "nbconvert_exporter": "python",
      "pygments_lexer": "ipython3",
      "version": "3.8.12"
    },
    "colab": {
      "provenance": []
    }
  },
  "nbformat": 4,
  "nbformat_minor": 0
}