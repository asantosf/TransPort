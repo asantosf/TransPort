{
  "cells": [
    {
      "cell_type": "markdown",
      "source": [
        "# Inicio"
      ],
      "metadata": {
        "id": "SepfUcyBsNVM"
      }
    },
    {
      "cell_type": "code",
      "source": [
        "!pip install findspark\n",
        "!pip install pyspark\n",
        "!pip install spark"
      ],
      "metadata": {
        "id": "PLluq_jTsLLm",
        "outputId": "1ccfa91c-f0f9-4433-a7f4-9ef7548c3f3b",
        "colab": {
          "base_uri": "https://localhost:8080/"
        }
      },
      "execution_count": 1,
      "outputs": [
        {
          "output_type": "stream",
          "name": "stdout",
          "text": [
            "Collecting findspark\n",
            "  Downloading findspark-2.0.1-py2.py3-none-any.whl (4.4 kB)\n",
            "Installing collected packages: findspark\n",
            "Successfully installed findspark-2.0.1\n",
            "Collecting pyspark\n",
            "  Downloading pyspark-3.4.1.tar.gz (310.8 MB)\n",
            "\u001b[2K     \u001b[90m━━━━━━━━━━━━━━━━━━━━━━━━━━━━━━━━━━━━━━━\u001b[0m \u001b[32m310.8/310.8 MB\u001b[0m \u001b[31m3.5 MB/s\u001b[0m eta \u001b[36m0:00:00\u001b[0m\n",
            "\u001b[?25h  Preparing metadata (setup.py) ... \u001b[?25l\u001b[?25hdone\n",
            "Requirement already satisfied: py4j==0.10.9.7 in /usr/local/lib/python3.10/dist-packages (from pyspark) (0.10.9.7)\n",
            "Building wheels for collected packages: pyspark\n",
            "  Building wheel for pyspark (setup.py) ... \u001b[?25l\u001b[?25hdone\n",
            "  Created wheel for pyspark: filename=pyspark-3.4.1-py2.py3-none-any.whl size=311285387 sha256=69ac542ea12659b9b98ec116d9dc83d990bd8819b91f38e1974ab1adb66d193b\n",
            "  Stored in directory: /root/.cache/pip/wheels/0d/77/a3/ff2f74cc9ab41f8f594dabf0579c2a7c6de920d584206e0834\n",
            "Successfully built pyspark\n",
            "Installing collected packages: pyspark\n",
            "Successfully installed pyspark-3.4.1\n",
            "Collecting spark\n",
            "  Downloading spark-0.2.1.tar.gz (41 kB)\n",
            "\u001b[2K     \u001b[90m━━━━━━━━━━━━━━━━━━━━━━━━━━━━━━━━━━━━━━━━\u001b[0m \u001b[32m41.0/41.0 kB\u001b[0m \u001b[31m1.1 MB/s\u001b[0m eta \u001b[36m0:00:00\u001b[0m\n",
            "\u001b[?25h  Preparing metadata (setup.py) ... \u001b[?25l\u001b[?25hdone\n",
            "Building wheels for collected packages: spark\n",
            "  Building wheel for spark (setup.py) ... \u001b[?25l\u001b[?25hdone\n",
            "  Created wheel for spark: filename=spark-0.2.1-py3-none-any.whl size=58748 sha256=956096e5a28fde43ec4aefe24eb32d993c7ff6ad0538a51db51d64e09200b040\n",
            "  Stored in directory: /root/.cache/pip/wheels/63/88/77/b4131110ea4094540f7b47c6d62a649807d7e94800da5eab0b\n",
            "Successfully built spark\n",
            "Installing collected packages: spark\n",
            "Successfully installed spark-0.2.1\n"
          ]
        }
      ]
    },
    {
      "cell_type": "code",
      "source": [
        "import pyspark\n",
        "import findspark\n",
        "import spark\n",
        "\n",
        "findspark.init()\n",
        "\n",
        "from pyspark.sql import SparkSession\n",
        "from pyspark.sql.functions import *\n",
        "\n",
        "spark = SparkSession.builder.getOrCreate()"
      ],
      "metadata": {
        "id": "Cc8bMLK2uT4k"
      },
      "execution_count": 2,
      "outputs": []
    },
    {
      "cell_type": "code",
      "source": [
        "departamentos = spark.read.parquet('departamentos.parquet')\n",
        "empleados = spark.read.parquet('empleados.parquet')"
      ],
      "metadata": {
        "id": "YCUuxAUNOD9T"
      },
      "execution_count": 3,
      "outputs": []
    },
    {
      "cell_type": "code",
      "source": [
        "departamentos.show()"
      ],
      "metadata": {
        "id": "eZWXPLm0YR1S",
        "outputId": "ecfb70bb-aaca-4bf2-afb4-3c5c4c504bba",
        "colab": {
          "base_uri": "https://localhost:8080/"
        }
      },
      "execution_count": 5,
      "outputs": [
        {
          "output_type": "stream",
          "name": "stdout",
          "text": [
            "+---+-----------+\n",
            "| id|nombre_dpto|\n",
            "+---+-----------+\n",
            "| 31|     letras|\n",
            "| 33|    derecho|\n",
            "| 34| matemática|\n",
            "| 35|informática|\n",
            "+---+-----------+\n",
            "\n"
          ]
        }
      ]
    },
    {
      "cell_type": "code",
      "source": [
        "empleados.show()"
      ],
      "metadata": {
        "id": "6V4oemYIYVtO",
        "outputId": "d193ac63-6f9d-4e35-f812-4b31291b1840",
        "colab": {
          "base_uri": "https://localhost:8080/"
        }
      },
      "execution_count": 6,
      "outputs": [
        {
          "output_type": "stream",
          "name": "stdout",
          "text": [
            "+------+--------+\n",
            "|nombre|num_dpto|\n",
            "+------+--------+\n",
            "|  Luis|      33|\n",
            "| Katia|      33|\n",
            "|  Raul|      34|\n",
            "| Pedro|       0|\n",
            "| Laura|      34|\n",
            "|Sandro|      31|\n",
            "+------+--------+\n",
            "\n"
          ]
        }
      ]
    },
    {
      "cell_type": "markdown",
      "source": [
        "# Inner join"
      ],
      "metadata": {
        "id": "ipVmnpHlYqPe"
      }
    },
    {
      "cell_type": "code",
      "source": [
        "empleados.join(departamentos, departamentos['id'] == empleados['num_dpto']).show()"
      ],
      "metadata": {
        "id": "GsvZ3lCvYZGO",
        "outputId": "0e85102f-5969-4e28-9e0c-25f7cb6dc42a",
        "colab": {
          "base_uri": "https://localhost:8080/"
        }
      },
      "execution_count": 7,
      "outputs": [
        {
          "output_type": "stream",
          "name": "stdout",
          "text": [
            "+------+--------+---+-----------+\n",
            "|nombre|num_dpto| id|nombre_dpto|\n",
            "+------+--------+---+-----------+\n",
            "|  Luis|      33| 33|    derecho|\n",
            "| Katia|      33| 33|    derecho|\n",
            "|  Raul|      34| 34| matemática|\n",
            "| Laura|      34| 34| matemática|\n",
            "|Sandro|      31| 31|     letras|\n",
            "+------+--------+---+-----------+\n",
            "\n"
          ]
        }
      ]
    },
    {
      "cell_type": "markdown",
      "source": [
        "# Left join"
      ],
      "metadata": {
        "id": "9_LMVpdKZubI"
      }
    },
    {
      "cell_type": "code",
      "source": [
        "empleados.join(departamentos, col('id') == col('num_dpto'), 'left').show()"
      ],
      "metadata": {
        "id": "vuPe9k-qYkVW",
        "outputId": "e23dfa97-f809-46fe-cba9-af94900c5af3",
        "colab": {
          "base_uri": "https://localhost:8080/"
        }
      },
      "execution_count": 11,
      "outputs": [
        {
          "output_type": "stream",
          "name": "stdout",
          "text": [
            "+------+--------+----+-----------+\n",
            "|nombre|num_dpto|  id|nombre_dpto|\n",
            "+------+--------+----+-----------+\n",
            "|  Luis|      33|  33|    derecho|\n",
            "| Katia|      33|  33|    derecho|\n",
            "|  Raul|      34|  34| matemática|\n",
            "| Pedro|       0|null|       null|\n",
            "| Laura|      34|  34| matemática|\n",
            "|Sandro|      31|  31|     letras|\n",
            "+------+--------+----+-----------+\n",
            "\n"
          ]
        }
      ]
    },
    {
      "cell_type": "markdown",
      "source": [
        "# right join"
      ],
      "metadata": {
        "id": "6JAv9G4qZyPh"
      }
    },
    {
      "cell_type": "code",
      "source": [
        "empleados.join(departamentos, col('num_dpto') == col('id'), 'right').show()"
      ],
      "metadata": {
        "id": "ABwbe8k5Ywwe",
        "outputId": "0196bb61-9b4e-40bc-f8d2-eef28df089de",
        "colab": {
          "base_uri": "https://localhost:8080/"
        }
      },
      "execution_count": 16,
      "outputs": [
        {
          "output_type": "stream",
          "name": "stdout",
          "text": [
            "+------+--------+---+-----------+\n",
            "|nombre|num_dpto| id|nombre_dpto|\n",
            "+------+--------+---+-----------+\n",
            "|Sandro|      31| 31|     letras|\n",
            "| Katia|      33| 33|    derecho|\n",
            "|  Luis|      33| 33|    derecho|\n",
            "| Laura|      34| 34| matemática|\n",
            "|  Raul|      34| 34| matemática|\n",
            "|  null|    null| 35|informática|\n",
            "+------+--------+---+-----------+\n",
            "\n"
          ]
        }
      ]
    },
    {
      "cell_type": "markdown",
      "source": [
        "# full outer join"
      ],
      "metadata": {
        "id": "v2yWZLy8dDLH"
      }
    },
    {
      "cell_type": "code",
      "source": [
        "empleados.join(departamentos, col('num_dpto') == col('id'), 'full').show()"
      ],
      "metadata": {
        "id": "ETnB3xLvZ8D6",
        "outputId": "73c900ab-05d0-45b8-e0eb-4339d3f7d851",
        "colab": {
          "base_uri": "https://localhost:8080/"
        }
      },
      "execution_count": 17,
      "outputs": [
        {
          "output_type": "stream",
          "name": "stdout",
          "text": [
            "+------+--------+----+-----------+\n",
            "|nombre|num_dpto|  id|nombre_dpto|\n",
            "+------+--------+----+-----------+\n",
            "| Pedro|       0|null|       null|\n",
            "|Sandro|      31|  31|     letras|\n",
            "|  Luis|      33|  33|    derecho|\n",
            "| Katia|      33|  33|    derecho|\n",
            "|  Raul|      34|  34| matemática|\n",
            "| Laura|      34|  34| matemática|\n",
            "|  null|    null|  35|informática|\n",
            "+------+--------+----+-----------+\n",
            "\n"
          ]
        }
      ]
    },
    {
      "cell_type": "markdown",
      "source": [
        "#left anti join"
      ],
      "metadata": {
        "id": "zmb-KsFZdxHX"
      }
    },
    {
      "cell_type": "code",
      "source": [
        "empleados.join(departamentos, col('num_dpto') == col('id'), 'leftanti').show()"
      ],
      "metadata": {
        "id": "6EMovvXndN1P",
        "outputId": "e0d08a3b-d3d3-4c10-d3cf-2b77481f38da",
        "colab": {
          "base_uri": "https://localhost:8080/"
        }
      },
      "execution_count": 18,
      "outputs": [
        {
          "output_type": "stream",
          "name": "stdout",
          "text": [
            "+------+--------+\n",
            "|nombre|num_dpto|\n",
            "+------+--------+\n",
            "| Pedro|       0|\n",
            "+------+--------+\n",
            "\n"
          ]
        }
      ]
    },
    {
      "cell_type": "code",
      "source": [
        "departamentos.join(empleados, col('num_dpto') == col('id'), 'anti').show()"
      ],
      "metadata": {
        "id": "SHFZ9wzad2wv",
        "outputId": "a8464b80-de67-421c-be86-9f7630dfc59a",
        "colab": {
          "base_uri": "https://localhost:8080/"
        }
      },
      "execution_count": 22,
      "outputs": [
        {
          "output_type": "stream",
          "name": "stdout",
          "text": [
            "+---+-----------+\n",
            "| id|nombre_dpto|\n",
            "+---+-----------+\n",
            "| 35|informática|\n",
            "+---+-----------+\n",
            "\n"
          ]
        }
      ]
    },
    {
      "cell_type": "markdown",
      "source": [
        "# left semi join"
      ],
      "metadata": {
        "id": "d4zw_lsAexEg"
      }
    },
    {
      "cell_type": "code",
      "source": [
        "empleados.join(departamentos, col('num_dpto') == col('id'), 'semi').show()"
      ],
      "metadata": {
        "id": "iItN9WkuewUR",
        "outputId": "9a214170-5518-4487-d8e3-dca90c90238a",
        "colab": {
          "base_uri": "https://localhost:8080/"
        }
      },
      "execution_count": 23,
      "outputs": [
        {
          "output_type": "stream",
          "name": "stdout",
          "text": [
            "+------+--------+\n",
            "|nombre|num_dpto|\n",
            "+------+--------+\n",
            "|  Luis|      33|\n",
            "| Katia|      33|\n",
            "|  Raul|      34|\n",
            "| Laura|      34|\n",
            "|Sandro|      31|\n",
            "+------+--------+\n",
            "\n"
          ]
        }
      ]
    },
    {
      "cell_type": "code",
      "source": [
        "departamentos.join(empleados, col('num_dpto') == col('id'), 'semi').show()"
      ],
      "metadata": {
        "id": "7xnxPqxze1G4",
        "outputId": "df356b87-531d-4f0b-caec-1d6fec016797",
        "colab": {
          "base_uri": "https://localhost:8080/"
        }
      },
      "execution_count": 24,
      "outputs": [
        {
          "output_type": "stream",
          "name": "stdout",
          "text": [
            "+---+-----------+\n",
            "| id|nombre_dpto|\n",
            "+---+-----------+\n",
            "| 31|     letras|\n",
            "| 33|    derecho|\n",
            "| 34| matemática|\n",
            "+---+-----------+\n",
            "\n"
          ]
        }
      ]
    },
    {
      "cell_type": "markdown",
      "source": [
        "# cross"
      ],
      "metadata": {
        "id": "-cxDG5eyfeoc"
      }
    },
    {
      "cell_type": "code",
      "source": [
        "cross_join = empleados.crossJoin(departamentos)"
      ],
      "metadata": {
        "id": "uiIcPoKIe5fI"
      },
      "execution_count": 26,
      "outputs": []
    },
    {
      "cell_type": "code",
      "source": [
        "cross_join.show()"
      ],
      "metadata": {
        "id": "_HnMoDLJfhmK",
        "outputId": "9326599b-520c-4733-da8b-8854e2a2781f",
        "colab": {
          "base_uri": "https://localhost:8080/"
        }
      },
      "execution_count": 27,
      "outputs": [
        {
          "output_type": "stream",
          "name": "stdout",
          "text": [
            "+------+--------+---+-----------+\n",
            "|nombre|num_dpto| id|nombre_dpto|\n",
            "+------+--------+---+-----------+\n",
            "|  Luis|      33| 31|     letras|\n",
            "|  Luis|      33| 33|    derecho|\n",
            "|  Luis|      33| 34| matemática|\n",
            "|  Luis|      33| 35|informática|\n",
            "| Katia|      33| 31|     letras|\n",
            "| Katia|      33| 33|    derecho|\n",
            "| Katia|      33| 34| matemática|\n",
            "| Katia|      33| 35|informática|\n",
            "|  Raul|      34| 31|     letras|\n",
            "|  Raul|      34| 33|    derecho|\n",
            "|  Raul|      34| 34| matemática|\n",
            "|  Raul|      34| 35|informática|\n",
            "| Pedro|       0| 31|     letras|\n",
            "| Pedro|       0| 33|    derecho|\n",
            "| Pedro|       0| 34| matemática|\n",
            "| Pedro|       0| 35|informática|\n",
            "| Laura|      34| 31|     letras|\n",
            "| Laura|      34| 33|    derecho|\n",
            "| Laura|      34| 34| matemática|\n",
            "| Laura|      34| 35|informática|\n",
            "+------+--------+---+-----------+\n",
            "only showing top 20 rows\n",
            "\n"
          ]
        }
      ]
    },
    {
      "cell_type": "code",
      "source": [
        "cross_join.count()"
      ],
      "metadata": {
        "id": "4inpdHQNfxyi",
        "outputId": "5a77044b-20e8-49f2-a086-d7c35953d187",
        "colab": {
          "base_uri": "https://localhost:8080/"
        }
      },
      "execution_count": 28,
      "outputs": [
        {
          "output_type": "execute_result",
          "data": {
            "text/plain": [
              "24"
            ]
          },
          "metadata": {},
          "execution_count": 28
        }
      ]
    },
    {
      "cell_type": "code",
      "source": [],
      "metadata": {
        "id": "1hnFUeYYf-Di"
      },
      "execution_count": null,
      "outputs": []
    }
  ],
  "metadata": {
    "kernelspec": {
      "display_name": "Python 3 (ipykernel)",
      "language": "python",
      "name": "python3"
    },
    "language_info": {
      "codemirror_mode": {
        "name": "ipython",
        "version": 3
      },
      "file_extension": ".py",
      "mimetype": "text/x-python",
      "name": "python",
      "nbconvert_exporter": "python",
      "pygments_lexer": "ipython3",
      "version": "3.8.12"
    },
    "colab": {
      "provenance": []
    }
  },
  "nbformat": 4,
  "nbformat_minor": 0
}