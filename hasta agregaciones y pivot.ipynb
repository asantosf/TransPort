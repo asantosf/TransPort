{
  "cells": [
    {
      "cell_type": "code",
      "source": [
        "!pip install findspark\n",
        "!pip install pyspark\n",
        "!pip install spark"
      ],
      "metadata": {
        "id": "rqzGafdhHxA0",
        "outputId": "bd8606a3-d3f4-4da8-d171-34273037460a",
        "colab": {
          "base_uri": "https://localhost:8080/"
        }
      },
      "execution_count": 1,
      "outputs": [
        {
          "output_type": "stream",
          "name": "stdout",
          "text": [
            "Collecting findspark\n",
            "  Downloading findspark-2.0.1-py2.py3-none-any.whl (4.4 kB)\n",
            "Installing collected packages: findspark\n",
            "Successfully installed findspark-2.0.1\n",
            "Collecting pyspark\n",
            "  Downloading pyspark-3.4.1.tar.gz (310.8 MB)\n",
            "\u001b[2K     \u001b[90m━━━━━━━━━━━━━━━━━━━━━━━━━━━━━━━━━━━━━━━\u001b[0m \u001b[32m310.8/310.8 MB\u001b[0m \u001b[31m4.9 MB/s\u001b[0m eta \u001b[36m0:00:00\u001b[0m\n",
            "\u001b[?25h  Preparing metadata (setup.py) ... \u001b[?25l\u001b[?25hdone\n",
            "Requirement already satisfied: py4j==0.10.9.7 in /usr/local/lib/python3.10/dist-packages (from pyspark) (0.10.9.7)\n",
            "Building wheels for collected packages: pyspark\n",
            "  Building wheel for pyspark (setup.py) ... \u001b[?25l\u001b[?25hdone\n",
            "  Created wheel for pyspark: filename=pyspark-3.4.1-py2.py3-none-any.whl size=311285387 sha256=4ebc868436af1c472696fb013f5605c6a52d3ba3547d26d4f8dddda0572f69cb\n",
            "  Stored in directory: /root/.cache/pip/wheels/0d/77/a3/ff2f74cc9ab41f8f594dabf0579c2a7c6de920d584206e0834\n",
            "Successfully built pyspark\n",
            "Installing collected packages: pyspark\n",
            "Successfully installed pyspark-3.4.1\n",
            "Collecting spark\n",
            "  Downloading spark-0.2.1.tar.gz (41 kB)\n",
            "\u001b[2K     \u001b[90m━━━━━━━━━━━━━━━━━━━━━━━━━━━━━━━━━━━━━━━━\u001b[0m \u001b[32m41.0/41.0 kB\u001b[0m \u001b[31m1.4 MB/s\u001b[0m eta \u001b[36m0:00:00\u001b[0m\n",
            "\u001b[?25h  Preparing metadata (setup.py) ... \u001b[?25l\u001b[?25hdone\n",
            "Building wheels for collected packages: spark\n",
            "  Building wheel for spark (setup.py) ... \u001b[?25l\u001b[?25hdone\n",
            "  Created wheel for spark: filename=spark-0.2.1-py3-none-any.whl size=58748 sha256=5358fd4e7e798719d61c3e07777cca63daa1859a0ce5b3e118acb5d596726c59\n",
            "  Stored in directory: /root/.cache/pip/wheels/63/88/77/b4131110ea4094540f7b47c6d62a649807d7e94800da5eab0b\n",
            "Successfully built spark\n",
            "Installing collected packages: spark\n",
            "Successfully installed spark-0.2.1\n"
          ]
        }
      ]
    },
    {
      "cell_type": "code",
      "source": [
        "import pyspark\n",
        "import findspark\n",
        "import spark\n",
        "\n",
        "findspark.init()\n",
        "\n",
        "from pyspark.sql import SparkSession\n",
        "from pyspark.sql.functions import *\n",
        "\n",
        "spark = SparkSession.builder.getOrCreate()"
      ],
      "metadata": {
        "id": "Cc8bMLK2uT4k"
      },
      "execution_count": 2,
      "outputs": []
    },
    {
      "cell_type": "code",
      "source": [
        "df = spark.read.parquet('dataframe.parquet')"
      ],
      "metadata": {
        "id": "Q5RsPVicaSTV"
      },
      "execution_count": 15,
      "outputs": []
    },
    {
      "cell_type": "markdown",
      "source": [
        "# Particiones y almacenado en archivo"
      ],
      "metadata": {
        "id": "hC2Tnleu0_lx"
      }
    },
    {
      "cell_type": "code",
      "source": [
        "df1 = df.repartition(2)"
      ],
      "metadata": {
        "id": "r4QvH0d1uFYK"
      },
      "execution_count": 18,
      "outputs": []
    },
    {
      "cell_type": "code",
      "source": [
        "df1.write.format('csv').option('sep', '|').save('./output/csv')"
      ],
      "metadata": {
        "id": "FWay-V1Bu9s-"
      },
      "execution_count": 20,
      "outputs": []
    },
    {
      "cell_type": "code",
      "source": [
        "df1.coalesce(1).write.format('csv').option('sep', '|').save('./output/csv1')"
      ],
      "metadata": {
        "id": "1A3GlsswvadW"
      },
      "execution_count": 21,
      "outputs": []
    },
    {
      "cell_type": "code",
      "source": [
        "df.printSchema()"
      ],
      "metadata": {
        "id": "wMFXLAScwLG3",
        "outputId": "18355678-35db-45f9-f702-a723a0854419",
        "colab": {
          "base_uri": "https://localhost:8080/"
        }
      },
      "execution_count": 22,
      "outputs": [
        {
          "output_type": "stream",
          "name": "stdout",
          "text": [
            "root\n",
            " |-- video_id: string (nullable = true)\n",
            " |-- trending_date: string (nullable = true)\n",
            " |-- title: string (nullable = true)\n",
            " |-- channel_title: string (nullable = true)\n",
            " |-- category_id: string (nullable = true)\n",
            " |-- publish_time: string (nullable = true)\n",
            " |-- tags: string (nullable = true)\n",
            " |-- views: string (nullable = true)\n",
            " |-- likes: string (nullable = true)\n",
            " |-- dislikes: string (nullable = true)\n",
            " |-- comment_count: string (nullable = true)\n",
            " |-- thumbnail_link: string (nullable = true)\n",
            " |-- comments_disabled: string (nullable = true)\n",
            " |-- ratings_disabled: string (nullable = true)\n",
            " |-- video_error_or_removed: string (nullable = true)\n",
            " |-- description: string (nullable = true)\n",
            "\n"
          ]
        }
      ]
    },
    {
      "cell_type": "code",
      "source": [
        "df.select('comments_disabled').distinct().show()"
      ],
      "metadata": {
        "id": "J5pG9aHtxPU_",
        "outputId": "9c02af40-8c7b-4349-ca35-68b1bd45b925",
        "colab": {
          "base_uri": "https://localhost:8080/"
        }
      },
      "execution_count": 24,
      "outputs": [
        {
          "output_type": "stream",
          "name": "stdout",
          "text": [
            "+-----------------+\n",
            "|comments_disabled|\n",
            "+-----------------+\n",
            "|            False|\n",
            "|             null|\n",
            "| sports and more.|\n",
            "|          Wiz Kid|\n",
            "|             True|\n",
            "|         farfalle|\n",
            "+-----------------+\n",
            "\n"
          ]
        }
      ]
    },
    {
      "cell_type": "code",
      "source": [
        "df_limpio = df.filter(col('comments_disabled').isin('False', 'True'))"
      ],
      "metadata": {
        "id": "mU9LIUd1xWgv"
      },
      "execution_count": 27,
      "outputs": []
    },
    {
      "cell_type": "code",
      "source": [
        "df_limpio.write.partitionBy('comments_disabled').parquet('./output/parquet')"
      ],
      "metadata": {
        "id": "3rAOG4I2ydxA"
      },
      "execution_count": 28,
      "outputs": []
    },
    {
      "cell_type": "markdown",
      "source": [
        "# Persistir DF"
      ],
      "metadata": {
        "id": "4XOwwkGpz4cn"
      }
    },
    {
      "cell_type": "code",
      "source": [
        "df = spark.createDataFrame([(1,'a'), (2,'b'), (3,'c'), (4,'d')], ['id', 'valor'])"
      ],
      "metadata": {
        "id": "A37w6UNuyvYP"
      },
      "execution_count": 29,
      "outputs": []
    },
    {
      "cell_type": "code",
      "source": [
        "df.show()"
      ],
      "metadata": {
        "id": "HsUf4wi40IKP",
        "outputId": "88a9209c-60ac-41a4-d382-6ae2743db8c6",
        "colab": {
          "base_uri": "https://localhost:8080/"
        }
      },
      "execution_count": 30,
      "outputs": [
        {
          "output_type": "stream",
          "name": "stdout",
          "text": [
            "+---+-----+\n",
            "| id|valor|\n",
            "+---+-----+\n",
            "|  1|    a|\n",
            "|  2|    b|\n",
            "|  3|    c|\n",
            "|  4|    d|\n",
            "+---+-----+\n",
            "\n"
          ]
        }
      ]
    },
    {
      "cell_type": "code",
      "source": [
        "df.persist()"
      ],
      "metadata": {
        "id": "24fLzQj-0JrH",
        "outputId": "58f59783-6c61-4000-d012-6c0732f00d48",
        "colab": {
          "base_uri": "https://localhost:8080/"
        }
      },
      "execution_count": 31,
      "outputs": [
        {
          "output_type": "execute_result",
          "data": {
            "text/plain": [
              "DataFrame[id: bigint, valor: string]"
            ]
          },
          "metadata": {},
          "execution_count": 31
        }
      ]
    },
    {
      "cell_type": "code",
      "source": [
        "df.unpersist()"
      ],
      "metadata": {
        "id": "m6FlIAOk0RTg",
        "outputId": "942a9e5f-e94d-4e5b-f55e-28d9a38d26d6",
        "colab": {
          "base_uri": "https://localhost:8080/"
        }
      },
      "execution_count": 32,
      "outputs": [
        {
          "output_type": "execute_result",
          "data": {
            "text/plain": [
              "DataFrame[id: bigint, valor: string]"
            ]
          },
          "metadata": {},
          "execution_count": 32
        }
      ]
    },
    {
      "cell_type": "code",
      "source": [
        "df.cache()"
      ],
      "metadata": {
        "id": "PTlOX0p70TZx",
        "outputId": "8cb50b0e-abdd-4c99-ac1b-ab6d6a920b1b",
        "colab": {
          "base_uri": "https://localhost:8080/"
        }
      },
      "execution_count": 33,
      "outputs": [
        {
          "output_type": "execute_result",
          "data": {
            "text/plain": [
              "DataFrame[id: bigint, valor: string]"
            ]
          },
          "metadata": {},
          "execution_count": 33
        }
      ]
    },
    {
      "cell_type": "code",
      "source": [
        "from pyspark.storagelevel import StorageLevel"
      ],
      "metadata": {
        "id": "mFM79IhG0WPI"
      },
      "execution_count": 36,
      "outputs": []
    },
    {
      "cell_type": "code",
      "source": [
        "df.persist(StorageLevel.DISK_ONLY)"
      ],
      "metadata": {
        "id": "j51SZOHX0orQ",
        "outputId": "06e2d0e7-bda9-4b80-b55d-56c85f716131",
        "colab": {
          "base_uri": "https://localhost:8080/"
        }
      },
      "execution_count": 37,
      "outputs": [
        {
          "output_type": "execute_result",
          "data": {
            "text/plain": [
              "DataFrame[id: bigint, valor: string]"
            ]
          },
          "metadata": {},
          "execution_count": 37
        }
      ]
    },
    {
      "cell_type": "markdown",
      "source": [
        "# EJERCICIO 5"
      ],
      "metadata": {
        "id": "dq-KTPIv3Wtg"
      }
    },
    {
      "cell_type": "code",
      "source": [
        "cases1 = spark.read.option('header','true').option('inferSchema', 'true').csv('Case.csv')"
      ],
      "metadata": {
        "id": "wBt_uN1E1tuc"
      },
      "execution_count": 5,
      "outputs": []
    },
    {
      "cell_type": "code",
      "source": [
        "cases1.printSchema()"
      ],
      "metadata": {
        "id": "nADGpQrw4dLI",
        "outputId": "b36c9320-22a6-48f5-9ff2-4304b453cbdf",
        "colab": {
          "base_uri": "https://localhost:8080/"
        }
      },
      "execution_count": 39,
      "outputs": [
        {
          "output_type": "stream",
          "name": "stdout",
          "text": [
            "root\n",
            " |--  case_id: integer (nullable = true)\n",
            " |-- province: string (nullable = true)\n",
            " |-- city: string (nullable = true)\n",
            " |-- group: boolean (nullable = true)\n",
            " |-- infection_case: string (nullable = true)\n",
            " |-- confirmed: integer (nullable = true)\n",
            " |-- latitude: string (nullable = true)\n",
            " |-- longitude: string (nullable = true)\n",
            "\n"
          ]
        }
      ]
    },
    {
      "cell_type": "code",
      "source": [
        "cases.orderBy(col('confirmed').cast('int').desc()).select('province', 'city', 'confirmed').show(3)"
      ],
      "metadata": {
        "id": "M0YGO3Yf4eAY",
        "outputId": "809ba59a-cc39-4da2-b841-2a26cea7febf",
        "colab": {
          "base_uri": "https://localhost:8080/"
        }
      },
      "execution_count": 7,
      "outputs": [
        {
          "output_type": "stream",
          "name": "stdout",
          "text": [
            "+--------+------+---------+\n",
            "|province|  city|confirmed|\n",
            "+--------+------+---------+\n",
            "|   Daegu|Nam-gu|     4511|\n",
            "|   Daegu|     -|      917|\n",
            "|   Daegu|     -|      747|\n",
            "+--------+------+---------+\n",
            "only showing top 3 rows\n",
            "\n"
          ]
        }
      ]
    },
    {
      "cell_type": "code",
      "source": [
        "patients = spark.read.option('header','true').option('inferSchema','true').csv('/content/PatientInfo.csv')"
      ],
      "metadata": {
        "id": "8KBf96z843PQ"
      },
      "execution_count": 7,
      "outputs": []
    },
    {
      "cell_type": "code",
      "source": [
        "'''df_patients = patients.select(\n",
        "    col('patient_id').cast('int'),\n",
        "    'sex',\n",
        "    'age',\n",
        "    'country',\n",
        "    'province',\n",
        "    'city',\n",
        "    'infection_case',\n",
        "    col('infected_by').cast('int'),\n",
        "    col('contact_number').cast('int'),\n",
        "    col('symptom_onset_date').cast('date'),\n",
        "    col('confirmed_date').cast('date'),\n",
        "    col('released_date').cast('date'),\n",
        "    col('deceased_date').cast('date'),\n",
        "    'state'\n",
        ")'''\n",
        "\n",
        "patients.count()"
      ],
      "metadata": {
        "id": "2B3z048z7qDK",
        "outputId": "f1c671d4-e53d-421e-87fe-9f2e4e097808",
        "colab": {
          "base_uri": "https://localhost:8080/"
        }
      },
      "execution_count": 9,
      "outputs": [
        {
          "output_type": "execute_result",
          "data": {
            "text/plain": [
              "5165"
            ]
          },
          "metadata": {},
          "execution_count": 9
        }
      ]
    },
    {
      "cell_type": "code",
      "source": [
        "patients_nd = patients.dropDuplicates(['patient_id'])\n",
        "patients_nd.count()"
      ],
      "metadata": {
        "id": "bWWnwYV5831y",
        "outputId": "ded74f26-fa08-4873-dd90-abfdcb321a73",
        "colab": {
          "base_uri": "https://localhost:8080/"
        }
      },
      "execution_count": 14,
      "outputs": [
        {
          "output_type": "execute_result",
          "data": {
            "text/plain": [
              "5164"
            ]
          },
          "metadata": {},
          "execution_count": 14
        }
      ]
    },
    {
      "cell_type": "code",
      "source": [
        "df_infectedBy = patients_nd.filter(col('infected_by').isNotNull())"
      ],
      "metadata": {
        "id": "ApW0WNMDrhYn"
      },
      "execution_count": 18,
      "outputs": []
    },
    {
      "cell_type": "code",
      "source": [
        "infected_female = df_infectedBy.filter(col('sex')  == 'female').drop('released_date','deceased_date')"
      ],
      "metadata": {
        "id": "j_OXX4AnsEKN"
      },
      "execution_count": 32,
      "outputs": []
    },
    {
      "cell_type": "code",
      "source": [
        "infected_female.show()"
      ],
      "metadata": {
        "id": "KWMUGXgOtE51",
        "outputId": "d0176a78-938c-49eb-fbf2-9beb7da3bf30",
        "colab": {
          "base_uri": "https://localhost:8080/"
        }
      },
      "execution_count": 33,
      "outputs": [
        {
          "output_type": "stream",
          "name": "stdout",
          "text": [
            "+----------+------+---+-------+-----------------+-------------+--------------------+-----------+--------------+------------------+--------------+--------+\n",
            "|patient_id|   sex|age|country|         province|         city|      infection_case|infected_by|contact_number|symptom_onset_date|confirmed_date|   state|\n",
            "+----------+------+---+-------+-----------------+-------------+--------------------+-----------+--------------+------------------+--------------+--------+\n",
            "|1000000046|female|20s|  Korea|            Seoul|          etc|contact with patient| 1000000041|          null|              null|    2020-02-26|released|\n",
            "|1500000059|female|50s|  Korea|          Daejeon|       Sejong|contact with patient| 1500000049|             6|              null|    2020-06-17|isolated|\n",
            "|2000000108|female|10s|  Korea|      Gyeonggi-do|  Hwaseong-si|contact with patient| 2000000104|          null|              null|    2020-03-04|isolated|\n",
            "|2000000390|female|40s|  Korea|      Gyeonggi-do|Pyeongtaek-si|contact with patient| 2000000373|          null|              null|    2020-03-25|isolated|\n",
            "|1300000015|female|20s|  Korea|          Gwangju|         null|contact with patient| 1300000003|            12|              null|    2020-03-08|released|\n",
            "|2000000471|female|30s|  Korea|      Gyeonggi-do|    Yongin-si|contact with patient| 2000000205|          null|              null|    2020-03-30|isolated|\n",
            "|1000000329|female|40s|  Korea|            Seoul| Seodaemun-gu| Guro-gu Call Center| 1000000214|          null|              null|    2020-03-22|released|\n",
            "|2000000140|female|50s|  Korea|      Gyeonggi-do|  Seongnam-si|contact with patient| 2000000122|             2|              null|    2020-03-07|isolated|\n",
            "|2000000797|female|10s|  Korea|      Gyeonggi-do|     Gimpo-si|contact with patient| 2000000784|          null|              null|    2020-05-28|isolated|\n",
            "|      null|female|60s|  Korea|Chungcheongnam-do|Hongseong-gun|contact with patient| 1500000049|            11|              null|    2020-06-17|isolated|\n",
            "|2000000699|female|20s|  Korea|      Gyeonggi-do|    Yongin-si|contact with patient| 1000000667|          null|              null|    2020-05-11|isolated|\n",
            "|2000000008|female|70s|  Korea|      Gyeonggi-do|   Siheung-si|contact with patient| 2000000010|            12|              null|    2020-02-09|released|\n",
            "|2000000202|female|50s|  Korea|      Gyeonggi-do|   Bucheon-si|contact with patient| 2000000167|          null|              null|    2020-03-14|isolated|\n",
            "|2000000212|female|60s|  Korea|      Gyeonggi-do|  Seongnam-si|contact with patient| 1000000138|          null|        2020-03-10|    2020-03-15|isolated|\n",
            "|2000000306|female|50s|  Korea|      Gyeonggi-do|   Gwangju-si|contact with patient| 2000000114|          null|              null|    2020-03-19|released|\n",
            "|2000000654|female| 0s|  Korea|      Gyeonggi-do|     Gunpo-si|contact with patient| 1000000550|          null|              null|    2020-04-17|isolated|\n",
            "|2000000026|female|50s|  Korea|      Gyeonggi-do|   Bucheon-si|contact with patient| 2000000016|          null|              null|    2020-02-23|isolated|\n",
            "|2000000097|female|10s|  Korea|      Gyeonggi-do|     Suwon-si|contact with patient| 2000000069|          null|              null|    2020-03-03|isolated|\n",
            "|2000000164|female|40s|  Korea|      Gyeonggi-do|     Gimpo-si|contact with patient| 1000000125|             2|              null|    2020-03-09|isolated|\n",
            "|2000000405|female|90s|  Korea|      Gyeonggi-do|     Gunpo-si|contact with patient| 2000000309|          null|              null|    2020-03-26|isolated|\n",
            "+----------+------+---+-------+-----------------+-------------+--------------------+-----------+--------------+------------------+--------------+--------+\n",
            "only showing top 20 rows\n",
            "\n"
          ]
        }
      ]
    },
    {
      "cell_type": "code",
      "source": [
        "infected_female.write.mode('overwrite').partitionBy('province').parquet('output/infected_female_province')"
      ],
      "metadata": {
        "id": "zMppdJYevVDI"
      },
      "execution_count": 36,
      "outputs": []
    },
    {
      "cell_type": "markdown",
      "source": [
        "# AGREGACIONES"
      ],
      "metadata": {
        "id": "Dt5dau5FcxS-"
      }
    },
    {
      "cell_type": "code",
      "source": [
        "df.printSchema()"
      ],
      "metadata": {
        "id": "R6nroJGZwLJC",
        "outputId": "0efca1de-a709-4d80-d9f1-c1f0d94074ab",
        "colab": {
          "base_uri": "https://localhost:8080/"
        }
      },
      "execution_count": 7,
      "outputs": [
        {
          "output_type": "stream",
          "name": "stdout",
          "text": [
            "root\n",
            " |-- nombre: string (nullable = true)\n",
            " |-- color: string (nullable = true)\n",
            " |-- cantidad: long (nullable = true)\n",
            "\n"
          ]
        }
      ]
    },
    {
      "cell_type": "code",
      "source": [
        "df.show()"
      ],
      "metadata": {
        "id": "rJSXXGqU3VQa",
        "outputId": "0e5563fa-c5d2-420e-d815-9c5a3517fc91",
        "colab": {
          "base_uri": "https://localhost:8080/"
        }
      },
      "execution_count": 8,
      "outputs": [
        {
          "output_type": "stream",
          "name": "stdout",
          "text": [
            "+------+-----+--------+\n",
            "|nombre|color|cantidad|\n",
            "+------+-----+--------+\n",
            "|  Jose| azul|    1900|\n",
            "|  null| null|    1700|\n",
            "|  null| rojo|    1300|\n",
            "|  Juan| rojo|    1500|\n",
            "+------+-----+--------+\n",
            "\n"
          ]
        }
      ]
    },
    {
      "cell_type": "code",
      "source": [
        "# Count\n",
        "\n",
        "df.count()"
      ],
      "metadata": {
        "id": "hDQbZHQ_8eL7",
        "outputId": "6e766b9a-b7d9-4491-e5e5-a3638ef65c3d",
        "colab": {
          "base_uri": "https://localhost:8080/"
        }
      },
      "execution_count": 9,
      "outputs": [
        {
          "output_type": "execute_result",
          "data": {
            "text/plain": [
              "4"
            ]
          },
          "metadata": {},
          "execution_count": 9
        }
      ]
    },
    {
      "cell_type": "code",
      "source": [
        "# count no cuenta nulos\n",
        "\n",
        "df.select(\n",
        "    count('nombre').alias('conteo_nombre'),\n",
        "    count('color').alias('conteo_colores'),\n",
        "    count('*').alias('conteo_general')\n",
        ").show()"
      ],
      "metadata": {
        "id": "83OuKWlX8jFs",
        "outputId": "f99570ce-4bd2-4d9a-ef4c-d62d86fdc796",
        "colab": {
          "base_uri": "https://localhost:8080/"
        }
      },
      "execution_count": 11,
      "outputs": [
        {
          "output_type": "stream",
          "name": "stdout",
          "text": [
            "+-------------+--------------+--------------+\n",
            "|conteo_nombre|conteo_colores|conteo_general|\n",
            "+-------------+--------------+--------------+\n",
            "|            2|             3|             4|\n",
            "+-------------+--------------+--------------+\n",
            "\n"
          ]
        }
      ]
    },
    {
      "cell_type": "code",
      "source": [
        "# countDistinct devuelve los valores distintos sin tomar en cuenta nulos\n",
        "\n",
        "df.select(\n",
        "    countDistinct('color').alias('colores_dif')\n",
        ").show()"
      ],
      "metadata": {
        "id": "4kjhtSHf-eTz",
        "outputId": "d4aede2b-9bc9-49b9-a0c0-d2f3f4fb3549",
        "colab": {
          "base_uri": "https://localhost:8080/"
        }
      },
      "execution_count": 16,
      "outputs": [
        {
          "output_type": "stream",
          "name": "stdout",
          "text": [
            "+-----------+\n",
            "|colores_dif|\n",
            "+-----------+\n",
            "|          2|\n",
            "+-----------+\n",
            "\n"
          ]
        }
      ]
    },
    {
      "cell_type": "code",
      "source": [
        "# approx_count_distinct\n",
        "\n",
        "#dataframe = spark.read.parquet('/content/vuelos.parquet')\n",
        "df_vuelos = spark.read.option('header','true').parquet('vuelos.parquet')"
      ],
      "metadata": {
        "id": "xeGYfbgRDKQ4"
      },
      "execution_count": 20,
      "outputs": []
    },
    {
      "cell_type": "code",
      "source": [
        "df_vuelos.printSchema()"
      ],
      "metadata": {
        "id": "7YeFivJ3Dl_O",
        "outputId": "3647e7ad-1a6c-4a3e-ad90-572d5dc71f8d",
        "colab": {
          "base_uri": "https://localhost:8080/"
        }
      },
      "execution_count": 22,
      "outputs": [
        {
          "output_type": "stream",
          "name": "stdout",
          "text": [
            "root\n",
            " |-- YEAR: integer (nullable = true)\n",
            " |-- MONTH: integer (nullable = true)\n",
            " |-- DAY: integer (nullable = true)\n",
            " |-- DAY_OF_WEEK: integer (nullable = true)\n",
            " |-- AIRLINE: string (nullable = true)\n",
            " |-- FLIGHT_NUMBER: integer (nullable = true)\n",
            " |-- TAIL_NUMBER: string (nullable = true)\n",
            " |-- ORIGIN_AIRPORT: string (nullable = true)\n",
            " |-- DESTINATION_AIRPORT: string (nullable = true)\n",
            " |-- SCHEDULED_DEPARTURE: integer (nullable = true)\n",
            " |-- DEPARTURE_TIME: integer (nullable = true)\n",
            " |-- DEPARTURE_DELAY: integer (nullable = true)\n",
            " |-- TAXI_OUT: integer (nullable = true)\n",
            " |-- WHEELS_OFF: integer (nullable = true)\n",
            " |-- SCHEDULED_TIME: integer (nullable = true)\n",
            " |-- ELAPSED_TIME: integer (nullable = true)\n",
            " |-- AIR_TIME: integer (nullable = true)\n",
            " |-- DISTANCE: integer (nullable = true)\n",
            " |-- WHEELS_ON: integer (nullable = true)\n",
            " |-- TAXI_IN: integer (nullable = true)\n",
            " |-- SCHEDULED_ARRIVAL: integer (nullable = true)\n",
            " |-- ARRIVAL_TIME: integer (nullable = true)\n",
            " |-- ARRIVAL_DELAY: integer (nullable = true)\n",
            " |-- DIVERTED: integer (nullable = true)\n",
            " |-- CANCELLED: integer (nullable = true)\n",
            " |-- CANCELLATION_REASON: string (nullable = true)\n",
            " |-- AIR_SYSTEM_DELAY: integer (nullable = true)\n",
            " |-- SECURITY_DELAY: integer (nullable = true)\n",
            " |-- AIRLINE_DELAY: integer (nullable = true)\n",
            " |-- LATE_AIRCRAFT_DELAY: integer (nullable = true)\n",
            " |-- WEATHER_DELAY: integer (nullable = true)\n",
            "\n"
          ]
        }
      ]
    },
    {
      "cell_type": "code",
      "source": [
        "df_vuelos.select(\n",
        "    countDistinct('AIRLINE'),\n",
        "    approx_count_distinct('AIRLINE')\n",
        ").show()"
      ],
      "metadata": {
        "id": "v7f-rQKpEy04",
        "outputId": "01a34287-f849-41ac-c766-f6284bd9c823",
        "colab": {
          "base_uri": "https://localhost:8080/"
        }
      },
      "execution_count": 23,
      "outputs": [
        {
          "output_type": "stream",
          "name": "stdout",
          "text": [
            "+-----------------------+------------------------------+\n",
            "|count(DISTINCT AIRLINE)|approx_count_distinct(AIRLINE)|\n",
            "+-----------------------+------------------------------+\n",
            "|                     14|                            13|\n",
            "+-----------------------+------------------------------+\n",
            "\n"
          ]
        }
      ]
    },
    {
      "cell_type": "code",
      "source": [
        "df_vuelos.select(\n",
        "    max('AIR_TIME'),\n",
        "    min('AIR_TIME')\n",
        ").show()"
      ],
      "metadata": {
        "id": "c0ufdBfJFR_x",
        "outputId": "96fb9d6c-b62e-4637-c313-5e6439c911d5",
        "colab": {
          "base_uri": "https://localhost:8080/"
        }
      },
      "execution_count": 24,
      "outputs": [
        {
          "output_type": "stream",
          "name": "stdout",
          "text": [
            "+-------------+-------------+\n",
            "|max(AIR_TIME)|min(AIR_TIME)|\n",
            "+-------------+-------------+\n",
            "|          690|            7|\n",
            "+-------------+-------------+\n",
            "\n"
          ]
        }
      ]
    },
    {
      "cell_type": "code",
      "source": [
        "df_vuelos.select(\n",
        "    min('AIRLINE_DELAY'),\n",
        "    max('AIRLINE_DELAY')\n",
        ").show()"
      ],
      "metadata": {
        "id": "Fp6uHegkGmlK",
        "outputId": "850a15da-d1e4-49b3-b9f5-d815930966fe",
        "colab": {
          "base_uri": "https://localhost:8080/"
        }
      },
      "execution_count": 27,
      "outputs": [
        {
          "output_type": "stream",
          "name": "stdout",
          "text": [
            "+------------------+------------------+\n",
            "|min(AIRLINE_DELAY)|max(AIRLINE_DELAY)|\n",
            "+------------------+------------------+\n",
            "|                 0|              1971|\n",
            "+------------------+------------------+\n",
            "\n"
          ]
        }
      ]
    },
    {
      "cell_type": "code",
      "source": [
        "df_vuelos.select(\n",
        "    sum('DISTANCE')\n",
        ").show()"
      ],
      "metadata": {
        "id": "Dti5ebbiHA12",
        "outputId": "42dd3492-341a-432e-b040-ba82ed1ba7ec",
        "colab": {
          "base_uri": "https://localhost:8080/"
        }
      },
      "execution_count": 29,
      "outputs": [
        {
          "output_type": "stream",
          "name": "stdout",
          "text": [
            "+-------------+\n",
            "|sum(DISTANCE)|\n",
            "+-------------+\n",
            "|   4785357409|\n",
            "+-------------+\n",
            "\n"
          ]
        }
      ]
    },
    {
      "cell_type": "code",
      "source": [
        "df_vuelos.select(\n",
        "    sum_distinct('DISTANCE')\n",
        ").show()"
      ],
      "metadata": {
        "id": "KeK84HaVHiBY",
        "outputId": "2fd78250-ec60-4c91-903d-94beb18c185c",
        "colab": {
          "base_uri": "https://localhost:8080/"
        }
      },
      "execution_count": 32,
      "outputs": [
        {
          "output_type": "stream",
          "name": "stdout",
          "text": [
            "+----------------------+\n",
            "|sum(DISTINCT DISTANCE)|\n",
            "+----------------------+\n",
            "|               1442300|\n",
            "+----------------------+\n",
            "\n"
          ]
        }
      ]
    },
    {
      "cell_type": "code",
      "source": [
        "df_vuelos.select(\n",
        "    avg('AIR_TIME'),\n",
        "    (sum('AIR_TIME') / count('AIR_TIME')).alias('promedio_manual')\n",
        ").show()"
      ],
      "metadata": {
        "id": "oFKbaZrWHoqg",
        "outputId": "2e4093f6-67ba-4979-832e-8af94f4317d8",
        "colab": {
          "base_uri": "https://localhost:8080/"
        }
      },
      "execution_count": 35,
      "outputs": [
        {
          "output_type": "stream",
          "name": "stdout",
          "text": [
            "+------------------+------------------+\n",
            "|     avg(AIR_TIME)|   promedio_manual|\n",
            "+------------------+------------------+\n",
            "|113.51162809012519|113.51162809012519|\n",
            "+------------------+------------------+\n",
            "\n"
          ]
        }
      ]
    },
    {
      "cell_type": "markdown",
      "source": [
        "# Agrupaciones"
      ],
      "metadata": {
        "id": "g-Z9-ae7IaA6"
      }
    },
    {
      "cell_type": "code",
      "source": [
        "df_vuelos.groupBy('ORIGIN_AIRPORT', 'DESTINATION_AIRPORT')\\\n",
        "      .agg(\n",
        "          count(col('*')).alias('conteo_aeropuertos')\n",
        "          )\\\n",
        "           .orderBy(desc('conteo_aeropuertos')).show()"
      ],
      "metadata": {
        "id": "Mml34XFrH9v-",
        "outputId": "a72fb443-d68c-4130-c907-84e9d51bd58c",
        "colab": {
          "base_uri": "https://localhost:8080/"
        }
      },
      "execution_count": 55,
      "outputs": [
        {
          "output_type": "stream",
          "name": "stdout",
          "text": [
            "+--------------+-------------------+------------------+\n",
            "|ORIGIN_AIRPORT|DESTINATION_AIRPORT|conteo_aeropuertos|\n",
            "+--------------+-------------------+------------------+\n",
            "|           SFO|                LAX|             13744|\n",
            "|           LAX|                SFO|             13457|\n",
            "|           JFK|                LAX|             12016|\n",
            "|           LAX|                JFK|             12015|\n",
            "|           LAS|                LAX|              9715|\n",
            "|           LGA|                ORD|              9639|\n",
            "|           LAX|                LAS|              9594|\n",
            "|           ORD|                LGA|              9575|\n",
            "|           SFO|                JFK|              8440|\n",
            "|           JFK|                SFO|              8437|\n",
            "|           OGG|                HNL|              8313|\n",
            "|           HNL|                OGG|              8282|\n",
            "|           LAX|                ORD|              8256|\n",
            "|           ATL|                LGA|              8234|\n",
            "|           LGA|                ATL|              8215|\n",
            "|           ATL|                MCO|              8202|\n",
            "|           MCO|                ATL|              8202|\n",
            "|           SFO|                LAS|              7995|\n",
            "|           ORD|                LAX|              7941|\n",
            "|           LAS|                SFO|              7870|\n",
            "+--------------+-------------------+------------------+\n",
            "only showing top 20 rows\n",
            "\n"
          ]
        }
      ]
    },
    {
      "cell_type": "code",
      "source": [
        "df_vuelos.groupBy('ORIGIN_AIRPORT')\\\n",
        "      .agg(\n",
        "          count('AIR_TIME').alias('tiempo_aire'),\n",
        "          min('AIR_TIME').alias('minimo_timepo'),\n",
        "          max('AIR_TIME').alias('max_tiempo')\n",
        "          )\\\n",
        "           .orderBy(desc('tiempo_aire')).show()"
      ],
      "metadata": {
        "id": "z8iZUD0PI0AY",
        "outputId": "9fd40fba-a419-4b0f-b430-e411d129e6ba",
        "colab": {
          "base_uri": "https://localhost:8080/"
        }
      },
      "execution_count": 56,
      "outputs": [
        {
          "output_type": "stream",
          "name": "stdout",
          "text": [
            "+--------------+-----------+-------------+----------+\n",
            "|ORIGIN_AIRPORT|tiempo_aire|minimo_timepo|max_tiempo|\n",
            "+--------------+-----------+-------------+----------+\n",
            "|           ATL|     343506|           15|       614|\n",
            "|           ORD|     276554|           13|       571|\n",
            "|           DFW|     232647|           11|       534|\n",
            "|           DEN|     193402|           12|       493|\n",
            "|           LAX|     192003|           14|       409|\n",
            "|           PHX|     145552|           19|       444|\n",
            "|           SFO|     145491|            8|       389|\n",
            "|           IAH|     144019|           15|       524|\n",
            "|           LAS|     131937|           25|       429|\n",
            "|           MSP|     111055|           14|       537|\n",
            "|           SEA|     110178|           17|       412|\n",
            "|           MCO|     109532|           25|       395|\n",
            "|           DTW|     106992|           15|       341|\n",
            "|           BOS|     104804|           16|       432|\n",
            "|           CLT|      99052|           17|       379|\n",
            "|           EWR|      98341|           21|       683|\n",
            "|           SLC|      96505|           18|       419|\n",
            "|           LGA|      94834|           19|       311|\n",
            "|           JFK|      91663|           29|       690|\n",
            "|           BWI|      84329|           19|       398|\n",
            "+--------------+-----------+-------------+----------+\n",
            "only showing top 20 rows\n",
            "\n"
          ]
        }
      ]
    },
    {
      "cell_type": "code",
      "source": [
        "df_vuelos.groupBy('MONTH').\\\n",
        "agg(\n",
        "    count('ARRIVAL_DELAY').alias('retraso'),\n",
        "    avg('DISTANCE').alias('avg_distancia')\n",
        ").orderBy(desc('retraso')).show()"
      ],
      "metadata": {
        "id": "pkJFRj9LNkMi",
        "outputId": "7f32a512-90c5-4cf8-9fc3-53aa8a8e26fa",
        "colab": {
          "base_uri": "https://localhost:8080/"
        }
      },
      "execution_count": 57,
      "outputs": [
        {
          "output_type": "stream",
          "name": "stdout",
          "text": [
            "+-----+-------+-----------------+\n",
            "|MONTH|retraso|    avg_distancia|\n",
            "+-----+-------+-----------------+\n",
            "|    7| 514384|841.4772794487611|\n",
            "|    8| 503956|834.8244276603413|\n",
            "|    6| 492847|835.6302716626612|\n",
            "|    3| 492138|816.0553268611494|\n",
            "|    5| 489641|823.3230588760807|\n",
            "|   10| 482878|816.4436127652134|\n",
            "|    4| 479251|817.0060476016745|\n",
            "|   12| 469717|837.8018926194103|\n",
            "|   11| 462367|820.2482434846529|\n",
            "|    9| 462153|815.8487523282274|\n",
            "|    1| 457013|803.2612794913696|\n",
            "|    2| 407663| 800.785449834689|\n",
            "+-----+-------+-----------------+\n",
            "\n"
          ]
        }
      ]
    },
    {
      "cell_type": "markdown",
      "source": [
        "# Pivot"
      ],
      "metadata": {
        "id": "H3bc_CFWPX6I"
      }
    },
    {
      "cell_type": "code",
      "source": [
        "estudiantes = spark.read.parquet('estudiantes.parquet')"
      ],
      "metadata": {
        "id": "sNj4Pc1zOV-B"
      },
      "execution_count": 59,
      "outputs": []
    },
    {
      "cell_type": "code",
      "source": [
        "estudiantes.show()"
      ],
      "metadata": {
        "id": "z-fwhi9jPi37",
        "outputId": "69a12cac-5cdb-4b2a-f1de-2f42cf0713b1",
        "colab": {
          "base_uri": "https://localhost:8080/"
        }
      },
      "execution_count": 61,
      "outputs": [
        {
          "output_type": "stream",
          "name": "stdout",
          "text": [
            "+------+----+----+----------+\n",
            "|nombre|sexo|peso|graduacion|\n",
            "+------+----+----+----------+\n",
            "|  Jose|   M|  80|      2000|\n",
            "| Hilda|   F|  50|      2000|\n",
            "|  Juan|   M|  75|      2000|\n",
            "| Pedro|   M|  76|      2001|\n",
            "|Katia+|   F|  65|      2001|\n",
            "+------+----+----+----------+\n",
            "\n"
          ]
        }
      ]
    },
    {
      "cell_type": "code",
      "source": [
        "# promedio de peso por año de graduacion y sexo\n",
        "\n",
        "estudiantes.groupBy('graduacion').pivot('sexo').avg('peso').show()"
      ],
      "metadata": {
        "id": "csUuctigPm1S",
        "outputId": "8d4f14ed-e5b3-4178-e926-25d2da6e1d7d",
        "colab": {
          "base_uri": "https://localhost:8080/"
        }
      },
      "execution_count": 63,
      "outputs": [
        {
          "output_type": "stream",
          "name": "stdout",
          "text": [
            "+----------+----+----+\n",
            "|graduacion|   F|   M|\n",
            "+----------+----+----+\n",
            "|      2001|65.0|76.0|\n",
            "|      2000|50.0|77.5|\n",
            "+----------+----+----+\n",
            "\n"
          ]
        }
      ]
    },
    {
      "cell_type": "code",
      "source": [
        "estudiantes.groupBy('graduacion').pivot('sexo').agg(avg('peso').alias('promedio'), min('peso').alias('min_peso'), max('peso').alias('max_peso')).show()"
      ],
      "metadata": {
        "id": "8hQtyBfzSwCJ",
        "outputId": "ef86ae92-2f0a-4815-f110-83e40f13dadb",
        "colab": {
          "base_uri": "https://localhost:8080/"
        }
      },
      "execution_count": 67,
      "outputs": [
        {
          "output_type": "stream",
          "name": "stdout",
          "text": [
            "+----------+----------+----------+----------+----------+----------+----------+\n",
            "|graduacion|F_promedio|F_min_peso|F_max_peso|M_promedio|M_min_peso|M_max_peso|\n",
            "+----------+----------+----------+----------+----------+----------+----------+\n",
            "|      2001|      65.0|        65|        65|      76.0|        76|        76|\n",
            "|      2000|      50.0|        50|        50|      77.5|        75|        80|\n",
            "+----------+----------+----------+----------+----------+----------+----------+\n",
            "\n"
          ]
        }
      ]
    },
    {
      "cell_type": "code",
      "source": [
        "estudiantes.groupBy('graduacion')\\\n",
        ".pivot('sexo', ['M'])\\\n",
        ".agg(\n",
        "    avg('peso').alias('promedio'),\n",
        "    min('peso').alias('min_peso'),\n",
        "    max('peso').alias('max_peso')\n",
        "    )\\\n",
        ".show()"
      ],
      "metadata": {
        "id": "5aoK1wIaTk_S",
        "outputId": "18178315-f44a-4a8d-dead-ec4f648a0e57",
        "colab": {
          "base_uri": "https://localhost:8080/"
        }
      },
      "execution_count": 76,
      "outputs": [
        {
          "output_type": "stream",
          "name": "stdout",
          "text": [
            "+----------+----------+----------+----------+\n",
            "|graduacion|M_promedio|M_min_peso|M_max_peso|\n",
            "+----------+----------+----------+----------+\n",
            "|      2001|      76.0|        76|        76|\n",
            "|      2000|      77.5|        75|        80|\n",
            "+----------+----------+----------+----------+\n",
            "\n"
          ]
        }
      ]
    },
    {
      "cell_type": "code",
      "source": [],
      "metadata": {
        "id": "KqM3ODWXUStU"
      },
      "execution_count": null,
      "outputs": []
    }
  ],
  "metadata": {
    "kernelspec": {
      "display_name": "Python 3 (ipykernel)",
      "language": "python",
      "name": "python3"
    },
    "language_info": {
      "codemirror_mode": {
        "name": "ipython",
        "version": 3
      },
      "file_extension": ".py",
      "mimetype": "text/x-python",
      "name": "python",
      "nbconvert_exporter": "python",
      "pygments_lexer": "ipython3",
      "version": "3.8.12"
    },
    "colab": {
      "provenance": []
    }
  },
  "nbformat": 4,
  "nbformat_minor": 0
}